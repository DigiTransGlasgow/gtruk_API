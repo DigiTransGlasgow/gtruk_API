{
 "cells": [
  {
   "cell_type": "code",
   "execution_count": 1,
   "metadata": {},
   "outputs": [],
   "source": [
    "%matplotlib inline\n",
    "\n",
    "import requests\n",
    "import json\n",
    "import pandas as pd\n",
    "import numpy as np\n",
    "from pandas.io.json import json_normalize\n",
    "\n",
    "from IPython.display import display\n",
    "from IPython.core.display import HTML\n",
    "\n",
    "# Fancy token-level analysis such as stemming, lemmatizing, compound splitting, filtering based on part-of-speech, etc.\n",
    "# are not included in the scikit-learn codebase, but can be added by customizing either the tokenizer or the analyzer.\n",
    "# Here’s a CountVectorizer with a tokenizer and lemmatizer using NLTK:\n",
    "\n",
    "from nltk import word_tokenize\n",
    "from nltk.stem import WordNetLemmatizer\n",
    "from nltk.corpus import stopwords \n",
    "\n",
    "class LemmaTokenizer(object):\n",
    "    def __init__(self):\n",
    "        self.wnl = WordNetLemmatizer()\n",
    "    def __call__(self, doc):\n",
    "        return [self.wnl.lemmatize(t) for t in word_tokenize(doc)]\n",
    "    \n",
    "# Use: vect = CountVectorizer(tokenizer=LemmaTokenizer())"
   ]
  },
  {
   "cell_type": "code",
   "execution_count": 15,
   "metadata": {},
   "outputs": [],
   "source": [
    "urlgtr = 'http://gtr.rcuk.ac.uk/gtr/api/projects?q='\n",
    "\n",
    "li = [\"AH/M00953X/1\",\n",
    "\"AH/L503563/1\",\n",
    "\"AH/N006445/1\",\n",
    "\"AH/L012545/1\",\n",
    "\"AH/J008109/1\",\n",
    "\"AH/P013139/1\",\n",
    "\"AH/L009870/1\",\n",
    "\"AH/M002403/1\",\n",
    "\"AH/L007657/1\",\n",
    "\"AH/L007584/1\",\n",
    "\"AH/J013145/1\",\n",
    "\"AH/R004641/1\",\n",
    "\"AH/J012955/1\",\n",
    "\"AH/J012696/1\",\n",
    "\"AH/J012718/1\",\n",
    "\"AH/L010208/1\",\n",
    "\"AH/L010283/1\",\n",
    "\"AH/M010120/1\",\n",
    "\"AH/M002225/1\",\n",
    "\"AH/M002616/1\",\n",
    "\"AH/J013129/1\",\n",
    "\"AH/M010279/1\",\n",
    "\"AH/L010313/1\",\n",
    "\"AH/M010163/1\",\n",
    "\"AH/L009986/1\",\n",
    "\"AH/L007886/1\",\n",
    "\"AH/J013153/1\",\n",
    "\"AH/L01002X/1\",\n",
    "\"AH/J013072/1\",\n",
    "\"AH/M010368/1\",\n",
    "\"AH/L009854/1\",\n",
    "\"AH/L009978/1\",\n",
    "\"AH/L007916/1\",\n",
    "\"AH/J013048/1\",\n",
    "\"AH/R004803/1\",\n",
    "\"AH/L010062/1\",\n",
    "\"AH/M002551/1\",\n",
    "\"AH/M010015/1\",\n",
    "\"AH/L010011/1\",\n",
    "\"AH/M010589/1\",\n",
    "\"AH/L008025/1\",\n",
    "\"AH/J012408/1\",\n",
    "\"AH/J012769/1\",\n",
    "\"AH/M002233/1\",\n",
    "\"AH/M010414/1\",\n",
    "\"AH/R004854/1\",\n",
    "\"AH/M010392/1\",\n",
    "\"AH/L010364/1\",\n",
    "\"AH/M00452X/1\",\n",
    "\"AH/M010481/1\",\n",
    "\"AH/L010305/1\",\n",
    "\"AH/M010155/1\",\n",
    "\"AH/L010186/1\",\n",
    "\"AH/J012890/1\",\n",
    "\"AH/L010046/1\",\n",
    "\"AH/L007533/1\",\n",
    "\"AH/L009927/1\",\n",
    "\"AH/M002454/1\",\n",
    "\"AH/L01016X/1\",\n",
    "\"AH/L007770/1\",\n",
    "\"AH/J012483/1\",\n",
    "\"AH/M002322/1\",\n",
    "\"AH/L503575/1\",\n",
    "\"AH/L009986/2\",\n",
    "\"AH/N009568/1\",\n",
    "\"AH/P009549/1\",\n",
    "\"AH/R004846/1\",\n",
    "\"AH/J006963/1\",\n",
    "\"AH/M005666/1\",\n",
    "\"AH/R00157X/1\",\n",
    "\"AH/M005658/1\",\n",
    "\"AH/L503605/1\",\n",
    "\"AH/J013242/1\",\n",
    "\"AH/L010232/1\",\n",
    "\"AH/L007800/1\",\n",
    "\"AH/J013056/1\",\n",
    "\"AH/M00564X/1\",\n",
    "\"AH/M010201/1\",\n",
    "\"AH/J01236X/1\",\n",
    "\"AH/N50449X/1\",\n",
    "\"AH/L006863/1\",\n",
    "\"AH/M002438/1\",\n",
    "\"AH/J01317X/1\",\n",
    "\"AH/J01303X/1\",\n",
    "\"AH/M010031/1\",\n",
    "\"AH/J013218/1\",\n",
    "\"AH/M002535/1\",\n",
    "\"AH/L007991/1\",\n",
    "\"AH/L009935/1\",\n",
    "\"AH/L010380/1\",\n",
    "\"AH/L010194/1\",\n",
    "\"AH/R004757/1\",\n",
    "\"AH/L007746/1\",\n",
    "\"AH/M002160/1\",\n",
    "\"AH/L00688X/1\",\n",
    "\"AH/L007576/1\",\n",
    "\"AH/L00982X/1\",\n",
    "\"AH/L006820/1\",\n",
    "\"AH/P00945X/1\",\n",
    "\"AH/P005918/1\",\n",
    "\"AH/P013287/1\",\n",
    "\"AH/M005623/1\",]\n",
    "\n",
    "headers = {'Accept': 'application/vnd.rcuk.gtr.json-v7'}\n",
    "\n",
    "cols = ['Reference', 'Title', 'Abstract', \"R_topics\"]\n",
    "df = pd.DataFrame(columns=cols, index=range(len(li)))"
   ]
  },
  {
   "cell_type": "code",
   "execution_count": 5,
   "metadata": {},
   "outputs": [],
   "source": [
    "counter = 0\n",
    "for project in li:\n",
    "    url = (urlgtr + '\"' + project + '\"' + \"&f=pro.gr\")\n",
    "    response = requests.get(url, headers=headers)\n",
    "    proginfo = json.loads(response.text)[\"project\"]\n",
    "    df.iloc[counter][0] = project\n",
    "    df.iloc[counter][1] = proginfo[0][\"title\"]\n",
    "    df.iloc[counter][2] = proginfo[0][\"abstractText\"]\n",
    "    topic = []\n",
    "    for i in range (0, len(proginfo[0][\"researchTopics\"][\"researchTopic\"])):\n",
    "        text = proginfo[0][\"researchTopics\"][\"researchTopic\"][i][\"text\"]\n",
    "        topic.append(text)\n",
    "        df.iloc[counter][3] = topic\n",
    "    counter += 1"
   ]
  },
  {
   "cell_type": "code",
   "execution_count": 5,
   "metadata": {},
   "outputs": [],
   "source": [
    "# Replace '\\r\\n' resulting from the SPARQL query, due to some serialisation issues\n",
    "# table_led[\"exp\"] = table_led[\"exp\"].str.replace('\\r\\n', ' ')"
   ]
  },
  {
   "cell_type": "code",
   "execution_count": 6,
   "metadata": {
    "scrolled": false
   },
   "outputs": [
    {
     "data": {
      "text/html": [
       "<div>\n",
       "<style scoped>\n",
       "    .dataframe tbody tr th:only-of-type {\n",
       "        vertical-align: middle;\n",
       "    }\n",
       "\n",
       "    .dataframe tbody tr th {\n",
       "        vertical-align: top;\n",
       "    }\n",
       "\n",
       "    .dataframe thead th {\n",
       "        text-align: right;\n",
       "    }\n",
       "</style>\n",
       "<table border=\"1\" class=\"dataframe\">\n",
       "  <thead>\n",
       "    <tr style=\"text-align: right;\">\n",
       "      <th></th>\n",
       "      <th>Reference</th>\n",
       "      <th>Title</th>\n",
       "      <th>Abstract</th>\n",
       "      <th>R_topics</th>\n",
       "    </tr>\n",
       "  </thead>\n",
       "  <tbody>\n",
       "    <tr>\n",
       "      <th>0</th>\n",
       "      <td>AH/M00953X/1</td>\n",
       "      <td>Building sustainability and informing policy: ...</td>\n",
       "      <td>This Follow-on project will build on the succe...</td>\n",
       "      <td>[Information &amp; Knowledge Mgmt, Science-Based A...</td>\n",
       "    </tr>\n",
       "    <tr>\n",
       "      <th>1</th>\n",
       "      <td>AH/L503563/1</td>\n",
       "      <td>Mapping Mapusa Market</td>\n",
       "      <td>Mapping Mapusa Market is an exploration into h...</td>\n",
       "      <td>[Unclassified]</td>\n",
       "    </tr>\n",
       "    <tr>\n",
       "      <th>2</th>\n",
       "      <td>AH/N006445/1</td>\n",
       "      <td>The Human Side of Digitized Knowledge: Communi...</td>\n",
       "      <td>The Ethno-ornithology World Archive (EWA) is a...</td>\n",
       "      <td>[Linguistics (General), Environment, Cultural ...</td>\n",
       "    </tr>\n",
       "    <tr>\n",
       "      <th>3</th>\n",
       "      <td>AH/L012545/1</td>\n",
       "      <td>Latin(o) American Digital Art: Exhibitions and...</td>\n",
       "      <td>This project follows on from my AHRC Fellowshi...</td>\n",
       "      <td>[Cultural Studies &amp; Pop Culture, Multimedia, D...</td>\n",
       "    </tr>\n",
       "    <tr>\n",
       "      <th>4</th>\n",
       "      <td>AH/J008109/1</td>\n",
       "      <td>Latin American Cultural Production Online, fro...</td>\n",
       "      <td>This project explores one of the most innovati...</td>\n",
       "      <td>[Cultural Studies &amp; Pop Culture, Digital Arts ...</td>\n",
       "    </tr>\n",
       "    <tr>\n",
       "      <th>5</th>\n",
       "      <td>AH/P013139/1</td>\n",
       "      <td>Ian Rankin StoryTrek: New Digital Storytelling...</td>\n",
       "      <td>The project has two main aims: (1) to develop ...</td>\n",
       "      <td>[English Language &amp; Literature]</td>\n",
       "    </tr>\n",
       "    <tr>\n",
       "      <th>6</th>\n",
       "      <td>AH/L009870/1</td>\n",
       "      <td>Optical Music Recognition from Multiple Sources</td>\n",
       "      <td>Digital images of scores are now available in ...</td>\n",
       "      <td>[Musicology, Classical Music, Image &amp; Vision C...</td>\n",
       "    </tr>\n",
       "    <tr>\n",
       "      <th>7</th>\n",
       "      <td>AH/M002403/1</td>\n",
       "      <td>Weaving Codes - Coding Weaves</td>\n",
       "      <td>In this project we investigate pattern from mu...</td>\n",
       "      <td>[Digital Arts HTP, Performance &amp; Live Art, Cul...</td>\n",
       "    </tr>\n",
       "    <tr>\n",
       "      <th>8</th>\n",
       "      <td>AH/L007657/1</td>\n",
       "      <td>Crowd- and Community-fuelled Archaeological Re...</td>\n",
       "      <td>This project will not only use 'crowd-sourcing...</td>\n",
       "      <td>[Social Stats., Comp. &amp; Methods, Prehistoric A...</td>\n",
       "    </tr>\n",
       "    <tr>\n",
       "      <th>9</th>\n",
       "      <td>AH/L007584/1</td>\n",
       "      <td>EWA - The Ethno-ornithology World Archive</td>\n",
       "      <td>Birds inspire people, their cultures and faith...</td>\n",
       "      <td>[Linguistics (General), Cultural and Anthrop G...</td>\n",
       "    </tr>\n",
       "    <tr>\n",
       "      <th>10</th>\n",
       "      <td>AH/J013145/1</td>\n",
       "      <td>Measuring and Enhancing Expressive Musical Per...</td>\n",
       "      <td>This collaborative project between members of ...</td>\n",
       "      <td>[Human-Computer Interactions, Music &amp; Acoustic...</td>\n",
       "    </tr>\n",
       "    <tr>\n",
       "      <th>11</th>\n",
       "      <td>AH/R004641/1</td>\n",
       "      <td>VisitorBox: a toolkit to support ideation of n...</td>\n",
       "      <td>The VisitorBox project will produce a toolkit ...</td>\n",
       "      <td>[Human-Computer Interactions, Heritage Managem...</td>\n",
       "    </tr>\n",
       "    <tr>\n",
       "      <th>12</th>\n",
       "      <td>AH/J012955/1</td>\n",
       "      <td>Transforming Artist Books</td>\n",
       "      <td>With the growth of digital technology, there i...</td>\n",
       "      <td>[Fine Art HTP, Human-Computer Interactions, Im...</td>\n",
       "    </tr>\n",
       "    <tr>\n",
       "      <th>13</th>\n",
       "      <td>AH/J012696/1</td>\n",
       "      <td>Researching Readers Online: understanding the ...</td>\n",
       "      <td>Now so many readers are consuming and commenti...</td>\n",
       "      <td>[Literary &amp; Cultural Theory, New Media/Web-Bas...</td>\n",
       "    </tr>\n",
       "    <tr>\n",
       "      <th>14</th>\n",
       "      <td>AH/J012718/1</td>\n",
       "      <td>Creating the 'Mix-d Museum': developing an onl...</td>\n",
       "      <td>This proposal seeks to develop a research netw...</td>\n",
       "      <td>[Economic &amp; Social History, Sociology]</td>\n",
       "    </tr>\n",
       "    <tr>\n",
       "      <th>15</th>\n",
       "      <td>AH/L010208/1</td>\n",
       "      <td>Proteus: Capturing the Big Data Problem of Anc...</td>\n",
       "      <td>The hugely successful Ancient Lives website, a...</td>\n",
       "      <td>[Epigraphy &amp; Papyrology, Languages &amp; Linguisti...</td>\n",
       "    </tr>\n",
       "    <tr>\n",
       "      <th>16</th>\n",
       "      <td>AH/L010283/1</td>\n",
       "      <td>Visualising European Crime Fiction: New Digita...</td>\n",
       "      <td>Over the last two centuries culture industries...</td>\n",
       "      <td>[Comparative Studies, Cultural Studies &amp; Pop C...</td>\n",
       "    </tr>\n",
       "    <tr>\n",
       "      <th>17</th>\n",
       "      <td>AH/M010120/1</td>\n",
       "      <td>Networking technology and the experience of en...</td>\n",
       "      <td>Could networking technology transform ensemble...</td>\n",
       "      <td>[Musical Performance, ICT and education, Class...</td>\n",
       "    </tr>\n",
       "    <tr>\n",
       "      <th>18</th>\n",
       "      <td>AH/M002225/1</td>\n",
       "      <td>Pelagios 4: studying the places of our past th...</td>\n",
       "      <td>Being able to link - to go from one document t...</td>\n",
       "      <td>[Cartography and GIS, Classical Literature, Hi...</td>\n",
       "    </tr>\n",
       "    <tr>\n",
       "      <th>19</th>\n",
       "      <td>AH/M002616/1</td>\n",
       "      <td>Evaluating Social Media to Identify and Levera...</td>\n",
       "      <td>This project aims to (1) Build upon work on so...</td>\n",
       "      <td>[Cultural Studies, Research approaches, Museum...</td>\n",
       "    </tr>\n",
       "  </tbody>\n",
       "</table>\n",
       "</div>"
      ],
      "text/plain": [
       "       Reference                                              Title  \\\n",
       "0   AH/M00953X/1  Building sustainability and informing policy: ...   \n",
       "1   AH/L503563/1                              Mapping Mapusa Market   \n",
       "2   AH/N006445/1  The Human Side of Digitized Knowledge: Communi...   \n",
       "3   AH/L012545/1  Latin(o) American Digital Art: Exhibitions and...   \n",
       "4   AH/J008109/1  Latin American Cultural Production Online, fro...   \n",
       "5   AH/P013139/1  Ian Rankin StoryTrek: New Digital Storytelling...   \n",
       "6   AH/L009870/1    Optical Music Recognition from Multiple Sources   \n",
       "7   AH/M002403/1                      Weaving Codes - Coding Weaves   \n",
       "8   AH/L007657/1  Crowd- and Community-fuelled Archaeological Re...   \n",
       "9   AH/L007584/1          EWA - The Ethno-ornithology World Archive   \n",
       "10  AH/J013145/1  Measuring and Enhancing Expressive Musical Per...   \n",
       "11  AH/R004641/1  VisitorBox: a toolkit to support ideation of n...   \n",
       "12  AH/J012955/1                          Transforming Artist Books   \n",
       "13  AH/J012696/1  Researching Readers Online: understanding the ...   \n",
       "14  AH/J012718/1  Creating the 'Mix-d Museum': developing an onl...   \n",
       "15  AH/L010208/1  Proteus: Capturing the Big Data Problem of Anc...   \n",
       "16  AH/L010283/1  Visualising European Crime Fiction: New Digita...   \n",
       "17  AH/M010120/1  Networking technology and the experience of en...   \n",
       "18  AH/M002225/1  Pelagios 4: studying the places of our past th...   \n",
       "19  AH/M002616/1  Evaluating Social Media to Identify and Levera...   \n",
       "\n",
       "                                             Abstract  \\\n",
       "0   This Follow-on project will build on the succe...   \n",
       "1   Mapping Mapusa Market is an exploration into h...   \n",
       "2   The Ethno-ornithology World Archive (EWA) is a...   \n",
       "3   This project follows on from my AHRC Fellowshi...   \n",
       "4   This project explores one of the most innovati...   \n",
       "5   The project has two main aims: (1) to develop ...   \n",
       "6   Digital images of scores are now available in ...   \n",
       "7   In this project we investigate pattern from mu...   \n",
       "8   This project will not only use 'crowd-sourcing...   \n",
       "9   Birds inspire people, their cultures and faith...   \n",
       "10  This collaborative project between members of ...   \n",
       "11  The VisitorBox project will produce a toolkit ...   \n",
       "12  With the growth of digital technology, there i...   \n",
       "13  Now so many readers are consuming and commenti...   \n",
       "14  This proposal seeks to develop a research netw...   \n",
       "15  The hugely successful Ancient Lives website, a...   \n",
       "16  Over the last two centuries culture industries...   \n",
       "17  Could networking technology transform ensemble...   \n",
       "18  Being able to link - to go from one document t...   \n",
       "19  This project aims to (1) Build upon work on so...   \n",
       "\n",
       "                                             R_topics  \n",
       "0   [Information & Knowledge Mgmt, Science-Based A...  \n",
       "1                                      [Unclassified]  \n",
       "2   [Linguistics (General), Environment, Cultural ...  \n",
       "3   [Cultural Studies & Pop Culture, Multimedia, D...  \n",
       "4   [Cultural Studies & Pop Culture, Digital Arts ...  \n",
       "5                     [English Language & Literature]  \n",
       "6   [Musicology, Classical Music, Image & Vision C...  \n",
       "7   [Digital Arts HTP, Performance & Live Art, Cul...  \n",
       "8   [Social Stats., Comp. & Methods, Prehistoric A...  \n",
       "9   [Linguistics (General), Cultural and Anthrop G...  \n",
       "10  [Human-Computer Interactions, Music & Acoustic...  \n",
       "11  [Human-Computer Interactions, Heritage Managem...  \n",
       "12  [Fine Art HTP, Human-Computer Interactions, Im...  \n",
       "13  [Literary & Cultural Theory, New Media/Web-Bas...  \n",
       "14             [Economic & Social History, Sociology]  \n",
       "15  [Epigraphy & Papyrology, Languages & Linguisti...  \n",
       "16  [Comparative Studies, Cultural Studies & Pop C...  \n",
       "17  [Musical Performance, ICT and education, Class...  \n",
       "18  [Cartography and GIS, Classical Literature, Hi...  \n",
       "19  [Cultural Studies, Research approaches, Museum...  "
      ]
     },
     "execution_count": 6,
     "metadata": {},
     "output_type": "execute_result"
    }
   ],
   "source": [
    "#table_led.sort_values(by=\"year\", inplace=True)\n",
    "df.head(20)"
   ]
  },
  {
   "cell_type": "code",
   "execution_count": 9,
   "metadata": {},
   "outputs": [
    {
     "data": {
      "text/plain": [
       "(102, 4)"
      ]
     },
     "execution_count": 9,
     "metadata": {},
     "output_type": "execute_result"
    }
   ],
   "source": [
    "df.shape"
   ]
  },
  {
   "cell_type": "code",
   "execution_count": 12,
   "metadata": {
    "scrolled": true
   },
   "outputs": [
    {
     "data": {
      "text/html": [
       "<div>\n",
       "<style scoped>\n",
       "    .dataframe tbody tr th:only-of-type {\n",
       "        vertical-align: middle;\n",
       "    }\n",
       "\n",
       "    .dataframe tbody tr th {\n",
       "        vertical-align: top;\n",
       "    }\n",
       "\n",
       "    .dataframe thead th {\n",
       "        text-align: right;\n",
       "    }\n",
       "</style>\n",
       "<table border=\"1\" class=\"dataframe\">\n",
       "  <thead>\n",
       "    <tr style=\"text-align: right;\">\n",
       "      <th></th>\n",
       "      <th>Reference</th>\n",
       "      <th>Title</th>\n",
       "      <th>Abstract</th>\n",
       "      <th>R_topics</th>\n",
       "    </tr>\n",
       "  </thead>\n",
       "  <tbody>\n",
       "    <tr>\n",
       "      <th>6</th>\n",
       "      <td>AH/L009870/1</td>\n",
       "      <td>Optical Music Recognition from Multiple Sources</td>\n",
       "      <td>Digital images of scores are now available in ...</td>\n",
       "      <td>[Musicology, Classical Music, Image &amp; Vision C...</td>\n",
       "    </tr>\n",
       "    <tr>\n",
       "      <th>7</th>\n",
       "      <td>AH/M002403/1</td>\n",
       "      <td>Weaving Codes - Coding Weaves</td>\n",
       "      <td>In this project we investigate pattern from mu...</td>\n",
       "      <td>[Digital Arts HTP, Performance &amp; Live Art, Cul...</td>\n",
       "    </tr>\n",
       "    <tr>\n",
       "      <th>10</th>\n",
       "      <td>AH/J013145/1</td>\n",
       "      <td>Measuring and Enhancing Expressive Musical Per...</td>\n",
       "      <td>This collaborative project between members of ...</td>\n",
       "      <td>[Human-Computer Interactions, Music &amp; Acoustic...</td>\n",
       "    </tr>\n",
       "    <tr>\n",
       "      <th>17</th>\n",
       "      <td>AH/M010120/1</td>\n",
       "      <td>Networking technology and the experience of en...</td>\n",
       "      <td>Could networking technology transform ensemble...</td>\n",
       "      <td>[Musical Performance, ICT and education, Class...</td>\n",
       "    </tr>\n",
       "    <tr>\n",
       "      <th>21</th>\n",
       "      <td>AH/M010279/1</td>\n",
       "      <td>Breakdown Harmonica</td>\n",
       "      <td>Breakdown Harmonica is a research project focu...</td>\n",
       "      <td>[Dance Performance, Design Processes, Dance No...</td>\n",
       "    </tr>\n",
       "    <tr>\n",
       "      <th>23</th>\n",
       "      <td>AH/M010163/1</td>\n",
       "      <td>Pet Sounds: Creating Music using Social Media ...</td>\n",
       "      <td>The proposed project seeks to explore the ways...</td>\n",
       "      <td>[Musicology, Musical Performance, Music &amp; Soci...</td>\n",
       "    </tr>\n",
       "    <tr>\n",
       "      <th>29</th>\n",
       "      <td>AH/M010368/1</td>\n",
       "      <td>Transforming Transformation: 3D Models for Int...</td>\n",
       "      <td>'Transforming Transformation: 3D Models for In...</td>\n",
       "      <td>[Music &amp; Acoustic Technology, Image &amp; Vision C...</td>\n",
       "    </tr>\n",
       "    <tr>\n",
       "      <th>34</th>\n",
       "      <td>AH/R004803/1</td>\n",
       "      <td>Unlocking Musicology: Digital Engagement for D...</td>\n",
       "      <td>'Unlocking Musicology: Digital Engagement for ...</td>\n",
       "      <td>[Music &amp; Acoustic Technology, History Of Music...</td>\n",
       "    </tr>\n",
       "    <tr>\n",
       "      <th>41</th>\n",
       "      <td>AH/J012408/1</td>\n",
       "      <td>Computer-Human Interactive Performance Symposi...</td>\n",
       "      <td>Popular music (e.g. folk, rock, music theatre)...</td>\n",
       "      <td>[Artificial Intelligence, Software Engineering...</td>\n",
       "    </tr>\n",
       "    <tr>\n",
       "      <th>51</th>\n",
       "      <td>AH/M010155/1</td>\n",
       "      <td>Classical Music 'Hyper-Production' and Practic...</td>\n",
       "      <td>The world of instrumental classical music is c...</td>\n",
       "      <td>[New Media/Web-Based Studies, Music &amp; Acoustic...</td>\n",
       "    </tr>\n",
       "    <tr>\n",
       "      <th>53</th>\n",
       "      <td>AH/J012890/1</td>\n",
       "      <td>Haptic Experiments: Kinaesthetic Empathy and N...</td>\n",
       "      <td>This project explores how the innovative combi...</td>\n",
       "      <td>[Choreography, Dance Performance, Digital Art ...</td>\n",
       "    </tr>\n",
       "    <tr>\n",
       "      <th>54</th>\n",
       "      <td>AH/L010046/1</td>\n",
       "      <td>A Big Data History of Music</td>\n",
       "      <td>This collaboration between Royal Holloway and ...</td>\n",
       "      <td>[Classical Music, Information Sci. &amp; Retrieval...</td>\n",
       "    </tr>\n",
       "    <tr>\n",
       "      <th>57</th>\n",
       "      <td>AH/M002454/1</td>\n",
       "      <td>An Integrated Audio-Symbolic Model of Music Si...</td>\n",
       "      <td>Similarity is a central aspect of music. It ca...</td>\n",
       "      <td>[Musicology, Information &amp; Knowledge Mgmt, Art...</td>\n",
       "    </tr>\n",
       "    <tr>\n",
       "      <th>58</th>\n",
       "      <td>AH/L01016X/1</td>\n",
       "      <td>Digital Music Lab - Analysing Big Music Data</td>\n",
       "      <td>Music research, particularly in fields like sy...</td>\n",
       "      <td>[Information &amp; Knowledge Mgmt, Musical Perform...</td>\n",
       "    </tr>\n",
       "    <tr>\n",
       "      <th>66</th>\n",
       "      <td>AH/R004846/1</td>\n",
       "      <td>'Project code-named Humpty': Creation, Destruc...</td>\n",
       "      <td>'Project code-named Humpty' [P c-n H] is a nar...</td>\n",
       "      <td>[Archaeological Theory, Materials testing &amp; en...</td>\n",
       "    </tr>\n",
       "    <tr>\n",
       "      <th>75</th>\n",
       "      <td>AH/J013056/1</td>\n",
       "      <td>Live Notation: Transforming Matters of Perform...</td>\n",
       "      <td>'Live Notation: Transforming Matters of Perfor...</td>\n",
       "      <td>[Digital Arts HTP, Human-Computer Interactions...</td>\n",
       "    </tr>\n",
       "    <tr>\n",
       "      <th>86</th>\n",
       "      <td>AH/M002535/1</td>\n",
       "      <td>Transforming Digital Music: Investigating Inte...</td>\n",
       "      <td>The Transforming Digital Music research projec...</td>\n",
       "      <td>[Multimedia, Music &amp; Acoustic Technology]</td>\n",
       "    </tr>\n",
       "    <tr>\n",
       "      <th>91</th>\n",
       "      <td>AH/R004757/1</td>\n",
       "      <td>The Commercialisation of Interactive Music</td>\n",
       "      <td>In 2015, the AHRC funded a research project ca...</td>\n",
       "      <td>[Multimedia, Popular Music, Music &amp; Acoustic T...</td>\n",
       "    </tr>\n",
       "    <tr>\n",
       "      <th>97</th>\n",
       "      <td>AH/L006820/1</td>\n",
       "      <td>Transforming Musicology</td>\n",
       "      <td>This project, led by Prof Tim Crawford in the ...</td>\n",
       "      <td>[Popular Music, Musicology, History Of Music, ...</td>\n",
       "    </tr>\n",
       "    <tr>\n",
       "      <th>100</th>\n",
       "      <td>AH/P013287/1</td>\n",
       "      <td>Learn to Play: Computational Assessment of Mus...</td>\n",
       "      <td>This Follow-On Funding for Impact and Engageme...</td>\n",
       "      <td>[Artificial Intelligence, Musicology, Music &amp; ...</td>\n",
       "    </tr>\n",
       "  </tbody>\n",
       "</table>\n",
       "</div>"
      ],
      "text/plain": [
       "        Reference                                              Title  \\\n",
       "6    AH/L009870/1    Optical Music Recognition from Multiple Sources   \n",
       "7    AH/M002403/1                      Weaving Codes - Coding Weaves   \n",
       "10   AH/J013145/1  Measuring and Enhancing Expressive Musical Per...   \n",
       "17   AH/M010120/1  Networking technology and the experience of en...   \n",
       "21   AH/M010279/1                                Breakdown Harmonica   \n",
       "23   AH/M010163/1  Pet Sounds: Creating Music using Social Media ...   \n",
       "29   AH/M010368/1  Transforming Transformation: 3D Models for Int...   \n",
       "34   AH/R004803/1  Unlocking Musicology: Digital Engagement for D...   \n",
       "41   AH/J012408/1  Computer-Human Interactive Performance Symposi...   \n",
       "51   AH/M010155/1  Classical Music 'Hyper-Production' and Practic...   \n",
       "53   AH/J012890/1  Haptic Experiments: Kinaesthetic Empathy and N...   \n",
       "54   AH/L010046/1                        A Big Data History of Music   \n",
       "57   AH/M002454/1  An Integrated Audio-Symbolic Model of Music Si...   \n",
       "58   AH/L01016X/1       Digital Music Lab - Analysing Big Music Data   \n",
       "66   AH/R004846/1  'Project code-named Humpty': Creation, Destruc...   \n",
       "75   AH/J013056/1  Live Notation: Transforming Matters of Perform...   \n",
       "86   AH/M002535/1  Transforming Digital Music: Investigating Inte...   \n",
       "91   AH/R004757/1         The Commercialisation of Interactive Music   \n",
       "97   AH/L006820/1                            Transforming Musicology   \n",
       "100  AH/P013287/1  Learn to Play: Computational Assessment of Mus...   \n",
       "\n",
       "                                              Abstract  \\\n",
       "6    Digital images of scores are now available in ...   \n",
       "7    In this project we investigate pattern from mu...   \n",
       "10   This collaborative project between members of ...   \n",
       "17   Could networking technology transform ensemble...   \n",
       "21   Breakdown Harmonica is a research project focu...   \n",
       "23   The proposed project seeks to explore the ways...   \n",
       "29   'Transforming Transformation: 3D Models for In...   \n",
       "34   'Unlocking Musicology: Digital Engagement for ...   \n",
       "41   Popular music (e.g. folk, rock, music theatre)...   \n",
       "51   The world of instrumental classical music is c...   \n",
       "53   This project explores how the innovative combi...   \n",
       "54   This collaboration between Royal Holloway and ...   \n",
       "57   Similarity is a central aspect of music. It ca...   \n",
       "58   Music research, particularly in fields like sy...   \n",
       "66   'Project code-named Humpty' [P c-n H] is a nar...   \n",
       "75   'Live Notation: Transforming Matters of Perfor...   \n",
       "86   The Transforming Digital Music research projec...   \n",
       "91   In 2015, the AHRC funded a research project ca...   \n",
       "97   This project, led by Prof Tim Crawford in the ...   \n",
       "100  This Follow-On Funding for Impact and Engageme...   \n",
       "\n",
       "                                              R_topics  \n",
       "6    [Musicology, Classical Music, Image & Vision C...  \n",
       "7    [Digital Arts HTP, Performance & Live Art, Cul...  \n",
       "10   [Human-Computer Interactions, Music & Acoustic...  \n",
       "17   [Musical Performance, ICT and education, Class...  \n",
       "21   [Dance Performance, Design Processes, Dance No...  \n",
       "23   [Musicology, Musical Performance, Music & Soci...  \n",
       "29   [Music & Acoustic Technology, Image & Vision C...  \n",
       "34   [Music & Acoustic Technology, History Of Music...  \n",
       "41   [Artificial Intelligence, Software Engineering...  \n",
       "51   [New Media/Web-Based Studies, Music & Acoustic...  \n",
       "53   [Choreography, Dance Performance, Digital Art ...  \n",
       "54   [Classical Music, Information Sci. & Retrieval...  \n",
       "57   [Musicology, Information & Knowledge Mgmt, Art...  \n",
       "58   [Information & Knowledge Mgmt, Musical Perform...  \n",
       "66   [Archaeological Theory, Materials testing & en...  \n",
       "75   [Digital Arts HTP, Human-Computer Interactions...  \n",
       "86           [Multimedia, Music & Acoustic Technology]  \n",
       "91   [Multimedia, Popular Music, Music & Acoustic T...  \n",
       "97   [Popular Music, Musicology, History Of Music, ...  \n",
       "100  [Artificial Intelligence, Musicology, Music & ...  "
      ]
     },
     "execution_count": 12,
     "metadata": {},
     "output_type": "execute_result"
    }
   ],
   "source": [
    "# Search for words within the dataset (example).\n",
    "df[df[\"Abstract\"].str.contains(\"music\")]"
   ]
  },
  {
   "cell_type": "markdown",
   "metadata": {},
   "source": [
    "## Topic modelling with scikit-learn"
   ]
  },
  {
   "cell_type": "code",
   "execution_count": 9,
   "metadata": {},
   "outputs": [],
   "source": [
    "from time import time\n",
    "from sklearn.feature_extraction.text import TfidfVectorizer, CountVectorizer\n",
    "from sklearn.decomposition import NMF, LatentDirichletAllocation\n",
    "from sklearn.feature_extraction import text\n",
    "\n",
    "n_samples = len(df)\n",
    "\n",
    "# Number of terms included in the bag of words matrix\n",
    "n_features = 10000\n",
    "\n",
    "# Number of components (i.e. topics)\n",
    "n_topics = 8\n",
    "\n",
    "documents = df[\"Abstract\"]\n",
    "n_top_words = 15\n",
    "\n",
    "my_words = set(\"research\".split(\" \"))\n",
    "stop_words = text.ENGLISH_STOP_WORDS.union(my_words)"
   ]
  },
  {
   "cell_type": "code",
   "execution_count": 10,
   "metadata": {},
   "outputs": [],
   "source": [
    "def display_topics(model, feature_names, no_top_words):\n",
    "    for topic_idx, topic in enumerate(model.components_):\n",
    "#        print(\"Topic: \" + str(topic_idx))\n",
    "#        print(\" \".join([feature_names[i]\n",
    "        display(HTML(\"<b>Topic \" + str(topic_idx) + \"</b>\"))\n",
    "        display(HTML(\"<i>\" +  \" \".join([feature_names[i]\n",
    "                        for i in topic.argsort()[:-no_top_words - 1:-1]]) + \"</i>\"))"
   ]
  },
  {
   "cell_type": "code",
   "execution_count": 11,
   "metadata": {
    "scrolled": true
   },
   "outputs": [
    {
     "name": "stdout",
     "output_type": "stream",
     "text": [
      "Extracting tf-idf features for NMF...\n",
      "done in 0.119s.\n",
      "Extracting tf features for LDA...\n",
      "done in 0.113s.\n",
      "\n",
      "Fitting the NMF model (Frobenius norm) with tf-idf features, n_samples=102 and n_features=10000...\n",
      "done in 0.026s.\n",
      "\n",
      "Topics in NMF model (Frobenius norm):\n"
     ]
    },
    {
     "data": {
      "text/html": [
       "<b>Topic 0</b>"
      ],
      "text/plain": [
       "<IPython.core.display.HTML object>"
      ]
     },
     "metadata": {},
     "output_type": "display_data"
    },
    {
     "data": {
      "text/html": [
       "<i>digital new media film creative cultural social work technologies archive practice artists network art arts</i>"
      ],
      "text/plain": [
       "<IPython.core.display.HTML object>"
      ]
     },
     "metadata": {},
     "output_type": "display_data"
    },
    {
     "data": {
      "text/html": [
       "<b>Topic 1</b>"
      ],
      "text/plain": [
       "<IPython.core.display.HTML object>"
      ]
     },
     "metadata": {},
     "output_type": "display_data"
    },
    {
     "data": {
      "text/html": [
       "<i>music performance musical audio library popular play collections technology software interactive models multiple hand computer</i>"
      ],
      "text/plain": [
       "<IPython.core.display.HTML object>"
      ]
     },
     "metadata": {},
     "output_type": "display_data"
    },
    {
     "data": {
      "text/html": [
       "<b>Topic 2</b>"
      ],
      "text/plain": [
       "<IPython.core.display.HTML object>"
      ]
     },
     "metadata": {},
     "output_type": "display_data"
    },
    {
     "data": {
      "text/html": [
       "<i>data big big data datasets quot information possible scale researchers large cultural open analysis tools generated</i>"
      ],
      "text/plain": [
       "<IPython.core.display.HTML object>"
      ]
     },
     "metadata": {},
     "output_type": "display_data"
    },
    {
     "data": {
      "text/html": [
       "<b>Topic 3</b>"
      ],
      "text/plain": [
       "<IPython.core.display.HTML object>"
      ]
     },
     "metadata": {},
     "output_type": "display_data"
    },
    {
     "data": {
      "text/html": [
       "<i>community communities people groups knowledge stories platform city archives crowd organisations cultural open place engagement</i>"
      ],
      "text/plain": [
       "<IPython.core.display.HTML object>"
      ]
     },
     "metadata": {},
     "output_type": "display_data"
    },
    {
     "data": {
      "text/html": [
       "<b>Topic 4</b>"
      ],
      "text/plain": [
       "<IPython.core.display.HTML object>"
      ]
     },
     "metadata": {},
     "output_type": "display_data"
    },
    {
     "data": {
      "text/html": [
       "<i>literary texts literature city text nature scholars prototype interface book students dataset online tool digital</i>"
      ],
      "text/plain": [
       "<IPython.core.display.HTML object>"
      ]
     },
     "metadata": {},
     "output_type": "display_data"
    },
    {
     "data": {
      "text/html": [
       "<b>Topic 5</b>"
      ],
      "text/plain": [
       "<IPython.core.display.HTML object>"
      ]
     },
     "metadata": {},
     "output_type": "display_data"
    },
    {
     "data": {
      "text/html": [
       "<i>design model programme skills education london resources opportunities build workshops industry national educational test approach</i>"
      ],
      "text/plain": [
       "<IPython.core.display.HTML object>"
      ]
     },
     "metadata": {},
     "output_type": "display_data"
    },
    {
     "data": {
      "text/html": [
       "<b>Topic 6</b>"
      ],
      "text/plain": [
       "<IPython.core.display.HTML object>"
      ]
     },
     "metadata": {},
     "output_type": "display_data"
    },
    {
     "data": {
      "text/html": [
       "<i>heritage objects object crowd places models digitally archive transformative museum methodology novel enable create generate</i>"
      ],
      "text/plain": [
       "<IPython.core.display.HTML object>"
      ]
     },
     "metadata": {},
     "output_type": "display_data"
    },
    {
     "data": {
      "text/html": [
       "<b>Topic 7</b>"
      ],
      "text/plain": [
       "<IPython.core.display.HTML object>"
      ]
     },
     "metadata": {},
     "output_type": "display_data"
    },
    {
     "data": {
      "text/html": [
       "<i>sound produced language audio teaching video learning real resource models people visual processing based human</i>"
      ],
      "text/plain": [
       "<IPython.core.display.HTML object>"
      ]
     },
     "metadata": {},
     "output_type": "display_data"
    },
    {
     "name": "stdout",
     "output_type": "stream",
     "text": [
      "\n",
      "Fitting the NMF model (generalised Kullback-Leibler divergence) with tf-idf features, n_samples=102 and n_features=10000...\n",
      "done in 0.257s.\n",
      "\n",
      "\n",
      "Topics in NMF model (generalised Kullback-Leibler divergence):\n"
     ]
    },
    {
     "data": {
      "text/html": [
       "<b>Topic 0</b>"
      ],
      "text/plain": [
       "<IPython.core.display.HTML object>"
      ]
     },
     "metadata": {},
     "output_type": "display_data"
    },
    {
     "data": {
      "text/html": [
       "<i>new digital use online work develop activities open media ways social proposed working range academic</i>"
      ],
      "text/plain": [
       "<IPython.core.display.HTML object>"
      ]
     },
     "metadata": {},
     "output_type": "display_data"
    },
    {
     "data": {
      "text/html": [
       "<b>Topic 1</b>"
      ],
      "text/plain": [
       "<IPython.core.display.HTML object>"
      ]
     },
     "metadata": {},
     "output_type": "display_data"
    },
    {
     "data": {
      "text/html": [
       "<i>musical popular techniques music performance time novel work developed technology interaction quality role terms international</i>"
      ],
      "text/plain": [
       "<IPython.core.display.HTML object>"
      ]
     },
     "metadata": {},
     "output_type": "display_data"
    },
    {
     "data": {
      "text/html": [
       "<b>Topic 2</b>"
      ],
      "text/plain": [
       "<IPython.core.display.HTML object>"
      ]
     },
     "metadata": {},
     "output_type": "display_data"
    },
    {
     "data": {
      "text/html": [
       "<i>public researchers possible information quot data widely analysis using problem records large scale website scale tools</i>"
      ],
      "text/plain": [
       "<IPython.core.display.HTML object>"
      ]
     },
     "metadata": {},
     "output_type": "display_data"
    },
    {
     "data": {
      "text/html": [
       "<b>Topic 3</b>"
      ],
      "text/plain": [
       "<IPython.core.display.HTML object>"
      ]
     },
     "metadata": {},
     "output_type": "display_data"
    },
    {
     "data": {
      "text/html": [
       "<i>community based heritage access researchers aims archive projects available change build communities objects self value</i>"
      ],
      "text/plain": [
       "<IPython.core.display.HTML object>"
      ]
     },
     "metadata": {},
     "output_type": "display_data"
    },
    {
     "data": {
      "text/html": [
       "<b>Topic 4</b>"
      ],
      "text/plain": [
       "<IPython.core.display.HTML object>"
      ]
     },
     "metadata": {},
     "output_type": "display_data"
    },
    {
     "data": {
      "text/html": [
       "<i>texts world literature help work prototype text developed literary books students rich understand scholars ways</i>"
      ],
      "text/plain": [
       "<IPython.core.display.HTML object>"
      ]
     },
     "metadata": {},
     "output_type": "display_data"
    },
    {
     "data": {
      "text/html": [
       "<b>Topic 5</b>"
      ],
      "text/plain": [
       "<IPython.core.display.HTML object>"
      ]
     },
     "metadata": {},
     "output_type": "display_data"
    },
    {
     "data": {
      "text/html": [
       "<i>potential researchers fields visual physical questions understanding international enable set contemporary level technology support disciplines</i>"
      ],
      "text/plain": [
       "<IPython.core.display.HTML object>"
      ]
     },
     "metadata": {},
     "output_type": "display_data"
    },
    {
     "data": {
      "text/html": [
       "<b>Topic 6</b>"
      ],
      "text/plain": [
       "<IPython.core.display.HTML object>"
      ]
     },
     "metadata": {},
     "output_type": "display_data"
    },
    {
     "data": {
      "text/html": [
       "<i>use digital relationship nature explore data different examine source material context modern provides art production</i>"
      ],
      "text/plain": [
       "<IPython.core.display.HTML object>"
      ]
     },
     "metadata": {},
     "output_type": "display_data"
    },
    {
     "data": {
      "text/html": [
       "<b>Topic 7</b>"
      ],
      "text/plain": [
       "<IPython.core.display.HTML object>"
      ]
     },
     "metadata": {},
     "output_type": "display_data"
    },
    {
     "data": {
      "text/html": [
       "<i>using aims bring new used world techniques technologies needs video process project aims sound aim internet</i>"
      ],
      "text/plain": [
       "<IPython.core.display.HTML object>"
      ]
     },
     "metadata": {},
     "output_type": "display_data"
    },
    {
     "name": "stdout",
     "output_type": "stream",
     "text": [
      "\n",
      "Fitting LDA models with tf features, n_samples=102 and n_features=10000...\n",
      "done in 0.775s.\n",
      "\n",
      "Topics in LDA model:\n"
     ]
    },
    {
     "data": {
      "text/html": [
       "<b>Topic 0</b>"
      ],
      "text/plain": [
       "<IPython.core.display.HTML object>"
      ]
     },
     "metadata": {},
     "output_type": "display_data"
    },
    {
     "data": {
      "text/html": [
       "<i>performance musical heritage digital technology design practice members london sound scholars library new model way</i>"
      ],
      "text/plain": [
       "<IPython.core.display.HTML object>"
      ]
     },
     "metadata": {},
     "output_type": "display_data"
    },
    {
     "data": {
      "text/html": [
       "<b>Topic 1</b>"
      ],
      "text/plain": [
       "<IPython.core.display.HTML object>"
      ]
     },
     "metadata": {},
     "output_type": "display_data"
    },
    {
     "data": {
      "text/html": [
       "<i>media new artist digital books practice works art literary artists city aims technologies potential project aims</i>"
      ],
      "text/plain": [
       "<IPython.core.display.HTML object>"
      ]
     },
     "metadata": {},
     "output_type": "display_data"
    },
    {
     "data": {
      "text/html": [
       "<b>Topic 2</b>"
      ],
      "text/plain": [
       "<IPython.core.display.HTML object>"
      ]
     },
     "metadata": {},
     "output_type": "display_data"
    },
    {
     "data": {
      "text/html": [
       "<i>heritage objects data digital use allow crowd new archive using explore social information media cultural</i>"
      ],
      "text/plain": [
       "<IPython.core.display.HTML object>"
      ]
     },
     "metadata": {},
     "output_type": "display_data"
    },
    {
     "data": {
      "text/html": [
       "<b>Topic 3</b>"
      ],
      "text/plain": [
       "<IPython.core.display.HTML object>"
      ]
     },
     "metadata": {},
     "output_type": "display_data"
    },
    {
     "data": {
      "text/html": [
       "<i>new performance art cultural digital artists practices computer creating community technologies practice programme explore context</i>"
      ],
      "text/plain": [
       "<IPython.core.display.HTML object>"
      ]
     },
     "metadata": {},
     "output_type": "display_data"
    },
    {
     "data": {
      "text/html": [
       "<b>Topic 4</b>"
      ],
      "text/plain": [
       "<IPython.core.display.HTML object>"
      ]
     },
     "metadata": {},
     "output_type": "display_data"
    },
    {
     "data": {
      "text/html": [
       "<i>digital music community new communities work creative use media knowledge people based different public cultural</i>"
      ],
      "text/plain": [
       "<IPython.core.display.HTML object>"
      ]
     },
     "metadata": {},
     "output_type": "display_data"
    },
    {
     "data": {
      "text/html": [
       "<b>Topic 5</b>"
      ],
      "text/plain": [
       "<IPython.core.display.HTML object>"
      ]
     },
     "metadata": {},
     "output_type": "display_data"
    },
    {
     "data": {
      "text/html": [
       "<i>design music sound new users models audio work based development creative social future performance musical</i>"
      ],
      "text/plain": [
       "<IPython.core.display.HTML object>"
      ]
     },
     "metadata": {},
     "output_type": "display_data"
    },
    {
     "data": {
      "text/html": [
       "<b>Topic 6</b>"
      ],
      "text/plain": [
       "<IPython.core.display.HTML object>"
      ]
     },
     "metadata": {},
     "output_type": "display_data"
    },
    {
     "data": {
      "text/html": [
       "<i>digital data emerging ahrc digital transformations archives relationship design access humanities cross researchers transformations opportunities new</i>"
      ],
      "text/plain": [
       "<IPython.core.display.HTML object>"
      ]
     },
     "metadata": {},
     "output_type": "display_data"
    },
    {
     "data": {
      "text/html": [
       "<b>Topic 7</b>"
      ],
      "text/plain": [
       "<IPython.core.display.HTML object>"
      ]
     },
     "metadata": {},
     "output_type": "display_data"
    },
    {
     "data": {
      "text/html": [
       "<i>data new digital big cultural use social big data online researchers information quot work based world</i>"
      ],
      "text/plain": [
       "<IPython.core.display.HTML object>"
      ]
     },
     "metadata": {},
     "output_type": "display_data"
    }
   ],
   "source": [
    "# Common English words (stop_words), words occurring in only ten document (min_df=10)\n",
    "# or in at least 95% of the documents (max_df=0.9) are removed; catch 1-grams and 2-grams (ngram_range=(1,2))\n",
    "\n",
    "# Use tf-idf features for Non-Negative Matrix Factorization (NMF).\n",
    "\n",
    "print(\"Extracting tf-idf features for NMF...\")\n",
    "tfidf_vectorizer = TfidfVectorizer(token_pattern='\\\\b[a-zA-Z]\\\\w\\\\w+\\\\b', max_df=0.9, min_df=10,\n",
    "                                   ngram_range=(1,2), stop_words=stop_words)\n",
    "\n",
    "t0 = time()\n",
    "tfidf = tfidf_vectorizer.fit_transform(documents)\n",
    "print(\"done in %0.3fs.\" % (time() - t0))\n",
    "\n",
    "# Use tf (raw term count) features for LDA.\n",
    "print(\"Extracting tf features for LDA...\")\n",
    "tf_vectorizer = CountVectorizer(token_pattern='\\\\b[a-zA-Z]\\\\w\\\\w+\\\\b', max_df=0.9, min_df=10,\n",
    "                                ngram_range=(1,2), stop_words=stop_words)\n",
    "\n",
    "t0 = time()\n",
    "tf = tf_vectorizer.fit_transform(documents)\n",
    "print(\"done in %0.3fs.\" % (time() - t0))\n",
    "print()\n",
    "\n",
    "\n",
    "# Fit the NMF model (Frobenius norm)\n",
    "print(\"Fitting the NMF model (Frobenius norm) with tf-idf features, \"\n",
    "      \"n_samples=%d and n_features=%d...\"\n",
    "      % (n_samples, n_features))\n",
    "t0 = time()\n",
    "nmf = NMF(n_components=n_topics, init=\"nndsvd\", random_state=1,\n",
    "          alpha=.1, l1_ratio=.5).fit(tfidf)\n",
    "print(\"done in %0.3fs.\" % (time() - t0))\n",
    "\n",
    "print(\"\\nTopics in NMF model (Frobenius norm):\")\n",
    "tfidf_feature_names = tfidf_vectorizer.get_feature_names()\n",
    "display_topics(nmf, tfidf_feature_names, n_top_words)\n",
    "print()\n",
    "\n",
    "# Fit the NMF model (generalised Kullback-Leibler divergence)\n",
    "print(\"Fitting the NMF model (generalised Kullback-Leibler divergence) with \"\n",
    "      \"tf-idf features, n_samples=%d and n_features=%d...\"\n",
    "      % (n_samples, n_features))\n",
    "t0 = time()\n",
    "nmf = NMF(n_components=n_topics, random_state=1,\n",
    "          beta_loss='kullback-leibler', solver='mu', max_iter=1000, alpha=.1,\n",
    "          l1_ratio=.5).fit(tfidf)\n",
    "print(\"done in %0.3fs.\" % (time() - t0))\n",
    "print()\n",
    "\n",
    "print(\"\\nTopics in NMF model (generalised Kullback-Leibler divergence):\")\n",
    "tfidf_feature_names = tfidf_vectorizer.get_feature_names()\n",
    "display_topics(nmf, tfidf_feature_names, n_top_words)\n",
    "print()\n",
    "\n",
    "# Fit the LDA model\n",
    "print(\"Fitting LDA models with tf features, \"\n",
    "      \"n_samples=%d and n_features=%d...\"\n",
    "      % (n_samples, n_features))\n",
    "\n",
    "lda = LatentDirichletAllocation(n_components=n_topics, max_iter=10,\n",
    "                                learning_method='online',\n",
    "                                learning_offset=50.,\n",
    "                                random_state=0)\n",
    "t0 = time()\n",
    "lda.fit(tf)\n",
    "print(\"done in %0.3fs.\" % (time() - t0))\n",
    "\n",
    "print(\"\\nTopics in LDA model:\")\n",
    "tf_feature_names = tf_vectorizer.get_feature_names()\n",
    "display_topics(lda, tf_feature_names, n_top_words)"
   ]
  },
  {
   "cell_type": "markdown",
   "metadata": {},
   "source": [
    "## Getting the top documents' ID for each topic"
   ]
  },
  {
   "cell_type": "code",
   "execution_count": 12,
   "metadata": {
    "scrolled": true
   },
   "outputs": [
    {
     "data": {
      "text/html": [
       "<b>Topic 0: </b>"
      ],
      "text/plain": [
       "<IPython.core.display.HTML object>"
      ]
     },
     "metadata": {},
     "output_type": "display_data"
    },
    {
     "name": "stdout",
     "output_type": "stream",
     "text": [
      "digital project community new communities heritage design archive social cultural\n"
     ]
    },
    {
     "data": {
      "text/html": [
       "<p><a href='https://gtr.ukri.org/projects?ref=AH/L007533/1'>ACCORD - Archaeology Community Co-Production of Research Data</a></p>"
      ],
      "text/plain": [
       "<IPython.core.display.HTML object>"
      ]
     },
     "metadata": {},
     "output_type": "display_data"
    },
    {
     "data": {
      "text/html": [
       "<p><a href='https://gtr.ukri.org/projects?ref=AH/L007800/1'>Pararchive: Open Access Community Storytelling and the Digital Archive</a></p>"
      ],
      "text/plain": [
       "<IPython.core.display.HTML object>"
      ]
     },
     "metadata": {},
     "output_type": "display_data"
    },
    {
     "data": {
      "text/html": [
       "<p><a href='https://gtr.ukri.org/projects?ref=AH/J012769/1'>Creation and Publication of the &quot;Digital Manual&quot;: Authority, Authorship and Voice</a></p>"
      ],
      "text/plain": [
       "<IPython.core.display.HTML object>"
      ]
     },
     "metadata": {},
     "output_type": "display_data"
    },
    {
     "data": {
      "text/html": [
       "<p><a href='https://gtr.ukri.org/projects?ref=AH/P005918/1'>Digital Community Workspaces: Delivering Impact through Public Library and Archive networks</a></p>"
      ],
      "text/plain": [
       "<IPython.core.display.HTML object>"
      ]
     },
     "metadata": {},
     "output_type": "display_data"
    },
    {
     "data": {
      "text/html": [
       "<b>Topic 1: </b>"
      ],
      "text/plain": [
       "<IPython.core.display.HTML object>"
      ]
     },
     "metadata": {},
     "output_type": "display_data"
    },
    {
     "name": "stdout",
     "output_type": "stream",
     "text": [
      "music musical performance audio musicology digital music symbolic musicians ensemble listener\n"
     ]
    },
    {
     "data": {
      "text/html": [
       "<p><a href='https://gtr.ukri.org/projects?ref=AH/L01016X/1'>Digital Music Lab - Analysing Big Music Data</a></p>"
      ],
      "text/plain": [
       "<IPython.core.display.HTML object>"
      ]
     },
     "metadata": {},
     "output_type": "display_data"
    },
    {
     "data": {
      "text/html": [
       "<p><a href='https://gtr.ukri.org/projects?ref=AH/M002535/1'>Transforming Digital Music: Investigating Interactive Playback</a></p>"
      ],
      "text/plain": [
       "<IPython.core.display.HTML object>"
      ]
     },
     "metadata": {},
     "output_type": "display_data"
    },
    {
     "data": {
      "text/html": [
       "<p><a href='https://gtr.ukri.org/projects?ref=AH/M002454/1'>An Integrated Audio-Symbolic Model of Music Similarity</a></p>"
      ],
      "text/plain": [
       "<IPython.core.display.HTML object>"
      ]
     },
     "metadata": {},
     "output_type": "display_data"
    },
    {
     "data": {
      "text/html": [
       "<p><a href='https://gtr.ukri.org/projects?ref=AH/P013287/1'>Learn to Play: Computational Assessment of Musical Playability for Users' Practice</a></p>"
      ],
      "text/plain": [
       "<IPython.core.display.HTML object>"
      ]
     },
     "metadata": {},
     "output_type": "display_data"
    },
    {
     "data": {
      "text/html": [
       "<b>Topic 2: </b>"
      ],
      "text/plain": [
       "<IPython.core.display.HTML object>"
      ]
     },
     "metadata": {},
     "output_type": "display_data"
    },
    {
     "name": "stdout",
     "output_type": "stream",
     "text": [
      "data big big data legislation quot datasets open data bsd cultural open\n"
     ]
    },
    {
     "data": {
      "text/html": [
       "<p><a href='https://gtr.ukri.org/projects?ref=AH/M002551/1'>Empowering Data Citizens</a></p>"
      ],
      "text/plain": [
       "<IPython.core.display.HTML object>"
      ]
     },
     "metadata": {},
     "output_type": "display_data"
    },
    {
     "data": {
      "text/html": [
       "<p><a href='https://gtr.ukri.org/projects?ref=AH/M010015/1'>An Internet of Cultural Things: Creative Explorations of Data in Cultural Institutions</a></p>"
      ],
      "text/plain": [
       "<IPython.core.display.HTML object>"
      ]
     },
     "metadata": {},
     "output_type": "display_data"
    },
    {
     "data": {
      "text/html": [
       "<p><a href='https://gtr.ukri.org/projects?ref=AH/L010232/1'>Big Data for Law</a></p>"
      ],
      "text/plain": [
       "<IPython.core.display.HTML object>"
      ]
     },
     "metadata": {},
     "output_type": "display_data"
    },
    {
     "data": {
      "text/html": [
       "<p><a href='https://gtr.ukri.org/projects?ref=AH/L010186/1'>Traces though Time: Prosopography in practice across Big Data</a></p>"
      ],
      "text/plain": [
       "<IPython.core.display.HTML object>"
      ]
     },
     "metadata": {},
     "output_type": "display_data"
    },
    {
     "data": {
      "text/html": [
       "<b>Topic 3: </b>"
      ],
      "text/plain": [
       "<IPython.core.display.HTML object>"
      ]
     },
     "metadata": {},
     "output_type": "display_data"
    },
    {
     "name": "stdout",
     "output_type": "stream",
     "text": [
      "film film media essay audiovisual media video symposium essays digital audiovisual essay\n"
     ]
    },
    {
     "data": {
      "text/html": [
       "<p><a href='https://gtr.ukri.org/projects?ref=AH/R004854/1'>Cinema Unframed: exploring the screen in virtual reality, through live installation and mobile app</a></p>"
      ],
      "text/plain": [
       "<IPython.core.display.HTML object>"
      ]
     },
     "metadata": {},
     "output_type": "display_data"
    },
    {
     "data": {
      "text/html": [
       "<p><a href='https://gtr.ukri.org/projects?ref=AH/M010392/1'>The Audiovisual Essay: a digital methodology for film and media studies</a></p>"
      ],
      "text/plain": [
       "<IPython.core.display.HTML object>"
      ]
     },
     "metadata": {},
     "output_type": "display_data"
    },
    {
     "data": {
      "text/html": [
       "<p><a href='https://gtr.ukri.org/projects?ref=AH/L010305/1'>DEEP FILM Access Project (DFAP)</a></p>"
      ],
      "text/plain": [
       "<IPython.core.display.HTML object>"
      ]
     },
     "metadata": {},
     "output_type": "display_data"
    },
    {
     "data": {
      "text/html": [
       "<p><a href='https://gtr.ukri.org/projects?ref=AH/M010481/1'>Tracking IP Across the Creative Technologies project (TRI-PACT)</a></p>"
      ],
      "text/plain": [
       "<IPython.core.display.HTML object>"
      ]
     },
     "metadata": {},
     "output_type": "display_data"
    },
    {
     "data": {
      "text/html": [
       "<b>Topic 4: </b>"
      ],
      "text/plain": [
       "<IPython.core.display.HTML object>"
      ]
     },
     "metadata": {},
     "output_type": "display_data"
    },
    {
     "name": "stdout",
     "output_type": "stream",
     "text": [
      "edinburgh literary palimpsest city literature rankin literary texts cityscape literary cityscape fiction\n"
     ]
    },
    {
     "data": {
      "text/html": [
       "<p><a href='https://gtr.ukri.org/projects?ref=AH/L009935/1'>Palimpsest: an Edinburgh Literary Cityscape</a></p>"
      ],
      "text/plain": [
       "<IPython.core.display.HTML object>"
      ]
     },
     "metadata": {},
     "output_type": "display_data"
    },
    {
     "data": {
      "text/html": [
       "<p><a href='https://gtr.ukri.org/projects?ref=AH/P009549/1'>Words on the Street: the Uses of a Digital Literary Cityscape</a></p>"
      ],
      "text/plain": [
       "<IPython.core.display.HTML object>"
      ]
     },
     "metadata": {},
     "output_type": "display_data"
    },
    {
     "data": {
      "text/html": [
       "<p><a href='https://gtr.ukri.org/projects?ref=AH/P013139/1'>Ian Rankin StoryTrek: New Digital Storytelling and Mapping Technologies for Crime Fiction Readers on Location</a></p>"
      ],
      "text/plain": [
       "<IPython.core.display.HTML object>"
      ]
     },
     "metadata": {},
     "output_type": "display_data"
    },
    {
     "data": {
      "text/html": [
       "<p><a href='https://gtr.ukri.org/projects?ref=AH/L010208/1'>Proteus: Capturing the Big Data Problem of Ancient Literary Fragments</a></p>"
      ],
      "text/plain": [
       "<IPython.core.display.HTML object>"
      ]
     },
     "metadata": {},
     "output_type": "display_data"
    },
    {
     "data": {
      "text/html": [
       "<b>Topic 5: </b>"
      ],
      "text/plain": [
       "<IPython.core.display.HTML object>"
      ]
     },
     "metadata": {},
     "output_type": "display_data"
    },
    {
     "name": "stdout",
     "output_type": "stream",
     "text": [
      "prison prison industries design inmates industries employment makeright design thinking thinking ahmedabad\n"
     ]
    },
    {
     "data": {
      "text/html": [
       "<p><a href='https://gtr.ukri.org/projects?ref=AH/R00157X/1'>Disseminating &quot;Design Thinking for Prison Industries&quot; through Teaching Resources, Delivery Models and Training for Trainers</a></p>"
      ],
      "text/plain": [
       "<IPython.core.display.HTML object>"
      ]
     },
     "metadata": {},
     "output_type": "display_data"
    },
    {
     "data": {
      "text/html": [
       "<p><a href='https://gtr.ukri.org/projects?ref=AH/M005666/1'>Design Thinking for Prison Industries: Exchanging design tools, methods and processes with prisons in London and Ahmedabad to build inmate resilience</a></p>"
      ],
      "text/plain": [
       "<IPython.core.display.HTML object>"
      ]
     },
     "metadata": {},
     "output_type": "display_data"
    },
    {
     "data": {
      "text/html": [
       "<p><a href='https://gtr.ukri.org/projects?ref=AH/L006863/1'>The Digital Panopticon: The Global Impact of London Punishments, 1780-1925</a></p>"
      ],
      "text/plain": [
       "<IPython.core.display.HTML object>"
      ]
     },
     "metadata": {},
     "output_type": "display_data"
    },
    {
     "data": {
      "text/html": [
       "<p><a href='https://gtr.ukri.org/projects?ref=AH/M002438/1'>Exploring British Design: developing research competencies by connecting archive content</a></p>"
      ],
      "text/plain": [
       "<IPython.core.display.HTML object>"
      ]
     },
     "metadata": {},
     "output_type": "display_data"
    },
    {
     "data": {
      "text/html": [
       "<b>Topic 6: </b>"
      ],
      "text/plain": [
       "<IPython.core.display.HTML object>"
      ]
     },
     "metadata": {},
     "output_type": "display_data"
    },
    {
     "name": "stdout",
     "output_type": "stream",
     "text": [
      "noise cities delhi india unbox building urban device city raise\n"
     ]
    },
    {
     "data": {
      "text/html": [
       "<p><a href='https://gtr.ukri.org/projects?ref=AH/M005658/1'>Boxing the mNAP (a mobile Noise Abatement Pod for raising awareness of the effects of noise pollution)</a></p>"
      ],
      "text/plain": [
       "<IPython.core.display.HTML object>"
      ]
     },
     "metadata": {},
     "output_type": "display_data"
    },
    {
     "data": {
      "text/html": [
       "<p><a href='https://gtr.ukri.org/projects?ref=AH/M00564X/1'>3 x 4: Exploring metaspace platforms for inclusive future cities</a></p>"
      ],
      "text/plain": [
       "<IPython.core.display.HTML object>"
      ]
     },
     "metadata": {},
     "output_type": "display_data"
    },
    {
     "data": {
      "text/html": [
       "<p><a href='https://gtr.ukri.org/projects?ref=AH/M005623/1'>I Stood Up to Violence: Making it Public</a></p>"
      ],
      "text/plain": [
       "<IPython.core.display.HTML object>"
      ]
     },
     "metadata": {},
     "output_type": "display_data"
    },
    {
     "data": {
      "text/html": [
       "<p><a href='https://gtr.ukri.org/projects?ref=AH/L503605/1'>Playing to Grow: Augmenting Agriculture with Social Impact Games</a></p>"
      ],
      "text/plain": [
       "<IPython.core.display.HTML object>"
      ]
     },
     "metadata": {},
     "output_type": "display_data"
    },
    {
     "data": {
      "text/html": [
       "<b>Topic 7: </b>"
      ],
      "text/plain": [
       "<IPython.core.display.HTML object>"
      ]
     },
     "metadata": {},
     "output_type": "display_data"
    },
    {
     "name": "stdout",
     "output_type": "stream",
     "text": [
      "visualisations data visualisations data big data big reception migobs consumers migration effectiveness\n"
     ]
    },
    {
     "data": {
      "text/html": [
       "<p><a href='https://gtr.ukri.org/projects?ref=AH/L009986/1'>Seeing Data: are good big data visualisations possible?</a></p>"
      ],
      "text/plain": [
       "<IPython.core.display.HTML object>"
      ]
     },
     "metadata": {},
     "output_type": "display_data"
    },
    {
     "data": {
      "text/html": [
       "<p><a href='https://gtr.ukri.org/projects?ref=AH/L009986/2'>Seeing Data: are good big data visualisations possible?</a></p>"
      ],
      "text/plain": [
       "<IPython.core.display.HTML object>"
      ]
     },
     "metadata": {},
     "output_type": "display_data"
    },
    {
     "data": {
      "text/html": [
       "<p><a href='https://gtr.ukri.org/projects?ref=AH/M002322/1'>Digital Realism: Visualising the social through digital art practice</a></p>"
      ],
      "text/plain": [
       "<IPython.core.display.HTML object>"
      ]
     },
     "metadata": {},
     "output_type": "display_data"
    },
    {
     "data": {
      "text/html": [
       "<p><a href='https://gtr.ukri.org/projects?ref=AH/L01002X/1'>Frameworks and tools for statistical big data in the humanities</a></p>"
      ],
      "text/plain": [
       "<IPython.core.display.HTML object>"
      ]
     },
     "metadata": {},
     "output_type": "display_data"
    }
   ],
   "source": [
    "from sklearn.feature_extraction.text import TfidfVectorizer, CountVectorizer\n",
    "from sklearn.decomposition import NMF, LatentDirichletAllocation\n",
    "import numpy as np\n",
    "\n",
    "def display_topics(H, W, feature_names, documents, no_top_words, no_top_documents):\n",
    "    for topic_idx, topic in enumerate(H):\n",
    "        display(HTML(\"<b>Topic %d: </b>\" % (topic_idx)))\n",
    "        print(\" \".join([feature_names[i]\n",
    "                        for i in topic.argsort()[:-no_top_words - 1:-1]]))\n",
    "        top_doc_indices = np.argsort(W[:,topic_idx] )[::-1][0:no_top_documents]\n",
    "        for doc_index in top_doc_indices:\n",
    "            link = (\"<p><a href='https://gtr.ukri.org/projects?ref=\" + df.Reference[doc_index] + \"'>\" + df.Title[doc_index] + \"</a></p>\")\n",
    "            display(HTML(link))\n",
    "        \n",
    "documents = df[\"Abstract\"]\n",
    "            \n",
    "# NMF is able to use tf-idf\n",
    "tfidf_vectorizer = TfidfVectorizer(ngram_range=(1,2), token_pattern='\\\\b[a-zA-Z]\\\\w\\\\w+\\\\b', max_df=0.95, min_df=2, stop_words=stop_words)\n",
    "tfidf = tfidf_vectorizer.fit_transform(documents)\n",
    "tfidf_feature_names = tfidf_vectorizer.get_feature_names()\n",
    "\n",
    "# LDA can only use raw term counts for LDA because it is a probabilistic graphical model\n",
    "tf_vectorizer = CountVectorizer(ngram_range=(1,2), token_pattern='\\\\b[a-zA-Z]\\\\w\\\\w+\\\\b', max_df=0.95, min_df=2, stop_words=stop_words)\n",
    "tf = tf_vectorizer.fit_transform(documents)\n",
    "tf_feature_names = tf_vectorizer.get_feature_names()\n",
    "\n",
    "no_topics = 8\n",
    "\n",
    "# Run NMF\n",
    "nmf_model = NMF(n_components=no_topics, random_state=1, alpha=.1, l1_ratio=.5, init='nndsvd').fit(tfidf)\n",
    "nmf_W = nmf_model.transform(tfidf)\n",
    "nmf_H = nmf_model.components_\n",
    "\n",
    "# Run LDA\n",
    "lda_model = LatentDirichletAllocation(n_components=no_topics, max_iter=5, learning_method='online', learning_offset=50.,random_state=0).fit(tf)\n",
    "lda_W = lda_model.transform(tf)\n",
    "lda_H = lda_model.components_\n",
    "\n",
    "no_top_words = 10\n",
    "no_top_documents = 4\n",
    "display_topics(nmf_H, nmf_W, tfidf_feature_names, documents, no_top_words, no_top_documents)\n",
    "#display_topics(lda_H, lda_W, tf_feature_names, documents, no_top_words, no_top_documents)"
   ]
  },
  {
   "cell_type": "markdown",
   "metadata": {},
   "source": [
    "## Publications"
   ]
  },
  {
   "cell_type": "code",
   "execution_count": 66,
   "metadata": {},
   "outputs": [],
   "source": [
    "# Generates a df_id only for the projects IDs with title\n",
    "\n",
    "cols = ['Title', \"ID\"]\n",
    "df_id = pd.DataFrame(columns=cols, index=range(len(li)))\n",
    "\n",
    "counter = 0\n",
    "for project in li:\n",
    "    url = (urlgtr + '\"' + project + '\"' + \"&f=pro.gr\")\n",
    "    response = requests.get(url, headers=headers)\n",
    "    proginfo = json.loads(response.text)[\"project\"]\n",
    "    df_id.iloc[counter][0] = proginfo[0][\"title\"]\n",
    "    df_id.iloc[counter][1] = proginfo[0][\"id\"]\n",
    "    counter += 1"
   ]
  },
  {
   "cell_type": "code",
   "execution_count": 94,
   "metadata": {},
   "outputs": [],
   "source": [
    "# Generates a dataframe with publications and associated projects\n",
    "\n",
    "cols = [\"ID\", \"Publication\", \"Type\", \"Autor\", \"Link\"]\n",
    "df_publications = pd.DataFrame(columns=cols, index=range(2000))\n",
    "\n",
    "counter = 0\n",
    "count = 0\n",
    "for idx, project_id in enumerate(df_id[\"ID\"]):\n",
    "    requestURL = 'https://gtr.ukri.org/gtr/api/projects/' + project_id + '/outcomes/publications'\n",
    "    b_response = requests.get(requestURL, headers=headers)\n",
    "    pubinfo = json.loads(b_response.text)\n",
    "    \n",
    "    for pub in pubinfo[\"publication\"]:\n",
    "        df_publications.iloc[counter][0] = df_id[\"Title\"][idx]\n",
    "        df_publications.iloc[counter][1] = pub[\"title\"]\n",
    "        df_publications.iloc[counter][2] = pub[\"type\"]\n",
    "        df_publications.iloc[counter][3] = pub[\"author\"]\n",
    "\n",
    "        try:\n",
    "            df_publications.iloc[counter][4] = pub[\"datePublished\"]\n",
    "        except KeyError:\n",
    "            count += 1\n",
    "            df_publications.iloc[counter][4] = \"\"\n",
    "    \n",
    "    #for pub in pubinfo[\"publication\"]:\n",
    "\n",
    "        #df_publications.iloc[0] = project_id\n",
    "        #df_publications.iloc[1] = pub[\"title\"]\n",
    "        counter += 1"
   ]
  },
  {
   "cell_type": "code",
   "execution_count": 95,
   "metadata": {},
   "outputs": [],
   "source": [
    "df_publications.dropna(inplace=True)"
   ]
  },
  {
   "cell_type": "code",
   "execution_count": 96,
   "metadata": {},
   "outputs": [],
   "source": [
    "df_publications.set_index(\"ID\", inplace=True)"
   ]
  },
  {
   "cell_type": "code",
   "execution_count": 97,
   "metadata": {},
   "outputs": [
    {
     "data": {
      "text/html": [
       "<div>\n",
       "<style scoped>\n",
       "    .dataframe tbody tr th:only-of-type {\n",
       "        vertical-align: middle;\n",
       "    }\n",
       "\n",
       "    .dataframe tbody tr th {\n",
       "        vertical-align: top;\n",
       "    }\n",
       "\n",
       "    .dataframe thead th {\n",
       "        text-align: right;\n",
       "    }\n",
       "</style>\n",
       "<table border=\"1\" class=\"dataframe\">\n",
       "  <thead>\n",
       "    <tr style=\"text-align: right;\">\n",
       "      <th></th>\n",
       "      <th>Publication</th>\n",
       "      <th>Type</th>\n",
       "      <th>Autor</th>\n",
       "      <th>Link</th>\n",
       "    </tr>\n",
       "    <tr>\n",
       "      <th>ID</th>\n",
       "      <th></th>\n",
       "      <th></th>\n",
       "      <th></th>\n",
       "      <th></th>\n",
       "    </tr>\n",
       "  </thead>\n",
       "  <tbody>\n",
       "    <tr>\n",
       "      <th>Building sustainability and informing policy: The MicroPasts programme of knowledge exchange</th>\n",
       "      <td>Digital Co-production in Archaeology. An edito...</td>\n",
       "      <td>Journal Article/Review</td>\n",
       "      <td>Bonacchi C</td>\n",
       "      <td>1483228800000</td>\n",
       "    </tr>\n",
       "    <tr>\n",
       "      <th>Building sustainability and informing policy: The MicroPasts programme of knowledge exchange</th>\n",
       "      <td>Experiments in Crowd-funding Community Archaeo...</td>\n",
       "      <td>Journal Article/Review</td>\n",
       "      <td>Bonacchi C</td>\n",
       "      <td>1420070400000</td>\n",
       "    </tr>\n",
       "    <tr>\n",
       "      <th>Building sustainability and informing policy: The MicroPasts programme of knowledge exchange</th>\n",
       "      <td>Crowd- and community-fuelled archaeology. Earl...</td>\n",
       "      <td>Conference/Paper/Proceeding/Abstract</td>\n",
       "      <td>Bonacchi, C</td>\n",
       "      <td>1420070400000</td>\n",
       "    </tr>\n",
       "    <tr>\n",
       "      <th>Building sustainability and informing policy: The MicroPasts programme of knowledge exchange</th>\n",
       "      <td>(Submitted) Evaluating Participants and Partic...</td>\n",
       "      <td>Journal Article/Review</td>\n",
       "      <td>Bonacchi, C.</td>\n",
       "      <td></td>\n",
       "    </tr>\n",
       "    <tr>\n",
       "      <th>Building sustainability and informing policy: The MicroPasts programme of knowledge exchange</th>\n",
       "      <td>Crowd-sourcing the British Bronze Age: Initial...</td>\n",
       "      <td>Conference/Paper/Proceeding/Abstract</td>\n",
       "      <td>Wilkin,N.</td>\n",
       "      <td>1420070400000</td>\n",
       "    </tr>\n",
       "    <tr>\n",
       "      <th>Building sustainability and informing policy: The MicroPasts programme of knowledge exchange</th>\n",
       "      <td>Online Research Collaborations beyond the Academy</td>\n",
       "      <td>Systematic review</td>\n",
       "      <td>Chiara Bonacchi</td>\n",
       "      <td>1514764800000</td>\n",
       "    </tr>\n",
       "    <tr>\n",
       "      <th>The Human Side of Digitized Knowledge: Community Curation of the Ethno-ornithology World Archive</th>\n",
       "      <td>Ethno-ornithology of the Mushere of Nigeria: C...</td>\n",
       "      <td>Journal Article/Review</td>\n",
       "      <td>Pam G B</td>\n",
       "      <td></td>\n",
       "    </tr>\n",
       "    <tr>\n",
       "      <th>The Human Side of Digitized Knowledge: Community Curation of the Ethno-ornithology World Archive</th>\n",
       "      <td>&amp;quot;Listen Carefully to the Voices of the Bi...</td>\n",
       "      <td>Journal Article/Review</td>\n",
       "      <td>Wyndham F S</td>\n",
       "      <td></td>\n",
       "    </tr>\n",
       "    <tr>\n",
       "      <th>The Human Side of Digitized Knowledge: Community Curation of the Ethno-ornithology World Archive</th>\n",
       "      <td>Inter-governmental Platform on Biodiversity &amp;a...</td>\n",
       "      <td>Book Chapter</td>\n",
       "      <td>Wyndham F S</td>\n",
       "      <td></td>\n",
       "    </tr>\n",
       "    <tr>\n",
       "      <th>The Human Side of Digitized Knowledge: Community Curation of the Ethno-ornithology World Archive</th>\n",
       "      <td>The Human Factor: Ecological Salience in Ornit...</td>\n",
       "      <td>Journal Article/Review</td>\n",
       "      <td>Gosler A</td>\n",
       "      <td>1483228800000</td>\n",
       "    </tr>\n",
       "    <tr>\n",
       "      <th>Latin(o) American Digital Art: Exhibitions and Audience-Participation Workshops</th>\n",
       "      <td>&amp;quot;Writing sprints&amp;quot; can facilitate col...</td>\n",
       "      <td>Other</td>\n",
       "      <td>Taylor C</td>\n",
       "      <td>1483228800000</td>\n",
       "    </tr>\n",
       "    <tr>\n",
       "      <th>Latin(o) American Digital Art: Exhibitions and Audience-Participation Workshops</th>\n",
       "      <td>Branding Latin America</td>\n",
       "      <td>Book Chapter</td>\n",
       "      <td>Taylor C</td>\n",
       "      <td>1514764800000</td>\n",
       "    </tr>\n",
       "    <tr>\n",
       "      <th>Latin(o) American Digital Art: Exhibitions and Audience-Participation Workshops</th>\n",
       "      <td>Using social media to curate digital artworks ...</td>\n",
       "      <td>Other</td>\n",
       "      <td>Taylor C</td>\n",
       "      <td>1483228800000</td>\n",
       "    </tr>\n",
       "    <tr>\n",
       "      <th>Latin(o) American Digital Art: Exhibitions and Audience-Participation Workshops</th>\n",
       "      <td>Marina Zerbarini's Tejido de memoria (Memory W...</td>\n",
       "      <td>Other</td>\n",
       "      <td>Peate A</td>\n",
       "      <td>1483228800000</td>\n",
       "    </tr>\n",
       "    <tr>\n",
       "      <th>Latin(o) American Digital Art: Exhibitions and Audience-Participation Workshops</th>\n",
       "      <td>How activist artists on the US-Mexico border c...</td>\n",
       "      <td>Other</td>\n",
       "      <td>Taylor C</td>\n",
       "      <td>1483228800000</td>\n",
       "    </tr>\n",
       "    <tr>\n",
       "      <th>Latin(o) American Digital Art: Exhibitions and Audience-Participation Workshops</th>\n",
       "      <td>Latin(o) American Digital Art: Some Observatio...</td>\n",
       "      <td>Journal Article/Review</td>\n",
       "      <td>Taylor C</td>\n",
       "      <td>1451606400000</td>\n",
       "    </tr>\n",
       "    <tr>\n",
       "      <th>Latin(o) American Digital Art: Exhibitions and Audience-Participation Workshops</th>\n",
       "      <td>Cities in Dialogue</td>\n",
       "      <td>Book</td>\n",
       "      <td>Taylor Claire</td>\n",
       "      <td>1451606400000</td>\n",
       "    </tr>\n",
       "    <tr>\n",
       "      <th>Latin(o) American Digital Art: Exhibitions and Audience-Participation Workshops</th>\n",
       "      <td>Modern Languages and the Digital: The Shape of...</td>\n",
       "      <td>Journal Article/Review</td>\n",
       "      <td>Taylor C</td>\n",
       "      <td>1483228800000</td>\n",
       "    </tr>\n",
       "    <tr>\n",
       "      <th>Latin(o) American Digital Art: Exhibitions and Audience-Participation Workshops</th>\n",
       "      <td>Place and Politics in Latin American Digital C...</td>\n",
       "      <td>Book</td>\n",
       "      <td>Taylor, CL</td>\n",
       "      <td>1388534400000</td>\n",
       "    </tr>\n",
       "    <tr>\n",
       "      <th>Latin American Cultural Production Online, from 1990 to the Present</th>\n",
       "      <td>Cities in Dialogue</td>\n",
       "      <td>Book</td>\n",
       "      <td>Taylor Claire</td>\n",
       "      <td>1451606400000</td>\n",
       "    </tr>\n",
       "    <tr>\n",
       "      <th>Latin American Cultural Production Online, from 1990 to the Present</th>\n",
       "      <td>Place and Politics in Latin American Digital C...</td>\n",
       "      <td>Book</td>\n",
       "      <td>Taylor, CL</td>\n",
       "      <td>1388534400000</td>\n",
       "    </tr>\n",
       "    <tr>\n",
       "      <th>Latin American Cultural Production Online, from 1990 to the Present</th>\n",
       "      <td>Modern Languages and the Digital: The Shape of...</td>\n",
       "      <td>Journal Article/Review</td>\n",
       "      <td>Taylor C</td>\n",
       "      <td>1483228800000</td>\n",
       "    </tr>\n",
       "    <tr>\n",
       "      <th>Optical Music Recognition from Multiple Sources</th>\n",
       "      <td>Improving optical music recognition by combini...</td>\n",
       "      <td>Conference/Paper/Proceeding/Abstract</td>\n",
       "      <td>Padilla, V</td>\n",
       "      <td>1420070400000</td>\n",
       "    </tr>\n",
       "    <tr>\n",
       "      <th>Weaving Codes - Coding Weaves</th>\n",
       "      <td>Weaving as Binary Art and the Algebra of Patterns</td>\n",
       "      <td>Journal Article/Review</td>\n",
       "      <td>Harlizius-Klück E</td>\n",
       "      <td>1483228800000</td>\n",
       "    </tr>\n",
       "    <tr>\n",
       "      <th>Weaving Codes - Coding Weaves</th>\n",
       "      <td>Introduction: Weaving Codes, Coding Weaves</td>\n",
       "      <td>Journal Article/Review</td>\n",
       "      <td>McLean A</td>\n",
       "      <td>1483228800000</td>\n",
       "    </tr>\n",
       "    <tr>\n",
       "      <th>Weaving Codes - Coding Weaves</th>\n",
       "      <td>Textility of Code: A Catalogue of Errors</td>\n",
       "      <td>Journal Article/Review</td>\n",
       "      <td>Griffiths D</td>\n",
       "      <td>1483228800000</td>\n",
       "    </tr>\n",
       "    <tr>\n",
       "      <th>Weaving Codes - Coding Weaves</th>\n",
       "      <td>Live Coding/Weaving: Penelopean Metis and the ...</td>\n",
       "      <td>Conference/Paper/Proceeding/Abstract</td>\n",
       "      <td>Cocker E</td>\n",
       "      <td>1420070400000</td>\n",
       "    </tr>\n",
       "    <tr>\n",
       "      <th>Crowd- and Community-fuelled Archaeological Research</th>\n",
       "      <td>Collective Re-Excavation and Lost Media from t...</td>\n",
       "      <td>Journal Article/Review</td>\n",
       "      <td>Wexler J</td>\n",
       "      <td>1420070400000</td>\n",
       "    </tr>\n",
       "    <tr>\n",
       "      <th>Crowd- and Community-fuelled Archaeological Research</th>\n",
       "      <td>MicroPasts. An innovative place for progressin...</td>\n",
       "      <td>Journal Article/Review</td>\n",
       "      <td>Keinan-Schoonbaert A</td>\n",
       "      <td>1388534400000</td>\n",
       "    </tr>\n",
       "    <tr>\n",
       "      <th>Crowd- and Community-fuelled Archaeological Research</th>\n",
       "      <td>The data deluge</td>\n",
       "      <td>Journal Article/Review</td>\n",
       "      <td>Bevan A</td>\n",
       "      <td>1420070400000</td>\n",
       "    </tr>\n",
       "    <tr>\n",
       "      <th>...</th>\n",
       "      <td>...</td>\n",
       "      <td>...</td>\n",
       "      <td>...</td>\n",
       "      <td>...</td>\n",
       "    </tr>\n",
       "    <tr>\n",
       "      <th>Transforming Musicology</th>\n",
       "      <td>An iterative hard thresholding approach to l0s...</td>\n",
       "      <td>Conference/Paper/Proceeding/Abstract</td>\n",
       "      <td>K. O'Hanlon</td>\n",
       "      <td>1451606400000</td>\n",
       "    </tr>\n",
       "    <tr>\n",
       "      <th>Transforming Musicology</th>\n",
       "      <td>Searching musical incipits by means of sequenc...</td>\n",
       "      <td>Conference/Paper/Proceeding/Abstract</td>\n",
       "      <td>Nuss J van</td>\n",
       "      <td>1483228800000</td>\n",
       "    </tr>\n",
       "    <tr>\n",
       "      <th>Transforming Musicology</th>\n",
       "      <td>Proceedings of the 1st International Workshop ...</td>\n",
       "      <td>Conference/Paper/Proceeding/Abstract</td>\n",
       "      <td>Fields B</td>\n",
       "      <td>1388534400000</td>\n",
       "    </tr>\n",
       "    <tr>\n",
       "      <th>Transforming Musicology</th>\n",
       "      <td>The psychology of leitmotive processing in Ric...</td>\n",
       "      <td>Conference/Paper/Proceeding/Abstract</td>\n",
       "      <td>Baker, David</td>\n",
       "      <td>1388534400000</td>\n",
       "    </tr>\n",
       "    <tr>\n",
       "      <th>Transforming Musicology</th>\n",
       "      <td>Musicology of Digital Libraries: structures in...</td>\n",
       "      <td>Conference/Paper/Proceeding/Abstract</td>\n",
       "      <td>Lewis D</td>\n",
       "      <td>1483228800000</td>\n",
       "    </tr>\n",
       "    <tr>\n",
       "      <th>Transforming Musicology</th>\n",
       "      <td>Musical texts and information retrieval: the c...</td>\n",
       "      <td>Journal Article/Review</td>\n",
       "      <td>Gale M</td>\n",
       "      <td>1420070400000</td>\n",
       "    </tr>\n",
       "    <tr>\n",
       "      <th>Transforming Musicology</th>\n",
       "      <td>The ring buffer: Capturing musicology annotati...</td>\n",
       "      <td>Conference/Paper/Proceeding/Abstract</td>\n",
       "      <td>Nurmikko-Fuller, Terhi</td>\n",
       "      <td>1388534400000</td>\n",
       "    </tr>\n",
       "    <tr>\n",
       "      <th>Transforming Musicology</th>\n",
       "      <td>Explorations in Linked Data practice for early...</td>\n",
       "      <td>Conference/Paper/Proceeding/Abstract</td>\n",
       "      <td>Crawford T</td>\n",
       "      <td>1388534400000</td>\n",
       "    </tr>\n",
       "    <tr>\n",
       "      <th>Transforming Musicology</th>\n",
       "      <td>Parsifal and the effect of narrative on uncons...</td>\n",
       "      <td>Conference/Paper/Proceeding/Abstract</td>\n",
       "      <td>Baker, David</td>\n",
       "      <td>1420070400000</td>\n",
       "    </tr>\n",
       "    <tr>\n",
       "      <th>Transforming Musicology</th>\n",
       "      <td>The Delius Catalogue of Works: A Progress Report</td>\n",
       "      <td>Conference/Paper/Proceeding/Abstract</td>\n",
       "      <td>J. Bullivant</td>\n",
       "      <td>1483228800000</td>\n",
       "    </tr>\n",
       "    <tr>\n",
       "      <th>Transforming Musicology</th>\n",
       "      <td>Numbers into Notes: Digital Prototyping as Clo...</td>\n",
       "      <td>Conference/Paper/Proceeding/Abstract</td>\n",
       "      <td>David De Roure</td>\n",
       "      <td>1483228800000</td>\n",
       "    </tr>\n",
       "    <tr>\n",
       "      <th>Transforming Musicology</th>\n",
       "      <td>Non-Negative Group Sparsity with Subspace Note...</td>\n",
       "      <td>Journal Article/Review</td>\n",
       "      <td>O'Hanlon K</td>\n",
       "      <td>1451606400000</td>\n",
       "    </tr>\n",
       "    <tr>\n",
       "      <th>Transforming Musicology</th>\n",
       "      <td>Music encoding in context: MEI and Linked Data</td>\n",
       "      <td>Conference/Paper/Proceeding/Abstract</td>\n",
       "      <td>Page, Kevin R</td>\n",
       "      <td>1420070400000</td>\n",
       "    </tr>\n",
       "    <tr>\n",
       "      <th>Transforming Musicology</th>\n",
       "      <td>Sparse NMF methods; applied to automatic music...</td>\n",
       "      <td>Conference/Paper/Proceeding/Abstract</td>\n",
       "      <td>K. O'Hanlon</td>\n",
       "      <td>1420070400000</td>\n",
       "    </tr>\n",
       "    <tr>\n",
       "      <th>Transforming Musicology</th>\n",
       "      <td>Improved Template-based chord recognition usin...</td>\n",
       "      <td>Conference/Paper/Proceeding/Abstract</td>\n",
       "      <td>K. O'Hanlon</td>\n",
       "      <td>1483228800000</td>\n",
       "    </tr>\n",
       "    <tr>\n",
       "      <th>Transforming Musicology</th>\n",
       "      <td>Capturing context and provenance of musicology...</td>\n",
       "      <td>Conference/Paper/Proceeding/Abstract</td>\n",
       "      <td>Lewis D</td>\n",
       "      <td>1483228800000</td>\n",
       "    </tr>\n",
       "    <tr>\n",
       "      <th>Transforming Musicology</th>\n",
       "      <td>Computational Music Analysis</td>\n",
       "      <td>Book Chapter</td>\n",
       "      <td>Abdallah S</td>\n",
       "      <td>1451606400000</td>\n",
       "    </tr>\n",
       "    <tr>\n",
       "      <th>Transforming Musicology</th>\n",
       "      <td>The software of your dreams: expectations and ...</td>\n",
       "      <td>Conference/Paper/Proceeding/Abstract</td>\n",
       "      <td>Wiering F</td>\n",
       "      <td>1483228800000</td>\n",
       "    </tr>\n",
       "    <tr>\n",
       "      <th>Transforming Musicology</th>\n",
       "      <td>Early modern cover song detection: finding con...</td>\n",
       "      <td>Conference/Paper/Proceeding/Abstract</td>\n",
       "      <td>Crawford T</td>\n",
       "      <td>1483228800000</td>\n",
       "    </tr>\n",
       "    <tr>\n",
       "      <th>Transforming Musicology</th>\n",
       "      <td>Towards the identification of Irish traditiona...</td>\n",
       "      <td>Conference/Paper/Proceeding/Abstract</td>\n",
       "      <td>Ali-MacLachlan, Islah</td>\n",
       "      <td>1420070400000</td>\n",
       "    </tr>\n",
       "    <tr>\n",
       "      <th>Transforming Musicology</th>\n",
       "      <td>Towards Incorporating Derived Features In Data...</td>\n",
       "      <td>Conference/Paper/Proceeding/Abstract</td>\n",
       "      <td>Catherine Blauvelt</td>\n",
       "      <td>1483228800000</td>\n",
       "    </tr>\n",
       "    <tr>\n",
       "      <th>Transforming Musicology</th>\n",
       "      <td>Proceedings of the 2nd International Workshop ...</td>\n",
       "      <td>Conference/Paper/Proceeding/Abstract</td>\n",
       "      <td>Fields B</td>\n",
       "      <td>1420070400000</td>\n",
       "    </tr>\n",
       "    <tr>\n",
       "      <th>Transforming Musicology</th>\n",
       "      <td>Non-negative Matrix Factorisation incorporatin...</td>\n",
       "      <td>Conference/Paper/Proceeding/Abstract</td>\n",
       "      <td>K. O'Hanlon</td>\n",
       "      <td>1420070400000</td>\n",
       "    </tr>\n",
       "    <tr>\n",
       "      <th>Transforming Musicology</th>\n",
       "      <td>Automated detection of single-note ornaments i...</td>\n",
       "      <td>Conference/Paper/Proceeding/Abstract</td>\n",
       "      <td>Köküer, Münevver</td>\n",
       "      <td>1388534400000</td>\n",
       "    </tr>\n",
       "    <tr>\n",
       "      <th>Transforming Musicology</th>\n",
       "      <td>Proceedings of the 4th International Workshop ...</td>\n",
       "      <td>Conference/Paper/Proceeding/Abstract</td>\n",
       "      <td>Page KR</td>\n",
       "      <td>1483228800000</td>\n",
       "    </tr>\n",
       "    <tr>\n",
       "      <th>Transforming Musicology</th>\n",
       "      <td>Multi-modal Musical Performance Capture</td>\n",
       "      <td>Conference/Paper/Proceeding/Abstract</td>\n",
       "      <td>Mullensiefen D</td>\n",
       "      <td>1388534400000</td>\n",
       "    </tr>\n",
       "    <tr>\n",
       "      <th>Transforming Musicology</th>\n",
       "      <td>MEI for lute music</td>\n",
       "      <td>Conference/Paper/Proceeding/Abstract</td>\n",
       "      <td>Lewis D</td>\n",
       "      <td>1420070400000</td>\n",
       "    </tr>\n",
       "    <tr>\n",
       "      <th>Transforming Musicology</th>\n",
       "      <td>Detecting Metric Changes using Homogeneity Clu...</td>\n",
       "      <td>Conference/Paper/Proceeding/Abstract</td>\n",
       "      <td>E. Quinton</td>\n",
       "      <td>1483228800000</td>\n",
       "    </tr>\n",
       "    <tr>\n",
       "      <th>Digital Community Workspaces: Delivering Impact through Public Library and Archive networks</th>\n",
       "      <td>Pararchive and Island Stories: collaborative c...</td>\n",
       "      <td>Journal Article/Review</td>\n",
       "      <td>Duffy P</td>\n",
       "      <td>1483228800000</td>\n",
       "    </tr>\n",
       "    <tr>\n",
       "      <th>I Stood Up to Violence: Making it Public</th>\n",
       "      <td>I Stood Up: Social Design in Practice</td>\n",
       "      <td>Journal Article/Review</td>\n",
       "      <td>Corby T</td>\n",
       "      <td>1451606400000</td>\n",
       "    </tr>\n",
       "  </tbody>\n",
       "</table>\n",
       "<p>727 rows × 4 columns</p>\n",
       "</div>"
      ],
      "text/plain": [
       "                                                                                          Publication  \\\n",
       "ID                                                                                                      \n",
       "Building sustainability and informing policy: T...  Digital Co-production in Archaeology. An edito...   \n",
       "Building sustainability and informing policy: T...  Experiments in Crowd-funding Community Archaeo...   \n",
       "Building sustainability and informing policy: T...  Crowd- and community-fuelled archaeology. Earl...   \n",
       "Building sustainability and informing policy: T...  (Submitted) Evaluating Participants and Partic...   \n",
       "Building sustainability and informing policy: T...  Crowd-sourcing the British Bronze Age: Initial...   \n",
       "Building sustainability and informing policy: T...  Online Research Collaborations beyond the Academy   \n",
       "The Human Side of Digitized Knowledge: Communit...  Ethno-ornithology of the Mushere of Nigeria: C...   \n",
       "The Human Side of Digitized Knowledge: Communit...  &quot;Listen Carefully to the Voices of the Bi...   \n",
       "The Human Side of Digitized Knowledge: Communit...  Inter-governmental Platform on Biodiversity &a...   \n",
       "The Human Side of Digitized Knowledge: Communit...  The Human Factor: Ecological Salience in Ornit...   \n",
       "Latin(o) American Digital Art: Exhibitions and ...  &quot;Writing sprints&quot; can facilitate col...   \n",
       "Latin(o) American Digital Art: Exhibitions and ...                             Branding Latin America   \n",
       "Latin(o) American Digital Art: Exhibitions and ...  Using social media to curate digital artworks ...   \n",
       "Latin(o) American Digital Art: Exhibitions and ...  Marina Zerbarini's Tejido de memoria (Memory W...   \n",
       "Latin(o) American Digital Art: Exhibitions and ...  How activist artists on the US-Mexico border c...   \n",
       "Latin(o) American Digital Art: Exhibitions and ...  Latin(o) American Digital Art: Some Observatio...   \n",
       "Latin(o) American Digital Art: Exhibitions and ...                                 Cities in Dialogue   \n",
       "Latin(o) American Digital Art: Exhibitions and ...  Modern Languages and the Digital: The Shape of...   \n",
       "Latin(o) American Digital Art: Exhibitions and ...  Place and Politics in Latin American Digital C...   \n",
       "Latin American Cultural Production Online, from...                                 Cities in Dialogue   \n",
       "Latin American Cultural Production Online, from...  Place and Politics in Latin American Digital C...   \n",
       "Latin American Cultural Production Online, from...  Modern Languages and the Digital: The Shape of...   \n",
       "Optical Music Recognition from Multiple Sources     Improving optical music recognition by combini...   \n",
       "Weaving Codes - Coding Weaves                       Weaving as Binary Art and the Algebra of Patterns   \n",
       "Weaving Codes - Coding Weaves                              Introduction: Weaving Codes, Coding Weaves   \n",
       "Weaving Codes - Coding Weaves                                Textility of Code: A Catalogue of Errors   \n",
       "Weaving Codes - Coding Weaves                       Live Coding/Weaving: Penelopean Metis and the ...   \n",
       "Crowd- and Community-fuelled Archaeological Res...  Collective Re-Excavation and Lost Media from t...   \n",
       "Crowd- and Community-fuelled Archaeological Res...  MicroPasts. An innovative place for progressin...   \n",
       "Crowd- and Community-fuelled Archaeological Res...                                    The data deluge   \n",
       "...                                                                                               ...   \n",
       "Transforming Musicology                             An iterative hard thresholding approach to l0s...   \n",
       "Transforming Musicology                             Searching musical incipits by means of sequenc...   \n",
       "Transforming Musicology                             Proceedings of the 1st International Workshop ...   \n",
       "Transforming Musicology                             The psychology of leitmotive processing in Ric...   \n",
       "Transforming Musicology                             Musicology of Digital Libraries: structures in...   \n",
       "Transforming Musicology                             Musical texts and information retrieval: the c...   \n",
       "Transforming Musicology                             The ring buffer: Capturing musicology annotati...   \n",
       "Transforming Musicology                             Explorations in Linked Data practice for early...   \n",
       "Transforming Musicology                             Parsifal and the effect of narrative on uncons...   \n",
       "Transforming Musicology                              The Delius Catalogue of Works: A Progress Report   \n",
       "Transforming Musicology                             Numbers into Notes: Digital Prototyping as Clo...   \n",
       "Transforming Musicology                             Non-Negative Group Sparsity with Subspace Note...   \n",
       "Transforming Musicology                                Music encoding in context: MEI and Linked Data   \n",
       "Transforming Musicology                             Sparse NMF methods; applied to automatic music...   \n",
       "Transforming Musicology                             Improved Template-based chord recognition usin...   \n",
       "Transforming Musicology                             Capturing context and provenance of musicology...   \n",
       "Transforming Musicology                                                  Computational Music Analysis   \n",
       "Transforming Musicology                             The software of your dreams: expectations and ...   \n",
       "Transforming Musicology                             Early modern cover song detection: finding con...   \n",
       "Transforming Musicology                             Towards the identification of Irish traditiona...   \n",
       "Transforming Musicology                             Towards Incorporating Derived Features In Data...   \n",
       "Transforming Musicology                             Proceedings of the 2nd International Workshop ...   \n",
       "Transforming Musicology                             Non-negative Matrix Factorisation incorporatin...   \n",
       "Transforming Musicology                             Automated detection of single-note ornaments i...   \n",
       "Transforming Musicology                             Proceedings of the 4th International Workshop ...   \n",
       "Transforming Musicology                                       Multi-modal Musical Performance Capture   \n",
       "Transforming Musicology                                                            MEI for lute music   \n",
       "Transforming Musicology                             Detecting Metric Changes using Homogeneity Clu...   \n",
       "Digital Community Workspaces: Delivering Impact...  Pararchive and Island Stories: collaborative c...   \n",
       "I Stood Up to Violence: Making it Public                        I Stood Up: Social Design in Practice   \n",
       "\n",
       "                                                                                    Type  \\\n",
       "ID                                                                                         \n",
       "Building sustainability and informing policy: T...                Journal Article/Review   \n",
       "Building sustainability and informing policy: T...                Journal Article/Review   \n",
       "Building sustainability and informing policy: T...  Conference/Paper/Proceeding/Abstract   \n",
       "Building sustainability and informing policy: T...                Journal Article/Review   \n",
       "Building sustainability and informing policy: T...  Conference/Paper/Proceeding/Abstract   \n",
       "Building sustainability and informing policy: T...                     Systematic review   \n",
       "The Human Side of Digitized Knowledge: Communit...                Journal Article/Review   \n",
       "The Human Side of Digitized Knowledge: Communit...                Journal Article/Review   \n",
       "The Human Side of Digitized Knowledge: Communit...                          Book Chapter   \n",
       "The Human Side of Digitized Knowledge: Communit...                Journal Article/Review   \n",
       "Latin(o) American Digital Art: Exhibitions and ...                                 Other   \n",
       "Latin(o) American Digital Art: Exhibitions and ...                          Book Chapter   \n",
       "Latin(o) American Digital Art: Exhibitions and ...                                 Other   \n",
       "Latin(o) American Digital Art: Exhibitions and ...                                 Other   \n",
       "Latin(o) American Digital Art: Exhibitions and ...                                 Other   \n",
       "Latin(o) American Digital Art: Exhibitions and ...                Journal Article/Review   \n",
       "Latin(o) American Digital Art: Exhibitions and ...                                  Book   \n",
       "Latin(o) American Digital Art: Exhibitions and ...                Journal Article/Review   \n",
       "Latin(o) American Digital Art: Exhibitions and ...                                  Book   \n",
       "Latin American Cultural Production Online, from...                                  Book   \n",
       "Latin American Cultural Production Online, from...                                  Book   \n",
       "Latin American Cultural Production Online, from...                Journal Article/Review   \n",
       "Optical Music Recognition from Multiple Sources     Conference/Paper/Proceeding/Abstract   \n",
       "Weaving Codes - Coding Weaves                                     Journal Article/Review   \n",
       "Weaving Codes - Coding Weaves                                     Journal Article/Review   \n",
       "Weaving Codes - Coding Weaves                                     Journal Article/Review   \n",
       "Weaving Codes - Coding Weaves                       Conference/Paper/Proceeding/Abstract   \n",
       "Crowd- and Community-fuelled Archaeological Res...                Journal Article/Review   \n",
       "Crowd- and Community-fuelled Archaeological Res...                Journal Article/Review   \n",
       "Crowd- and Community-fuelled Archaeological Res...                Journal Article/Review   \n",
       "...                                                                                  ...   \n",
       "Transforming Musicology                             Conference/Paper/Proceeding/Abstract   \n",
       "Transforming Musicology                             Conference/Paper/Proceeding/Abstract   \n",
       "Transforming Musicology                             Conference/Paper/Proceeding/Abstract   \n",
       "Transforming Musicology                             Conference/Paper/Proceeding/Abstract   \n",
       "Transforming Musicology                             Conference/Paper/Proceeding/Abstract   \n",
       "Transforming Musicology                                           Journal Article/Review   \n",
       "Transforming Musicology                             Conference/Paper/Proceeding/Abstract   \n",
       "Transforming Musicology                             Conference/Paper/Proceeding/Abstract   \n",
       "Transforming Musicology                             Conference/Paper/Proceeding/Abstract   \n",
       "Transforming Musicology                             Conference/Paper/Proceeding/Abstract   \n",
       "Transforming Musicology                             Conference/Paper/Proceeding/Abstract   \n",
       "Transforming Musicology                                           Journal Article/Review   \n",
       "Transforming Musicology                             Conference/Paper/Proceeding/Abstract   \n",
       "Transforming Musicology                             Conference/Paper/Proceeding/Abstract   \n",
       "Transforming Musicology                             Conference/Paper/Proceeding/Abstract   \n",
       "Transforming Musicology                             Conference/Paper/Proceeding/Abstract   \n",
       "Transforming Musicology                                                     Book Chapter   \n",
       "Transforming Musicology                             Conference/Paper/Proceeding/Abstract   \n",
       "Transforming Musicology                             Conference/Paper/Proceeding/Abstract   \n",
       "Transforming Musicology                             Conference/Paper/Proceeding/Abstract   \n",
       "Transforming Musicology                             Conference/Paper/Proceeding/Abstract   \n",
       "Transforming Musicology                             Conference/Paper/Proceeding/Abstract   \n",
       "Transforming Musicology                             Conference/Paper/Proceeding/Abstract   \n",
       "Transforming Musicology                             Conference/Paper/Proceeding/Abstract   \n",
       "Transforming Musicology                             Conference/Paper/Proceeding/Abstract   \n",
       "Transforming Musicology                             Conference/Paper/Proceeding/Abstract   \n",
       "Transforming Musicology                             Conference/Paper/Proceeding/Abstract   \n",
       "Transforming Musicology                             Conference/Paper/Proceeding/Abstract   \n",
       "Digital Community Workspaces: Delivering Impact...                Journal Article/Review   \n",
       "I Stood Up to Violence: Making it Public                          Journal Article/Review   \n",
       "\n",
       "                                                                     Autor  \\\n",
       "ID                                                                           \n",
       "Building sustainability and informing policy: T...              Bonacchi C   \n",
       "Building sustainability and informing policy: T...              Bonacchi C   \n",
       "Building sustainability and informing policy: T...             Bonacchi, C   \n",
       "Building sustainability and informing policy: T...            Bonacchi, C.   \n",
       "Building sustainability and informing policy: T...               Wilkin,N.   \n",
       "Building sustainability and informing policy: T...         Chiara Bonacchi   \n",
       "The Human Side of Digitized Knowledge: Communit...                 Pam G B   \n",
       "The Human Side of Digitized Knowledge: Communit...             Wyndham F S   \n",
       "The Human Side of Digitized Knowledge: Communit...             Wyndham F S   \n",
       "The Human Side of Digitized Knowledge: Communit...                Gosler A   \n",
       "Latin(o) American Digital Art: Exhibitions and ...                Taylor C   \n",
       "Latin(o) American Digital Art: Exhibitions and ...                Taylor C   \n",
       "Latin(o) American Digital Art: Exhibitions and ...                Taylor C   \n",
       "Latin(o) American Digital Art: Exhibitions and ...                 Peate A   \n",
       "Latin(o) American Digital Art: Exhibitions and ...                Taylor C   \n",
       "Latin(o) American Digital Art: Exhibitions and ...                Taylor C   \n",
       "Latin(o) American Digital Art: Exhibitions and ...           Taylor Claire   \n",
       "Latin(o) American Digital Art: Exhibitions and ...                Taylor C   \n",
       "Latin(o) American Digital Art: Exhibitions and ...              Taylor, CL   \n",
       "Latin American Cultural Production Online, from...           Taylor Claire   \n",
       "Latin American Cultural Production Online, from...              Taylor, CL   \n",
       "Latin American Cultural Production Online, from...                Taylor C   \n",
       "Optical Music Recognition from Multiple Sources                 Padilla, V   \n",
       "Weaving Codes - Coding Weaves                            Harlizius-Klück E   \n",
       "Weaving Codes - Coding Weaves                                     McLean A   \n",
       "Weaving Codes - Coding Weaves                                  Griffiths D   \n",
       "Weaving Codes - Coding Weaves                                     Cocker E   \n",
       "Crowd- and Community-fuelled Archaeological Res...                Wexler J   \n",
       "Crowd- and Community-fuelled Archaeological Res...    Keinan-Schoonbaert A   \n",
       "Crowd- and Community-fuelled Archaeological Res...                 Bevan A   \n",
       "...                                                                    ...   \n",
       "Transforming Musicology                                        K. O'Hanlon   \n",
       "Transforming Musicology                                         Nuss J van   \n",
       "Transforming Musicology                                           Fields B   \n",
       "Transforming Musicology                                       Baker, David   \n",
       "Transforming Musicology                                            Lewis D   \n",
       "Transforming Musicology                                             Gale M   \n",
       "Transforming Musicology                             Nurmikko-Fuller, Terhi   \n",
       "Transforming Musicology                                         Crawford T   \n",
       "Transforming Musicology                                       Baker, David   \n",
       "Transforming Musicology                                       J. Bullivant   \n",
       "Transforming Musicology                                     David De Roure   \n",
       "Transforming Musicology                                         O'Hanlon K   \n",
       "Transforming Musicology                                      Page, Kevin R   \n",
       "Transforming Musicology                                        K. O'Hanlon   \n",
       "Transforming Musicology                                        K. O'Hanlon   \n",
       "Transforming Musicology                                            Lewis D   \n",
       "Transforming Musicology                                         Abdallah S   \n",
       "Transforming Musicology                                          Wiering F   \n",
       "Transforming Musicology                                         Crawford T   \n",
       "Transforming Musicology                              Ali-MacLachlan, Islah   \n",
       "Transforming Musicology                                 Catherine Blauvelt   \n",
       "Transforming Musicology                                           Fields B   \n",
       "Transforming Musicology                                        K. O'Hanlon   \n",
       "Transforming Musicology                                   Köküer, Münevver   \n",
       "Transforming Musicology                                            Page KR   \n",
       "Transforming Musicology                                     Mullensiefen D   \n",
       "Transforming Musicology                                            Lewis D   \n",
       "Transforming Musicology                                         E. Quinton   \n",
       "Digital Community Workspaces: Delivering Impact...                 Duffy P   \n",
       "I Stood Up to Violence: Making it Public                           Corby T   \n",
       "\n",
       "                                                             Link  \n",
       "ID                                                                 \n",
       "Building sustainability and informing policy: T...  1483228800000  \n",
       "Building sustainability and informing policy: T...  1420070400000  \n",
       "Building sustainability and informing policy: T...  1420070400000  \n",
       "Building sustainability and informing policy: T...                 \n",
       "Building sustainability and informing policy: T...  1420070400000  \n",
       "Building sustainability and informing policy: T...  1514764800000  \n",
       "The Human Side of Digitized Knowledge: Communit...                 \n",
       "The Human Side of Digitized Knowledge: Communit...                 \n",
       "The Human Side of Digitized Knowledge: Communit...                 \n",
       "The Human Side of Digitized Knowledge: Communit...  1483228800000  \n",
       "Latin(o) American Digital Art: Exhibitions and ...  1483228800000  \n",
       "Latin(o) American Digital Art: Exhibitions and ...  1514764800000  \n",
       "Latin(o) American Digital Art: Exhibitions and ...  1483228800000  \n",
       "Latin(o) American Digital Art: Exhibitions and ...  1483228800000  \n",
       "Latin(o) American Digital Art: Exhibitions and ...  1483228800000  \n",
       "Latin(o) American Digital Art: Exhibitions and ...  1451606400000  \n",
       "Latin(o) American Digital Art: Exhibitions and ...  1451606400000  \n",
       "Latin(o) American Digital Art: Exhibitions and ...  1483228800000  \n",
       "Latin(o) American Digital Art: Exhibitions and ...  1388534400000  \n",
       "Latin American Cultural Production Online, from...  1451606400000  \n",
       "Latin American Cultural Production Online, from...  1388534400000  \n",
       "Latin American Cultural Production Online, from...  1483228800000  \n",
       "Optical Music Recognition from Multiple Sources     1420070400000  \n",
       "Weaving Codes - Coding Weaves                       1483228800000  \n",
       "Weaving Codes - Coding Weaves                       1483228800000  \n",
       "Weaving Codes - Coding Weaves                       1483228800000  \n",
       "Weaving Codes - Coding Weaves                       1420070400000  \n",
       "Crowd- and Community-fuelled Archaeological Res...  1420070400000  \n",
       "Crowd- and Community-fuelled Archaeological Res...  1388534400000  \n",
       "Crowd- and Community-fuelled Archaeological Res...  1420070400000  \n",
       "...                                                           ...  \n",
       "Transforming Musicology                             1451606400000  \n",
       "Transforming Musicology                             1483228800000  \n",
       "Transforming Musicology                             1388534400000  \n",
       "Transforming Musicology                             1388534400000  \n",
       "Transforming Musicology                             1483228800000  \n",
       "Transforming Musicology                             1420070400000  \n",
       "Transforming Musicology                             1388534400000  \n",
       "Transforming Musicology                             1388534400000  \n",
       "Transforming Musicology                             1420070400000  \n",
       "Transforming Musicology                             1483228800000  \n",
       "Transforming Musicology                             1483228800000  \n",
       "Transforming Musicology                             1451606400000  \n",
       "Transforming Musicology                             1420070400000  \n",
       "Transforming Musicology                             1420070400000  \n",
       "Transforming Musicology                             1483228800000  \n",
       "Transforming Musicology                             1483228800000  \n",
       "Transforming Musicology                             1451606400000  \n",
       "Transforming Musicology                             1483228800000  \n",
       "Transforming Musicology                             1483228800000  \n",
       "Transforming Musicology                             1420070400000  \n",
       "Transforming Musicology                             1483228800000  \n",
       "Transforming Musicology                             1420070400000  \n",
       "Transforming Musicology                             1420070400000  \n",
       "Transforming Musicology                             1388534400000  \n",
       "Transforming Musicology                             1483228800000  \n",
       "Transforming Musicology                             1388534400000  \n",
       "Transforming Musicology                             1420070400000  \n",
       "Transforming Musicology                             1483228800000  \n",
       "Digital Community Workspaces: Delivering Impact...  1483228800000  \n",
       "I Stood Up to Violence: Making it Public            1451606400000  \n",
       "\n",
       "[727 rows x 4 columns]"
      ]
     },
     "execution_count": 97,
     "metadata": {},
     "output_type": "execute_result"
    }
   ],
   "source": [
    "df_publications"
   ]
  },
  {
   "cell_type": "code",
   "execution_count": 76,
   "metadata": {},
   "outputs": [
    {
     "data": {
      "text/html": [
       "<div>\n",
       "<style scoped>\n",
       "    .dataframe tbody tr th:only-of-type {\n",
       "        vertical-align: middle;\n",
       "    }\n",
       "\n",
       "    .dataframe tbody tr th {\n",
       "        vertical-align: top;\n",
       "    }\n",
       "\n",
       "    .dataframe thead th {\n",
       "        text-align: right;\n",
       "    }\n",
       "</style>\n",
       "<table border=\"1\" class=\"dataframe\">\n",
       "  <thead>\n",
       "    <tr style=\"text-align: right;\">\n",
       "      <th></th>\n",
       "      <th>Publication</th>\n",
       "      <th>Type</th>\n",
       "      <th>Autor</th>\n",
       "      <th>Link</th>\n",
       "    </tr>\n",
       "    <tr>\n",
       "      <th>ID</th>\n",
       "      <th></th>\n",
       "      <th></th>\n",
       "      <th></th>\n",
       "      <th></th>\n",
       "    </tr>\n",
       "  </thead>\n",
       "  <tbody>\n",
       "    <tr>\n",
       "      <th>Visualising European Crime Fiction: New Digital Tools and Approaches to the Study of Transnational Popular Culture</th>\n",
       "      <td>&amp;lt;&amp;lt; O romance e leitores populares (1830-...</td>\n",
       "      <td>Journal Article/Review</td>\n",
       "      <td>Loïc Artiaga</td>\n",
       "      <td>https://gtr.ukri.org:443/gtr/api/outcomes/publ...</td>\n",
       "    </tr>\n",
       "  </tbody>\n",
       "</table>\n",
       "</div>"
      ],
      "text/plain": [
       "                                                                                          Publication  \\\n",
       "ID                                                                                                      \n",
       "Visualising European Crime Fiction: New Digital...  &lt;&lt; O romance e leitores populares (1830-...   \n",
       "\n",
       "                                                                      Type  \\\n",
       "ID                                                                           \n",
       "Visualising European Crime Fiction: New Digital...  Journal Article/Review   \n",
       "\n",
       "                                                           Autor  \\\n",
       "ID                                                                 \n",
       "Visualising European Crime Fiction: New Digital...  Loïc Artiaga   \n",
       "\n",
       "                                                                                                 Link  \n",
       "ID                                                                                                     \n",
       "Visualising European Crime Fiction: New Digital...  https://gtr.ukri.org:443/gtr/api/outcomes/publ...  "
      ]
     },
     "execution_count": 76,
     "metadata": {},
     "output_type": "execute_result"
    }
   ],
   "source": [
    "df_publications[df_publications[\"Publication\"].str.contains(\"romance\")]"
   ]
  },
  {
   "cell_type": "code",
   "execution_count": 64,
   "metadata": {},
   "outputs": [],
   "source": [
    "df_publications.to_csv(\"pub.csv\", sep=\"§\")"
   ]
  },
  {
   "cell_type": "code",
   "execution_count": 43,
   "metadata": {},
   "outputs": [],
   "source": [
    "cols = [\"ID\", \"Reference\", \"Publication\"]\n",
    "publications_df = pd.DataFrame(columns=cols, index=range(727))\n",
    "\n",
    "counter = 0\n",
    "for project in li:\n",
    "    url = (urlgtr + '\"' + project + '\"' + \"&f=pro.gr\")\n",
    "    response = requests.get(url, headers=headers)\n",
    "    proginfo = json.loads(response.text)[\"project\"]\n",
    "    publication = []\n",
    "    for i in range (0, len(proginfo[0][\"links\"][\"link\"])):\n",
    "        if proginfo[0][\"links\"][\"link\"][i][\"rel\"] == \"PUBLICATION\":\n",
    "            publications_df.iloc[counter][0] = proginfo[0][\"id\"]\n",
    "            publications_df.iloc[counter][1] = project\n",
    "            publications_df.iloc[counter][2] = proginfo[0][\"links\"][\"link\"][i][\"href\"]\n",
    "            counter += 1"
   ]
  },
  {
   "cell_type": "code",
   "execution_count": 44,
   "metadata": {},
   "outputs": [
    {
     "data": {
      "text/html": [
       "<div>\n",
       "<style scoped>\n",
       "    .dataframe tbody tr th:only-of-type {\n",
       "        vertical-align: middle;\n",
       "    }\n",
       "\n",
       "    .dataframe tbody tr th {\n",
       "        vertical-align: top;\n",
       "    }\n",
       "\n",
       "    .dataframe thead th {\n",
       "        text-align: right;\n",
       "    }\n",
       "</style>\n",
       "<table border=\"1\" class=\"dataframe\">\n",
       "  <thead>\n",
       "    <tr style=\"text-align: right;\">\n",
       "      <th></th>\n",
       "      <th>ID</th>\n",
       "      <th>Reference</th>\n",
       "      <th>Publication</th>\n",
       "    </tr>\n",
       "  </thead>\n",
       "  <tbody>\n",
       "    <tr>\n",
       "      <th>0</th>\n",
       "      <td>BF3B84D7-4CBD-4A7E-A9DA-88098267C998</td>\n",
       "      <td>AH/M00953X/1</td>\n",
       "      <td>https://gtr.ukri.org:443/gtr/api/outcomes/publ...</td>\n",
       "    </tr>\n",
       "    <tr>\n",
       "      <th>1</th>\n",
       "      <td>BF3B84D7-4CBD-4A7E-A9DA-88098267C998</td>\n",
       "      <td>AH/M00953X/1</td>\n",
       "      <td>https://gtr.ukri.org:443/gtr/api/outcomes/publ...</td>\n",
       "    </tr>\n",
       "    <tr>\n",
       "      <th>2</th>\n",
       "      <td>BF3B84D7-4CBD-4A7E-A9DA-88098267C998</td>\n",
       "      <td>AH/M00953X/1</td>\n",
       "      <td>https://gtr.ukri.org:443/gtr/api/outcomes/publ...</td>\n",
       "    </tr>\n",
       "    <tr>\n",
       "      <th>3</th>\n",
       "      <td>BF3B84D7-4CBD-4A7E-A9DA-88098267C998</td>\n",
       "      <td>AH/M00953X/1</td>\n",
       "      <td>https://gtr.ukri.org:443/gtr/api/outcomes/publ...</td>\n",
       "    </tr>\n",
       "    <tr>\n",
       "      <th>4</th>\n",
       "      <td>BF3B84D7-4CBD-4A7E-A9DA-88098267C998</td>\n",
       "      <td>AH/M00953X/1</td>\n",
       "      <td>https://gtr.ukri.org:443/gtr/api/outcomes/publ...</td>\n",
       "    </tr>\n",
       "    <tr>\n",
       "      <th>5</th>\n",
       "      <td>BF3B84D7-4CBD-4A7E-A9DA-88098267C998</td>\n",
       "      <td>AH/M00953X/1</td>\n",
       "      <td>https://gtr.ukri.org:443/gtr/api/outcomes/publ...</td>\n",
       "    </tr>\n",
       "    <tr>\n",
       "      <th>6</th>\n",
       "      <td>26905938-5538-42DA-B039-1286285CD78B</td>\n",
       "      <td>AH/N006445/1</td>\n",
       "      <td>https://gtr.ukri.org:443/gtr/api/outcomes/publ...</td>\n",
       "    </tr>\n",
       "    <tr>\n",
       "      <th>7</th>\n",
       "      <td>26905938-5538-42DA-B039-1286285CD78B</td>\n",
       "      <td>AH/N006445/1</td>\n",
       "      <td>https://gtr.ukri.org:443/gtr/api/outcomes/publ...</td>\n",
       "    </tr>\n",
       "    <tr>\n",
       "      <th>8</th>\n",
       "      <td>26905938-5538-42DA-B039-1286285CD78B</td>\n",
       "      <td>AH/N006445/1</td>\n",
       "      <td>https://gtr.ukri.org:443/gtr/api/outcomes/publ...</td>\n",
       "    </tr>\n",
       "    <tr>\n",
       "      <th>9</th>\n",
       "      <td>26905938-5538-42DA-B039-1286285CD78B</td>\n",
       "      <td>AH/N006445/1</td>\n",
       "      <td>https://gtr.ukri.org:443/gtr/api/outcomes/publ...</td>\n",
       "    </tr>\n",
       "    <tr>\n",
       "      <th>10</th>\n",
       "      <td>E0424FD0-B510-49D0-B9B7-D598EA2B2EC6</td>\n",
       "      <td>AH/L012545/1</td>\n",
       "      <td>https://gtr.ukri.org:443/gtr/api/outcomes/publ...</td>\n",
       "    </tr>\n",
       "    <tr>\n",
       "      <th>11</th>\n",
       "      <td>E0424FD0-B510-49D0-B9B7-D598EA2B2EC6</td>\n",
       "      <td>AH/L012545/1</td>\n",
       "      <td>https://gtr.ukri.org:443/gtr/api/outcomes/publ...</td>\n",
       "    </tr>\n",
       "    <tr>\n",
       "      <th>12</th>\n",
       "      <td>E0424FD0-B510-49D0-B9B7-D598EA2B2EC6</td>\n",
       "      <td>AH/L012545/1</td>\n",
       "      <td>https://gtr.ukri.org:443/gtr/api/outcomes/publ...</td>\n",
       "    </tr>\n",
       "    <tr>\n",
       "      <th>13</th>\n",
       "      <td>E0424FD0-B510-49D0-B9B7-D598EA2B2EC6</td>\n",
       "      <td>AH/L012545/1</td>\n",
       "      <td>https://gtr.ukri.org:443/gtr/api/outcomes/publ...</td>\n",
       "    </tr>\n",
       "    <tr>\n",
       "      <th>14</th>\n",
       "      <td>E0424FD0-B510-49D0-B9B7-D598EA2B2EC6</td>\n",
       "      <td>AH/L012545/1</td>\n",
       "      <td>https://gtr.ukri.org:443/gtr/api/outcomes/publ...</td>\n",
       "    </tr>\n",
       "    <tr>\n",
       "      <th>15</th>\n",
       "      <td>E0424FD0-B510-49D0-B9B7-D598EA2B2EC6</td>\n",
       "      <td>AH/L012545/1</td>\n",
       "      <td>https://gtr.ukri.org:443/gtr/api/outcomes/publ...</td>\n",
       "    </tr>\n",
       "    <tr>\n",
       "      <th>16</th>\n",
       "      <td>E0424FD0-B510-49D0-B9B7-D598EA2B2EC6</td>\n",
       "      <td>AH/L012545/1</td>\n",
       "      <td>https://gtr.ukri.org:443/gtr/api/outcomes/publ...</td>\n",
       "    </tr>\n",
       "    <tr>\n",
       "      <th>17</th>\n",
       "      <td>E0424FD0-B510-49D0-B9B7-D598EA2B2EC6</td>\n",
       "      <td>AH/L012545/1</td>\n",
       "      <td>https://gtr.ukri.org:443/gtr/api/outcomes/publ...</td>\n",
       "    </tr>\n",
       "    <tr>\n",
       "      <th>18</th>\n",
       "      <td>E0424FD0-B510-49D0-B9B7-D598EA2B2EC6</td>\n",
       "      <td>AH/L012545/1</td>\n",
       "      <td>https://gtr.ukri.org:443/gtr/api/outcomes/publ...</td>\n",
       "    </tr>\n",
       "    <tr>\n",
       "      <th>19</th>\n",
       "      <td>D2D09E06-D5F1-474F-A8FB-8E4472D39438</td>\n",
       "      <td>AH/J008109/1</td>\n",
       "      <td>https://gtr.ukri.org:443/gtr/api/outcomes/publ...</td>\n",
       "    </tr>\n",
       "    <tr>\n",
       "      <th>20</th>\n",
       "      <td>D2D09E06-D5F1-474F-A8FB-8E4472D39438</td>\n",
       "      <td>AH/J008109/1</td>\n",
       "      <td>https://gtr.ukri.org:443/gtr/api/outcomes/publ...</td>\n",
       "    </tr>\n",
       "    <tr>\n",
       "      <th>21</th>\n",
       "      <td>D2D09E06-D5F1-474F-A8FB-8E4472D39438</td>\n",
       "      <td>AH/J008109/1</td>\n",
       "      <td>https://gtr.ukri.org:443/gtr/api/outcomes/publ...</td>\n",
       "    </tr>\n",
       "    <tr>\n",
       "      <th>22</th>\n",
       "      <td>D4A55F5E-807C-469D-BA4E-5075BDE3D050</td>\n",
       "      <td>AH/L009870/1</td>\n",
       "      <td>https://gtr.ukri.org:443/gtr/api/outcomes/publ...</td>\n",
       "    </tr>\n",
       "    <tr>\n",
       "      <th>23</th>\n",
       "      <td>D4E18A32-4326-4F7A-BCA3-8F520CC8D961</td>\n",
       "      <td>AH/M002403/1</td>\n",
       "      <td>https://gtr.ukri.org:443/gtr/api/outcomes/publ...</td>\n",
       "    </tr>\n",
       "    <tr>\n",
       "      <th>24</th>\n",
       "      <td>D4E18A32-4326-4F7A-BCA3-8F520CC8D961</td>\n",
       "      <td>AH/M002403/1</td>\n",
       "      <td>https://gtr.ukri.org:443/gtr/api/outcomes/publ...</td>\n",
       "    </tr>\n",
       "    <tr>\n",
       "      <th>25</th>\n",
       "      <td>D4E18A32-4326-4F7A-BCA3-8F520CC8D961</td>\n",
       "      <td>AH/M002403/1</td>\n",
       "      <td>https://gtr.ukri.org:443/gtr/api/outcomes/publ...</td>\n",
       "    </tr>\n",
       "    <tr>\n",
       "      <th>26</th>\n",
       "      <td>D4E18A32-4326-4F7A-BCA3-8F520CC8D961</td>\n",
       "      <td>AH/M002403/1</td>\n",
       "      <td>https://gtr.ukri.org:443/gtr/api/outcomes/publ...</td>\n",
       "    </tr>\n",
       "    <tr>\n",
       "      <th>27</th>\n",
       "      <td>01871809-44E0-4A6B-A9CF-B1E9046B53A4</td>\n",
       "      <td>AH/L007657/1</td>\n",
       "      <td>https://gtr.ukri.org:443/gtr/api/outcomes/publ...</td>\n",
       "    </tr>\n",
       "    <tr>\n",
       "      <th>28</th>\n",
       "      <td>01871809-44E0-4A6B-A9CF-B1E9046B53A4</td>\n",
       "      <td>AH/L007657/1</td>\n",
       "      <td>https://gtr.ukri.org:443/gtr/api/outcomes/publ...</td>\n",
       "    </tr>\n",
       "    <tr>\n",
       "      <th>29</th>\n",
       "      <td>01871809-44E0-4A6B-A9CF-B1E9046B53A4</td>\n",
       "      <td>AH/L007657/1</td>\n",
       "      <td>https://gtr.ukri.org:443/gtr/api/outcomes/publ...</td>\n",
       "    </tr>\n",
       "    <tr>\n",
       "      <th>...</th>\n",
       "      <td>...</td>\n",
       "      <td>...</td>\n",
       "      <td>...</td>\n",
       "    </tr>\n",
       "    <tr>\n",
       "      <th>697</th>\n",
       "      <td>14470C78-D34D-43EE-9791-707C985051A7</td>\n",
       "      <td>AH/L006820/1</td>\n",
       "      <td>https://gtr.ukri.org:443/gtr/api/outcomes/publ...</td>\n",
       "    </tr>\n",
       "    <tr>\n",
       "      <th>698</th>\n",
       "      <td>14470C78-D34D-43EE-9791-707C985051A7</td>\n",
       "      <td>AH/L006820/1</td>\n",
       "      <td>https://gtr.ukri.org:443/gtr/api/outcomes/publ...</td>\n",
       "    </tr>\n",
       "    <tr>\n",
       "      <th>699</th>\n",
       "      <td>14470C78-D34D-43EE-9791-707C985051A7</td>\n",
       "      <td>AH/L006820/1</td>\n",
       "      <td>https://gtr.ukri.org:443/gtr/api/outcomes/publ...</td>\n",
       "    </tr>\n",
       "    <tr>\n",
       "      <th>700</th>\n",
       "      <td>14470C78-D34D-43EE-9791-707C985051A7</td>\n",
       "      <td>AH/L006820/1</td>\n",
       "      <td>https://gtr.ukri.org:443/gtr/api/outcomes/publ...</td>\n",
       "    </tr>\n",
       "    <tr>\n",
       "      <th>701</th>\n",
       "      <td>14470C78-D34D-43EE-9791-707C985051A7</td>\n",
       "      <td>AH/L006820/1</td>\n",
       "      <td>https://gtr.ukri.org:443/gtr/api/outcomes/publ...</td>\n",
       "    </tr>\n",
       "    <tr>\n",
       "      <th>702</th>\n",
       "      <td>14470C78-D34D-43EE-9791-707C985051A7</td>\n",
       "      <td>AH/L006820/1</td>\n",
       "      <td>https://gtr.ukri.org:443/gtr/api/outcomes/publ...</td>\n",
       "    </tr>\n",
       "    <tr>\n",
       "      <th>703</th>\n",
       "      <td>14470C78-D34D-43EE-9791-707C985051A7</td>\n",
       "      <td>AH/L006820/1</td>\n",
       "      <td>https://gtr.ukri.org:443/gtr/api/outcomes/publ...</td>\n",
       "    </tr>\n",
       "    <tr>\n",
       "      <th>704</th>\n",
       "      <td>14470C78-D34D-43EE-9791-707C985051A7</td>\n",
       "      <td>AH/L006820/1</td>\n",
       "      <td>https://gtr.ukri.org:443/gtr/api/outcomes/publ...</td>\n",
       "    </tr>\n",
       "    <tr>\n",
       "      <th>705</th>\n",
       "      <td>14470C78-D34D-43EE-9791-707C985051A7</td>\n",
       "      <td>AH/L006820/1</td>\n",
       "      <td>https://gtr.ukri.org:443/gtr/api/outcomes/publ...</td>\n",
       "    </tr>\n",
       "    <tr>\n",
       "      <th>706</th>\n",
       "      <td>14470C78-D34D-43EE-9791-707C985051A7</td>\n",
       "      <td>AH/L006820/1</td>\n",
       "      <td>https://gtr.ukri.org:443/gtr/api/outcomes/publ...</td>\n",
       "    </tr>\n",
       "    <tr>\n",
       "      <th>707</th>\n",
       "      <td>14470C78-D34D-43EE-9791-707C985051A7</td>\n",
       "      <td>AH/L006820/1</td>\n",
       "      <td>https://gtr.ukri.org:443/gtr/api/outcomes/publ...</td>\n",
       "    </tr>\n",
       "    <tr>\n",
       "      <th>708</th>\n",
       "      <td>14470C78-D34D-43EE-9791-707C985051A7</td>\n",
       "      <td>AH/L006820/1</td>\n",
       "      <td>https://gtr.ukri.org:443/gtr/api/outcomes/publ...</td>\n",
       "    </tr>\n",
       "    <tr>\n",
       "      <th>709</th>\n",
       "      <td>14470C78-D34D-43EE-9791-707C985051A7</td>\n",
       "      <td>AH/L006820/1</td>\n",
       "      <td>https://gtr.ukri.org:443/gtr/api/outcomes/publ...</td>\n",
       "    </tr>\n",
       "    <tr>\n",
       "      <th>710</th>\n",
       "      <td>14470C78-D34D-43EE-9791-707C985051A7</td>\n",
       "      <td>AH/L006820/1</td>\n",
       "      <td>https://gtr.ukri.org:443/gtr/api/outcomes/publ...</td>\n",
       "    </tr>\n",
       "    <tr>\n",
       "      <th>711</th>\n",
       "      <td>14470C78-D34D-43EE-9791-707C985051A7</td>\n",
       "      <td>AH/L006820/1</td>\n",
       "      <td>https://gtr.ukri.org:443/gtr/api/outcomes/publ...</td>\n",
       "    </tr>\n",
       "    <tr>\n",
       "      <th>712</th>\n",
       "      <td>14470C78-D34D-43EE-9791-707C985051A7</td>\n",
       "      <td>AH/L006820/1</td>\n",
       "      <td>https://gtr.ukri.org:443/gtr/api/outcomes/publ...</td>\n",
       "    </tr>\n",
       "    <tr>\n",
       "      <th>713</th>\n",
       "      <td>14470C78-D34D-43EE-9791-707C985051A7</td>\n",
       "      <td>AH/L006820/1</td>\n",
       "      <td>https://gtr.ukri.org:443/gtr/api/outcomes/publ...</td>\n",
       "    </tr>\n",
       "    <tr>\n",
       "      <th>714</th>\n",
       "      <td>14470C78-D34D-43EE-9791-707C985051A7</td>\n",
       "      <td>AH/L006820/1</td>\n",
       "      <td>https://gtr.ukri.org:443/gtr/api/outcomes/publ...</td>\n",
       "    </tr>\n",
       "    <tr>\n",
       "      <th>715</th>\n",
       "      <td>14470C78-D34D-43EE-9791-707C985051A7</td>\n",
       "      <td>AH/L006820/1</td>\n",
       "      <td>https://gtr.ukri.org:443/gtr/api/outcomes/publ...</td>\n",
       "    </tr>\n",
       "    <tr>\n",
       "      <th>716</th>\n",
       "      <td>14470C78-D34D-43EE-9791-707C985051A7</td>\n",
       "      <td>AH/L006820/1</td>\n",
       "      <td>https://gtr.ukri.org:443/gtr/api/outcomes/publ...</td>\n",
       "    </tr>\n",
       "    <tr>\n",
       "      <th>717</th>\n",
       "      <td>14470C78-D34D-43EE-9791-707C985051A7</td>\n",
       "      <td>AH/L006820/1</td>\n",
       "      <td>https://gtr.ukri.org:443/gtr/api/outcomes/publ...</td>\n",
       "    </tr>\n",
       "    <tr>\n",
       "      <th>718</th>\n",
       "      <td>14470C78-D34D-43EE-9791-707C985051A7</td>\n",
       "      <td>AH/L006820/1</td>\n",
       "      <td>https://gtr.ukri.org:443/gtr/api/outcomes/publ...</td>\n",
       "    </tr>\n",
       "    <tr>\n",
       "      <th>719</th>\n",
       "      <td>14470C78-D34D-43EE-9791-707C985051A7</td>\n",
       "      <td>AH/L006820/1</td>\n",
       "      <td>https://gtr.ukri.org:443/gtr/api/outcomes/publ...</td>\n",
       "    </tr>\n",
       "    <tr>\n",
       "      <th>720</th>\n",
       "      <td>14470C78-D34D-43EE-9791-707C985051A7</td>\n",
       "      <td>AH/L006820/1</td>\n",
       "      <td>https://gtr.ukri.org:443/gtr/api/outcomes/publ...</td>\n",
       "    </tr>\n",
       "    <tr>\n",
       "      <th>721</th>\n",
       "      <td>14470C78-D34D-43EE-9791-707C985051A7</td>\n",
       "      <td>AH/L006820/1</td>\n",
       "      <td>https://gtr.ukri.org:443/gtr/api/outcomes/publ...</td>\n",
       "    </tr>\n",
       "    <tr>\n",
       "      <th>722</th>\n",
       "      <td>14470C78-D34D-43EE-9791-707C985051A7</td>\n",
       "      <td>AH/L006820/1</td>\n",
       "      <td>https://gtr.ukri.org:443/gtr/api/outcomes/publ...</td>\n",
       "    </tr>\n",
       "    <tr>\n",
       "      <th>723</th>\n",
       "      <td>14470C78-D34D-43EE-9791-707C985051A7</td>\n",
       "      <td>AH/L006820/1</td>\n",
       "      <td>https://gtr.ukri.org:443/gtr/api/outcomes/publ...</td>\n",
       "    </tr>\n",
       "    <tr>\n",
       "      <th>724</th>\n",
       "      <td>14470C78-D34D-43EE-9791-707C985051A7</td>\n",
       "      <td>AH/L006820/1</td>\n",
       "      <td>https://gtr.ukri.org:443/gtr/api/outcomes/publ...</td>\n",
       "    </tr>\n",
       "    <tr>\n",
       "      <th>725</th>\n",
       "      <td>BCF0E43F-BCDF-426D-8C98-A17F64A304FC</td>\n",
       "      <td>AH/P005918/1</td>\n",
       "      <td>https://gtr.ukri.org:443/gtr/api/outcomes/publ...</td>\n",
       "    </tr>\n",
       "    <tr>\n",
       "      <th>726</th>\n",
       "      <td>C16AD3CB-4BC4-4138-9038-32639D9298FB</td>\n",
       "      <td>AH/M005623/1</td>\n",
       "      <td>https://gtr.ukri.org:443/gtr/api/outcomes/publ...</td>\n",
       "    </tr>\n",
       "  </tbody>\n",
       "</table>\n",
       "<p>727 rows × 3 columns</p>\n",
       "</div>"
      ],
      "text/plain": [
       "                                       ID     Reference  \\\n",
       "0    BF3B84D7-4CBD-4A7E-A9DA-88098267C998  AH/M00953X/1   \n",
       "1    BF3B84D7-4CBD-4A7E-A9DA-88098267C998  AH/M00953X/1   \n",
       "2    BF3B84D7-4CBD-4A7E-A9DA-88098267C998  AH/M00953X/1   \n",
       "3    BF3B84D7-4CBD-4A7E-A9DA-88098267C998  AH/M00953X/1   \n",
       "4    BF3B84D7-4CBD-4A7E-A9DA-88098267C998  AH/M00953X/1   \n",
       "5    BF3B84D7-4CBD-4A7E-A9DA-88098267C998  AH/M00953X/1   \n",
       "6    26905938-5538-42DA-B039-1286285CD78B  AH/N006445/1   \n",
       "7    26905938-5538-42DA-B039-1286285CD78B  AH/N006445/1   \n",
       "8    26905938-5538-42DA-B039-1286285CD78B  AH/N006445/1   \n",
       "9    26905938-5538-42DA-B039-1286285CD78B  AH/N006445/1   \n",
       "10   E0424FD0-B510-49D0-B9B7-D598EA2B2EC6  AH/L012545/1   \n",
       "11   E0424FD0-B510-49D0-B9B7-D598EA2B2EC6  AH/L012545/1   \n",
       "12   E0424FD0-B510-49D0-B9B7-D598EA2B2EC6  AH/L012545/1   \n",
       "13   E0424FD0-B510-49D0-B9B7-D598EA2B2EC6  AH/L012545/1   \n",
       "14   E0424FD0-B510-49D0-B9B7-D598EA2B2EC6  AH/L012545/1   \n",
       "15   E0424FD0-B510-49D0-B9B7-D598EA2B2EC6  AH/L012545/1   \n",
       "16   E0424FD0-B510-49D0-B9B7-D598EA2B2EC6  AH/L012545/1   \n",
       "17   E0424FD0-B510-49D0-B9B7-D598EA2B2EC6  AH/L012545/1   \n",
       "18   E0424FD0-B510-49D0-B9B7-D598EA2B2EC6  AH/L012545/1   \n",
       "19   D2D09E06-D5F1-474F-A8FB-8E4472D39438  AH/J008109/1   \n",
       "20   D2D09E06-D5F1-474F-A8FB-8E4472D39438  AH/J008109/1   \n",
       "21   D2D09E06-D5F1-474F-A8FB-8E4472D39438  AH/J008109/1   \n",
       "22   D4A55F5E-807C-469D-BA4E-5075BDE3D050  AH/L009870/1   \n",
       "23   D4E18A32-4326-4F7A-BCA3-8F520CC8D961  AH/M002403/1   \n",
       "24   D4E18A32-4326-4F7A-BCA3-8F520CC8D961  AH/M002403/1   \n",
       "25   D4E18A32-4326-4F7A-BCA3-8F520CC8D961  AH/M002403/1   \n",
       "26   D4E18A32-4326-4F7A-BCA3-8F520CC8D961  AH/M002403/1   \n",
       "27   01871809-44E0-4A6B-A9CF-B1E9046B53A4  AH/L007657/1   \n",
       "28   01871809-44E0-4A6B-A9CF-B1E9046B53A4  AH/L007657/1   \n",
       "29   01871809-44E0-4A6B-A9CF-B1E9046B53A4  AH/L007657/1   \n",
       "..                                    ...           ...   \n",
       "697  14470C78-D34D-43EE-9791-707C985051A7  AH/L006820/1   \n",
       "698  14470C78-D34D-43EE-9791-707C985051A7  AH/L006820/1   \n",
       "699  14470C78-D34D-43EE-9791-707C985051A7  AH/L006820/1   \n",
       "700  14470C78-D34D-43EE-9791-707C985051A7  AH/L006820/1   \n",
       "701  14470C78-D34D-43EE-9791-707C985051A7  AH/L006820/1   \n",
       "702  14470C78-D34D-43EE-9791-707C985051A7  AH/L006820/1   \n",
       "703  14470C78-D34D-43EE-9791-707C985051A7  AH/L006820/1   \n",
       "704  14470C78-D34D-43EE-9791-707C985051A7  AH/L006820/1   \n",
       "705  14470C78-D34D-43EE-9791-707C985051A7  AH/L006820/1   \n",
       "706  14470C78-D34D-43EE-9791-707C985051A7  AH/L006820/1   \n",
       "707  14470C78-D34D-43EE-9791-707C985051A7  AH/L006820/1   \n",
       "708  14470C78-D34D-43EE-9791-707C985051A7  AH/L006820/1   \n",
       "709  14470C78-D34D-43EE-9791-707C985051A7  AH/L006820/1   \n",
       "710  14470C78-D34D-43EE-9791-707C985051A7  AH/L006820/1   \n",
       "711  14470C78-D34D-43EE-9791-707C985051A7  AH/L006820/1   \n",
       "712  14470C78-D34D-43EE-9791-707C985051A7  AH/L006820/1   \n",
       "713  14470C78-D34D-43EE-9791-707C985051A7  AH/L006820/1   \n",
       "714  14470C78-D34D-43EE-9791-707C985051A7  AH/L006820/1   \n",
       "715  14470C78-D34D-43EE-9791-707C985051A7  AH/L006820/1   \n",
       "716  14470C78-D34D-43EE-9791-707C985051A7  AH/L006820/1   \n",
       "717  14470C78-D34D-43EE-9791-707C985051A7  AH/L006820/1   \n",
       "718  14470C78-D34D-43EE-9791-707C985051A7  AH/L006820/1   \n",
       "719  14470C78-D34D-43EE-9791-707C985051A7  AH/L006820/1   \n",
       "720  14470C78-D34D-43EE-9791-707C985051A7  AH/L006820/1   \n",
       "721  14470C78-D34D-43EE-9791-707C985051A7  AH/L006820/1   \n",
       "722  14470C78-D34D-43EE-9791-707C985051A7  AH/L006820/1   \n",
       "723  14470C78-D34D-43EE-9791-707C985051A7  AH/L006820/1   \n",
       "724  14470C78-D34D-43EE-9791-707C985051A7  AH/L006820/1   \n",
       "725  BCF0E43F-BCDF-426D-8C98-A17F64A304FC  AH/P005918/1   \n",
       "726  C16AD3CB-4BC4-4138-9038-32639D9298FB  AH/M005623/1   \n",
       "\n",
       "                                           Publication  \n",
       "0    https://gtr.ukri.org:443/gtr/api/outcomes/publ...  \n",
       "1    https://gtr.ukri.org:443/gtr/api/outcomes/publ...  \n",
       "2    https://gtr.ukri.org:443/gtr/api/outcomes/publ...  \n",
       "3    https://gtr.ukri.org:443/gtr/api/outcomes/publ...  \n",
       "4    https://gtr.ukri.org:443/gtr/api/outcomes/publ...  \n",
       "5    https://gtr.ukri.org:443/gtr/api/outcomes/publ...  \n",
       "6    https://gtr.ukri.org:443/gtr/api/outcomes/publ...  \n",
       "7    https://gtr.ukri.org:443/gtr/api/outcomes/publ...  \n",
       "8    https://gtr.ukri.org:443/gtr/api/outcomes/publ...  \n",
       "9    https://gtr.ukri.org:443/gtr/api/outcomes/publ...  \n",
       "10   https://gtr.ukri.org:443/gtr/api/outcomes/publ...  \n",
       "11   https://gtr.ukri.org:443/gtr/api/outcomes/publ...  \n",
       "12   https://gtr.ukri.org:443/gtr/api/outcomes/publ...  \n",
       "13   https://gtr.ukri.org:443/gtr/api/outcomes/publ...  \n",
       "14   https://gtr.ukri.org:443/gtr/api/outcomes/publ...  \n",
       "15   https://gtr.ukri.org:443/gtr/api/outcomes/publ...  \n",
       "16   https://gtr.ukri.org:443/gtr/api/outcomes/publ...  \n",
       "17   https://gtr.ukri.org:443/gtr/api/outcomes/publ...  \n",
       "18   https://gtr.ukri.org:443/gtr/api/outcomes/publ...  \n",
       "19   https://gtr.ukri.org:443/gtr/api/outcomes/publ...  \n",
       "20   https://gtr.ukri.org:443/gtr/api/outcomes/publ...  \n",
       "21   https://gtr.ukri.org:443/gtr/api/outcomes/publ...  \n",
       "22   https://gtr.ukri.org:443/gtr/api/outcomes/publ...  \n",
       "23   https://gtr.ukri.org:443/gtr/api/outcomes/publ...  \n",
       "24   https://gtr.ukri.org:443/gtr/api/outcomes/publ...  \n",
       "25   https://gtr.ukri.org:443/gtr/api/outcomes/publ...  \n",
       "26   https://gtr.ukri.org:443/gtr/api/outcomes/publ...  \n",
       "27   https://gtr.ukri.org:443/gtr/api/outcomes/publ...  \n",
       "28   https://gtr.ukri.org:443/gtr/api/outcomes/publ...  \n",
       "29   https://gtr.ukri.org:443/gtr/api/outcomes/publ...  \n",
       "..                                                 ...  \n",
       "697  https://gtr.ukri.org:443/gtr/api/outcomes/publ...  \n",
       "698  https://gtr.ukri.org:443/gtr/api/outcomes/publ...  \n",
       "699  https://gtr.ukri.org:443/gtr/api/outcomes/publ...  \n",
       "700  https://gtr.ukri.org:443/gtr/api/outcomes/publ...  \n",
       "701  https://gtr.ukri.org:443/gtr/api/outcomes/publ...  \n",
       "702  https://gtr.ukri.org:443/gtr/api/outcomes/publ...  \n",
       "703  https://gtr.ukri.org:443/gtr/api/outcomes/publ...  \n",
       "704  https://gtr.ukri.org:443/gtr/api/outcomes/publ...  \n",
       "705  https://gtr.ukri.org:443/gtr/api/outcomes/publ...  \n",
       "706  https://gtr.ukri.org:443/gtr/api/outcomes/publ...  \n",
       "707  https://gtr.ukri.org:443/gtr/api/outcomes/publ...  \n",
       "708  https://gtr.ukri.org:443/gtr/api/outcomes/publ...  \n",
       "709  https://gtr.ukri.org:443/gtr/api/outcomes/publ...  \n",
       "710  https://gtr.ukri.org:443/gtr/api/outcomes/publ...  \n",
       "711  https://gtr.ukri.org:443/gtr/api/outcomes/publ...  \n",
       "712  https://gtr.ukri.org:443/gtr/api/outcomes/publ...  \n",
       "713  https://gtr.ukri.org:443/gtr/api/outcomes/publ...  \n",
       "714  https://gtr.ukri.org:443/gtr/api/outcomes/publ...  \n",
       "715  https://gtr.ukri.org:443/gtr/api/outcomes/publ...  \n",
       "716  https://gtr.ukri.org:443/gtr/api/outcomes/publ...  \n",
       "717  https://gtr.ukri.org:443/gtr/api/outcomes/publ...  \n",
       "718  https://gtr.ukri.org:443/gtr/api/outcomes/publ...  \n",
       "719  https://gtr.ukri.org:443/gtr/api/outcomes/publ...  \n",
       "720  https://gtr.ukri.org:443/gtr/api/outcomes/publ...  \n",
       "721  https://gtr.ukri.org:443/gtr/api/outcomes/publ...  \n",
       "722  https://gtr.ukri.org:443/gtr/api/outcomes/publ...  \n",
       "723  https://gtr.ukri.org:443/gtr/api/outcomes/publ...  \n",
       "724  https://gtr.ukri.org:443/gtr/api/outcomes/publ...  \n",
       "725  https://gtr.ukri.org:443/gtr/api/outcomes/publ...  \n",
       "726  https://gtr.ukri.org:443/gtr/api/outcomes/publ...  \n",
       "\n",
       "[727 rows x 3 columns]"
      ]
     },
     "execution_count": 44,
     "metadata": {},
     "output_type": "execute_result"
    }
   ],
   "source": [
    "#publications_df.dropna()\n",
    "publications_df"
   ]
  },
  {
   "cell_type": "code",
   "execution_count": null,
   "metadata": {},
   "outputs": [],
   "source": []
  },
  {
   "cell_type": "code",
   "execution_count": null,
   "metadata": {},
   "outputs": [],
   "source": []
  },
  {
   "cell_type": "code",
   "execution_count": null,
   "metadata": {},
   "outputs": [],
   "source": []
  },
  {
   "cell_type": "code",
   "execution_count": null,
   "metadata": {},
   "outputs": [],
   "source": []
  },
  {
   "cell_type": "markdown",
   "metadata": {},
   "source": [
    "## Research topics as per gtruk classification"
   ]
  },
  {
   "cell_type": "code",
   "execution_count": 15,
   "metadata": {},
   "outputs": [],
   "source": [
    "cols = [\"Reference\", \"R_topics\"]\n",
    "r_topics_df = pd.DataFrame(columns=cols, index=range(392))\n",
    "\n",
    "counter = 0\n",
    "for project in li:\n",
    "    url = (urlgtr + '\"' + project + '\"' + \"&f=pro.gr\")\n",
    "    response = requests.get(url, headers=headers)\n",
    "    proginfo = json.loads(response.text)[\"project\"]\n",
    "    topic = []\n",
    "    for i in range (0, len(proginfo[0][\"researchTopics\"][\"researchTopic\"])):\n",
    "        r_topics_df.iloc[counter][0] = project\n",
    "        r_topics_df.iloc[counter][1] = proginfo[0][\"researchTopics\"][\"researchTopic\"][i][\"text\"]\n",
    "        counter += 1"
   ]
  },
  {
   "cell_type": "code",
   "execution_count": 16,
   "metadata": {},
   "outputs": [
    {
     "data": {
      "text/html": [
       "<div>\n",
       "<style scoped>\n",
       "    .dataframe tbody tr th:only-of-type {\n",
       "        vertical-align: middle;\n",
       "    }\n",
       "\n",
       "    .dataframe tbody tr th {\n",
       "        vertical-align: top;\n",
       "    }\n",
       "\n",
       "    .dataframe thead th {\n",
       "        text-align: right;\n",
       "    }\n",
       "</style>\n",
       "<table border=\"1\" class=\"dataframe\">\n",
       "  <thead>\n",
       "    <tr style=\"text-align: right;\">\n",
       "      <th></th>\n",
       "      <th>Reference</th>\n",
       "      <th>R_topics</th>\n",
       "    </tr>\n",
       "  </thead>\n",
       "  <tbody>\n",
       "    <tr>\n",
       "      <th>0</th>\n",
       "      <td>AH/M00953X/1</td>\n",
       "      <td>Heritage Management</td>\n",
       "    </tr>\n",
       "    <tr>\n",
       "      <th>1</th>\n",
       "      <td>AH/M00953X/1</td>\n",
       "      <td>Information &amp; Knowledge Mgmt</td>\n",
       "    </tr>\n",
       "    <tr>\n",
       "      <th>2</th>\n",
       "      <td>AH/M00953X/1</td>\n",
       "      <td>Science-Based Archaeology</td>\n",
       "    </tr>\n",
       "    <tr>\n",
       "      <th>3</th>\n",
       "      <td>AH/L503563/1</td>\n",
       "      <td>Unclassified</td>\n",
       "    </tr>\n",
       "    <tr>\n",
       "      <th>4</th>\n",
       "      <td>AH/N006445/1</td>\n",
       "      <td>Linguistics (General)</td>\n",
       "    </tr>\n",
       "    <tr>\n",
       "      <th>5</th>\n",
       "      <td>AH/N006445/1</td>\n",
       "      <td>Cultural and Anthrop Geography</td>\n",
       "    </tr>\n",
       "    <tr>\n",
       "      <th>6</th>\n",
       "      <td>AH/N006445/1</td>\n",
       "      <td>Environment</td>\n",
       "    </tr>\n",
       "    <tr>\n",
       "      <th>7</th>\n",
       "      <td>AH/N006445/1</td>\n",
       "      <td>Cultural Studies</td>\n",
       "    </tr>\n",
       "    <tr>\n",
       "      <th>8</th>\n",
       "      <td>AH/N006445/1</td>\n",
       "      <td>Conservation Ecology</td>\n",
       "    </tr>\n",
       "    <tr>\n",
       "      <th>9</th>\n",
       "      <td>AH/L012545/1</td>\n",
       "      <td>Cultural Studies &amp; Pop Culture</td>\n",
       "    </tr>\n",
       "    <tr>\n",
       "      <th>10</th>\n",
       "      <td>AH/L012545/1</td>\n",
       "      <td>Digital Arts HTP</td>\n",
       "    </tr>\n",
       "    <tr>\n",
       "      <th>11</th>\n",
       "      <td>AH/L012545/1</td>\n",
       "      <td>Hispanic, Portguese &amp; Latin</td>\n",
       "    </tr>\n",
       "    <tr>\n",
       "      <th>12</th>\n",
       "      <td>AH/L012545/1</td>\n",
       "      <td>Multimedia</td>\n",
       "    </tr>\n",
       "    <tr>\n",
       "      <th>13</th>\n",
       "      <td>AH/J008109/1</td>\n",
       "      <td>Digital Arts HTP</td>\n",
       "    </tr>\n",
       "    <tr>\n",
       "      <th>14</th>\n",
       "      <td>AH/J008109/1</td>\n",
       "      <td>Hispanic, Portguese &amp; Latin</td>\n",
       "    </tr>\n",
       "    <tr>\n",
       "      <th>15</th>\n",
       "      <td>AH/J008109/1</td>\n",
       "      <td>Cultural Studies &amp; Pop Culture</td>\n",
       "    </tr>\n",
       "    <tr>\n",
       "      <th>16</th>\n",
       "      <td>AH/J008109/1</td>\n",
       "      <td>Multimedia</td>\n",
       "    </tr>\n",
       "    <tr>\n",
       "      <th>17</th>\n",
       "      <td>AH/P013139/1</td>\n",
       "      <td>English Language &amp; Literature</td>\n",
       "    </tr>\n",
       "    <tr>\n",
       "      <th>18</th>\n",
       "      <td>AH/L009870/1</td>\n",
       "      <td>Musicology</td>\n",
       "    </tr>\n",
       "    <tr>\n",
       "      <th>19</th>\n",
       "      <td>AH/L009870/1</td>\n",
       "      <td>Classical Music</td>\n",
       "    </tr>\n",
       "  </tbody>\n",
       "</table>\n",
       "</div>"
      ],
      "text/plain": [
       "       Reference                        R_topics\n",
       "0   AH/M00953X/1             Heritage Management\n",
       "1   AH/M00953X/1    Information & Knowledge Mgmt\n",
       "2   AH/M00953X/1       Science-Based Archaeology\n",
       "3   AH/L503563/1                    Unclassified\n",
       "4   AH/N006445/1           Linguistics (General)\n",
       "5   AH/N006445/1  Cultural and Anthrop Geography\n",
       "6   AH/N006445/1                     Environment\n",
       "7   AH/N006445/1                Cultural Studies\n",
       "8   AH/N006445/1            Conservation Ecology\n",
       "9   AH/L012545/1  Cultural Studies & Pop Culture\n",
       "10  AH/L012545/1                Digital Arts HTP\n",
       "11  AH/L012545/1     Hispanic, Portguese & Latin\n",
       "12  AH/L012545/1                      Multimedia\n",
       "13  AH/J008109/1                Digital Arts HTP\n",
       "14  AH/J008109/1     Hispanic, Portguese & Latin\n",
       "15  AH/J008109/1  Cultural Studies & Pop Culture\n",
       "16  AH/J008109/1                      Multimedia\n",
       "17  AH/P013139/1   English Language & Literature\n",
       "18  AH/L009870/1                      Musicology\n",
       "19  AH/L009870/1                 Classical Music"
      ]
     },
     "execution_count": 16,
     "metadata": {},
     "output_type": "execute_result"
    }
   ],
   "source": [
    "# Drop the NaN\n",
    "# r_topics_df.dropna()\n",
    "r_topics_df.head(20)"
   ]
  },
  {
   "cell_type": "code",
   "execution_count": 17,
   "metadata": {},
   "outputs": [
    {
     "name": "stdout",
     "output_type": "stream",
     "text": [
      "Information & Knowledge Mgmt      21\n",
      "New Media/Web-Based Studies       17\n",
      "Digital Arts HTP                  13\n",
      "Human-Computer Interactions       12\n",
      "Cultural History                  11\n",
      "Multimedia                        10\n",
      "Musicology                         9\n",
      "Archives                           9\n",
      "Heritage Management                9\n",
      "English Language & Literature      9\n",
      "Economic & Social History          9\n",
      "Digital Art & Design               9\n",
      "Music & Acoustic Technology        9\n",
      "Design Processes                   8\n",
      "Musical Performance                8\n",
      "Computer Graphics & Visual.        7\n",
      "Cultural Studies & Pop Culture     7\n",
      "Classical Music                    6\n",
      "Media & Communication Studies      6\n",
      "Education                          6\n",
      "Popular Music                      5\n",
      "Film-based media (H, T & P)        5\n",
      "Community Art inc A & H            5\n",
      "Unclassified                       5\n",
      "Technology and method dev          5\n",
      "Film History, T & C                4\n",
      "Design HTP                         4\n",
      "Science-Based Archaeology          4\n",
      "Cultural Studies                   4\n",
      "Time-Based Media HTP               4\n",
      "                                  ..\n",
      "Political Science                  1\n",
      "Languages & Linguistics            1\n",
      "Choreography                       1\n",
      "Gerontology                        1\n",
      "Post-Colonial Studies              1\n",
      "Design Engineering                 1\n",
      "Human Geography (General)          1\n",
      "Social Policy                      1\n",
      "Economic Development               1\n",
      "Anthropological Methodology        1\n",
      "Politics                           1\n",
      "Entrepreneurship                   1\n",
      "Environment                        1\n",
      "Comparative Studies                1\n",
      "Traditional Music                  1\n",
      "Socio Legal Studies                1\n",
      "Dance Notation                     1\n",
      "Sociology                          1\n",
      "Curriculum areas                   1\n",
      "Computer Sys. & Architecture       1\n",
      "Archaeology Of Human Origins       1\n",
      "Ethics                             1\n",
      "Language Variation & Change        1\n",
      "Imperial/Colonial History          1\n",
      "Language Training/Educational      1\n",
      "Corpus Linguistics                 1\n",
      "Digital Signal Processing          1\n",
      "Social Anthropology                1\n",
      "Comparative Literature             1\n",
      "Law Regulated By Statute           1\n",
      "Name: R_topics, Length: 116, dtype: int64\n"
     ]
    },
    {
     "data": {
      "image/png": "[encoded data removed]",
      "text/plain": [
       "<Figure size 936x936 with 1 Axes>"
      ]
     },
     "metadata": {},
     "output_type": "display_data"
    }
   ],
   "source": [
    "# Count how many research topics per unique project:\n",
    "\n",
    "exp_pl = r_topics_df[\"R_topics\"].value_counts()\n",
    "\n",
    "print(exp_pl)\n",
    "\n",
    "ser_pl = pd.Series(data=(exp_pl))\n",
    "\n",
    "ser_pl.head(10).plot.pie(figsize=(13, 13));"
   ]
  },
  {
   "cell_type": "markdown",
   "metadata": {},
   "source": [
    "## A nice visualisation for the topics found"
   ]
  },
  {
   "cell_type": "code",
   "execution_count": 18,
   "metadata": {},
   "outputs": [
    {
     "ename": "ModuleNotFoundError",
     "evalue": "No module named 'pyLDAvis'",
     "output_type": "error",
     "traceback": [
      "\u001b[0;31m---------------------------------------------------------------------------\u001b[0m",
      "\u001b[0;31mModuleNotFoundError\u001b[0m                       Traceback (most recent call last)",
      "\u001b[0;32m<ipython-input-18-92fbba479eb0>\u001b[0m in \u001b[0;36m<module>\u001b[0;34m()\u001b[0m\n\u001b[0;32m----> 1\u001b[0;31m \u001b[0;32mimport\u001b[0m \u001b[0mpyLDAvis\u001b[0m\u001b[0;34m\u001b[0m\u001b[0m\n\u001b[0m\u001b[1;32m      2\u001b[0m \u001b[0;32mimport\u001b[0m \u001b[0mpyLDAvis\u001b[0m\u001b[0;34m.\u001b[0m\u001b[0msklearn\u001b[0m\u001b[0;34m\u001b[0m\u001b[0m\n\u001b[1;32m      3\u001b[0m \u001b[0mpyLDAvis\u001b[0m\u001b[0;34m.\u001b[0m\u001b[0menable_notebook\u001b[0m\u001b[0;34m(\u001b[0m\u001b[0;34m)\u001b[0m\u001b[0;34m\u001b[0m\u001b[0m\n",
      "\u001b[0;31mModuleNotFoundError\u001b[0m: No module named 'pyLDAvis'"
     ]
    }
   ],
   "source": [
    "import pyLDAvis\n",
    "import pyLDAvis.sklearn\n",
    "pyLDAvis.enable_notebook()"
   ]
  },
  {
   "cell_type": "code",
   "execution_count": null,
   "metadata": {},
   "outputs": [],
   "source": [
    "tf_vectorizer = CountVectorizer(strip_accents = 'unicode',\n",
    "                                ngram_range=(1,2), stop_words = stop_words,\n",
    "                                lowercase = True,\n",
    "                                token_pattern = r'\\b[a-zA-Z]{3,}\\b',\n",
    "                                max_df = 0.9, \n",
    "                                min_df = 10)\n",
    "dtm_tf = tf_vectorizer.fit_transform(documents)\n",
    "print(dtm_tf.shape)"
   ]
  },
  {
   "cell_type": "code",
   "execution_count": null,
   "metadata": {},
   "outputs": [],
   "source": [
    "tfidf_vectorizer = TfidfVectorizer(**tf_vectorizer.get_params())\n",
    "dtm_tfidf = tfidf_vectorizer.fit_transform(documents)\n",
    "print(dtm_tfidf.shape)"
   ]
  },
  {
   "cell_type": "code",
   "execution_count": null,
   "metadata": {},
   "outputs": [],
   "source": [
    "# for TF DTM\n",
    "lda_tf = LatentDirichletAllocation(n_components=18, random_state=0, learning_method='batch')\n",
    "lda_tf.fit(dtm_tf)\n",
    "# for TFIDF DTM\n",
    "lda_tfidf = LatentDirichletAllocation(n_components=18, random_state=0, learning_method='batch')\n",
    "lda_tfidf.fit(dtm_tfidf)"
   ]
  },
  {
   "cell_type": "code",
   "execution_count": null,
   "metadata": {},
   "outputs": [],
   "source": [
    "#pyLDAvis.sklearn.prepare(lda_tfidf, dtm_tfidf, tfidf_vectorizer)\n",
    "pyLDAvis.sklearn.prepare(lda_tf, dtm_tf, tf_vectorizer, mds='tsne')\n",
    "\n",
    "# λ controls the weight of the frequency of that word compared to that specific topic/overall text.\n",
    "# λ = 0 -> Maximum weight on the estimated term frequency within the selected topic\n",
    "# λ = 1 -> Maximum weight to the overall term frequency"
   ]
  }
 ],
 "metadata": {
  "kernelspec": {
   "display_name": "Python 3",
   "language": "python",
   "name": "python3"
  },
  "language_info": {
   "codemirror_mode": {
    "name": "ipython",
    "version": 3
   },
   "file_extension": ".py",
   "mimetype": "text/x-python",
   "name": "python",
   "nbconvert_exporter": "python",
   "pygments_lexer": "ipython3",
   "version": "3.7.0"
  }
 },
 "nbformat": 4,
 "nbformat_minor": 2
}
