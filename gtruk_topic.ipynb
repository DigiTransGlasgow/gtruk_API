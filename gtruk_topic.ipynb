{
 "cells": [
  {
   "cell_type": "code",
   "execution_count": 1,
   "metadata": {},
   "outputs": [],
   "source": [
    "%matplotlib inline\n",
    "\n",
    "import requests\n",
    "import json\n",
    "import pandas as pd\n",
    "import numpy as np\n",
    "from pandas.io.json import json_normalize\n",
    "\n",
    "from IPython.display import display\n",
    "from IPython.core.display import HTML\n",
    "\n",
    "# Fancy token-level analysis such as stemming, lemmatizing, compound splitting, filtering based on part-of-speech, etc.\n",
    "# are not included in the scikit-learn codebase, but can be added by customizing either the tokenizer or the analyzer.\n",
    "# Here’s a CountVectorizer with a tokenizer and lemmatizer using NLTK:\n",
    "\n",
    "from nltk import word_tokenize\n",
    "from nltk.stem import WordNetLemmatizer\n",
    "from nltk.corpus import stopwords \n",
    "\n",
    "class LemmaTokenizer(object):\n",
    "    def __init__(self):\n",
    "        self.wnl = WordNetLemmatizer()\n",
    "    def __call__(self, doc):\n",
    "        return [self.wnl.lemmatize(t) for t in word_tokenize(doc)]\n",
    "    \n",
    "# Use: vect = CountVectorizer(tokenizer=LemmaTokenizer())"
   ]
  },
  {
   "cell_type": "code",
   "execution_count": 2,
   "metadata": {},
   "outputs": [],
   "source": [
    "urlgtr = 'http://gtr.rcuk.ac.uk/gtr/api/projects?q='\n",
    "\n",
    "li = [\"AH/M00953X/1\",\n",
    "\"AH/L503563/1\",\n",
    "\"AH/N006445/1\",\n",
    "\"AH/L012545/1\",\n",
    "\"AH/J008109/1\",\n",
    "\"AH/P013139/1\",\n",
    "\"AH/L009870/1\",\n",
    "\"AH/M002403/1\",\n",
    "\"AH/L007657/1\",\n",
    "\"AH/L007584/1\",\n",
    "\"AH/J013145/1\",\n",
    "\"AH/R004641/1\",\n",
    "\"AH/J012955/1\",\n",
    "\"AH/J012696/1\",\n",
    "\"AH/J012718/1\",\n",
    "\"AH/L010208/1\",\n",
    "\"AH/L010283/1\",\n",
    "\"AH/M010120/1\",\n",
    "\"AH/M002225/1\",\n",
    "\"AH/M002616/1\",\n",
    "\"AH/J013129/1\",\n",
    "\"AH/M010279/1\",\n",
    "\"AH/L010313/1\",\n",
    "\"AH/M010163/1\",\n",
    "\"AH/L009986/1\",\n",
    "\"AH/L007886/1\",\n",
    "\"AH/J013153/1\",\n",
    "\"AH/L01002X/1\",\n",
    "\"AH/J013072/1\",\n",
    "\"AH/M010368/1\",\n",
    "\"AH/L009854/1\",\n",
    "\"AH/L009978/1\",\n",
    "\"AH/L007916/1\",\n",
    "\"AH/J013048/1\",\n",
    "\"AH/R004803/1\",\n",
    "\"AH/L010062/1\",\n",
    "\"AH/M002551/1\",\n",
    "\"AH/M010015/1\",\n",
    "\"AH/L010011/1\",\n",
    "\"AH/M010589/1\",\n",
    "\"AH/L008025/1\",\n",
    "\"AH/J012408/1\",\n",
    "\"AH/J012769/1\",\n",
    "\"AH/M002233/1\",\n",
    "\"AH/M010414/1\",\n",
    "\"AH/R004854/1\",\n",
    "\"AH/M010392/1\",\n",
    "\"AH/L010364/1\",\n",
    "\"AH/M00452X/1\",\n",
    "\"AH/M010481/1\",\n",
    "\"AH/L010305/1\",\n",
    "\"AH/M010155/1\",\n",
    "\"AH/L010186/1\",\n",
    "\"AH/J012890/1\",\n",
    "\"AH/L010046/1\",\n",
    "\"AH/L007533/1\",\n",
    "\"AH/L009927/1\",\n",
    "\"AH/M002454/1\",\n",
    "\"AH/L01016X/1\",\n",
    "\"AH/L007770/1\",\n",
    "\"AH/J012483/1\",\n",
    "\"AH/M002322/1\",\n",
    "\"AH/L503575/1\",\n",
    "\"AH/L009986/2\",\n",
    "\"AH/N009568/1\",\n",
    "\"AH/P009549/1\",\n",
    "\"AH/R004846/1\",\n",
    "\"AH/J006963/1\",\n",
    "\"AH/M005666/1\",\n",
    "\"AH/R00157X/1\",\n",
    "\"AH/M005658/1\",\n",
    "\"AH/L503605/1\",\n",
    "\"AH/J013242/1\",\n",
    "\"AH/L010232/1\",\n",
    "\"AH/L007800/1\",\n",
    "\"AH/J013056/1\",\n",
    "\"AH/M00564X/1\",\n",
    "\"AH/M010201/1\",\n",
    "\"AH/J01236X/1\",\n",
    "\"AH/N50449X/1\",\n",
    "\"AH/L006863/1\",\n",
    "\"AH/M002438/1\",\n",
    "\"AH/J01317X/1\",\n",
    "\"AH/J01303X/1\",\n",
    "\"AH/M010031/1\",\n",
    "\"AH/J013218/1\",\n",
    "\"AH/M002535/1\",\n",
    "\"AH/L007991/1\",\n",
    "\"AH/L009935/1\",\n",
    "\"AH/L010380/1\",\n",
    "\"AH/L010194/1\",\n",
    "\"AH/R004757/1\",\n",
    "\"AH/L007746/1\",\n",
    "\"AH/M002160/1\",\n",
    "\"AH/L00688X/1\",\n",
    "\"AH/L007576/1\",\n",
    "\"AH/L00982X/1\",\n",
    "\"AH/L006820/1\",\n",
    "\"AH/P00945X/1\",\n",
    "\"AH/P005918/1\",\n",
    "\"AH/P013287/1\",\n",
    "\"AH/M005623/1\",]\n",
    "\n",
    "headers = {'Accept': 'application/vnd.rcuk.gtr.json-v7'}\n",
    "\n",
    "cols = ['Reference', 'Title', 'Abstract', \"R_topics\"]\n",
    "df = pd.DataFrame(columns=cols, index=range(len(li)))"
   ]
  },
  {
   "cell_type": "code",
   "execution_count": 3,
   "metadata": {},
   "outputs": [],
   "source": [
    "counter = 0\n",
    "for project in li:\n",
    "    url = (urlgtr + '\"' + project + '\"' + \"&f=pro.gr\")\n",
    "    response = requests.get(url, headers=headers)\n",
    "    proginfo = json.loads(response.text)[\"project\"]\n",
    "    df.iloc[counter][0] = project\n",
    "    df.iloc[counter][1] = proginfo[0][\"title\"]\n",
    "    df.iloc[counter][2] = proginfo[0][\"abstractText\"]\n",
    "    topic = []\n",
    "    for i in range (0, len(proginfo[0][\"researchTopics\"][\"researchTopic\"])):\n",
    "        text = proginfo[0][\"researchTopics\"][\"researchTopic\"][i][\"text\"]\n",
    "        topic.append(text)\n",
    "        df.iloc[counter][3] = topic\n",
    "    counter += 1"
   ]
  },
  {
   "cell_type": "code",
   "execution_count": 4,
   "metadata": {},
   "outputs": [],
   "source": [
    "# Replace '\\r\\n' resulting from the SPARQL query, due to some serialisation issues\n",
    "# table_led[\"exp\"] = table_led[\"exp\"].str.replace('\\r\\n', ' ')"
   ]
  },
  {
   "cell_type": "code",
   "execution_count": 5,
   "metadata": {
    "scrolled": false
   },
   "outputs": [
    {
     "data": {
      "text/html": [
       "<div>\n",
       "<style scoped>\n",
       "    .dataframe tbody tr th:only-of-type {\n",
       "        vertical-align: middle;\n",
       "    }\n",
       "\n",
       "    .dataframe tbody tr th {\n",
       "        vertical-align: top;\n",
       "    }\n",
       "\n",
       "    .dataframe thead th {\n",
       "        text-align: right;\n",
       "    }\n",
       "</style>\n",
       "<table border=\"1\" class=\"dataframe\">\n",
       "  <thead>\n",
       "    <tr style=\"text-align: right;\">\n",
       "      <th></th>\n",
       "      <th>Reference</th>\n",
       "      <th>Title</th>\n",
       "      <th>Abstract</th>\n",
       "      <th>R_topics</th>\n",
       "    </tr>\n",
       "  </thead>\n",
       "  <tbody>\n",
       "    <tr>\n",
       "      <th>0</th>\n",
       "      <td>AH/M00953X/1</td>\n",
       "      <td>Building sustainability and informing policy: ...</td>\n",
       "      <td>This Follow-on project will build on the succe...</td>\n",
       "      <td>[Heritage Management, Science-Based Archaeolog...</td>\n",
       "    </tr>\n",
       "    <tr>\n",
       "      <th>1</th>\n",
       "      <td>AH/L503563/1</td>\n",
       "      <td>Mapping Mapusa Market</td>\n",
       "      <td>Mapping Mapusa Market is an exploration into h...</td>\n",
       "      <td>[Unclassified]</td>\n",
       "    </tr>\n",
       "    <tr>\n",
       "      <th>2</th>\n",
       "      <td>AH/N006445/1</td>\n",
       "      <td>The Human Side of Digitized Knowledge: Communi...</td>\n",
       "      <td>The Ethno-ornithology World Archive (EWA) is a...</td>\n",
       "      <td>[Linguistics (General), Cultural Studies, Envi...</td>\n",
       "    </tr>\n",
       "    <tr>\n",
       "      <th>3</th>\n",
       "      <td>AH/L012545/1</td>\n",
       "      <td>Latin(o) American Digital Art: Exhibitions and...</td>\n",
       "      <td>This project follows on from my AHRC Fellowshi...</td>\n",
       "      <td>[Cultural Studies &amp; Pop Culture, Multimedia, H...</td>\n",
       "    </tr>\n",
       "    <tr>\n",
       "      <th>4</th>\n",
       "      <td>AH/J008109/1</td>\n",
       "      <td>Latin American Cultural Production Online, fro...</td>\n",
       "      <td>This project explores one of the most innovati...</td>\n",
       "      <td>[Multimedia, Digital Arts HTP, Hispanic, Portg...</td>\n",
       "    </tr>\n",
       "    <tr>\n",
       "      <th>5</th>\n",
       "      <td>AH/P013139/1</td>\n",
       "      <td>Ian Rankin StoryTrek: New Digital Storytelling...</td>\n",
       "      <td>The project has two main aims: (1) to develop ...</td>\n",
       "      <td>[English Language &amp; Literature]</td>\n",
       "    </tr>\n",
       "    <tr>\n",
       "      <th>6</th>\n",
       "      <td>AH/L009870/1</td>\n",
       "      <td>Optical Music Recognition from Multiple Sources</td>\n",
       "      <td>Digital images of scores are now available in ...</td>\n",
       "      <td>[Image &amp; Vision Computing, Classical Music, Mu...</td>\n",
       "    </tr>\n",
       "    <tr>\n",
       "      <th>7</th>\n",
       "      <td>AH/M002403/1</td>\n",
       "      <td>Weaving Codes - Coding Weaves</td>\n",
       "      <td>In this project we investigate pattern from mu...</td>\n",
       "      <td>[Digital Arts HTP, Performance &amp; Live Art, Cul...</td>\n",
       "    </tr>\n",
       "    <tr>\n",
       "      <th>8</th>\n",
       "      <td>AH/L007657/1</td>\n",
       "      <td>Crowd- and Community-fuelled Archaeological Re...</td>\n",
       "      <td>This project will not only use 'crowd-sourcing...</td>\n",
       "      <td>[Museum &amp; Gallery Studies, Prehistoric Archaeo...</td>\n",
       "    </tr>\n",
       "    <tr>\n",
       "      <th>9</th>\n",
       "      <td>AH/L007584/1</td>\n",
       "      <td>EWA - The Ethno-ornithology World Archive</td>\n",
       "      <td>Birds inspire people, their cultures and faith...</td>\n",
       "      <td>[Linguistics (General), Social Anthropology, H...</td>\n",
       "    </tr>\n",
       "    <tr>\n",
       "      <th>10</th>\n",
       "      <td>AH/J013145/1</td>\n",
       "      <td>Measuring and Enhancing Expressive Musical Per...</td>\n",
       "      <td>This collaborative project between members of ...</td>\n",
       "      <td>[Musicology, Classical Music, Musical Performa...</td>\n",
       "    </tr>\n",
       "    <tr>\n",
       "      <th>11</th>\n",
       "      <td>AH/R004641/1</td>\n",
       "      <td>VisitorBox: a toolkit to support ideation of n...</td>\n",
       "      <td>The VisitorBox project will produce a toolkit ...</td>\n",
       "      <td>[Design Processes, Cultural History, Heritage ...</td>\n",
       "    </tr>\n",
       "    <tr>\n",
       "      <th>12</th>\n",
       "      <td>AH/J012955/1</td>\n",
       "      <td>Transforming Artist Books</td>\n",
       "      <td>With the growth of digital technology, there i...</td>\n",
       "      <td>[Fine Art HTP, Image &amp; Vision Computing, Human...</td>\n",
       "    </tr>\n",
       "    <tr>\n",
       "      <th>13</th>\n",
       "      <td>AH/J012696/1</td>\n",
       "      <td>Researching Readers Online: understanding the ...</td>\n",
       "      <td>Now so many readers are consuming and commenti...</td>\n",
       "      <td>[Literary &amp; Cultural Theory, New Media/Web-Bas...</td>\n",
       "    </tr>\n",
       "    <tr>\n",
       "      <th>14</th>\n",
       "      <td>AH/J012718/1</td>\n",
       "      <td>Creating the 'Mix-d Museum': developing an onl...</td>\n",
       "      <td>This proposal seeks to develop a research netw...</td>\n",
       "      <td>[Economic &amp; Social History, Sociology]</td>\n",
       "    </tr>\n",
       "    <tr>\n",
       "      <th>15</th>\n",
       "      <td>AH/L010208/1</td>\n",
       "      <td>Proteus: Capturing the Big Data Problem of Anc...</td>\n",
       "      <td>The hugely successful Ancient Lives website, a...</td>\n",
       "      <td>[Epigraphy &amp; Papyrology, Classical Literature,...</td>\n",
       "    </tr>\n",
       "    <tr>\n",
       "      <th>16</th>\n",
       "      <td>AH/L010283/1</td>\n",
       "      <td>Visualising European Crime Fiction: New Digita...</td>\n",
       "      <td>Over the last two centuries culture industries...</td>\n",
       "      <td>[Cultural Studies &amp; Pop Culture, Comparative S...</td>\n",
       "    </tr>\n",
       "    <tr>\n",
       "      <th>17</th>\n",
       "      <td>AH/M010120/1</td>\n",
       "      <td>Networking technology and the experience of en...</td>\n",
       "      <td>Could networking technology transform ensemble...</td>\n",
       "      <td>[Networks &amp; Distributed Systems, ICT and educa...</td>\n",
       "    </tr>\n",
       "    <tr>\n",
       "      <th>18</th>\n",
       "      <td>AH/M002225/1</td>\n",
       "      <td>Pelagios 4: studying the places of our past th...</td>\n",
       "      <td>Being able to link - to go from one document t...</td>\n",
       "      <td>[Cartography and GIS, History of Sci./Med./Tec...</td>\n",
       "    </tr>\n",
       "    <tr>\n",
       "      <th>19</th>\n",
       "      <td>AH/M002616/1</td>\n",
       "      <td>Evaluating Social Media to Identify and Levera...</td>\n",
       "      <td>This project aims to (1) Build upon work on so...</td>\n",
       "      <td>[Museum &amp; Gallery Studies, Technology and meth...</td>\n",
       "    </tr>\n",
       "  </tbody>\n",
       "</table>\n",
       "</div>"
      ],
      "text/plain": [
       "       Reference                                              Title  \\\n",
       "0   AH/M00953X/1  Building sustainability and informing policy: ...   \n",
       "1   AH/L503563/1                              Mapping Mapusa Market   \n",
       "2   AH/N006445/1  The Human Side of Digitized Knowledge: Communi...   \n",
       "3   AH/L012545/1  Latin(o) American Digital Art: Exhibitions and...   \n",
       "4   AH/J008109/1  Latin American Cultural Production Online, fro...   \n",
       "5   AH/P013139/1  Ian Rankin StoryTrek: New Digital Storytelling...   \n",
       "6   AH/L009870/1    Optical Music Recognition from Multiple Sources   \n",
       "7   AH/M002403/1                      Weaving Codes - Coding Weaves   \n",
       "8   AH/L007657/1  Crowd- and Community-fuelled Archaeological Re...   \n",
       "9   AH/L007584/1          EWA - The Ethno-ornithology World Archive   \n",
       "10  AH/J013145/1  Measuring and Enhancing Expressive Musical Per...   \n",
       "11  AH/R004641/1  VisitorBox: a toolkit to support ideation of n...   \n",
       "12  AH/J012955/1                          Transforming Artist Books   \n",
       "13  AH/J012696/1  Researching Readers Online: understanding the ...   \n",
       "14  AH/J012718/1  Creating the 'Mix-d Museum': developing an onl...   \n",
       "15  AH/L010208/1  Proteus: Capturing the Big Data Problem of Anc...   \n",
       "16  AH/L010283/1  Visualising European Crime Fiction: New Digita...   \n",
       "17  AH/M010120/1  Networking technology and the experience of en...   \n",
       "18  AH/M002225/1  Pelagios 4: studying the places of our past th...   \n",
       "19  AH/M002616/1  Evaluating Social Media to Identify and Levera...   \n",
       "\n",
       "                                             Abstract  \\\n",
       "0   This Follow-on project will build on the succe...   \n",
       "1   Mapping Mapusa Market is an exploration into h...   \n",
       "2   The Ethno-ornithology World Archive (EWA) is a...   \n",
       "3   This project follows on from my AHRC Fellowshi...   \n",
       "4   This project explores one of the most innovati...   \n",
       "5   The project has two main aims: (1) to develop ...   \n",
       "6   Digital images of scores are now available in ...   \n",
       "7   In this project we investigate pattern from mu...   \n",
       "8   This project will not only use 'crowd-sourcing...   \n",
       "9   Birds inspire people, their cultures and faith...   \n",
       "10  This collaborative project between members of ...   \n",
       "11  The VisitorBox project will produce a toolkit ...   \n",
       "12  With the growth of digital technology, there i...   \n",
       "13  Now so many readers are consuming and commenti...   \n",
       "14  This proposal seeks to develop a research netw...   \n",
       "15  The hugely successful Ancient Lives website, a...   \n",
       "16  Over the last two centuries culture industries...   \n",
       "17  Could networking technology transform ensemble...   \n",
       "18  Being able to link - to go from one document t...   \n",
       "19  This project aims to (1) Build upon work on so...   \n",
       "\n",
       "                                             R_topics  \n",
       "0   [Heritage Management, Science-Based Archaeolog...  \n",
       "1                                      [Unclassified]  \n",
       "2   [Linguistics (General), Cultural Studies, Envi...  \n",
       "3   [Cultural Studies & Pop Culture, Multimedia, H...  \n",
       "4   [Multimedia, Digital Arts HTP, Hispanic, Portg...  \n",
       "5                     [English Language & Literature]  \n",
       "6   [Image & Vision Computing, Classical Music, Mu...  \n",
       "7   [Digital Arts HTP, Performance & Live Art, Cul...  \n",
       "8   [Museum & Gallery Studies, Prehistoric Archaeo...  \n",
       "9   [Linguistics (General), Social Anthropology, H...  \n",
       "10  [Musicology, Classical Music, Musical Performa...  \n",
       "11  [Design Processes, Cultural History, Heritage ...  \n",
       "12  [Fine Art HTP, Image & Vision Computing, Human...  \n",
       "13  [Literary & Cultural Theory, New Media/Web-Bas...  \n",
       "14             [Economic & Social History, Sociology]  \n",
       "15  [Epigraphy & Papyrology, Classical Literature,...  \n",
       "16  [Cultural Studies & Pop Culture, Comparative S...  \n",
       "17  [Networks & Distributed Systems, ICT and educa...  \n",
       "18  [Cartography and GIS, History of Sci./Med./Tec...  \n",
       "19  [Museum & Gallery Studies, Technology and meth...  "
      ]
     },
     "execution_count": 5,
     "metadata": {},
     "output_type": "execute_result"
    }
   ],
   "source": [
    "#table_led.sort_values(by=\"year\", inplace=True)\n",
    "df.head(20)"
   ]
  },
  {
   "cell_type": "code",
   "execution_count": 6,
   "metadata": {},
   "outputs": [
    {
     "data": {
      "text/plain": [
       "(102, 4)"
      ]
     },
     "execution_count": 6,
     "metadata": {},
     "output_type": "execute_result"
    }
   ],
   "source": [
    "df.shape"
   ]
  },
  {
   "cell_type": "code",
   "execution_count": 7,
   "metadata": {
    "scrolled": true
   },
   "outputs": [
    {
     "data": {
      "text/html": [
       "<div>\n",
       "<style scoped>\n",
       "    .dataframe tbody tr th:only-of-type {\n",
       "        vertical-align: middle;\n",
       "    }\n",
       "\n",
       "    .dataframe tbody tr th {\n",
       "        vertical-align: top;\n",
       "    }\n",
       "\n",
       "    .dataframe thead th {\n",
       "        text-align: right;\n",
       "    }\n",
       "</style>\n",
       "<table border=\"1\" class=\"dataframe\">\n",
       "  <thead>\n",
       "    <tr style=\"text-align: right;\">\n",
       "      <th></th>\n",
       "      <th>Reference</th>\n",
       "      <th>Title</th>\n",
       "      <th>Abstract</th>\n",
       "      <th>R_topics</th>\n",
       "    </tr>\n",
       "  </thead>\n",
       "  <tbody>\n",
       "    <tr>\n",
       "      <th>6</th>\n",
       "      <td>AH/L009870/1</td>\n",
       "      <td>Optical Music Recognition from Multiple Sources</td>\n",
       "      <td>Digital images of scores are now available in ...</td>\n",
       "      <td>[Image &amp; Vision Computing, Classical Music, Mu...</td>\n",
       "    </tr>\n",
       "    <tr>\n",
       "      <th>7</th>\n",
       "      <td>AH/M002403/1</td>\n",
       "      <td>Weaving Codes - Coding Weaves</td>\n",
       "      <td>In this project we investigate pattern from mu...</td>\n",
       "      <td>[Digital Arts HTP, Performance &amp; Live Art, Cul...</td>\n",
       "    </tr>\n",
       "    <tr>\n",
       "      <th>10</th>\n",
       "      <td>AH/J013145/1</td>\n",
       "      <td>Measuring and Enhancing Expressive Musical Per...</td>\n",
       "      <td>This collaborative project between members of ...</td>\n",
       "      <td>[Musicology, Classical Music, Musical Performa...</td>\n",
       "    </tr>\n",
       "    <tr>\n",
       "      <th>17</th>\n",
       "      <td>AH/M010120/1</td>\n",
       "      <td>Networking technology and the experience of en...</td>\n",
       "      <td>Could networking technology transform ensemble...</td>\n",
       "      <td>[Networks &amp; Distributed Systems, ICT and educa...</td>\n",
       "    </tr>\n",
       "    <tr>\n",
       "      <th>21</th>\n",
       "      <td>AH/M010279/1</td>\n",
       "      <td>Breakdown Harmonica</td>\n",
       "      <td>Breakdown Harmonica is a research project focu...</td>\n",
       "      <td>[Dance Notation, Dance Performance, New Media/...</td>\n",
       "    </tr>\n",
       "    <tr>\n",
       "      <th>23</th>\n",
       "      <td>AH/M010163/1</td>\n",
       "      <td>Pet Sounds: Creating Music using Social Media ...</td>\n",
       "      <td>The proposed project seeks to explore the ways...</td>\n",
       "      <td>[Music &amp; Acoustic Technology, Musicology, Musi...</td>\n",
       "    </tr>\n",
       "    <tr>\n",
       "      <th>29</th>\n",
       "      <td>AH/M010368/1</td>\n",
       "      <td>Transforming Transformation: 3D Models for Int...</td>\n",
       "      <td>'Transforming Transformation: 3D Models for In...</td>\n",
       "      <td>[Music &amp; Acoustic Technology, Image &amp; Vision C...</td>\n",
       "    </tr>\n",
       "    <tr>\n",
       "      <th>34</th>\n",
       "      <td>AH/R004803/1</td>\n",
       "      <td>Unlocking Musicology: Digital Engagement for D...</td>\n",
       "      <td>'Unlocking Musicology: Digital Engagement for ...</td>\n",
       "      <td>[Popular Music, History Of Music, Musicology, ...</td>\n",
       "    </tr>\n",
       "    <tr>\n",
       "      <th>41</th>\n",
       "      <td>AH/J012408/1</td>\n",
       "      <td>Computer-Human Interactive Performance Symposi...</td>\n",
       "      <td>Popular music (e.g. folk, rock, music theatre)...</td>\n",
       "      <td>[Human-Computer Interactions, Artificial Intel...</td>\n",
       "    </tr>\n",
       "    <tr>\n",
       "      <th>51</th>\n",
       "      <td>AH/M010155/1</td>\n",
       "      <td>Classical Music 'Hyper-Production' and Practic...</td>\n",
       "      <td>The world of instrumental classical music is c...</td>\n",
       "      <td>[New Media/Web-Based Studies, Music &amp; Acoustic...</td>\n",
       "    </tr>\n",
       "    <tr>\n",
       "      <th>53</th>\n",
       "      <td>AH/J012890/1</td>\n",
       "      <td>Haptic Experiments: Kinaesthetic Empathy and N...</td>\n",
       "      <td>This project explores how the innovative combi...</td>\n",
       "      <td>[Choreography, Dance Performance, Digital Art ...</td>\n",
       "    </tr>\n",
       "    <tr>\n",
       "      <th>54</th>\n",
       "      <td>AH/L010046/1</td>\n",
       "      <td>A Big Data History of Music</td>\n",
       "      <td>This collaboration between Royal Holloway and ...</td>\n",
       "      <td>[Information Sci. &amp; Retrieval, History Of Musi...</td>\n",
       "    </tr>\n",
       "    <tr>\n",
       "      <th>57</th>\n",
       "      <td>AH/M002454/1</td>\n",
       "      <td>An Integrated Audio-Symbolic Model of Music Si...</td>\n",
       "      <td>Similarity is a central aspect of music. It ca...</td>\n",
       "      <td>[Traditional Music, Information &amp; Knowledge Mg...</td>\n",
       "    </tr>\n",
       "    <tr>\n",
       "      <th>58</th>\n",
       "      <td>AH/L01016X/1</td>\n",
       "      <td>Digital Music Lab - Analysing Big Music Data</td>\n",
       "      <td>Music research, particularly in fields like sy...</td>\n",
       "      <td>[Information &amp; Knowledge Mgmt, Computer Graphi...</td>\n",
       "    </tr>\n",
       "    <tr>\n",
       "      <th>66</th>\n",
       "      <td>AH/R004846/1</td>\n",
       "      <td>'Project code-named Humpty': Creation, Destruc...</td>\n",
       "      <td>'Project code-named Humpty' [P c-n H] is a nar...</td>\n",
       "      <td>[Science-Based Archaeology, Fine Art HTP, Mate...</td>\n",
       "    </tr>\n",
       "    <tr>\n",
       "      <th>75</th>\n",
       "      <td>AH/J013056/1</td>\n",
       "      <td>Live Notation: Transforming Matters of Perform...</td>\n",
       "      <td>'Live Notation: Transforming Matters of Perfor...</td>\n",
       "      <td>[Time-Based Media HTP, Performance &amp; Live Art,...</td>\n",
       "    </tr>\n",
       "    <tr>\n",
       "      <th>86</th>\n",
       "      <td>AH/M002535/1</td>\n",
       "      <td>Transforming Digital Music: Investigating Inte...</td>\n",
       "      <td>The Transforming Digital Music research projec...</td>\n",
       "      <td>[Music &amp; Acoustic Technology, Multimedia]</td>\n",
       "    </tr>\n",
       "    <tr>\n",
       "      <th>91</th>\n",
       "      <td>AH/R004757/1</td>\n",
       "      <td>The Commercialisation of Interactive Music</td>\n",
       "      <td>In 2015, the AHRC funded a research project ca...</td>\n",
       "      <td>[Multimedia, Music &amp; Acoustic Technology, Popu...</td>\n",
       "    </tr>\n",
       "    <tr>\n",
       "      <th>97</th>\n",
       "      <td>AH/L006820/1</td>\n",
       "      <td>Transforming Musicology</td>\n",
       "      <td>This project, led by Prof Tim Crawford in the ...</td>\n",
       "      <td>[Computer Sys. &amp; Architecture, Music &amp; Society...</td>\n",
       "    </tr>\n",
       "    <tr>\n",
       "      <th>100</th>\n",
       "      <td>AH/P013287/1</td>\n",
       "      <td>Learn to Play: Computational Assessment of Mus...</td>\n",
       "      <td>This Follow-On Funding for Impact and Engageme...</td>\n",
       "      <td>[Artificial Intelligence, Musical Performance,...</td>\n",
       "    </tr>\n",
       "  </tbody>\n",
       "</table>\n",
       "</div>"
      ],
      "text/plain": [
       "        Reference                                              Title  \\\n",
       "6    AH/L009870/1    Optical Music Recognition from Multiple Sources   \n",
       "7    AH/M002403/1                      Weaving Codes - Coding Weaves   \n",
       "10   AH/J013145/1  Measuring and Enhancing Expressive Musical Per...   \n",
       "17   AH/M010120/1  Networking technology and the experience of en...   \n",
       "21   AH/M010279/1                                Breakdown Harmonica   \n",
       "23   AH/M010163/1  Pet Sounds: Creating Music using Social Media ...   \n",
       "29   AH/M010368/1  Transforming Transformation: 3D Models for Int...   \n",
       "34   AH/R004803/1  Unlocking Musicology: Digital Engagement for D...   \n",
       "41   AH/J012408/1  Computer-Human Interactive Performance Symposi...   \n",
       "51   AH/M010155/1  Classical Music 'Hyper-Production' and Practic...   \n",
       "53   AH/J012890/1  Haptic Experiments: Kinaesthetic Empathy and N...   \n",
       "54   AH/L010046/1                        A Big Data History of Music   \n",
       "57   AH/M002454/1  An Integrated Audio-Symbolic Model of Music Si...   \n",
       "58   AH/L01016X/1       Digital Music Lab - Analysing Big Music Data   \n",
       "66   AH/R004846/1  'Project code-named Humpty': Creation, Destruc...   \n",
       "75   AH/J013056/1  Live Notation: Transforming Matters of Perform...   \n",
       "86   AH/M002535/1  Transforming Digital Music: Investigating Inte...   \n",
       "91   AH/R004757/1         The Commercialisation of Interactive Music   \n",
       "97   AH/L006820/1                            Transforming Musicology   \n",
       "100  AH/P013287/1  Learn to Play: Computational Assessment of Mus...   \n",
       "\n",
       "                                              Abstract  \\\n",
       "6    Digital images of scores are now available in ...   \n",
       "7    In this project we investigate pattern from mu...   \n",
       "10   This collaborative project between members of ...   \n",
       "17   Could networking technology transform ensemble...   \n",
       "21   Breakdown Harmonica is a research project focu...   \n",
       "23   The proposed project seeks to explore the ways...   \n",
       "29   'Transforming Transformation: 3D Models for In...   \n",
       "34   'Unlocking Musicology: Digital Engagement for ...   \n",
       "41   Popular music (e.g. folk, rock, music theatre)...   \n",
       "51   The world of instrumental classical music is c...   \n",
       "53   This project explores how the innovative combi...   \n",
       "54   This collaboration between Royal Holloway and ...   \n",
       "57   Similarity is a central aspect of music. It ca...   \n",
       "58   Music research, particularly in fields like sy...   \n",
       "66   'Project code-named Humpty' [P c-n H] is a nar...   \n",
       "75   'Live Notation: Transforming Matters of Perfor...   \n",
       "86   The Transforming Digital Music research projec...   \n",
       "91   In 2015, the AHRC funded a research project ca...   \n",
       "97   This project, led by Prof Tim Crawford in the ...   \n",
       "100  This Follow-On Funding for Impact and Engageme...   \n",
       "\n",
       "                                              R_topics  \n",
       "6    [Image & Vision Computing, Classical Music, Mu...  \n",
       "7    [Digital Arts HTP, Performance & Live Art, Cul...  \n",
       "10   [Musicology, Classical Music, Musical Performa...  \n",
       "17   [Networks & Distributed Systems, ICT and educa...  \n",
       "21   [Dance Notation, Dance Performance, New Media/...  \n",
       "23   [Music & Acoustic Technology, Musicology, Musi...  \n",
       "29   [Music & Acoustic Technology, Image & Vision C...  \n",
       "34   [Popular Music, History Of Music, Musicology, ...  \n",
       "41   [Human-Computer Interactions, Artificial Intel...  \n",
       "51   [New Media/Web-Based Studies, Music & Acoustic...  \n",
       "53   [Choreography, Dance Performance, Digital Art ...  \n",
       "54   [Information Sci. & Retrieval, History Of Musi...  \n",
       "57   [Traditional Music, Information & Knowledge Mg...  \n",
       "58   [Information & Knowledge Mgmt, Computer Graphi...  \n",
       "66   [Science-Based Archaeology, Fine Art HTP, Mate...  \n",
       "75   [Time-Based Media HTP, Performance & Live Art,...  \n",
       "86           [Music & Acoustic Technology, Multimedia]  \n",
       "91   [Multimedia, Music & Acoustic Technology, Popu...  \n",
       "97   [Computer Sys. & Architecture, Music & Society...  \n",
       "100  [Artificial Intelligence, Musical Performance,...  "
      ]
     },
     "execution_count": 7,
     "metadata": {},
     "output_type": "execute_result"
    }
   ],
   "source": [
    "# Search for words within the dataset (example).\n",
    "df[df[\"Abstract\"].str.contains(\"music\")]"
   ]
  },
  {
   "cell_type": "markdown",
   "metadata": {},
   "source": [
    "## Topic modelling with scikit-learn"
   ]
  },
  {
   "cell_type": "code",
   "execution_count": 8,
   "metadata": {},
   "outputs": [],
   "source": [
    "from time import time\n",
    "from sklearn.feature_extraction.text import TfidfVectorizer, CountVectorizer\n",
    "from sklearn.decomposition import NMF, LatentDirichletAllocation\n",
    "from sklearn.feature_extraction import text\n",
    "\n",
    "n_samples = len(df)\n",
    "\n",
    "# Number of terms included in the bag of words matrix\n",
    "n_features = 10000\n",
    "\n",
    "# Number of components (i.e. topics)\n",
    "n_topics = 8\n",
    "\n",
    "documents = df[\"Abstract\"]\n",
    "n_top_words = 15\n",
    "\n",
    "my_words = set(\"research\".split(\" \"))\n",
    "stop_words = text.ENGLISH_STOP_WORDS.union(my_words)"
   ]
  },
  {
   "cell_type": "code",
   "execution_count": 9,
   "metadata": {},
   "outputs": [],
   "source": [
    "def display_topics(model, feature_names, no_top_words):\n",
    "    for topic_idx, topic in enumerate(model.components_):\n",
    "#        print(\"Topic: \" + str(topic_idx))\n",
    "#        print(\" \".join([feature_names[i]\n",
    "        display(HTML(\"<b>Topic \" + str(topic_idx) + \"</b>\"))\n",
    "        display(HTML(\"<i>\" +  \" \".join([feature_names[i]\n",
    "                        for i in topic.argsort()[:-no_top_words - 1:-1]]) + \"</i>\"))"
   ]
  },
  {
   "cell_type": "code",
   "execution_count": 10,
   "metadata": {
    "scrolled": true
   },
   "outputs": [
    {
     "name": "stdout",
     "output_type": "stream",
     "text": [
      "Extracting tf-idf features for NMF...\n",
      "done in 0.275s.\n",
      "Extracting tf features for LDA...\n",
      "done in 0.138s.\n",
      "\n",
      "Fitting the NMF model (Frobenius norm) with tf-idf features, n_samples=102 and n_features=10000...\n",
      "done in 0.312s.\n",
      "\n",
      "Topics in NMF model (Frobenius norm):\n"
     ]
    },
    {
     "data": {
      "text/html": [
       "<b>Topic 0</b>"
      ],
      "text/plain": [
       "<IPython.core.display.HTML object>"
      ]
     },
     "metadata": {},
     "output_type": "display_data"
    },
    {
     "data": {
      "text/html": [
       "<i>digital new media film creative cultural social work technologies archive practice artists network art arts</i>"
      ],
      "text/plain": [
       "<IPython.core.display.HTML object>"
      ]
     },
     "metadata": {},
     "output_type": "display_data"
    },
    {
     "data": {
      "text/html": [
       "<b>Topic 1</b>"
      ],
      "text/plain": [
       "<IPython.core.display.HTML object>"
      ]
     },
     "metadata": {},
     "output_type": "display_data"
    },
    {
     "data": {
      "text/html": [
       "<i>music performance musical audio library popular play collections technology software interactive models multiple hand computer</i>"
      ],
      "text/plain": [
       "<IPython.core.display.HTML object>"
      ]
     },
     "metadata": {},
     "output_type": "display_data"
    },
    {
     "data": {
      "text/html": [
       "<b>Topic 2</b>"
      ],
      "text/plain": [
       "<IPython.core.display.HTML object>"
      ]
     },
     "metadata": {},
     "output_type": "display_data"
    },
    {
     "data": {
      "text/html": [
       "<i>data big big data datasets quot information possible scale researchers large cultural open analysis tools generated</i>"
      ],
      "text/plain": [
       "<IPython.core.display.HTML object>"
      ]
     },
     "metadata": {},
     "output_type": "display_data"
    },
    {
     "data": {
      "text/html": [
       "<b>Topic 3</b>"
      ],
      "text/plain": [
       "<IPython.core.display.HTML object>"
      ]
     },
     "metadata": {},
     "output_type": "display_data"
    },
    {
     "data": {
      "text/html": [
       "<i>community communities people groups knowledge stories platform city archives crowd organisations cultural open place engagement</i>"
      ],
      "text/plain": [
       "<IPython.core.display.HTML object>"
      ]
     },
     "metadata": {},
     "output_type": "display_data"
    },
    {
     "data": {
      "text/html": [
       "<b>Topic 4</b>"
      ],
      "text/plain": [
       "<IPython.core.display.HTML object>"
      ]
     },
     "metadata": {},
     "output_type": "display_data"
    },
    {
     "data": {
      "text/html": [
       "<i>literary texts literature city text nature scholars prototype interface book students dataset online tool digital</i>"
      ],
      "text/plain": [
       "<IPython.core.display.HTML object>"
      ]
     },
     "metadata": {},
     "output_type": "display_data"
    },
    {
     "data": {
      "text/html": [
       "<b>Topic 5</b>"
      ],
      "text/plain": [
       "<IPython.core.display.HTML object>"
      ]
     },
     "metadata": {},
     "output_type": "display_data"
    },
    {
     "data": {
      "text/html": [
       "<i>design model programme skills education london resources opportunities build workshops industry national educational test approach</i>"
      ],
      "text/plain": [
       "<IPython.core.display.HTML object>"
      ]
     },
     "metadata": {},
     "output_type": "display_data"
    },
    {
     "data": {
      "text/html": [
       "<b>Topic 6</b>"
      ],
      "text/plain": [
       "<IPython.core.display.HTML object>"
      ]
     },
     "metadata": {},
     "output_type": "display_data"
    },
    {
     "data": {
      "text/html": [
       "<i>heritage objects object crowd places models digitally archive transformative museum methodology novel enable create generate</i>"
      ],
      "text/plain": [
       "<IPython.core.display.HTML object>"
      ]
     },
     "metadata": {},
     "output_type": "display_data"
    },
    {
     "data": {
      "text/html": [
       "<b>Topic 7</b>"
      ],
      "text/plain": [
       "<IPython.core.display.HTML object>"
      ]
     },
     "metadata": {},
     "output_type": "display_data"
    },
    {
     "data": {
      "text/html": [
       "<i>sound produced language audio teaching video learning real resource models people visual processing based human</i>"
      ],
      "text/plain": [
       "<IPython.core.display.HTML object>"
      ]
     },
     "metadata": {},
     "output_type": "display_data"
    },
    {
     "name": "stdout",
     "output_type": "stream",
     "text": [
      "\n",
      "Fitting the NMF model (generalised Kullback-Leibler divergence) with tf-idf features, n_samples=102 and n_features=10000...\n",
      "done in 0.259s.\n",
      "\n",
      "\n",
      "Topics in NMF model (generalised Kullback-Leibler divergence):\n"
     ]
    },
    {
     "data": {
      "text/html": [
       "<b>Topic 0</b>"
      ],
      "text/plain": [
       "<IPython.core.display.HTML object>"
      ]
     },
     "metadata": {},
     "output_type": "display_data"
    },
    {
     "data": {
      "text/html": [
       "<i>new digital use online work develop activities open media ways social proposed working range academic</i>"
      ],
      "text/plain": [
       "<IPython.core.display.HTML object>"
      ]
     },
     "metadata": {},
     "output_type": "display_data"
    },
    {
     "data": {
      "text/html": [
       "<b>Topic 1</b>"
      ],
      "text/plain": [
       "<IPython.core.display.HTML object>"
      ]
     },
     "metadata": {},
     "output_type": "display_data"
    },
    {
     "data": {
      "text/html": [
       "<i>musical popular techniques music performance time novel work developed technology interaction quality role terms international</i>"
      ],
      "text/plain": [
       "<IPython.core.display.HTML object>"
      ]
     },
     "metadata": {},
     "output_type": "display_data"
    },
    {
     "data": {
      "text/html": [
       "<b>Topic 2</b>"
      ],
      "text/plain": [
       "<IPython.core.display.HTML object>"
      ]
     },
     "metadata": {},
     "output_type": "display_data"
    },
    {
     "data": {
      "text/html": [
       "<i>public researchers possible information quot data widely analysis using problem records large scale website scale tools</i>"
      ],
      "text/plain": [
       "<IPython.core.display.HTML object>"
      ]
     },
     "metadata": {},
     "output_type": "display_data"
    },
    {
     "data": {
      "text/html": [
       "<b>Topic 3</b>"
      ],
      "text/plain": [
       "<IPython.core.display.HTML object>"
      ]
     },
     "metadata": {},
     "output_type": "display_data"
    },
    {
     "data": {
      "text/html": [
       "<i>community based heritage access researchers aims archive projects available change build communities objects self value</i>"
      ],
      "text/plain": [
       "<IPython.core.display.HTML object>"
      ]
     },
     "metadata": {},
     "output_type": "display_data"
    },
    {
     "data": {
      "text/html": [
       "<b>Topic 4</b>"
      ],
      "text/plain": [
       "<IPython.core.display.HTML object>"
      ]
     },
     "metadata": {},
     "output_type": "display_data"
    },
    {
     "data": {
      "text/html": [
       "<i>texts world literature help work prototype text developed literary books students rich understand scholars ways</i>"
      ],
      "text/plain": [
       "<IPython.core.display.HTML object>"
      ]
     },
     "metadata": {},
     "output_type": "display_data"
    },
    {
     "data": {
      "text/html": [
       "<b>Topic 5</b>"
      ],
      "text/plain": [
       "<IPython.core.display.HTML object>"
      ]
     },
     "metadata": {},
     "output_type": "display_data"
    },
    {
     "data": {
      "text/html": [
       "<i>potential researchers fields visual physical questions understanding international enable set contemporary level technology support disciplines</i>"
      ],
      "text/plain": [
       "<IPython.core.display.HTML object>"
      ]
     },
     "metadata": {},
     "output_type": "display_data"
    },
    {
     "data": {
      "text/html": [
       "<b>Topic 6</b>"
      ],
      "text/plain": [
       "<IPython.core.display.HTML object>"
      ]
     },
     "metadata": {},
     "output_type": "display_data"
    },
    {
     "data": {
      "text/html": [
       "<i>use digital relationship nature explore data different examine source material context modern provides art production</i>"
      ],
      "text/plain": [
       "<IPython.core.display.HTML object>"
      ]
     },
     "metadata": {},
     "output_type": "display_data"
    },
    {
     "data": {
      "text/html": [
       "<b>Topic 7</b>"
      ],
      "text/plain": [
       "<IPython.core.display.HTML object>"
      ]
     },
     "metadata": {},
     "output_type": "display_data"
    },
    {
     "data": {
      "text/html": [
       "<i>using aims bring new used world techniques technologies needs video process project aims sound aim internet</i>"
      ],
      "text/plain": [
       "<IPython.core.display.HTML object>"
      ]
     },
     "metadata": {},
     "output_type": "display_data"
    },
    {
     "name": "stdout",
     "output_type": "stream",
     "text": [
      "\n",
      "Fitting LDA models with tf features, n_samples=102 and n_features=10000...\n",
      "done in 0.943s.\n",
      "\n",
      "Topics in LDA model:\n"
     ]
    },
    {
     "data": {
      "text/html": [
       "<b>Topic 0</b>"
      ],
      "text/plain": [
       "<IPython.core.display.HTML object>"
      ]
     },
     "metadata": {},
     "output_type": "display_data"
    },
    {
     "data": {
      "text/html": [
       "<i>performance musical heritage digital technology design practice members london sound scholars library new model way</i>"
      ],
      "text/plain": [
       "<IPython.core.display.HTML object>"
      ]
     },
     "metadata": {},
     "output_type": "display_data"
    },
    {
     "data": {
      "text/html": [
       "<b>Topic 1</b>"
      ],
      "text/plain": [
       "<IPython.core.display.HTML object>"
      ]
     },
     "metadata": {},
     "output_type": "display_data"
    },
    {
     "data": {
      "text/html": [
       "<i>media new artist digital books practice works art literary artists city aims technologies potential project aims</i>"
      ],
      "text/plain": [
       "<IPython.core.display.HTML object>"
      ]
     },
     "metadata": {},
     "output_type": "display_data"
    },
    {
     "data": {
      "text/html": [
       "<b>Topic 2</b>"
      ],
      "text/plain": [
       "<IPython.core.display.HTML object>"
      ]
     },
     "metadata": {},
     "output_type": "display_data"
    },
    {
     "data": {
      "text/html": [
       "<i>heritage objects data digital use allow crowd new archive using explore social information media cultural</i>"
      ],
      "text/plain": [
       "<IPython.core.display.HTML object>"
      ]
     },
     "metadata": {},
     "output_type": "display_data"
    },
    {
     "data": {
      "text/html": [
       "<b>Topic 3</b>"
      ],
      "text/plain": [
       "<IPython.core.display.HTML object>"
      ]
     },
     "metadata": {},
     "output_type": "display_data"
    },
    {
     "data": {
      "text/html": [
       "<i>new performance art cultural digital artists practices computer creating community technologies practice programme explore context</i>"
      ],
      "text/plain": [
       "<IPython.core.display.HTML object>"
      ]
     },
     "metadata": {},
     "output_type": "display_data"
    },
    {
     "data": {
      "text/html": [
       "<b>Topic 4</b>"
      ],
      "text/plain": [
       "<IPython.core.display.HTML object>"
      ]
     },
     "metadata": {},
     "output_type": "display_data"
    },
    {
     "data": {
      "text/html": [
       "<i>digital music community new communities work creative use media knowledge people based different public cultural</i>"
      ],
      "text/plain": [
       "<IPython.core.display.HTML object>"
      ]
     },
     "metadata": {},
     "output_type": "display_data"
    },
    {
     "data": {
      "text/html": [
       "<b>Topic 5</b>"
      ],
      "text/plain": [
       "<IPython.core.display.HTML object>"
      ]
     },
     "metadata": {},
     "output_type": "display_data"
    },
    {
     "data": {
      "text/html": [
       "<i>design music sound new users models audio work based development creative social future performance musical</i>"
      ],
      "text/plain": [
       "<IPython.core.display.HTML object>"
      ]
     },
     "metadata": {},
     "output_type": "display_data"
    },
    {
     "data": {
      "text/html": [
       "<b>Topic 6</b>"
      ],
      "text/plain": [
       "<IPython.core.display.HTML object>"
      ]
     },
     "metadata": {},
     "output_type": "display_data"
    },
    {
     "data": {
      "text/html": [
       "<i>digital data emerging ahrc digital transformations archives relationship design access humanities cross researchers transformations opportunities new</i>"
      ],
      "text/plain": [
       "<IPython.core.display.HTML object>"
      ]
     },
     "metadata": {},
     "output_type": "display_data"
    },
    {
     "data": {
      "text/html": [
       "<b>Topic 7</b>"
      ],
      "text/plain": [
       "<IPython.core.display.HTML object>"
      ]
     },
     "metadata": {},
     "output_type": "display_data"
    },
    {
     "data": {
      "text/html": [
       "<i>data new digital big cultural use social big data online researchers information quot work based world</i>"
      ],
      "text/plain": [
       "<IPython.core.display.HTML object>"
      ]
     },
     "metadata": {},
     "output_type": "display_data"
    }
   ],
   "source": [
    "# Common English words (stop_words), words occurring in only ten document (min_df=10)\n",
    "# or in at least 95% of the documents (max_df=0.9) are removed; catch 1-grams and 2-grams (ngram_range=(1,2))\n",
    "\n",
    "# Use tf-idf features for Non-Negative Matrix Factorization (NMF).\n",
    "\n",
    "print(\"Extracting tf-idf features for NMF...\")\n",
    "tfidf_vectorizer = TfidfVectorizer(token_pattern='\\\\b[a-zA-Z]\\\\w\\\\w+\\\\b', max_df=0.9, min_df=10,\n",
    "                                   ngram_range=(1,2), stop_words=stop_words)\n",
    "\n",
    "t0 = time()\n",
    "tfidf = tfidf_vectorizer.fit_transform(documents)\n",
    "print(\"done in %0.3fs.\" % (time() - t0))\n",
    "\n",
    "# Use tf (raw term count) features for LDA.\n",
    "print(\"Extracting tf features for LDA...\")\n",
    "tf_vectorizer = CountVectorizer(token_pattern='\\\\b[a-zA-Z]\\\\w\\\\w+\\\\b', max_df=0.9, min_df=10,\n",
    "                                ngram_range=(1,2), stop_words=stop_words)\n",
    "\n",
    "t0 = time()\n",
    "tf = tf_vectorizer.fit_transform(documents)\n",
    "print(\"done in %0.3fs.\" % (time() - t0))\n",
    "print()\n",
    "\n",
    "\n",
    "# Fit the NMF model (Frobenius norm)\n",
    "print(\"Fitting the NMF model (Frobenius norm) with tf-idf features, \"\n",
    "      \"n_samples=%d and n_features=%d...\"\n",
    "      % (n_samples, n_features))\n",
    "t0 = time()\n",
    "nmf = NMF(n_components=n_topics, init=\"nndsvd\", random_state=1,\n",
    "          alpha=.1, l1_ratio=.5).fit(tfidf)\n",
    "print(\"done in %0.3fs.\" % (time() - t0))\n",
    "\n",
    "print(\"\\nTopics in NMF model (Frobenius norm):\")\n",
    "tfidf_feature_names = tfidf_vectorizer.get_feature_names()\n",
    "display_topics(nmf, tfidf_feature_names, n_top_words)\n",
    "print()\n",
    "\n",
    "# Fit the NMF model (generalised Kullback-Leibler divergence)\n",
    "print(\"Fitting the NMF model (generalised Kullback-Leibler divergence) with \"\n",
    "      \"tf-idf features, n_samples=%d and n_features=%d...\"\n",
    "      % (n_samples, n_features))\n",
    "t0 = time()\n",
    "nmf = NMF(n_components=n_topics, random_state=1,\n",
    "          beta_loss='kullback-leibler', solver='mu', max_iter=1000, alpha=.1,\n",
    "          l1_ratio=.5).fit(tfidf)\n",
    "print(\"done in %0.3fs.\" % (time() - t0))\n",
    "print()\n",
    "\n",
    "print(\"\\nTopics in NMF model (generalised Kullback-Leibler divergence):\")\n",
    "tfidf_feature_names = tfidf_vectorizer.get_feature_names()\n",
    "display_topics(nmf, tfidf_feature_names, n_top_words)\n",
    "print()\n",
    "\n",
    "# Fit the LDA model\n",
    "print(\"Fitting LDA models with tf features, \"\n",
    "      \"n_samples=%d and n_features=%d...\"\n",
    "      % (n_samples, n_features))\n",
    "\n",
    "lda = LatentDirichletAllocation(n_components=n_topics, max_iter=10,\n",
    "                                learning_method='online',\n",
    "                                learning_offset=50.,\n",
    "                                random_state=0)\n",
    "t0 = time()\n",
    "lda.fit(tf)\n",
    "print(\"done in %0.3fs.\" % (time() - t0))\n",
    "\n",
    "print(\"\\nTopics in LDA model:\")\n",
    "tf_feature_names = tf_vectorizer.get_feature_names()\n",
    "display_topics(lda, tf_feature_names, n_top_words)"
   ]
  },
  {
   "cell_type": "markdown",
   "metadata": {},
   "source": [
    "## Getting the top documents' ID for each topic"
   ]
  },
  {
   "cell_type": "code",
   "execution_count": 11,
   "metadata": {
    "scrolled": true
   },
   "outputs": [
    {
     "data": {
      "text/html": [
       "<b>Topic 0: </b>"
      ],
      "text/plain": [
       "<IPython.core.display.HTML object>"
      ]
     },
     "metadata": {},
     "output_type": "display_data"
    },
    {
     "name": "stdout",
     "output_type": "stream",
     "text": [
      "digital project community new communities heritage design archive social cultural\n"
     ]
    },
    {
     "data": {
      "text/html": [
       "<p><a href='https://gtr.ukri.org/projects?ref=AH/L007533/1'>ACCORD - Archaeology Community Co-Production of Research Data</a></p>"
      ],
      "text/plain": [
       "<IPython.core.display.HTML object>"
      ]
     },
     "metadata": {},
     "output_type": "display_data"
    },
    {
     "data": {
      "text/html": [
       "<p><a href='https://gtr.ukri.org/projects?ref=AH/L007800/1'>Pararchive: Open Access Community Storytelling and the Digital Archive</a></p>"
      ],
      "text/plain": [
       "<IPython.core.display.HTML object>"
      ]
     },
     "metadata": {},
     "output_type": "display_data"
    },
    {
     "data": {
      "text/html": [
       "<p><a href='https://gtr.ukri.org/projects?ref=AH/J012769/1'>Creation and Publication of the &quot;Digital Manual&quot;: Authority, Authorship and Voice</a></p>"
      ],
      "text/plain": [
       "<IPython.core.display.HTML object>"
      ]
     },
     "metadata": {},
     "output_type": "display_data"
    },
    {
     "data": {
      "text/html": [
       "<p><a href='https://gtr.ukri.org/projects?ref=AH/P005918/1'>Digital Community Workspaces: Delivering Impact through Public Library and Archive networks</a></p>"
      ],
      "text/plain": [
       "<IPython.core.display.HTML object>"
      ]
     },
     "metadata": {},
     "output_type": "display_data"
    },
    {
     "data": {
      "text/html": [
       "<b>Topic 1: </b>"
      ],
      "text/plain": [
       "<IPython.core.display.HTML object>"
      ]
     },
     "metadata": {},
     "output_type": "display_data"
    },
    {
     "name": "stdout",
     "output_type": "stream",
     "text": [
      "music musical performance audio musicology digital music symbolic musicians ensemble listener\n"
     ]
    },
    {
     "data": {
      "text/html": [
       "<p><a href='https://gtr.ukri.org/projects?ref=AH/L01016X/1'>Digital Music Lab - Analysing Big Music Data</a></p>"
      ],
      "text/plain": [
       "<IPython.core.display.HTML object>"
      ]
     },
     "metadata": {},
     "output_type": "display_data"
    },
    {
     "data": {
      "text/html": [
       "<p><a href='https://gtr.ukri.org/projects?ref=AH/M002535/1'>Transforming Digital Music: Investigating Interactive Playback</a></p>"
      ],
      "text/plain": [
       "<IPython.core.display.HTML object>"
      ]
     },
     "metadata": {},
     "output_type": "display_data"
    },
    {
     "data": {
      "text/html": [
       "<p><a href='https://gtr.ukri.org/projects?ref=AH/M002454/1'>An Integrated Audio-Symbolic Model of Music Similarity</a></p>"
      ],
      "text/plain": [
       "<IPython.core.display.HTML object>"
      ]
     },
     "metadata": {},
     "output_type": "display_data"
    },
    {
     "data": {
      "text/html": [
       "<p><a href='https://gtr.ukri.org/projects?ref=AH/P013287/1'>Learn to Play: Computational Assessment of Musical Playability for Users' Practice</a></p>"
      ],
      "text/plain": [
       "<IPython.core.display.HTML object>"
      ]
     },
     "metadata": {},
     "output_type": "display_data"
    },
    {
     "data": {
      "text/html": [
       "<b>Topic 2: </b>"
      ],
      "text/plain": [
       "<IPython.core.display.HTML object>"
      ]
     },
     "metadata": {},
     "output_type": "display_data"
    },
    {
     "name": "stdout",
     "output_type": "stream",
     "text": [
      "data big big data legislation quot datasets open data bsd cultural open\n"
     ]
    },
    {
     "data": {
      "text/html": [
       "<p><a href='https://gtr.ukri.org/projects?ref=AH/M002551/1'>Empowering Data Citizens</a></p>"
      ],
      "text/plain": [
       "<IPython.core.display.HTML object>"
      ]
     },
     "metadata": {},
     "output_type": "display_data"
    },
    {
     "data": {
      "text/html": [
       "<p><a href='https://gtr.ukri.org/projects?ref=AH/M010015/1'>An Internet of Cultural Things: Creative Explorations of Data in Cultural Institutions</a></p>"
      ],
      "text/plain": [
       "<IPython.core.display.HTML object>"
      ]
     },
     "metadata": {},
     "output_type": "display_data"
    },
    {
     "data": {
      "text/html": [
       "<p><a href='https://gtr.ukri.org/projects?ref=AH/L010232/1'>Big Data for Law</a></p>"
      ],
      "text/plain": [
       "<IPython.core.display.HTML object>"
      ]
     },
     "metadata": {},
     "output_type": "display_data"
    },
    {
     "data": {
      "text/html": [
       "<p><a href='https://gtr.ukri.org/projects?ref=AH/L010186/1'>Traces though Time: Prosopography in practice across Big Data</a></p>"
      ],
      "text/plain": [
       "<IPython.core.display.HTML object>"
      ]
     },
     "metadata": {},
     "output_type": "display_data"
    },
    {
     "data": {
      "text/html": [
       "<b>Topic 3: </b>"
      ],
      "text/plain": [
       "<IPython.core.display.HTML object>"
      ]
     },
     "metadata": {},
     "output_type": "display_data"
    },
    {
     "name": "stdout",
     "output_type": "stream",
     "text": [
      "film film media essay audiovisual media video symposium essays digital audiovisual essay\n"
     ]
    },
    {
     "data": {
      "text/html": [
       "<p><a href='https://gtr.ukri.org/projects?ref=AH/R004854/1'>Cinema Unframed: exploring the screen in virtual reality, through live installation and mobile app</a></p>"
      ],
      "text/plain": [
       "<IPython.core.display.HTML object>"
      ]
     },
     "metadata": {},
     "output_type": "display_data"
    },
    {
     "data": {
      "text/html": [
       "<p><a href='https://gtr.ukri.org/projects?ref=AH/M010392/1'>The Audiovisual Essay: a digital methodology for film and media studies</a></p>"
      ],
      "text/plain": [
       "<IPython.core.display.HTML object>"
      ]
     },
     "metadata": {},
     "output_type": "display_data"
    },
    {
     "data": {
      "text/html": [
       "<p><a href='https://gtr.ukri.org/projects?ref=AH/L010305/1'>DEEP FILM Access Project (DFAP)</a></p>"
      ],
      "text/plain": [
       "<IPython.core.display.HTML object>"
      ]
     },
     "metadata": {},
     "output_type": "display_data"
    },
    {
     "data": {
      "text/html": [
       "<p><a href='https://gtr.ukri.org/projects?ref=AH/M010481/1'>Tracking IP Across the Creative Technologies project (TRI-PACT)</a></p>"
      ],
      "text/plain": [
       "<IPython.core.display.HTML object>"
      ]
     },
     "metadata": {},
     "output_type": "display_data"
    },
    {
     "data": {
      "text/html": [
       "<b>Topic 4: </b>"
      ],
      "text/plain": [
       "<IPython.core.display.HTML object>"
      ]
     },
     "metadata": {},
     "output_type": "display_data"
    },
    {
     "name": "stdout",
     "output_type": "stream",
     "text": [
      "edinburgh literary palimpsest city literature rankin literary texts cityscape literary cityscape fiction\n"
     ]
    },
    {
     "data": {
      "text/html": [
       "<p><a href='https://gtr.ukri.org/projects?ref=AH/L009935/1'>Palimpsest: an Edinburgh Literary Cityscape</a></p>"
      ],
      "text/plain": [
       "<IPython.core.display.HTML object>"
      ]
     },
     "metadata": {},
     "output_type": "display_data"
    },
    {
     "data": {
      "text/html": [
       "<p><a href='https://gtr.ukri.org/projects?ref=AH/P009549/1'>Words on the Street: the Uses of a Digital Literary Cityscape</a></p>"
      ],
      "text/plain": [
       "<IPython.core.display.HTML object>"
      ]
     },
     "metadata": {},
     "output_type": "display_data"
    },
    {
     "data": {
      "text/html": [
       "<p><a href='https://gtr.ukri.org/projects?ref=AH/P013139/1'>Ian Rankin StoryTrek: New Digital Storytelling and Mapping Technologies for Crime Fiction Readers on Location</a></p>"
      ],
      "text/plain": [
       "<IPython.core.display.HTML object>"
      ]
     },
     "metadata": {},
     "output_type": "display_data"
    },
    {
     "data": {
      "text/html": [
       "<p><a href='https://gtr.ukri.org/projects?ref=AH/L010208/1'>Proteus: Capturing the Big Data Problem of Ancient Literary Fragments</a></p>"
      ],
      "text/plain": [
       "<IPython.core.display.HTML object>"
      ]
     },
     "metadata": {},
     "output_type": "display_data"
    },
    {
     "data": {
      "text/html": [
       "<b>Topic 5: </b>"
      ],
      "text/plain": [
       "<IPython.core.display.HTML object>"
      ]
     },
     "metadata": {},
     "output_type": "display_data"
    },
    {
     "name": "stdout",
     "output_type": "stream",
     "text": [
      "prison prison industries design inmates industries employment makeright design thinking thinking ahmedabad\n"
     ]
    },
    {
     "data": {
      "text/html": [
       "<p><a href='https://gtr.ukri.org/projects?ref=AH/R00157X/1'>Disseminating &quot;Design Thinking for Prison Industries&quot; through Teaching Resources, Delivery Models and Training for Trainers</a></p>"
      ],
      "text/plain": [
       "<IPython.core.display.HTML object>"
      ]
     },
     "metadata": {},
     "output_type": "display_data"
    },
    {
     "data": {
      "text/html": [
       "<p><a href='https://gtr.ukri.org/projects?ref=AH/M005666/1'>Design Thinking for Prison Industries: Exchanging design tools, methods and processes with prisons in London and Ahmedabad to build inmate resilience</a></p>"
      ],
      "text/plain": [
       "<IPython.core.display.HTML object>"
      ]
     },
     "metadata": {},
     "output_type": "display_data"
    },
    {
     "data": {
      "text/html": [
       "<p><a href='https://gtr.ukri.org/projects?ref=AH/L006863/1'>The Digital Panopticon: The Global Impact of London Punishments, 1780-1925</a></p>"
      ],
      "text/plain": [
       "<IPython.core.display.HTML object>"
      ]
     },
     "metadata": {},
     "output_type": "display_data"
    },
    {
     "data": {
      "text/html": [
       "<p><a href='https://gtr.ukri.org/projects?ref=AH/M002438/1'>Exploring British Design: developing research competencies by connecting archive content</a></p>"
      ],
      "text/plain": [
       "<IPython.core.display.HTML object>"
      ]
     },
     "metadata": {},
     "output_type": "display_data"
    },
    {
     "data": {
      "text/html": [
       "<b>Topic 6: </b>"
      ],
      "text/plain": [
       "<IPython.core.display.HTML object>"
      ]
     },
     "metadata": {},
     "output_type": "display_data"
    },
    {
     "name": "stdout",
     "output_type": "stream",
     "text": [
      "noise cities delhi india unbox building urban device city raise\n"
     ]
    },
    {
     "data": {
      "text/html": [
       "<p><a href='https://gtr.ukri.org/projects?ref=AH/M005658/1'>Boxing the mNAP (a mobile Noise Abatement Pod for raising awareness of the effects of noise pollution)</a></p>"
      ],
      "text/plain": [
       "<IPython.core.display.HTML object>"
      ]
     },
     "metadata": {},
     "output_type": "display_data"
    },
    {
     "data": {
      "text/html": [
       "<p><a href='https://gtr.ukri.org/projects?ref=AH/M00564X/1'>3 x 4: Exploring metaspace platforms for inclusive future cities</a></p>"
      ],
      "text/plain": [
       "<IPython.core.display.HTML object>"
      ]
     },
     "metadata": {},
     "output_type": "display_data"
    },
    {
     "data": {
      "text/html": [
       "<p><a href='https://gtr.ukri.org/projects?ref=AH/M005623/1'>I Stood Up to Violence: Making it Public</a></p>"
      ],
      "text/plain": [
       "<IPython.core.display.HTML object>"
      ]
     },
     "metadata": {},
     "output_type": "display_data"
    },
    {
     "data": {
      "text/html": [
       "<p><a href='https://gtr.ukri.org/projects?ref=AH/L503605/1'>Playing to Grow: Augmenting Agriculture with Social Impact Games</a></p>"
      ],
      "text/plain": [
       "<IPython.core.display.HTML object>"
      ]
     },
     "metadata": {},
     "output_type": "display_data"
    },
    {
     "data": {
      "text/html": [
       "<b>Topic 7: </b>"
      ],
      "text/plain": [
       "<IPython.core.display.HTML object>"
      ]
     },
     "metadata": {},
     "output_type": "display_data"
    },
    {
     "name": "stdout",
     "output_type": "stream",
     "text": [
      "visualisations data visualisations data big data big reception migobs consumers migration effectiveness\n"
     ]
    },
    {
     "data": {
      "text/html": [
       "<p><a href='https://gtr.ukri.org/projects?ref=AH/L009986/1'>Seeing Data: are good big data visualisations possible?</a></p>"
      ],
      "text/plain": [
       "<IPython.core.display.HTML object>"
      ]
     },
     "metadata": {},
     "output_type": "display_data"
    },
    {
     "data": {
      "text/html": [
       "<p><a href='https://gtr.ukri.org/projects?ref=AH/L009986/2'>Seeing Data: are good big data visualisations possible?</a></p>"
      ],
      "text/plain": [
       "<IPython.core.display.HTML object>"
      ]
     },
     "metadata": {},
     "output_type": "display_data"
    },
    {
     "data": {
      "text/html": [
       "<p><a href='https://gtr.ukri.org/projects?ref=AH/M002322/1'>Digital Realism: Visualising the social through digital art practice</a></p>"
      ],
      "text/plain": [
       "<IPython.core.display.HTML object>"
      ]
     },
     "metadata": {},
     "output_type": "display_data"
    },
    {
     "data": {
      "text/html": [
       "<p><a href='https://gtr.ukri.org/projects?ref=AH/L01002X/1'>Frameworks and tools for statistical big data in the humanities</a></p>"
      ],
      "text/plain": [
       "<IPython.core.display.HTML object>"
      ]
     },
     "metadata": {},
     "output_type": "display_data"
    }
   ],
   "source": [
    "from sklearn.feature_extraction.text import TfidfVectorizer, CountVectorizer\n",
    "from sklearn.decomposition import NMF, LatentDirichletAllocation\n",
    "import numpy as np\n",
    "\n",
    "def display_topics(H, W, feature_names, documents, no_top_words, no_top_documents):\n",
    "    for topic_idx, topic in enumerate(H):\n",
    "        display(HTML(\"<b>Topic %d: </b>\" % (topic_idx)))\n",
    "        print(\" \".join([feature_names[i]\n",
    "                        for i in topic.argsort()[:-no_top_words - 1:-1]]))\n",
    "        top_doc_indices = np.argsort(W[:,topic_idx] )[::-1][0:no_top_documents]\n",
    "        for doc_index in top_doc_indices:\n",
    "            link = (\"<p><a href='https://gtr.ukri.org/projects?ref=\" + df.Reference[doc_index] + \"'>\" + df.Title[doc_index] + \"</a></p>\")\n",
    "            display(HTML(link))\n",
    "        \n",
    "documents = df[\"Abstract\"]\n",
    "            \n",
    "# NMF is able to use tf-idf\n",
    "tfidf_vectorizer = TfidfVectorizer(ngram_range=(1,2), token_pattern='\\\\b[a-zA-Z]\\\\w\\\\w+\\\\b', max_df=0.95, min_df=2, stop_words=stop_words)\n",
    "tfidf = tfidf_vectorizer.fit_transform(documents)\n",
    "tfidf_feature_names = tfidf_vectorizer.get_feature_names()\n",
    "\n",
    "# LDA can only use raw term counts for LDA because it is a probabilistic graphical model\n",
    "tf_vectorizer = CountVectorizer(ngram_range=(1,2), token_pattern='\\\\b[a-zA-Z]\\\\w\\\\w+\\\\b', max_df=0.95, min_df=2, stop_words=stop_words)\n",
    "tf = tf_vectorizer.fit_transform(documents)\n",
    "tf_feature_names = tf_vectorizer.get_feature_names()\n",
    "\n",
    "no_topics = 8\n",
    "\n",
    "# Run NMF\n",
    "nmf_model = NMF(n_components=no_topics, random_state=1, alpha=.1, l1_ratio=.5, init='nndsvd').fit(tfidf)\n",
    "nmf_W = nmf_model.transform(tfidf)\n",
    "nmf_H = nmf_model.components_\n",
    "\n",
    "# Run LDA\n",
    "lda_model = LatentDirichletAllocation(n_components=no_topics, max_iter=5, learning_method='online', learning_offset=50.,random_state=0).fit(tf)\n",
    "lda_W = lda_model.transform(tf)\n",
    "lda_H = lda_model.components_\n",
    "\n",
    "no_top_words = 10\n",
    "no_top_documents = 4\n",
    "display_topics(nmf_H, nmf_W, tfidf_feature_names, documents, no_top_words, no_top_documents)\n",
    "#display_topics(lda_H, lda_W, tf_feature_names, documents, no_top_words, no_top_documents)"
   ]
  },
  {
   "cell_type": "markdown",
   "metadata": {},
   "source": [
    "## Publications"
   ]
  },
  {
   "cell_type": "code",
   "execution_count": 12,
   "metadata": {},
   "outputs": [],
   "source": [
    "# Generates a df_id only for the projects IDs with title\n",
    "\n",
    "cols = ['Title', \"ID\"]\n",
    "df_id = pd.DataFrame(columns=cols, index=range(len(li)))\n",
    "\n",
    "counter = 0\n",
    "for project in li:\n",
    "    url = (urlgtr + '\"' + project + '\"' + \"&f=pro.gr\")\n",
    "    response = requests.get(url, headers=headers)\n",
    "    proginfo = json.loads(response.text)[\"project\"]\n",
    "    df_id.iloc[counter][0] = proginfo[0][\"title\"]\n",
    "    df_id.iloc[counter][1] = proginfo[0][\"id\"]\n",
    "    counter += 1"
   ]
  },
  {
   "cell_type": "code",
   "execution_count": 13,
   "metadata": {},
   "outputs": [],
   "source": [
    "# Generates a dataframe with publications and associated projects\n",
    "\n",
    "cols = [\"ID\", \"Publication\", \"Type\", \"Autor\", \"Date\"]\n",
    "df_publications = pd.DataFrame(columns=cols, index=range(2000))\n",
    "\n",
    "counter = 0\n",
    "count = 0\n",
    "for idx, project_id in enumerate(df_id[\"ID\"]):\n",
    "    requestURL = 'https://gtr.ukri.org/gtr/api/projects/' + project_id + '/outcomes/publications'\n",
    "    b_response = requests.get(requestURL, headers=headers)\n",
    "    pubinfo = json.loads(b_response.text)\n",
    "    \n",
    "    for pub in pubinfo[\"publication\"]:\n",
    "        df_publications.iloc[counter][0] = df_id[\"Title\"][idx]\n",
    "        df_publications.iloc[counter][1] = pub[\"title\"]\n",
    "        df_publications.iloc[counter][2] = pub[\"type\"]\n",
    "        df_publications.iloc[counter][3] = pub[\"author\"]\n",
    "\n",
    "        try:\n",
    "            df_publications.iloc[counter][4] = pub[\"datePublished\"]\n",
    "        except KeyError:\n",
    "            count += 1\n",
    "            df_publications.iloc[counter][4] = \"\"\n",
    "    \n",
    "    #for pub in pubinfo[\"publication\"]:\n",
    "\n",
    "        #df_publications.iloc[0] = project_id\n",
    "        #df_publications.iloc[1] = pub[\"title\"]\n",
    "        counter += 1"
   ]
  },
  {
   "cell_type": "code",
   "execution_count": 14,
   "metadata": {},
   "outputs": [],
   "source": [
    "df_publications.dropna(inplace=True)"
   ]
  },
  {
   "cell_type": "code",
   "execution_count": 15,
   "metadata": {},
   "outputs": [],
   "source": [
    "df_publications.set_index(\"ID\", inplace=True)"
   ]
  },
  {
   "cell_type": "code",
   "execution_count": 16,
   "metadata": {},
   "outputs": [
    {
     "data": {
      "text/html": [
       "<div>\n",
       "<style scoped>\n",
       "    .dataframe tbody tr th:only-of-type {\n",
       "        vertical-align: middle;\n",
       "    }\n",
       "\n",
       "    .dataframe tbody tr th {\n",
       "        vertical-align: top;\n",
       "    }\n",
       "\n",
       "    .dataframe thead th {\n",
       "        text-align: right;\n",
       "    }\n",
       "</style>\n",
       "<table border=\"1\" class=\"dataframe\">\n",
       "  <thead>\n",
       "    <tr style=\"text-align: right;\">\n",
       "      <th></th>\n",
       "      <th>Publication</th>\n",
       "      <th>Type</th>\n",
       "      <th>Autor</th>\n",
       "      <th>Date</th>\n",
       "    </tr>\n",
       "    <tr>\n",
       "      <th>ID</th>\n",
       "      <th></th>\n",
       "      <th></th>\n",
       "      <th></th>\n",
       "      <th></th>\n",
       "    </tr>\n",
       "  </thead>\n",
       "  <tbody>\n",
       "    <tr>\n",
       "      <th>Building sustainability and informing policy: The MicroPasts programme of knowledge exchange</th>\n",
       "      <td>Digital Co-production in Archaeology. An edito...</td>\n",
       "      <td>Journal Article/Review</td>\n",
       "      <td>Bonacchi C</td>\n",
       "      <td>1483228800000</td>\n",
       "    </tr>\n",
       "    <tr>\n",
       "      <th>Building sustainability and informing policy: The MicroPasts programme of knowledge exchange</th>\n",
       "      <td>Experiments in Crowd-funding Community Archaeo...</td>\n",
       "      <td>Journal Article/Review</td>\n",
       "      <td>Bonacchi C</td>\n",
       "      <td>1420070400000</td>\n",
       "    </tr>\n",
       "    <tr>\n",
       "      <th>Building sustainability and informing policy: The MicroPasts programme of knowledge exchange</th>\n",
       "      <td>Crowd- and community-fuelled archaeology. Earl...</td>\n",
       "      <td>Conference/Paper/Proceeding/Abstract</td>\n",
       "      <td>Bonacchi, C</td>\n",
       "      <td>1420070400000</td>\n",
       "    </tr>\n",
       "    <tr>\n",
       "      <th>Building sustainability and informing policy: The MicroPasts programme of knowledge exchange</th>\n",
       "      <td>(Submitted) Evaluating Participants and Partic...</td>\n",
       "      <td>Journal Article/Review</td>\n",
       "      <td>Bonacchi, C.</td>\n",
       "      <td></td>\n",
       "    </tr>\n",
       "    <tr>\n",
       "      <th>Building sustainability and informing policy: The MicroPasts programme of knowledge exchange</th>\n",
       "      <td>Crowd-sourcing the British Bronze Age: Initial...</td>\n",
       "      <td>Conference/Paper/Proceeding/Abstract</td>\n",
       "      <td>Wilkin,N.</td>\n",
       "      <td>1420070400000</td>\n",
       "    </tr>\n",
       "    <tr>\n",
       "      <th>Building sustainability and informing policy: The MicroPasts programme of knowledge exchange</th>\n",
       "      <td>Online Research Collaborations beyond the Academy</td>\n",
       "      <td>Systematic review</td>\n",
       "      <td>Chiara Bonacchi</td>\n",
       "      <td>1514764800000</td>\n",
       "    </tr>\n",
       "    <tr>\n",
       "      <th>The Human Side of Digitized Knowledge: Community Curation of the Ethno-ornithology World Archive</th>\n",
       "      <td>Ethno-ornithology of the Mushere of Nigeria: C...</td>\n",
       "      <td>Journal Article/Review</td>\n",
       "      <td>Pam G B</td>\n",
       "      <td></td>\n",
       "    </tr>\n",
       "    <tr>\n",
       "      <th>The Human Side of Digitized Knowledge: Community Curation of the Ethno-ornithology World Archive</th>\n",
       "      <td>&amp;quot;Listen Carefully to the Voices of the Bi...</td>\n",
       "      <td>Journal Article/Review</td>\n",
       "      <td>Wyndham F S</td>\n",
       "      <td></td>\n",
       "    </tr>\n",
       "    <tr>\n",
       "      <th>The Human Side of Digitized Knowledge: Community Curation of the Ethno-ornithology World Archive</th>\n",
       "      <td>Inter-governmental Platform on Biodiversity &amp;a...</td>\n",
       "      <td>Book Chapter</td>\n",
       "      <td>Wyndham F S</td>\n",
       "      <td></td>\n",
       "    </tr>\n",
       "    <tr>\n",
       "      <th>The Human Side of Digitized Knowledge: Community Curation of the Ethno-ornithology World Archive</th>\n",
       "      <td>The Human Factor: Ecological Salience in Ornit...</td>\n",
       "      <td>Journal Article/Review</td>\n",
       "      <td>Gosler A</td>\n",
       "      <td>1483228800000</td>\n",
       "    </tr>\n",
       "    <tr>\n",
       "      <th>Latin(o) American Digital Art: Exhibitions and Audience-Participation Workshops</th>\n",
       "      <td>&amp;quot;Writing sprints&amp;quot; can facilitate col...</td>\n",
       "      <td>Other</td>\n",
       "      <td>Taylor C</td>\n",
       "      <td>1483228800000</td>\n",
       "    </tr>\n",
       "    <tr>\n",
       "      <th>Latin(o) American Digital Art: Exhibitions and Audience-Participation Workshops</th>\n",
       "      <td>Branding Latin America</td>\n",
       "      <td>Book Chapter</td>\n",
       "      <td>Taylor C</td>\n",
       "      <td>1514764800000</td>\n",
       "    </tr>\n",
       "    <tr>\n",
       "      <th>Latin(o) American Digital Art: Exhibitions and Audience-Participation Workshops</th>\n",
       "      <td>Using social media to curate digital artworks ...</td>\n",
       "      <td>Other</td>\n",
       "      <td>Taylor C</td>\n",
       "      <td>1483228800000</td>\n",
       "    </tr>\n",
       "    <tr>\n",
       "      <th>Latin(o) American Digital Art: Exhibitions and Audience-Participation Workshops</th>\n",
       "      <td>Marina Zerbarini's Tejido de memoria (Memory W...</td>\n",
       "      <td>Other</td>\n",
       "      <td>Peate A</td>\n",
       "      <td>1483228800000</td>\n",
       "    </tr>\n",
       "    <tr>\n",
       "      <th>Latin(o) American Digital Art: Exhibitions and Audience-Participation Workshops</th>\n",
       "      <td>How activist artists on the US-Mexico border c...</td>\n",
       "      <td>Other</td>\n",
       "      <td>Taylor C</td>\n",
       "      <td>1483228800000</td>\n",
       "    </tr>\n",
       "    <tr>\n",
       "      <th>Latin(o) American Digital Art: Exhibitions and Audience-Participation Workshops</th>\n",
       "      <td>Latin(o) American Digital Art: Some Observatio...</td>\n",
       "      <td>Journal Article/Review</td>\n",
       "      <td>Taylor C</td>\n",
       "      <td>1451606400000</td>\n",
       "    </tr>\n",
       "    <tr>\n",
       "      <th>Latin(o) American Digital Art: Exhibitions and Audience-Participation Workshops</th>\n",
       "      <td>Cities in Dialogue</td>\n",
       "      <td>Book</td>\n",
       "      <td>Taylor Claire</td>\n",
       "      <td>1451606400000</td>\n",
       "    </tr>\n",
       "    <tr>\n",
       "      <th>Latin(o) American Digital Art: Exhibitions and Audience-Participation Workshops</th>\n",
       "      <td>Modern Languages and the Digital: The Shape of...</td>\n",
       "      <td>Journal Article/Review</td>\n",
       "      <td>Taylor C</td>\n",
       "      <td>1483228800000</td>\n",
       "    </tr>\n",
       "    <tr>\n",
       "      <th>Latin(o) American Digital Art: Exhibitions and Audience-Participation Workshops</th>\n",
       "      <td>Place and Politics in Latin American Digital C...</td>\n",
       "      <td>Book</td>\n",
       "      <td>Taylor, CL</td>\n",
       "      <td>1388534400000</td>\n",
       "    </tr>\n",
       "    <tr>\n",
       "      <th>Latin American Cultural Production Online, from 1990 to the Present</th>\n",
       "      <td>Cities in Dialogue</td>\n",
       "      <td>Book</td>\n",
       "      <td>Taylor Claire</td>\n",
       "      <td>1451606400000</td>\n",
       "    </tr>\n",
       "    <tr>\n",
       "      <th>Latin American Cultural Production Online, from 1990 to the Present</th>\n",
       "      <td>Place and Politics in Latin American Digital C...</td>\n",
       "      <td>Book</td>\n",
       "      <td>Taylor, CL</td>\n",
       "      <td>1388534400000</td>\n",
       "    </tr>\n",
       "    <tr>\n",
       "      <th>Latin American Cultural Production Online, from 1990 to the Present</th>\n",
       "      <td>Modern Languages and the Digital: The Shape of...</td>\n",
       "      <td>Journal Article/Review</td>\n",
       "      <td>Taylor C</td>\n",
       "      <td>1483228800000</td>\n",
       "    </tr>\n",
       "    <tr>\n",
       "      <th>Optical Music Recognition from Multiple Sources</th>\n",
       "      <td>Improving optical music recognition by combini...</td>\n",
       "      <td>Conference/Paper/Proceeding/Abstract</td>\n",
       "      <td>Padilla, V</td>\n",
       "      <td>1420070400000</td>\n",
       "    </tr>\n",
       "    <tr>\n",
       "      <th>Weaving Codes - Coding Weaves</th>\n",
       "      <td>Weaving as Binary Art and the Algebra of Patterns</td>\n",
       "      <td>Journal Article/Review</td>\n",
       "      <td>Harlizius-Klück E</td>\n",
       "      <td>1483228800000</td>\n",
       "    </tr>\n",
       "    <tr>\n",
       "      <th>Weaving Codes - Coding Weaves</th>\n",
       "      <td>Introduction: Weaving Codes, Coding Weaves</td>\n",
       "      <td>Journal Article/Review</td>\n",
       "      <td>McLean A</td>\n",
       "      <td>1483228800000</td>\n",
       "    </tr>\n",
       "    <tr>\n",
       "      <th>Weaving Codes - Coding Weaves</th>\n",
       "      <td>Textility of Code: A Catalogue of Errors</td>\n",
       "      <td>Journal Article/Review</td>\n",
       "      <td>Griffiths D</td>\n",
       "      <td>1483228800000</td>\n",
       "    </tr>\n",
       "    <tr>\n",
       "      <th>Weaving Codes - Coding Weaves</th>\n",
       "      <td>Live Coding/Weaving: Penelopean Metis and the ...</td>\n",
       "      <td>Conference/Paper/Proceeding/Abstract</td>\n",
       "      <td>Cocker E</td>\n",
       "      <td>1420070400000</td>\n",
       "    </tr>\n",
       "    <tr>\n",
       "      <th>Crowd- and Community-fuelled Archaeological Research</th>\n",
       "      <td>Collective Re-Excavation and Lost Media from t...</td>\n",
       "      <td>Journal Article/Review</td>\n",
       "      <td>Wexler J</td>\n",
       "      <td>1420070400000</td>\n",
       "    </tr>\n",
       "    <tr>\n",
       "      <th>Crowd- and Community-fuelled Archaeological Research</th>\n",
       "      <td>MicroPasts. An innovative place for progressin...</td>\n",
       "      <td>Journal Article/Review</td>\n",
       "      <td>Keinan-Schoonbaert A</td>\n",
       "      <td>1388534400000</td>\n",
       "    </tr>\n",
       "    <tr>\n",
       "      <th>Crowd- and Community-fuelled Archaeological Research</th>\n",
       "      <td>The data deluge</td>\n",
       "      <td>Journal Article/Review</td>\n",
       "      <td>Bevan A</td>\n",
       "      <td>1420070400000</td>\n",
       "    </tr>\n",
       "    <tr>\n",
       "      <th>...</th>\n",
       "      <td>...</td>\n",
       "      <td>...</td>\n",
       "      <td>...</td>\n",
       "      <td>...</td>\n",
       "    </tr>\n",
       "    <tr>\n",
       "      <th>Transforming Musicology</th>\n",
       "      <td>An iterative hard thresholding approach to l0s...</td>\n",
       "      <td>Conference/Paper/Proceeding/Abstract</td>\n",
       "      <td>K. O'Hanlon</td>\n",
       "      <td>1451606400000</td>\n",
       "    </tr>\n",
       "    <tr>\n",
       "      <th>Transforming Musicology</th>\n",
       "      <td>Searching musical incipits by means of sequenc...</td>\n",
       "      <td>Conference/Paper/Proceeding/Abstract</td>\n",
       "      <td>Nuss J van</td>\n",
       "      <td>1483228800000</td>\n",
       "    </tr>\n",
       "    <tr>\n",
       "      <th>Transforming Musicology</th>\n",
       "      <td>Proceedings of the 1st International Workshop ...</td>\n",
       "      <td>Conference/Paper/Proceeding/Abstract</td>\n",
       "      <td>Fields B</td>\n",
       "      <td>1388534400000</td>\n",
       "    </tr>\n",
       "    <tr>\n",
       "      <th>Transforming Musicology</th>\n",
       "      <td>The psychology of leitmotive processing in Ric...</td>\n",
       "      <td>Conference/Paper/Proceeding/Abstract</td>\n",
       "      <td>Baker, David</td>\n",
       "      <td>1388534400000</td>\n",
       "    </tr>\n",
       "    <tr>\n",
       "      <th>Transforming Musicology</th>\n",
       "      <td>Musicology of Digital Libraries: structures in...</td>\n",
       "      <td>Conference/Paper/Proceeding/Abstract</td>\n",
       "      <td>Lewis D</td>\n",
       "      <td>1483228800000</td>\n",
       "    </tr>\n",
       "    <tr>\n",
       "      <th>Transforming Musicology</th>\n",
       "      <td>Musical texts and information retrieval: the c...</td>\n",
       "      <td>Journal Article/Review</td>\n",
       "      <td>Gale M</td>\n",
       "      <td>1420070400000</td>\n",
       "    </tr>\n",
       "    <tr>\n",
       "      <th>Transforming Musicology</th>\n",
       "      <td>The ring buffer: Capturing musicology annotati...</td>\n",
       "      <td>Conference/Paper/Proceeding/Abstract</td>\n",
       "      <td>Nurmikko-Fuller, Terhi</td>\n",
       "      <td>1388534400000</td>\n",
       "    </tr>\n",
       "    <tr>\n",
       "      <th>Transforming Musicology</th>\n",
       "      <td>Explorations in Linked Data practice for early...</td>\n",
       "      <td>Conference/Paper/Proceeding/Abstract</td>\n",
       "      <td>Crawford T</td>\n",
       "      <td>1388534400000</td>\n",
       "    </tr>\n",
       "    <tr>\n",
       "      <th>Transforming Musicology</th>\n",
       "      <td>Parsifal and the effect of narrative on uncons...</td>\n",
       "      <td>Conference/Paper/Proceeding/Abstract</td>\n",
       "      <td>Baker, David</td>\n",
       "      <td>1420070400000</td>\n",
       "    </tr>\n",
       "    <tr>\n",
       "      <th>Transforming Musicology</th>\n",
       "      <td>The Delius Catalogue of Works: A Progress Report</td>\n",
       "      <td>Conference/Paper/Proceeding/Abstract</td>\n",
       "      <td>J. Bullivant</td>\n",
       "      <td>1483228800000</td>\n",
       "    </tr>\n",
       "    <tr>\n",
       "      <th>Transforming Musicology</th>\n",
       "      <td>Numbers into Notes: Digital Prototyping as Clo...</td>\n",
       "      <td>Conference/Paper/Proceeding/Abstract</td>\n",
       "      <td>David De Roure</td>\n",
       "      <td>1483228800000</td>\n",
       "    </tr>\n",
       "    <tr>\n",
       "      <th>Transforming Musicology</th>\n",
       "      <td>Non-Negative Group Sparsity with Subspace Note...</td>\n",
       "      <td>Journal Article/Review</td>\n",
       "      <td>O'Hanlon K</td>\n",
       "      <td>1451606400000</td>\n",
       "    </tr>\n",
       "    <tr>\n",
       "      <th>Transforming Musicology</th>\n",
       "      <td>Music encoding in context: MEI and Linked Data</td>\n",
       "      <td>Conference/Paper/Proceeding/Abstract</td>\n",
       "      <td>Page, Kevin R</td>\n",
       "      <td>1420070400000</td>\n",
       "    </tr>\n",
       "    <tr>\n",
       "      <th>Transforming Musicology</th>\n",
       "      <td>Sparse NMF methods; applied to automatic music...</td>\n",
       "      <td>Conference/Paper/Proceeding/Abstract</td>\n",
       "      <td>K. O'Hanlon</td>\n",
       "      <td>1420070400000</td>\n",
       "    </tr>\n",
       "    <tr>\n",
       "      <th>Transforming Musicology</th>\n",
       "      <td>Improved Template-based chord recognition usin...</td>\n",
       "      <td>Conference/Paper/Proceeding/Abstract</td>\n",
       "      <td>K. O'Hanlon</td>\n",
       "      <td>1483228800000</td>\n",
       "    </tr>\n",
       "    <tr>\n",
       "      <th>Transforming Musicology</th>\n",
       "      <td>Capturing context and provenance of musicology...</td>\n",
       "      <td>Conference/Paper/Proceeding/Abstract</td>\n",
       "      <td>Lewis D</td>\n",
       "      <td>1483228800000</td>\n",
       "    </tr>\n",
       "    <tr>\n",
       "      <th>Transforming Musicology</th>\n",
       "      <td>Computational Music Analysis</td>\n",
       "      <td>Book Chapter</td>\n",
       "      <td>Abdallah S</td>\n",
       "      <td>1451606400000</td>\n",
       "    </tr>\n",
       "    <tr>\n",
       "      <th>Transforming Musicology</th>\n",
       "      <td>The software of your dreams: expectations and ...</td>\n",
       "      <td>Conference/Paper/Proceeding/Abstract</td>\n",
       "      <td>Wiering F</td>\n",
       "      <td>1483228800000</td>\n",
       "    </tr>\n",
       "    <tr>\n",
       "      <th>Transforming Musicology</th>\n",
       "      <td>Early modern cover song detection: finding con...</td>\n",
       "      <td>Conference/Paper/Proceeding/Abstract</td>\n",
       "      <td>Crawford T</td>\n",
       "      <td>1483228800000</td>\n",
       "    </tr>\n",
       "    <tr>\n",
       "      <th>Transforming Musicology</th>\n",
       "      <td>Towards the identification of Irish traditiona...</td>\n",
       "      <td>Conference/Paper/Proceeding/Abstract</td>\n",
       "      <td>Ali-MacLachlan, Islah</td>\n",
       "      <td>1420070400000</td>\n",
       "    </tr>\n",
       "    <tr>\n",
       "      <th>Transforming Musicology</th>\n",
       "      <td>Towards Incorporating Derived Features In Data...</td>\n",
       "      <td>Conference/Paper/Proceeding/Abstract</td>\n",
       "      <td>Catherine Blauvelt</td>\n",
       "      <td>1483228800000</td>\n",
       "    </tr>\n",
       "    <tr>\n",
       "      <th>Transforming Musicology</th>\n",
       "      <td>Proceedings of the 2nd International Workshop ...</td>\n",
       "      <td>Conference/Paper/Proceeding/Abstract</td>\n",
       "      <td>Fields B</td>\n",
       "      <td>1420070400000</td>\n",
       "    </tr>\n",
       "    <tr>\n",
       "      <th>Transforming Musicology</th>\n",
       "      <td>Non-negative Matrix Factorisation incorporatin...</td>\n",
       "      <td>Conference/Paper/Proceeding/Abstract</td>\n",
       "      <td>K. O'Hanlon</td>\n",
       "      <td>1420070400000</td>\n",
       "    </tr>\n",
       "    <tr>\n",
       "      <th>Transforming Musicology</th>\n",
       "      <td>Automated detection of single-note ornaments i...</td>\n",
       "      <td>Conference/Paper/Proceeding/Abstract</td>\n",
       "      <td>Köküer, Münevver</td>\n",
       "      <td>1388534400000</td>\n",
       "    </tr>\n",
       "    <tr>\n",
       "      <th>Transforming Musicology</th>\n",
       "      <td>Proceedings of the 4th International Workshop ...</td>\n",
       "      <td>Conference/Paper/Proceeding/Abstract</td>\n",
       "      <td>Page KR</td>\n",
       "      <td>1483228800000</td>\n",
       "    </tr>\n",
       "    <tr>\n",
       "      <th>Transforming Musicology</th>\n",
       "      <td>Multi-modal Musical Performance Capture</td>\n",
       "      <td>Conference/Paper/Proceeding/Abstract</td>\n",
       "      <td>Mullensiefen D</td>\n",
       "      <td>1388534400000</td>\n",
       "    </tr>\n",
       "    <tr>\n",
       "      <th>Transforming Musicology</th>\n",
       "      <td>MEI for lute music</td>\n",
       "      <td>Conference/Paper/Proceeding/Abstract</td>\n",
       "      <td>Lewis D</td>\n",
       "      <td>1420070400000</td>\n",
       "    </tr>\n",
       "    <tr>\n",
       "      <th>Transforming Musicology</th>\n",
       "      <td>Detecting Metric Changes using Homogeneity Clu...</td>\n",
       "      <td>Conference/Paper/Proceeding/Abstract</td>\n",
       "      <td>E. Quinton</td>\n",
       "      <td>1483228800000</td>\n",
       "    </tr>\n",
       "    <tr>\n",
       "      <th>Digital Community Workspaces: Delivering Impact through Public Library and Archive networks</th>\n",
       "      <td>Pararchive and Island Stories: collaborative c...</td>\n",
       "      <td>Journal Article/Review</td>\n",
       "      <td>Duffy P</td>\n",
       "      <td>1483228800000</td>\n",
       "    </tr>\n",
       "    <tr>\n",
       "      <th>I Stood Up to Violence: Making it Public</th>\n",
       "      <td>I Stood Up: Social Design in Practice</td>\n",
       "      <td>Journal Article/Review</td>\n",
       "      <td>Corby T</td>\n",
       "      <td>1451606400000</td>\n",
       "    </tr>\n",
       "  </tbody>\n",
       "</table>\n",
       "<p>727 rows × 4 columns</p>\n",
       "</div>"
      ],
      "text/plain": [
       "                                                                                          Publication  \\\n",
       "ID                                                                                                      \n",
       "Building sustainability and informing policy: T...  Digital Co-production in Archaeology. An edito...   \n",
       "Building sustainability and informing policy: T...  Experiments in Crowd-funding Community Archaeo...   \n",
       "Building sustainability and informing policy: T...  Crowd- and community-fuelled archaeology. Earl...   \n",
       "Building sustainability and informing policy: T...  (Submitted) Evaluating Participants and Partic...   \n",
       "Building sustainability and informing policy: T...  Crowd-sourcing the British Bronze Age: Initial...   \n",
       "Building sustainability and informing policy: T...  Online Research Collaborations beyond the Academy   \n",
       "The Human Side of Digitized Knowledge: Communit...  Ethno-ornithology of the Mushere of Nigeria: C...   \n",
       "The Human Side of Digitized Knowledge: Communit...  &quot;Listen Carefully to the Voices of the Bi...   \n",
       "The Human Side of Digitized Knowledge: Communit...  Inter-governmental Platform on Biodiversity &a...   \n",
       "The Human Side of Digitized Knowledge: Communit...  The Human Factor: Ecological Salience in Ornit...   \n",
       "Latin(o) American Digital Art: Exhibitions and ...  &quot;Writing sprints&quot; can facilitate col...   \n",
       "Latin(o) American Digital Art: Exhibitions and ...                             Branding Latin America   \n",
       "Latin(o) American Digital Art: Exhibitions and ...  Using social media to curate digital artworks ...   \n",
       "Latin(o) American Digital Art: Exhibitions and ...  Marina Zerbarini's Tejido de memoria (Memory W...   \n",
       "Latin(o) American Digital Art: Exhibitions and ...  How activist artists on the US-Mexico border c...   \n",
       "Latin(o) American Digital Art: Exhibitions and ...  Latin(o) American Digital Art: Some Observatio...   \n",
       "Latin(o) American Digital Art: Exhibitions and ...                                 Cities in Dialogue   \n",
       "Latin(o) American Digital Art: Exhibitions and ...  Modern Languages and the Digital: The Shape of...   \n",
       "Latin(o) American Digital Art: Exhibitions and ...  Place and Politics in Latin American Digital C...   \n",
       "Latin American Cultural Production Online, from...                                 Cities in Dialogue   \n",
       "Latin American Cultural Production Online, from...  Place and Politics in Latin American Digital C...   \n",
       "Latin American Cultural Production Online, from...  Modern Languages and the Digital: The Shape of...   \n",
       "Optical Music Recognition from Multiple Sources     Improving optical music recognition by combini...   \n",
       "Weaving Codes - Coding Weaves                       Weaving as Binary Art and the Algebra of Patterns   \n",
       "Weaving Codes - Coding Weaves                              Introduction: Weaving Codes, Coding Weaves   \n",
       "Weaving Codes - Coding Weaves                                Textility of Code: A Catalogue of Errors   \n",
       "Weaving Codes - Coding Weaves                       Live Coding/Weaving: Penelopean Metis and the ...   \n",
       "Crowd- and Community-fuelled Archaeological Res...  Collective Re-Excavation and Lost Media from t...   \n",
       "Crowd- and Community-fuelled Archaeological Res...  MicroPasts. An innovative place for progressin...   \n",
       "Crowd- and Community-fuelled Archaeological Res...                                    The data deluge   \n",
       "...                                                                                               ...   \n",
       "Transforming Musicology                             An iterative hard thresholding approach to l0s...   \n",
       "Transforming Musicology                             Searching musical incipits by means of sequenc...   \n",
       "Transforming Musicology                             Proceedings of the 1st International Workshop ...   \n",
       "Transforming Musicology                             The psychology of leitmotive processing in Ric...   \n",
       "Transforming Musicology                             Musicology of Digital Libraries: structures in...   \n",
       "Transforming Musicology                             Musical texts and information retrieval: the c...   \n",
       "Transforming Musicology                             The ring buffer: Capturing musicology annotati...   \n",
       "Transforming Musicology                             Explorations in Linked Data practice for early...   \n",
       "Transforming Musicology                             Parsifal and the effect of narrative on uncons...   \n",
       "Transforming Musicology                              The Delius Catalogue of Works: A Progress Report   \n",
       "Transforming Musicology                             Numbers into Notes: Digital Prototyping as Clo...   \n",
       "Transforming Musicology                             Non-Negative Group Sparsity with Subspace Note...   \n",
       "Transforming Musicology                                Music encoding in context: MEI and Linked Data   \n",
       "Transforming Musicology                             Sparse NMF methods; applied to automatic music...   \n",
       "Transforming Musicology                             Improved Template-based chord recognition usin...   \n",
       "Transforming Musicology                             Capturing context and provenance of musicology...   \n",
       "Transforming Musicology                                                  Computational Music Analysis   \n",
       "Transforming Musicology                             The software of your dreams: expectations and ...   \n",
       "Transforming Musicology                             Early modern cover song detection: finding con...   \n",
       "Transforming Musicology                             Towards the identification of Irish traditiona...   \n",
       "Transforming Musicology                             Towards Incorporating Derived Features In Data...   \n",
       "Transforming Musicology                             Proceedings of the 2nd International Workshop ...   \n",
       "Transforming Musicology                             Non-negative Matrix Factorisation incorporatin...   \n",
       "Transforming Musicology                             Automated detection of single-note ornaments i...   \n",
       "Transforming Musicology                             Proceedings of the 4th International Workshop ...   \n",
       "Transforming Musicology                                       Multi-modal Musical Performance Capture   \n",
       "Transforming Musicology                                                            MEI for lute music   \n",
       "Transforming Musicology                             Detecting Metric Changes using Homogeneity Clu...   \n",
       "Digital Community Workspaces: Delivering Impact...  Pararchive and Island Stories: collaborative c...   \n",
       "I Stood Up to Violence: Making it Public                        I Stood Up: Social Design in Practice   \n",
       "\n",
       "                                                                                    Type  \\\n",
       "ID                                                                                         \n",
       "Building sustainability and informing policy: T...                Journal Article/Review   \n",
       "Building sustainability and informing policy: T...                Journal Article/Review   \n",
       "Building sustainability and informing policy: T...  Conference/Paper/Proceeding/Abstract   \n",
       "Building sustainability and informing policy: T...                Journal Article/Review   \n",
       "Building sustainability and informing policy: T...  Conference/Paper/Proceeding/Abstract   \n",
       "Building sustainability and informing policy: T...                     Systematic review   \n",
       "The Human Side of Digitized Knowledge: Communit...                Journal Article/Review   \n",
       "The Human Side of Digitized Knowledge: Communit...                Journal Article/Review   \n",
       "The Human Side of Digitized Knowledge: Communit...                          Book Chapter   \n",
       "The Human Side of Digitized Knowledge: Communit...                Journal Article/Review   \n",
       "Latin(o) American Digital Art: Exhibitions and ...                                 Other   \n",
       "Latin(o) American Digital Art: Exhibitions and ...                          Book Chapter   \n",
       "Latin(o) American Digital Art: Exhibitions and ...                                 Other   \n",
       "Latin(o) American Digital Art: Exhibitions and ...                                 Other   \n",
       "Latin(o) American Digital Art: Exhibitions and ...                                 Other   \n",
       "Latin(o) American Digital Art: Exhibitions and ...                Journal Article/Review   \n",
       "Latin(o) American Digital Art: Exhibitions and ...                                  Book   \n",
       "Latin(o) American Digital Art: Exhibitions and ...                Journal Article/Review   \n",
       "Latin(o) American Digital Art: Exhibitions and ...                                  Book   \n",
       "Latin American Cultural Production Online, from...                                  Book   \n",
       "Latin American Cultural Production Online, from...                                  Book   \n",
       "Latin American Cultural Production Online, from...                Journal Article/Review   \n",
       "Optical Music Recognition from Multiple Sources     Conference/Paper/Proceeding/Abstract   \n",
       "Weaving Codes - Coding Weaves                                     Journal Article/Review   \n",
       "Weaving Codes - Coding Weaves                                     Journal Article/Review   \n",
       "Weaving Codes - Coding Weaves                                     Journal Article/Review   \n",
       "Weaving Codes - Coding Weaves                       Conference/Paper/Proceeding/Abstract   \n",
       "Crowd- and Community-fuelled Archaeological Res...                Journal Article/Review   \n",
       "Crowd- and Community-fuelled Archaeological Res...                Journal Article/Review   \n",
       "Crowd- and Community-fuelled Archaeological Res...                Journal Article/Review   \n",
       "...                                                                                  ...   \n",
       "Transforming Musicology                             Conference/Paper/Proceeding/Abstract   \n",
       "Transforming Musicology                             Conference/Paper/Proceeding/Abstract   \n",
       "Transforming Musicology                             Conference/Paper/Proceeding/Abstract   \n",
       "Transforming Musicology                             Conference/Paper/Proceeding/Abstract   \n",
       "Transforming Musicology                             Conference/Paper/Proceeding/Abstract   \n",
       "Transforming Musicology                                           Journal Article/Review   \n",
       "Transforming Musicology                             Conference/Paper/Proceeding/Abstract   \n",
       "Transforming Musicology                             Conference/Paper/Proceeding/Abstract   \n",
       "Transforming Musicology                             Conference/Paper/Proceeding/Abstract   \n",
       "Transforming Musicology                             Conference/Paper/Proceeding/Abstract   \n",
       "Transforming Musicology                             Conference/Paper/Proceeding/Abstract   \n",
       "Transforming Musicology                                           Journal Article/Review   \n",
       "Transforming Musicology                             Conference/Paper/Proceeding/Abstract   \n",
       "Transforming Musicology                             Conference/Paper/Proceeding/Abstract   \n",
       "Transforming Musicology                             Conference/Paper/Proceeding/Abstract   \n",
       "Transforming Musicology                             Conference/Paper/Proceeding/Abstract   \n",
       "Transforming Musicology                                                     Book Chapter   \n",
       "Transforming Musicology                             Conference/Paper/Proceeding/Abstract   \n",
       "Transforming Musicology                             Conference/Paper/Proceeding/Abstract   \n",
       "Transforming Musicology                             Conference/Paper/Proceeding/Abstract   \n",
       "Transforming Musicology                             Conference/Paper/Proceeding/Abstract   \n",
       "Transforming Musicology                             Conference/Paper/Proceeding/Abstract   \n",
       "Transforming Musicology                             Conference/Paper/Proceeding/Abstract   \n",
       "Transforming Musicology                             Conference/Paper/Proceeding/Abstract   \n",
       "Transforming Musicology                             Conference/Paper/Proceeding/Abstract   \n",
       "Transforming Musicology                             Conference/Paper/Proceeding/Abstract   \n",
       "Transforming Musicology                             Conference/Paper/Proceeding/Abstract   \n",
       "Transforming Musicology                             Conference/Paper/Proceeding/Abstract   \n",
       "Digital Community Workspaces: Delivering Impact...                Journal Article/Review   \n",
       "I Stood Up to Violence: Making it Public                          Journal Article/Review   \n",
       "\n",
       "                                                                     Autor  \\\n",
       "ID                                                                           \n",
       "Building sustainability and informing policy: T...              Bonacchi C   \n",
       "Building sustainability and informing policy: T...              Bonacchi C   \n",
       "Building sustainability and informing policy: T...             Bonacchi, C   \n",
       "Building sustainability and informing policy: T...            Bonacchi, C.   \n",
       "Building sustainability and informing policy: T...               Wilkin,N.   \n",
       "Building sustainability and informing policy: T...         Chiara Bonacchi   \n",
       "The Human Side of Digitized Knowledge: Communit...                 Pam G B   \n",
       "The Human Side of Digitized Knowledge: Communit...             Wyndham F S   \n",
       "The Human Side of Digitized Knowledge: Communit...             Wyndham F S   \n",
       "The Human Side of Digitized Knowledge: Communit...                Gosler A   \n",
       "Latin(o) American Digital Art: Exhibitions and ...                Taylor C   \n",
       "Latin(o) American Digital Art: Exhibitions and ...                Taylor C   \n",
       "Latin(o) American Digital Art: Exhibitions and ...                Taylor C   \n",
       "Latin(o) American Digital Art: Exhibitions and ...                 Peate A   \n",
       "Latin(o) American Digital Art: Exhibitions and ...                Taylor C   \n",
       "Latin(o) American Digital Art: Exhibitions and ...                Taylor C   \n",
       "Latin(o) American Digital Art: Exhibitions and ...           Taylor Claire   \n",
       "Latin(o) American Digital Art: Exhibitions and ...                Taylor C   \n",
       "Latin(o) American Digital Art: Exhibitions and ...              Taylor, CL   \n",
       "Latin American Cultural Production Online, from...           Taylor Claire   \n",
       "Latin American Cultural Production Online, from...              Taylor, CL   \n",
       "Latin American Cultural Production Online, from...                Taylor C   \n",
       "Optical Music Recognition from Multiple Sources                 Padilla, V   \n",
       "Weaving Codes - Coding Weaves                            Harlizius-Klück E   \n",
       "Weaving Codes - Coding Weaves                                     McLean A   \n",
       "Weaving Codes - Coding Weaves                                  Griffiths D   \n",
       "Weaving Codes - Coding Weaves                                     Cocker E   \n",
       "Crowd- and Community-fuelled Archaeological Res...                Wexler J   \n",
       "Crowd- and Community-fuelled Archaeological Res...    Keinan-Schoonbaert A   \n",
       "Crowd- and Community-fuelled Archaeological Res...                 Bevan A   \n",
       "...                                                                    ...   \n",
       "Transforming Musicology                                        K. O'Hanlon   \n",
       "Transforming Musicology                                         Nuss J van   \n",
       "Transforming Musicology                                           Fields B   \n",
       "Transforming Musicology                                       Baker, David   \n",
       "Transforming Musicology                                            Lewis D   \n",
       "Transforming Musicology                                             Gale M   \n",
       "Transforming Musicology                             Nurmikko-Fuller, Terhi   \n",
       "Transforming Musicology                                         Crawford T   \n",
       "Transforming Musicology                                       Baker, David   \n",
       "Transforming Musicology                                       J. Bullivant   \n",
       "Transforming Musicology                                     David De Roure   \n",
       "Transforming Musicology                                         O'Hanlon K   \n",
       "Transforming Musicology                                      Page, Kevin R   \n",
       "Transforming Musicology                                        K. O'Hanlon   \n",
       "Transforming Musicology                                        K. O'Hanlon   \n",
       "Transforming Musicology                                            Lewis D   \n",
       "Transforming Musicology                                         Abdallah S   \n",
       "Transforming Musicology                                          Wiering F   \n",
       "Transforming Musicology                                         Crawford T   \n",
       "Transforming Musicology                              Ali-MacLachlan, Islah   \n",
       "Transforming Musicology                                 Catherine Blauvelt   \n",
       "Transforming Musicology                                           Fields B   \n",
       "Transforming Musicology                                        K. O'Hanlon   \n",
       "Transforming Musicology                                   Köküer, Münevver   \n",
       "Transforming Musicology                                            Page KR   \n",
       "Transforming Musicology                                     Mullensiefen D   \n",
       "Transforming Musicology                                            Lewis D   \n",
       "Transforming Musicology                                         E. Quinton   \n",
       "Digital Community Workspaces: Delivering Impact...                 Duffy P   \n",
       "I Stood Up to Violence: Making it Public                           Corby T   \n",
       "\n",
       "                                                             Date  \n",
       "ID                                                                 \n",
       "Building sustainability and informing policy: T...  1483228800000  \n",
       "Building sustainability and informing policy: T...  1420070400000  \n",
       "Building sustainability and informing policy: T...  1420070400000  \n",
       "Building sustainability and informing policy: T...                 \n",
       "Building sustainability and informing policy: T...  1420070400000  \n",
       "Building sustainability and informing policy: T...  1514764800000  \n",
       "The Human Side of Digitized Knowledge: Communit...                 \n",
       "The Human Side of Digitized Knowledge: Communit...                 \n",
       "The Human Side of Digitized Knowledge: Communit...                 \n",
       "The Human Side of Digitized Knowledge: Communit...  1483228800000  \n",
       "Latin(o) American Digital Art: Exhibitions and ...  1483228800000  \n",
       "Latin(o) American Digital Art: Exhibitions and ...  1514764800000  \n",
       "Latin(o) American Digital Art: Exhibitions and ...  1483228800000  \n",
       "Latin(o) American Digital Art: Exhibitions and ...  1483228800000  \n",
       "Latin(o) American Digital Art: Exhibitions and ...  1483228800000  \n",
       "Latin(o) American Digital Art: Exhibitions and ...  1451606400000  \n",
       "Latin(o) American Digital Art: Exhibitions and ...  1451606400000  \n",
       "Latin(o) American Digital Art: Exhibitions and ...  1483228800000  \n",
       "Latin(o) American Digital Art: Exhibitions and ...  1388534400000  \n",
       "Latin American Cultural Production Online, from...  1451606400000  \n",
       "Latin American Cultural Production Online, from...  1388534400000  \n",
       "Latin American Cultural Production Online, from...  1483228800000  \n",
       "Optical Music Recognition from Multiple Sources     1420070400000  \n",
       "Weaving Codes - Coding Weaves                       1483228800000  \n",
       "Weaving Codes - Coding Weaves                       1483228800000  \n",
       "Weaving Codes - Coding Weaves                       1483228800000  \n",
       "Weaving Codes - Coding Weaves                       1420070400000  \n",
       "Crowd- and Community-fuelled Archaeological Res...  1420070400000  \n",
       "Crowd- and Community-fuelled Archaeological Res...  1388534400000  \n",
       "Crowd- and Community-fuelled Archaeological Res...  1420070400000  \n",
       "...                                                           ...  \n",
       "Transforming Musicology                             1451606400000  \n",
       "Transforming Musicology                             1483228800000  \n",
       "Transforming Musicology                             1388534400000  \n",
       "Transforming Musicology                             1388534400000  \n",
       "Transforming Musicology                             1483228800000  \n",
       "Transforming Musicology                             1420070400000  \n",
       "Transforming Musicology                             1388534400000  \n",
       "Transforming Musicology                             1388534400000  \n",
       "Transforming Musicology                             1420070400000  \n",
       "Transforming Musicology                             1483228800000  \n",
       "Transforming Musicology                             1483228800000  \n",
       "Transforming Musicology                             1451606400000  \n",
       "Transforming Musicology                             1420070400000  \n",
       "Transforming Musicology                             1420070400000  \n",
       "Transforming Musicology                             1483228800000  \n",
       "Transforming Musicology                             1483228800000  \n",
       "Transforming Musicology                             1451606400000  \n",
       "Transforming Musicology                             1483228800000  \n",
       "Transforming Musicology                             1483228800000  \n",
       "Transforming Musicology                             1420070400000  \n",
       "Transforming Musicology                             1483228800000  \n",
       "Transforming Musicology                             1420070400000  \n",
       "Transforming Musicology                             1420070400000  \n",
       "Transforming Musicology                             1388534400000  \n",
       "Transforming Musicology                             1483228800000  \n",
       "Transforming Musicology                             1388534400000  \n",
       "Transforming Musicology                             1420070400000  \n",
       "Transforming Musicology                             1483228800000  \n",
       "Digital Community Workspaces: Delivering Impact...  1483228800000  \n",
       "I Stood Up to Violence: Making it Public            1451606400000  \n",
       "\n",
       "[727 rows x 4 columns]"
      ]
     },
     "execution_count": 16,
     "metadata": {},
     "output_type": "execute_result"
    }
   ],
   "source": [
    "df_publications"
   ]
  },
  {
   "cell_type": "code",
   "execution_count": 17,
   "metadata": {},
   "outputs": [
    {
     "data": {
      "text/html": [
       "<div>\n",
       "<style scoped>\n",
       "    .dataframe tbody tr th:only-of-type {\n",
       "        vertical-align: middle;\n",
       "    }\n",
       "\n",
       "    .dataframe tbody tr th {\n",
       "        vertical-align: top;\n",
       "    }\n",
       "\n",
       "    .dataframe thead th {\n",
       "        text-align: right;\n",
       "    }\n",
       "</style>\n",
       "<table border=\"1\" class=\"dataframe\">\n",
       "  <thead>\n",
       "    <tr style=\"text-align: right;\">\n",
       "      <th></th>\n",
       "      <th>Publication</th>\n",
       "      <th>Type</th>\n",
       "      <th>Autor</th>\n",
       "      <th>Date</th>\n",
       "    </tr>\n",
       "    <tr>\n",
       "      <th>ID</th>\n",
       "      <th></th>\n",
       "      <th></th>\n",
       "      <th></th>\n",
       "      <th></th>\n",
       "    </tr>\n",
       "  </thead>\n",
       "  <tbody>\n",
       "    <tr>\n",
       "      <th>Visualising European Crime Fiction: New Digital Tools and Approaches to the Study of Transnational Popular Culture</th>\n",
       "      <td>&amp;lt;&amp;lt; O romance e leitores populares (1830-...</td>\n",
       "      <td>Journal Article/Review</td>\n",
       "      <td>Loïc Artiaga</td>\n",
       "      <td></td>\n",
       "    </tr>\n",
       "  </tbody>\n",
       "</table>\n",
       "</div>"
      ],
      "text/plain": [
       "                                                                                          Publication  \\\n",
       "ID                                                                                                      \n",
       "Visualising European Crime Fiction: New Digital...  &lt;&lt; O romance e leitores populares (1830-...   \n",
       "\n",
       "                                                                      Type  \\\n",
       "ID                                                                           \n",
       "Visualising European Crime Fiction: New Digital...  Journal Article/Review   \n",
       "\n",
       "                                                           Autor Date  \n",
       "ID                                                                     \n",
       "Visualising European Crime Fiction: New Digital...  Loïc Artiaga       "
      ]
     },
     "execution_count": 17,
     "metadata": {},
     "output_type": "execute_result"
    }
   ],
   "source": [
    "df_publications[df_publications[\"Publication\"].str.contains(\"romance\")]"
   ]
  },
  {
   "cell_type": "code",
   "execution_count": 18,
   "metadata": {},
   "outputs": [],
   "source": [
    "df_publications.to_csv(\"pub.csv\", sep=\"§\")"
   ]
  },
  {
   "cell_type": "code",
   "execution_count": 19,
   "metadata": {},
   "outputs": [],
   "source": [
    "cols = [\"ID\", \"Reference\", \"Publication\"]\n",
    "publications_df = pd.DataFrame(columns=cols, index=range(727))\n",
    "\n",
    "counter = 0\n",
    "for project in li:\n",
    "    url = (urlgtr + '\"' + project + '\"' + \"&f=pro.gr\")\n",
    "    response = requests.get(url, headers=headers)\n",
    "    proginfo = json.loads(response.text)[\"project\"]\n",
    "    publication = []\n",
    "    for i in range (0, len(proginfo[0][\"links\"][\"link\"])):\n",
    "        if proginfo[0][\"links\"][\"link\"][i][\"rel\"] == \"PUBLICATION\":\n",
    "            publications_df.iloc[counter][0] = proginfo[0][\"id\"]\n",
    "            publications_df.iloc[counter][1] = project\n",
    "            publications_df.iloc[counter][2] = proginfo[0][\"links\"][\"link\"][i][\"href\"]\n",
    "            counter += 1"
   ]
  },
  {
   "cell_type": "code",
   "execution_count": 20,
   "metadata": {},
   "outputs": [
    {
     "data": {
      "text/html": [
       "<div>\n",
       "<style scoped>\n",
       "    .dataframe tbody tr th:only-of-type {\n",
       "        vertical-align: middle;\n",
       "    }\n",
       "\n",
       "    .dataframe tbody tr th {\n",
       "        vertical-align: top;\n",
       "    }\n",
       "\n",
       "    .dataframe thead th {\n",
       "        text-align: right;\n",
       "    }\n",
       "</style>\n",
       "<table border=\"1\" class=\"dataframe\">\n",
       "  <thead>\n",
       "    <tr style=\"text-align: right;\">\n",
       "      <th></th>\n",
       "      <th>ID</th>\n",
       "      <th>Reference</th>\n",
       "      <th>Publication</th>\n",
       "    </tr>\n",
       "  </thead>\n",
       "  <tbody>\n",
       "    <tr>\n",
       "      <th>0</th>\n",
       "      <td>BF3B84D7-4CBD-4A7E-A9DA-88098267C998</td>\n",
       "      <td>AH/M00953X/1</td>\n",
       "      <td>https://gtr.ukri.org:443/gtr/api/outcomes/publ...</td>\n",
       "    </tr>\n",
       "    <tr>\n",
       "      <th>1</th>\n",
       "      <td>BF3B84D7-4CBD-4A7E-A9DA-88098267C998</td>\n",
       "      <td>AH/M00953X/1</td>\n",
       "      <td>https://gtr.ukri.org:443/gtr/api/outcomes/publ...</td>\n",
       "    </tr>\n",
       "    <tr>\n",
       "      <th>2</th>\n",
       "      <td>BF3B84D7-4CBD-4A7E-A9DA-88098267C998</td>\n",
       "      <td>AH/M00953X/1</td>\n",
       "      <td>https://gtr.ukri.org:443/gtr/api/outcomes/publ...</td>\n",
       "    </tr>\n",
       "    <tr>\n",
       "      <th>3</th>\n",
       "      <td>BF3B84D7-4CBD-4A7E-A9DA-88098267C998</td>\n",
       "      <td>AH/M00953X/1</td>\n",
       "      <td>https://gtr.ukri.org:443/gtr/api/outcomes/publ...</td>\n",
       "    </tr>\n",
       "    <tr>\n",
       "      <th>4</th>\n",
       "      <td>BF3B84D7-4CBD-4A7E-A9DA-88098267C998</td>\n",
       "      <td>AH/M00953X/1</td>\n",
       "      <td>https://gtr.ukri.org:443/gtr/api/outcomes/publ...</td>\n",
       "    </tr>\n",
       "    <tr>\n",
       "      <th>5</th>\n",
       "      <td>BF3B84D7-4CBD-4A7E-A9DA-88098267C998</td>\n",
       "      <td>AH/M00953X/1</td>\n",
       "      <td>https://gtr.ukri.org:443/gtr/api/outcomes/publ...</td>\n",
       "    </tr>\n",
       "    <tr>\n",
       "      <th>6</th>\n",
       "      <td>26905938-5538-42DA-B039-1286285CD78B</td>\n",
       "      <td>AH/N006445/1</td>\n",
       "      <td>https://gtr.ukri.org:443/gtr/api/outcomes/publ...</td>\n",
       "    </tr>\n",
       "    <tr>\n",
       "      <th>7</th>\n",
       "      <td>26905938-5538-42DA-B039-1286285CD78B</td>\n",
       "      <td>AH/N006445/1</td>\n",
       "      <td>https://gtr.ukri.org:443/gtr/api/outcomes/publ...</td>\n",
       "    </tr>\n",
       "    <tr>\n",
       "      <th>8</th>\n",
       "      <td>26905938-5538-42DA-B039-1286285CD78B</td>\n",
       "      <td>AH/N006445/1</td>\n",
       "      <td>https://gtr.ukri.org:443/gtr/api/outcomes/publ...</td>\n",
       "    </tr>\n",
       "    <tr>\n",
       "      <th>9</th>\n",
       "      <td>26905938-5538-42DA-B039-1286285CD78B</td>\n",
       "      <td>AH/N006445/1</td>\n",
       "      <td>https://gtr.ukri.org:443/gtr/api/outcomes/publ...</td>\n",
       "    </tr>\n",
       "    <tr>\n",
       "      <th>10</th>\n",
       "      <td>E0424FD0-B510-49D0-B9B7-D598EA2B2EC6</td>\n",
       "      <td>AH/L012545/1</td>\n",
       "      <td>https://gtr.ukri.org:443/gtr/api/outcomes/publ...</td>\n",
       "    </tr>\n",
       "    <tr>\n",
       "      <th>11</th>\n",
       "      <td>E0424FD0-B510-49D0-B9B7-D598EA2B2EC6</td>\n",
       "      <td>AH/L012545/1</td>\n",
       "      <td>https://gtr.ukri.org:443/gtr/api/outcomes/publ...</td>\n",
       "    </tr>\n",
       "    <tr>\n",
       "      <th>12</th>\n",
       "      <td>E0424FD0-B510-49D0-B9B7-D598EA2B2EC6</td>\n",
       "      <td>AH/L012545/1</td>\n",
       "      <td>https://gtr.ukri.org:443/gtr/api/outcomes/publ...</td>\n",
       "    </tr>\n",
       "    <tr>\n",
       "      <th>13</th>\n",
       "      <td>E0424FD0-B510-49D0-B9B7-D598EA2B2EC6</td>\n",
       "      <td>AH/L012545/1</td>\n",
       "      <td>https://gtr.ukri.org:443/gtr/api/outcomes/publ...</td>\n",
       "    </tr>\n",
       "    <tr>\n",
       "      <th>14</th>\n",
       "      <td>E0424FD0-B510-49D0-B9B7-D598EA2B2EC6</td>\n",
       "      <td>AH/L012545/1</td>\n",
       "      <td>https://gtr.ukri.org:443/gtr/api/outcomes/publ...</td>\n",
       "    </tr>\n",
       "    <tr>\n",
       "      <th>15</th>\n",
       "      <td>E0424FD0-B510-49D0-B9B7-D598EA2B2EC6</td>\n",
       "      <td>AH/L012545/1</td>\n",
       "      <td>https://gtr.ukri.org:443/gtr/api/outcomes/publ...</td>\n",
       "    </tr>\n",
       "    <tr>\n",
       "      <th>16</th>\n",
       "      <td>E0424FD0-B510-49D0-B9B7-D598EA2B2EC6</td>\n",
       "      <td>AH/L012545/1</td>\n",
       "      <td>https://gtr.ukri.org:443/gtr/api/outcomes/publ...</td>\n",
       "    </tr>\n",
       "    <tr>\n",
       "      <th>17</th>\n",
       "      <td>E0424FD0-B510-49D0-B9B7-D598EA2B2EC6</td>\n",
       "      <td>AH/L012545/1</td>\n",
       "      <td>https://gtr.ukri.org:443/gtr/api/outcomes/publ...</td>\n",
       "    </tr>\n",
       "    <tr>\n",
       "      <th>18</th>\n",
       "      <td>E0424FD0-B510-49D0-B9B7-D598EA2B2EC6</td>\n",
       "      <td>AH/L012545/1</td>\n",
       "      <td>https://gtr.ukri.org:443/gtr/api/outcomes/publ...</td>\n",
       "    </tr>\n",
       "    <tr>\n",
       "      <th>19</th>\n",
       "      <td>D2D09E06-D5F1-474F-A8FB-8E4472D39438</td>\n",
       "      <td>AH/J008109/1</td>\n",
       "      <td>https://gtr.ukri.org:443/gtr/api/outcomes/publ...</td>\n",
       "    </tr>\n",
       "    <tr>\n",
       "      <th>20</th>\n",
       "      <td>D2D09E06-D5F1-474F-A8FB-8E4472D39438</td>\n",
       "      <td>AH/J008109/1</td>\n",
       "      <td>https://gtr.ukri.org:443/gtr/api/outcomes/publ...</td>\n",
       "    </tr>\n",
       "    <tr>\n",
       "      <th>21</th>\n",
       "      <td>D2D09E06-D5F1-474F-A8FB-8E4472D39438</td>\n",
       "      <td>AH/J008109/1</td>\n",
       "      <td>https://gtr.ukri.org:443/gtr/api/outcomes/publ...</td>\n",
       "    </tr>\n",
       "    <tr>\n",
       "      <th>22</th>\n",
       "      <td>D4A55F5E-807C-469D-BA4E-5075BDE3D050</td>\n",
       "      <td>AH/L009870/1</td>\n",
       "      <td>https://gtr.ukri.org:443/gtr/api/outcomes/publ...</td>\n",
       "    </tr>\n",
       "    <tr>\n",
       "      <th>23</th>\n",
       "      <td>D4E18A32-4326-4F7A-BCA3-8F520CC8D961</td>\n",
       "      <td>AH/M002403/1</td>\n",
       "      <td>https://gtr.ukri.org:443/gtr/api/outcomes/publ...</td>\n",
       "    </tr>\n",
       "    <tr>\n",
       "      <th>24</th>\n",
       "      <td>D4E18A32-4326-4F7A-BCA3-8F520CC8D961</td>\n",
       "      <td>AH/M002403/1</td>\n",
       "      <td>https://gtr.ukri.org:443/gtr/api/outcomes/publ...</td>\n",
       "    </tr>\n",
       "    <tr>\n",
       "      <th>25</th>\n",
       "      <td>D4E18A32-4326-4F7A-BCA3-8F520CC8D961</td>\n",
       "      <td>AH/M002403/1</td>\n",
       "      <td>https://gtr.ukri.org:443/gtr/api/outcomes/publ...</td>\n",
       "    </tr>\n",
       "    <tr>\n",
       "      <th>26</th>\n",
       "      <td>D4E18A32-4326-4F7A-BCA3-8F520CC8D961</td>\n",
       "      <td>AH/M002403/1</td>\n",
       "      <td>https://gtr.ukri.org:443/gtr/api/outcomes/publ...</td>\n",
       "    </tr>\n",
       "    <tr>\n",
       "      <th>27</th>\n",
       "      <td>01871809-44E0-4A6B-A9CF-B1E9046B53A4</td>\n",
       "      <td>AH/L007657/1</td>\n",
       "      <td>https://gtr.ukri.org:443/gtr/api/outcomes/publ...</td>\n",
       "    </tr>\n",
       "    <tr>\n",
       "      <th>28</th>\n",
       "      <td>01871809-44E0-4A6B-A9CF-B1E9046B53A4</td>\n",
       "      <td>AH/L007657/1</td>\n",
       "      <td>https://gtr.ukri.org:443/gtr/api/outcomes/publ...</td>\n",
       "    </tr>\n",
       "    <tr>\n",
       "      <th>29</th>\n",
       "      <td>01871809-44E0-4A6B-A9CF-B1E9046B53A4</td>\n",
       "      <td>AH/L007657/1</td>\n",
       "      <td>https://gtr.ukri.org:443/gtr/api/outcomes/publ...</td>\n",
       "    </tr>\n",
       "    <tr>\n",
       "      <th>...</th>\n",
       "      <td>...</td>\n",
       "      <td>...</td>\n",
       "      <td>...</td>\n",
       "    </tr>\n",
       "    <tr>\n",
       "      <th>697</th>\n",
       "      <td>14470C78-D34D-43EE-9791-707C985051A7</td>\n",
       "      <td>AH/L006820/1</td>\n",
       "      <td>https://gtr.ukri.org:443/gtr/api/outcomes/publ...</td>\n",
       "    </tr>\n",
       "    <tr>\n",
       "      <th>698</th>\n",
       "      <td>14470C78-D34D-43EE-9791-707C985051A7</td>\n",
       "      <td>AH/L006820/1</td>\n",
       "      <td>https://gtr.ukri.org:443/gtr/api/outcomes/publ...</td>\n",
       "    </tr>\n",
       "    <tr>\n",
       "      <th>699</th>\n",
       "      <td>14470C78-D34D-43EE-9791-707C985051A7</td>\n",
       "      <td>AH/L006820/1</td>\n",
       "      <td>https://gtr.ukri.org:443/gtr/api/outcomes/publ...</td>\n",
       "    </tr>\n",
       "    <tr>\n",
       "      <th>700</th>\n",
       "      <td>14470C78-D34D-43EE-9791-707C985051A7</td>\n",
       "      <td>AH/L006820/1</td>\n",
       "      <td>https://gtr.ukri.org:443/gtr/api/outcomes/publ...</td>\n",
       "    </tr>\n",
       "    <tr>\n",
       "      <th>701</th>\n",
       "      <td>14470C78-D34D-43EE-9791-707C985051A7</td>\n",
       "      <td>AH/L006820/1</td>\n",
       "      <td>https://gtr.ukri.org:443/gtr/api/outcomes/publ...</td>\n",
       "    </tr>\n",
       "    <tr>\n",
       "      <th>702</th>\n",
       "      <td>14470C78-D34D-43EE-9791-707C985051A7</td>\n",
       "      <td>AH/L006820/1</td>\n",
       "      <td>https://gtr.ukri.org:443/gtr/api/outcomes/publ...</td>\n",
       "    </tr>\n",
       "    <tr>\n",
       "      <th>703</th>\n",
       "      <td>14470C78-D34D-43EE-9791-707C985051A7</td>\n",
       "      <td>AH/L006820/1</td>\n",
       "      <td>https://gtr.ukri.org:443/gtr/api/outcomes/publ...</td>\n",
       "    </tr>\n",
       "    <tr>\n",
       "      <th>704</th>\n",
       "      <td>14470C78-D34D-43EE-9791-707C985051A7</td>\n",
       "      <td>AH/L006820/1</td>\n",
       "      <td>https://gtr.ukri.org:443/gtr/api/outcomes/publ...</td>\n",
       "    </tr>\n",
       "    <tr>\n",
       "      <th>705</th>\n",
       "      <td>14470C78-D34D-43EE-9791-707C985051A7</td>\n",
       "      <td>AH/L006820/1</td>\n",
       "      <td>https://gtr.ukri.org:443/gtr/api/outcomes/publ...</td>\n",
       "    </tr>\n",
       "    <tr>\n",
       "      <th>706</th>\n",
       "      <td>14470C78-D34D-43EE-9791-707C985051A7</td>\n",
       "      <td>AH/L006820/1</td>\n",
       "      <td>https://gtr.ukri.org:443/gtr/api/outcomes/publ...</td>\n",
       "    </tr>\n",
       "    <tr>\n",
       "      <th>707</th>\n",
       "      <td>14470C78-D34D-43EE-9791-707C985051A7</td>\n",
       "      <td>AH/L006820/1</td>\n",
       "      <td>https://gtr.ukri.org:443/gtr/api/outcomes/publ...</td>\n",
       "    </tr>\n",
       "    <tr>\n",
       "      <th>708</th>\n",
       "      <td>14470C78-D34D-43EE-9791-707C985051A7</td>\n",
       "      <td>AH/L006820/1</td>\n",
       "      <td>https://gtr.ukri.org:443/gtr/api/outcomes/publ...</td>\n",
       "    </tr>\n",
       "    <tr>\n",
       "      <th>709</th>\n",
       "      <td>14470C78-D34D-43EE-9791-707C985051A7</td>\n",
       "      <td>AH/L006820/1</td>\n",
       "      <td>https://gtr.ukri.org:443/gtr/api/outcomes/publ...</td>\n",
       "    </tr>\n",
       "    <tr>\n",
       "      <th>710</th>\n",
       "      <td>14470C78-D34D-43EE-9791-707C985051A7</td>\n",
       "      <td>AH/L006820/1</td>\n",
       "      <td>https://gtr.ukri.org:443/gtr/api/outcomes/publ...</td>\n",
       "    </tr>\n",
       "    <tr>\n",
       "      <th>711</th>\n",
       "      <td>14470C78-D34D-43EE-9791-707C985051A7</td>\n",
       "      <td>AH/L006820/1</td>\n",
       "      <td>https://gtr.ukri.org:443/gtr/api/outcomes/publ...</td>\n",
       "    </tr>\n",
       "    <tr>\n",
       "      <th>712</th>\n",
       "      <td>14470C78-D34D-43EE-9791-707C985051A7</td>\n",
       "      <td>AH/L006820/1</td>\n",
       "      <td>https://gtr.ukri.org:443/gtr/api/outcomes/publ...</td>\n",
       "    </tr>\n",
       "    <tr>\n",
       "      <th>713</th>\n",
       "      <td>14470C78-D34D-43EE-9791-707C985051A7</td>\n",
       "      <td>AH/L006820/1</td>\n",
       "      <td>https://gtr.ukri.org:443/gtr/api/outcomes/publ...</td>\n",
       "    </tr>\n",
       "    <tr>\n",
       "      <th>714</th>\n",
       "      <td>14470C78-D34D-43EE-9791-707C985051A7</td>\n",
       "      <td>AH/L006820/1</td>\n",
       "      <td>https://gtr.ukri.org:443/gtr/api/outcomes/publ...</td>\n",
       "    </tr>\n",
       "    <tr>\n",
       "      <th>715</th>\n",
       "      <td>14470C78-D34D-43EE-9791-707C985051A7</td>\n",
       "      <td>AH/L006820/1</td>\n",
       "      <td>https://gtr.ukri.org:443/gtr/api/outcomes/publ...</td>\n",
       "    </tr>\n",
       "    <tr>\n",
       "      <th>716</th>\n",
       "      <td>14470C78-D34D-43EE-9791-707C985051A7</td>\n",
       "      <td>AH/L006820/1</td>\n",
       "      <td>https://gtr.ukri.org:443/gtr/api/outcomes/publ...</td>\n",
       "    </tr>\n",
       "    <tr>\n",
       "      <th>717</th>\n",
       "      <td>14470C78-D34D-43EE-9791-707C985051A7</td>\n",
       "      <td>AH/L006820/1</td>\n",
       "      <td>https://gtr.ukri.org:443/gtr/api/outcomes/publ...</td>\n",
       "    </tr>\n",
       "    <tr>\n",
       "      <th>718</th>\n",
       "      <td>14470C78-D34D-43EE-9791-707C985051A7</td>\n",
       "      <td>AH/L006820/1</td>\n",
       "      <td>https://gtr.ukri.org:443/gtr/api/outcomes/publ...</td>\n",
       "    </tr>\n",
       "    <tr>\n",
       "      <th>719</th>\n",
       "      <td>14470C78-D34D-43EE-9791-707C985051A7</td>\n",
       "      <td>AH/L006820/1</td>\n",
       "      <td>https://gtr.ukri.org:443/gtr/api/outcomes/publ...</td>\n",
       "    </tr>\n",
       "    <tr>\n",
       "      <th>720</th>\n",
       "      <td>14470C78-D34D-43EE-9791-707C985051A7</td>\n",
       "      <td>AH/L006820/1</td>\n",
       "      <td>https://gtr.ukri.org:443/gtr/api/outcomes/publ...</td>\n",
       "    </tr>\n",
       "    <tr>\n",
       "      <th>721</th>\n",
       "      <td>14470C78-D34D-43EE-9791-707C985051A7</td>\n",
       "      <td>AH/L006820/1</td>\n",
       "      <td>https://gtr.ukri.org:443/gtr/api/outcomes/publ...</td>\n",
       "    </tr>\n",
       "    <tr>\n",
       "      <th>722</th>\n",
       "      <td>14470C78-D34D-43EE-9791-707C985051A7</td>\n",
       "      <td>AH/L006820/1</td>\n",
       "      <td>https://gtr.ukri.org:443/gtr/api/outcomes/publ...</td>\n",
       "    </tr>\n",
       "    <tr>\n",
       "      <th>723</th>\n",
       "      <td>14470C78-D34D-43EE-9791-707C985051A7</td>\n",
       "      <td>AH/L006820/1</td>\n",
       "      <td>https://gtr.ukri.org:443/gtr/api/outcomes/publ...</td>\n",
       "    </tr>\n",
       "    <tr>\n",
       "      <th>724</th>\n",
       "      <td>14470C78-D34D-43EE-9791-707C985051A7</td>\n",
       "      <td>AH/L006820/1</td>\n",
       "      <td>https://gtr.ukri.org:443/gtr/api/outcomes/publ...</td>\n",
       "    </tr>\n",
       "    <tr>\n",
       "      <th>725</th>\n",
       "      <td>BCF0E43F-BCDF-426D-8C98-A17F64A304FC</td>\n",
       "      <td>AH/P005918/1</td>\n",
       "      <td>https://gtr.ukri.org:443/gtr/api/outcomes/publ...</td>\n",
       "    </tr>\n",
       "    <tr>\n",
       "      <th>726</th>\n",
       "      <td>C16AD3CB-4BC4-4138-9038-32639D9298FB</td>\n",
       "      <td>AH/M005623/1</td>\n",
       "      <td>https://gtr.ukri.org:443/gtr/api/outcomes/publ...</td>\n",
       "    </tr>\n",
       "  </tbody>\n",
       "</table>\n",
       "<p>727 rows × 3 columns</p>\n",
       "</div>"
      ],
      "text/plain": [
       "                                       ID     Reference  \\\n",
       "0    BF3B84D7-4CBD-4A7E-A9DA-88098267C998  AH/M00953X/1   \n",
       "1    BF3B84D7-4CBD-4A7E-A9DA-88098267C998  AH/M00953X/1   \n",
       "2    BF3B84D7-4CBD-4A7E-A9DA-88098267C998  AH/M00953X/1   \n",
       "3    BF3B84D7-4CBD-4A7E-A9DA-88098267C998  AH/M00953X/1   \n",
       "4    BF3B84D7-4CBD-4A7E-A9DA-88098267C998  AH/M00953X/1   \n",
       "5    BF3B84D7-4CBD-4A7E-A9DA-88098267C998  AH/M00953X/1   \n",
       "6    26905938-5538-42DA-B039-1286285CD78B  AH/N006445/1   \n",
       "7    26905938-5538-42DA-B039-1286285CD78B  AH/N006445/1   \n",
       "8    26905938-5538-42DA-B039-1286285CD78B  AH/N006445/1   \n",
       "9    26905938-5538-42DA-B039-1286285CD78B  AH/N006445/1   \n",
       "10   E0424FD0-B510-49D0-B9B7-D598EA2B2EC6  AH/L012545/1   \n",
       "11   E0424FD0-B510-49D0-B9B7-D598EA2B2EC6  AH/L012545/1   \n",
       "12   E0424FD0-B510-49D0-B9B7-D598EA2B2EC6  AH/L012545/1   \n",
       "13   E0424FD0-B510-49D0-B9B7-D598EA2B2EC6  AH/L012545/1   \n",
       "14   E0424FD0-B510-49D0-B9B7-D598EA2B2EC6  AH/L012545/1   \n",
       "15   E0424FD0-B510-49D0-B9B7-D598EA2B2EC6  AH/L012545/1   \n",
       "16   E0424FD0-B510-49D0-B9B7-D598EA2B2EC6  AH/L012545/1   \n",
       "17   E0424FD0-B510-49D0-B9B7-D598EA2B2EC6  AH/L012545/1   \n",
       "18   E0424FD0-B510-49D0-B9B7-D598EA2B2EC6  AH/L012545/1   \n",
       "19   D2D09E06-D5F1-474F-A8FB-8E4472D39438  AH/J008109/1   \n",
       "20   D2D09E06-D5F1-474F-A8FB-8E4472D39438  AH/J008109/1   \n",
       "21   D2D09E06-D5F1-474F-A8FB-8E4472D39438  AH/J008109/1   \n",
       "22   D4A55F5E-807C-469D-BA4E-5075BDE3D050  AH/L009870/1   \n",
       "23   D4E18A32-4326-4F7A-BCA3-8F520CC8D961  AH/M002403/1   \n",
       "24   D4E18A32-4326-4F7A-BCA3-8F520CC8D961  AH/M002403/1   \n",
       "25   D4E18A32-4326-4F7A-BCA3-8F520CC8D961  AH/M002403/1   \n",
       "26   D4E18A32-4326-4F7A-BCA3-8F520CC8D961  AH/M002403/1   \n",
       "27   01871809-44E0-4A6B-A9CF-B1E9046B53A4  AH/L007657/1   \n",
       "28   01871809-44E0-4A6B-A9CF-B1E9046B53A4  AH/L007657/1   \n",
       "29   01871809-44E0-4A6B-A9CF-B1E9046B53A4  AH/L007657/1   \n",
       "..                                    ...           ...   \n",
       "697  14470C78-D34D-43EE-9791-707C985051A7  AH/L006820/1   \n",
       "698  14470C78-D34D-43EE-9791-707C985051A7  AH/L006820/1   \n",
       "699  14470C78-D34D-43EE-9791-707C985051A7  AH/L006820/1   \n",
       "700  14470C78-D34D-43EE-9791-707C985051A7  AH/L006820/1   \n",
       "701  14470C78-D34D-43EE-9791-707C985051A7  AH/L006820/1   \n",
       "702  14470C78-D34D-43EE-9791-707C985051A7  AH/L006820/1   \n",
       "703  14470C78-D34D-43EE-9791-707C985051A7  AH/L006820/1   \n",
       "704  14470C78-D34D-43EE-9791-707C985051A7  AH/L006820/1   \n",
       "705  14470C78-D34D-43EE-9791-707C985051A7  AH/L006820/1   \n",
       "706  14470C78-D34D-43EE-9791-707C985051A7  AH/L006820/1   \n",
       "707  14470C78-D34D-43EE-9791-707C985051A7  AH/L006820/1   \n",
       "708  14470C78-D34D-43EE-9791-707C985051A7  AH/L006820/1   \n",
       "709  14470C78-D34D-43EE-9791-707C985051A7  AH/L006820/1   \n",
       "710  14470C78-D34D-43EE-9791-707C985051A7  AH/L006820/1   \n",
       "711  14470C78-D34D-43EE-9791-707C985051A7  AH/L006820/1   \n",
       "712  14470C78-D34D-43EE-9791-707C985051A7  AH/L006820/1   \n",
       "713  14470C78-D34D-43EE-9791-707C985051A7  AH/L006820/1   \n",
       "714  14470C78-D34D-43EE-9791-707C985051A7  AH/L006820/1   \n",
       "715  14470C78-D34D-43EE-9791-707C985051A7  AH/L006820/1   \n",
       "716  14470C78-D34D-43EE-9791-707C985051A7  AH/L006820/1   \n",
       "717  14470C78-D34D-43EE-9791-707C985051A7  AH/L006820/1   \n",
       "718  14470C78-D34D-43EE-9791-707C985051A7  AH/L006820/1   \n",
       "719  14470C78-D34D-43EE-9791-707C985051A7  AH/L006820/1   \n",
       "720  14470C78-D34D-43EE-9791-707C985051A7  AH/L006820/1   \n",
       "721  14470C78-D34D-43EE-9791-707C985051A7  AH/L006820/1   \n",
       "722  14470C78-D34D-43EE-9791-707C985051A7  AH/L006820/1   \n",
       "723  14470C78-D34D-43EE-9791-707C985051A7  AH/L006820/1   \n",
       "724  14470C78-D34D-43EE-9791-707C985051A7  AH/L006820/1   \n",
       "725  BCF0E43F-BCDF-426D-8C98-A17F64A304FC  AH/P005918/1   \n",
       "726  C16AD3CB-4BC4-4138-9038-32639D9298FB  AH/M005623/1   \n",
       "\n",
       "                                           Publication  \n",
       "0    https://gtr.ukri.org:443/gtr/api/outcomes/publ...  \n",
       "1    https://gtr.ukri.org:443/gtr/api/outcomes/publ...  \n",
       "2    https://gtr.ukri.org:443/gtr/api/outcomes/publ...  \n",
       "3    https://gtr.ukri.org:443/gtr/api/outcomes/publ...  \n",
       "4    https://gtr.ukri.org:443/gtr/api/outcomes/publ...  \n",
       "5    https://gtr.ukri.org:443/gtr/api/outcomes/publ...  \n",
       "6    https://gtr.ukri.org:443/gtr/api/outcomes/publ...  \n",
       "7    https://gtr.ukri.org:443/gtr/api/outcomes/publ...  \n",
       "8    https://gtr.ukri.org:443/gtr/api/outcomes/publ...  \n",
       "9    https://gtr.ukri.org:443/gtr/api/outcomes/publ...  \n",
       "10   https://gtr.ukri.org:443/gtr/api/outcomes/publ...  \n",
       "11   https://gtr.ukri.org:443/gtr/api/outcomes/publ...  \n",
       "12   https://gtr.ukri.org:443/gtr/api/outcomes/publ...  \n",
       "13   https://gtr.ukri.org:443/gtr/api/outcomes/publ...  \n",
       "14   https://gtr.ukri.org:443/gtr/api/outcomes/publ...  \n",
       "15   https://gtr.ukri.org:443/gtr/api/outcomes/publ...  \n",
       "16   https://gtr.ukri.org:443/gtr/api/outcomes/publ...  \n",
       "17   https://gtr.ukri.org:443/gtr/api/outcomes/publ...  \n",
       "18   https://gtr.ukri.org:443/gtr/api/outcomes/publ...  \n",
       "19   https://gtr.ukri.org:443/gtr/api/outcomes/publ...  \n",
       "20   https://gtr.ukri.org:443/gtr/api/outcomes/publ...  \n",
       "21   https://gtr.ukri.org:443/gtr/api/outcomes/publ...  \n",
       "22   https://gtr.ukri.org:443/gtr/api/outcomes/publ...  \n",
       "23   https://gtr.ukri.org:443/gtr/api/outcomes/publ...  \n",
       "24   https://gtr.ukri.org:443/gtr/api/outcomes/publ...  \n",
       "25   https://gtr.ukri.org:443/gtr/api/outcomes/publ...  \n",
       "26   https://gtr.ukri.org:443/gtr/api/outcomes/publ...  \n",
       "27   https://gtr.ukri.org:443/gtr/api/outcomes/publ...  \n",
       "28   https://gtr.ukri.org:443/gtr/api/outcomes/publ...  \n",
       "29   https://gtr.ukri.org:443/gtr/api/outcomes/publ...  \n",
       "..                                                 ...  \n",
       "697  https://gtr.ukri.org:443/gtr/api/outcomes/publ...  \n",
       "698  https://gtr.ukri.org:443/gtr/api/outcomes/publ...  \n",
       "699  https://gtr.ukri.org:443/gtr/api/outcomes/publ...  \n",
       "700  https://gtr.ukri.org:443/gtr/api/outcomes/publ...  \n",
       "701  https://gtr.ukri.org:443/gtr/api/outcomes/publ...  \n",
       "702  https://gtr.ukri.org:443/gtr/api/outcomes/publ...  \n",
       "703  https://gtr.ukri.org:443/gtr/api/outcomes/publ...  \n",
       "704  https://gtr.ukri.org:443/gtr/api/outcomes/publ...  \n",
       "705  https://gtr.ukri.org:443/gtr/api/outcomes/publ...  \n",
       "706  https://gtr.ukri.org:443/gtr/api/outcomes/publ...  \n",
       "707  https://gtr.ukri.org:443/gtr/api/outcomes/publ...  \n",
       "708  https://gtr.ukri.org:443/gtr/api/outcomes/publ...  \n",
       "709  https://gtr.ukri.org:443/gtr/api/outcomes/publ...  \n",
       "710  https://gtr.ukri.org:443/gtr/api/outcomes/publ...  \n",
       "711  https://gtr.ukri.org:443/gtr/api/outcomes/publ...  \n",
       "712  https://gtr.ukri.org:443/gtr/api/outcomes/publ...  \n",
       "713  https://gtr.ukri.org:443/gtr/api/outcomes/publ...  \n",
       "714  https://gtr.ukri.org:443/gtr/api/outcomes/publ...  \n",
       "715  https://gtr.ukri.org:443/gtr/api/outcomes/publ...  \n",
       "716  https://gtr.ukri.org:443/gtr/api/outcomes/publ...  \n",
       "717  https://gtr.ukri.org:443/gtr/api/outcomes/publ...  \n",
       "718  https://gtr.ukri.org:443/gtr/api/outcomes/publ...  \n",
       "719  https://gtr.ukri.org:443/gtr/api/outcomes/publ...  \n",
       "720  https://gtr.ukri.org:443/gtr/api/outcomes/publ...  \n",
       "721  https://gtr.ukri.org:443/gtr/api/outcomes/publ...  \n",
       "722  https://gtr.ukri.org:443/gtr/api/outcomes/publ...  \n",
       "723  https://gtr.ukri.org:443/gtr/api/outcomes/publ...  \n",
       "724  https://gtr.ukri.org:443/gtr/api/outcomes/publ...  \n",
       "725  https://gtr.ukri.org:443/gtr/api/outcomes/publ...  \n",
       "726  https://gtr.ukri.org:443/gtr/api/outcomes/publ...  \n",
       "\n",
       "[727 rows x 3 columns]"
      ]
     },
     "execution_count": 20,
     "metadata": {},
     "output_type": "execute_result"
    }
   ],
   "source": [
    "#publications_df.dropna()\n",
    "publications_df"
   ]
  },
  {
   "cell_type": "markdown",
   "metadata": {},
   "source": [
    "### Geographic distribution"
   ]
  },
  {
   "cell_type": "code",
   "execution_count": 21,
   "metadata": {},
   "outputs": [],
   "source": [
    "cols = [\"ID\", \"Reference\", \"Place_link\"]\n",
    "lead_org_df = pd.DataFrame(columns=cols, index=range(102))\n",
    "\n",
    "counter = 0\n",
    "for project in li:\n",
    "    url = (urlgtr + '\"' + project + '\"' + \"&f=pro.gr\")\n",
    "    response = requests.get(url, headers=headers)\n",
    "    proginfo = json.loads(response.text)[\"project\"]\n",
    "    publication = []\n",
    "    for i in range (0, len(proginfo[0][\"links\"][\"link\"])):\n",
    "        if proginfo[0][\"links\"][\"link\"][i][\"rel\"] == \"LEAD_ORG\":\n",
    "            lead_org_df.iloc[counter][0] = proginfo[0][\"id\"]\n",
    "            lead_org_df.iloc[counter][1] = project\n",
    "            lead_org_df.iloc[counter][2] = proginfo[0][\"links\"][\"link\"][i][\"href\"]\n",
    "            counter += 1"
   ]
  },
  {
   "cell_type": "code",
   "execution_count": 22,
   "metadata": {},
   "outputs": [],
   "source": [
    "cols = [\"Reference\", \"Org_name\", \"Place_name\"]\n",
    "lead_org_names_df = pd.DataFrame(columns=cols, index=range(102))\n",
    "\n",
    "counter = 0\n",
    "for idx, place in enumerate(lead_org_df[\"Place_link\"]):\n",
    "    response = requests.get(place, headers=headers)\n",
    "    proginfo = json.loads(response.text)\n",
    "    lead_org_names_df.iloc[counter][0] = lead_org_df[\"Reference\"][idx]\n",
    "    lead_org_names_df.iloc[counter][1] = proginfo[\"name\"]\n",
    "    lead_org_names_df.iloc[counter][2] = proginfo[\"addresses\"][\"address\"][0][\"region\"]\n",
    "    counter += 1"
   ]
  },
  {
   "cell_type": "code",
   "execution_count": 23,
   "metadata": {},
   "outputs": [
    {
     "data": {
      "text/html": [
       "<div>\n",
       "<style scoped>\n",
       "    .dataframe tbody tr th:only-of-type {\n",
       "        vertical-align: middle;\n",
       "    }\n",
       "\n",
       "    .dataframe tbody tr th {\n",
       "        vertical-align: top;\n",
       "    }\n",
       "\n",
       "    .dataframe thead th {\n",
       "        text-align: right;\n",
       "    }\n",
       "</style>\n",
       "<table border=\"1\" class=\"dataframe\">\n",
       "  <thead>\n",
       "    <tr style=\"text-align: right;\">\n",
       "      <th></th>\n",
       "      <th>Reference</th>\n",
       "      <th>Org_name</th>\n",
       "      <th>Place_name</th>\n",
       "    </tr>\n",
       "  </thead>\n",
       "  <tbody>\n",
       "    <tr>\n",
       "      <th>0</th>\n",
       "      <td>AH/M00953X/1</td>\n",
       "      <td>University College London</td>\n",
       "      <td>London</td>\n",
       "    </tr>\n",
       "    <tr>\n",
       "      <th>1</th>\n",
       "      <td>AH/L503563/1</td>\n",
       "      <td>Newcastle University</td>\n",
       "      <td>North East</td>\n",
       "    </tr>\n",
       "    <tr>\n",
       "      <th>2</th>\n",
       "      <td>AH/N006445/1</td>\n",
       "      <td>University of Oxford</td>\n",
       "      <td>South East</td>\n",
       "    </tr>\n",
       "    <tr>\n",
       "      <th>3</th>\n",
       "      <td>AH/L012545/1</td>\n",
       "      <td>University of Liverpool</td>\n",
       "      <td>North West</td>\n",
       "    </tr>\n",
       "    <tr>\n",
       "      <th>4</th>\n",
       "      <td>AH/J008109/1</td>\n",
       "      <td>University of Liverpool</td>\n",
       "      <td>North West</td>\n",
       "    </tr>\n",
       "  </tbody>\n",
       "</table>\n",
       "</div>"
      ],
      "text/plain": [
       "      Reference                   Org_name  Place_name\n",
       "0  AH/M00953X/1  University College London      London\n",
       "1  AH/L503563/1       Newcastle University  North East\n",
       "2  AH/N006445/1       University of Oxford  South East\n",
       "3  AH/L012545/1    University of Liverpool  North West\n",
       "4  AH/J008109/1    University of Liverpool  North West"
      ]
     },
     "execution_count": 23,
     "metadata": {},
     "output_type": "execute_result"
    }
   ],
   "source": [
    "lead_org_names_df.head(5)"
   ]
  },
  {
   "cell_type": "code",
   "execution_count": 24,
   "metadata": {
    "scrolled": false
   },
   "outputs": [
    {
     "name": "stdout",
     "output_type": "stream",
     "text": [
      "London                      30\n",
      "South East                  16\n",
      "Yorkshire and The Humber    12\n",
      "Scotland                    12\n",
      "West Midlands                6\n",
      "North West                   6\n",
      "South West                   5\n",
      "North East                   4\n",
      "Wales                        4\n",
      "East Midlands                3\n",
      "Northern Ireland             3\n",
      "East of England              1\n",
      "Name: Place_name, dtype: int64\n"
     ]
    },
    {
     "data": {
      "image/png": "[encoded data removed]",
      "text/plain": [
       "<Figure size 936x936 with 1 Axes>"
      ]
     },
     "metadata": {},
     "output_type": "display_data"
    }
   ],
   "source": [
    "org_pl = lead_org_names_df[\"Place_name\"].value_counts()\n",
    "\n",
    "print(org_pl)\n",
    "\n",
    "\n",
    "ser_pl = pd.Series(data=(org_pl))\n",
    "\n",
    "ser_pl.plot.pie(figsize=(13, 13));"
   ]
  },
  {
   "cell_type": "markdown",
   "metadata": {},
   "source": [
    "## Research topics as per gtruk classification"
   ]
  },
  {
   "cell_type": "code",
   "execution_count": 25,
   "metadata": {},
   "outputs": [],
   "source": [
    "cols = [\"Reference\", \"R_topics\"]\n",
    "r_topics_df = pd.DataFrame(columns=cols, index=range(392))\n",
    "\n",
    "counter = 0\n",
    "for project in li:\n",
    "    url = (urlgtr + '\"' + project + '\"' + \"&f=pro.gr\")\n",
    "    response = requests.get(url, headers=headers)\n",
    "    proginfo = json.loads(response.text)[\"project\"]\n",
    "    topic = []\n",
    "    for i in range (0, len(proginfo[0][\"researchTopics\"][\"researchTopic\"])):\n",
    "        r_topics_df.iloc[counter][0] = project\n",
    "        r_topics_df.iloc[counter][1] = proginfo[0][\"researchTopics\"][\"researchTopic\"][i][\"text\"]\n",
    "        counter += 1"
   ]
  },
  {
   "cell_type": "code",
   "execution_count": 26,
   "metadata": {},
   "outputs": [
    {
     "data": {
      "text/html": [
       "<div>\n",
       "<style scoped>\n",
       "    .dataframe tbody tr th:only-of-type {\n",
       "        vertical-align: middle;\n",
       "    }\n",
       "\n",
       "    .dataframe tbody tr th {\n",
       "        vertical-align: top;\n",
       "    }\n",
       "\n",
       "    .dataframe thead th {\n",
       "        text-align: right;\n",
       "    }\n",
       "</style>\n",
       "<table border=\"1\" class=\"dataframe\">\n",
       "  <thead>\n",
       "    <tr style=\"text-align: right;\">\n",
       "      <th></th>\n",
       "      <th>Reference</th>\n",
       "      <th>R_topics</th>\n",
       "    </tr>\n",
       "  </thead>\n",
       "  <tbody>\n",
       "    <tr>\n",
       "      <th>0</th>\n",
       "      <td>AH/M00953X/1</td>\n",
       "      <td>Information &amp; Knowledge Mgmt</td>\n",
       "    </tr>\n",
       "    <tr>\n",
       "      <th>1</th>\n",
       "      <td>AH/M00953X/1</td>\n",
       "      <td>Science-Based Archaeology</td>\n",
       "    </tr>\n",
       "    <tr>\n",
       "      <th>2</th>\n",
       "      <td>AH/M00953X/1</td>\n",
       "      <td>Heritage Management</td>\n",
       "    </tr>\n",
       "    <tr>\n",
       "      <th>3</th>\n",
       "      <td>AH/L503563/1</td>\n",
       "      <td>Unclassified</td>\n",
       "    </tr>\n",
       "    <tr>\n",
       "      <th>4</th>\n",
       "      <td>AH/N006445/1</td>\n",
       "      <td>Cultural Studies</td>\n",
       "    </tr>\n",
       "    <tr>\n",
       "      <th>5</th>\n",
       "      <td>AH/N006445/1</td>\n",
       "      <td>Linguistics (General)</td>\n",
       "    </tr>\n",
       "    <tr>\n",
       "      <th>6</th>\n",
       "      <td>AH/N006445/1</td>\n",
       "      <td>Conservation Ecology</td>\n",
       "    </tr>\n",
       "    <tr>\n",
       "      <th>7</th>\n",
       "      <td>AH/N006445/1</td>\n",
       "      <td>Cultural and Anthrop Geography</td>\n",
       "    </tr>\n",
       "    <tr>\n",
       "      <th>8</th>\n",
       "      <td>AH/N006445/1</td>\n",
       "      <td>Environment</td>\n",
       "    </tr>\n",
       "    <tr>\n",
       "      <th>9</th>\n",
       "      <td>AH/L012545/1</td>\n",
       "      <td>Digital Arts HTP</td>\n",
       "    </tr>\n",
       "    <tr>\n",
       "      <th>10</th>\n",
       "      <td>AH/L012545/1</td>\n",
       "      <td>Hispanic, Portguese &amp; Latin</td>\n",
       "    </tr>\n",
       "    <tr>\n",
       "      <th>11</th>\n",
       "      <td>AH/L012545/1</td>\n",
       "      <td>Cultural Studies &amp; Pop Culture</td>\n",
       "    </tr>\n",
       "    <tr>\n",
       "      <th>12</th>\n",
       "      <td>AH/L012545/1</td>\n",
       "      <td>Multimedia</td>\n",
       "    </tr>\n",
       "    <tr>\n",
       "      <th>13</th>\n",
       "      <td>AH/J008109/1</td>\n",
       "      <td>Hispanic, Portguese &amp; Latin</td>\n",
       "    </tr>\n",
       "    <tr>\n",
       "      <th>14</th>\n",
       "      <td>AH/J008109/1</td>\n",
       "      <td>Digital Arts HTP</td>\n",
       "    </tr>\n",
       "    <tr>\n",
       "      <th>15</th>\n",
       "      <td>AH/J008109/1</td>\n",
       "      <td>Multimedia</td>\n",
       "    </tr>\n",
       "    <tr>\n",
       "      <th>16</th>\n",
       "      <td>AH/J008109/1</td>\n",
       "      <td>Cultural Studies &amp; Pop Culture</td>\n",
       "    </tr>\n",
       "    <tr>\n",
       "      <th>17</th>\n",
       "      <td>AH/P013139/1</td>\n",
       "      <td>English Language &amp; Literature</td>\n",
       "    </tr>\n",
       "    <tr>\n",
       "      <th>18</th>\n",
       "      <td>AH/L009870/1</td>\n",
       "      <td>Image &amp; Vision Computing</td>\n",
       "    </tr>\n",
       "    <tr>\n",
       "      <th>19</th>\n",
       "      <td>AH/L009870/1</td>\n",
       "      <td>Musicology</td>\n",
       "    </tr>\n",
       "  </tbody>\n",
       "</table>\n",
       "</div>"
      ],
      "text/plain": [
       "       Reference                        R_topics\n",
       "0   AH/M00953X/1    Information & Knowledge Mgmt\n",
       "1   AH/M00953X/1       Science-Based Archaeology\n",
       "2   AH/M00953X/1             Heritage Management\n",
       "3   AH/L503563/1                    Unclassified\n",
       "4   AH/N006445/1                Cultural Studies\n",
       "5   AH/N006445/1           Linguistics (General)\n",
       "6   AH/N006445/1            Conservation Ecology\n",
       "7   AH/N006445/1  Cultural and Anthrop Geography\n",
       "8   AH/N006445/1                     Environment\n",
       "9   AH/L012545/1                Digital Arts HTP\n",
       "10  AH/L012545/1     Hispanic, Portguese & Latin\n",
       "11  AH/L012545/1  Cultural Studies & Pop Culture\n",
       "12  AH/L012545/1                      Multimedia\n",
       "13  AH/J008109/1     Hispanic, Portguese & Latin\n",
       "14  AH/J008109/1                Digital Arts HTP\n",
       "15  AH/J008109/1                      Multimedia\n",
       "16  AH/J008109/1  Cultural Studies & Pop Culture\n",
       "17  AH/P013139/1   English Language & Literature\n",
       "18  AH/L009870/1        Image & Vision Computing\n",
       "19  AH/L009870/1                      Musicology"
      ]
     },
     "execution_count": 26,
     "metadata": {},
     "output_type": "execute_result"
    }
   ],
   "source": [
    "# Drop the NaN\n",
    "# r_topics_df.dropna()\n",
    "r_topics_df.head(20)"
   ]
  },
  {
   "cell_type": "code",
   "execution_count": 27,
   "metadata": {},
   "outputs": [
    {
     "name": "stdout",
     "output_type": "stream",
     "text": [
      "Information & Knowledge Mgmt      21\n",
      "New Media/Web-Based Studies       17\n",
      "Digital Arts HTP                  13\n",
      "Human-Computer Interactions       12\n",
      "Cultural History                  11\n",
      "Multimedia                        10\n",
      "Musicology                         9\n",
      "Archives                           9\n",
      "Music & Acoustic Technology        9\n",
      "Economic & Social History          9\n",
      "Heritage Management                9\n",
      "Digital Art & Design               9\n",
      "English Language & Literature      9\n",
      "Design Processes                   8\n",
      "Musical Performance                8\n",
      "Computer Graphics & Visual.        7\n",
      "Cultural Studies & Pop Culture     7\n",
      "Media & Communication Studies      6\n",
      "Education                          6\n",
      "Classical Music                    6\n",
      "Technology and method dev          5\n",
      "Popular Music                      5\n",
      "Film-based media (H, T & P)        5\n",
      "Community Art inc A & H            5\n",
      "Unclassified                       5\n",
      "Information Sci. & Retrieval       4\n",
      "Design HTP                         4\n",
      "Cultural Studies                   4\n",
      "Film History, T & C                4\n",
      "Time-Based Media HTP               4\n",
      "                                  ..\n",
      "eScience                           1\n",
      "Politics                           1\n",
      "Science and Technology Studies     1\n",
      "Language Variation & Change        1\n",
      "Social Policy                      1\n",
      "War Studies                        1\n",
      "Gerontology                        1\n",
      "Sociology                          1\n",
      "Climate & Climate Change           1\n",
      "Archaeology Of Human Origins       1\n",
      "Languages & Linguistics            1\n",
      "Post-Colonial Studies              1\n",
      "Language Training/Educational      1\n",
      "Political Science                  1\n",
      "Anthropological Methodology        1\n",
      "Social Anthropology                1\n",
      "Traditional Music                  1\n",
      "Art History                        1\n",
      "Installation & Sound Art HTP       1\n",
      "Design Engineering                 1\n",
      "Photography HTP                    1\n",
      "Choreography                       1\n",
      "Imperial/Colonial History          1\n",
      "Ethics                             1\n",
      "Environment                        1\n",
      "Materials testing & eng.           1\n",
      "Legal History                      1\n",
      "Human Geography (General)          1\n",
      "History of Dance                   1\n",
      "Economic Development               1\n",
      "Name: R_topics, Length: 116, dtype: int64\n"
     ]
    },
    {
     "data": {
      "image/png": "[encoded data removed]",
      "text/plain": [
       "<Figure size 936x936 with 1 Axes>"
      ]
     },
     "metadata": {},
     "output_type": "display_data"
    }
   ],
   "source": [
    "# Count how many research topics per unique project:\n",
    "\n",
    "exp_pl = r_topics_df[\"R_topics\"].value_counts()\n",
    "\n",
    "print(exp_pl)\n",
    "\n",
    "ser_pl = pd.Series(data=(exp_pl))\n",
    "\n",
    "ser_pl.head(10).plot.pie(figsize=(13, 13));"
   ]
  },
  {
   "cell_type": "markdown",
   "metadata": {},
   "source": [
    "## A nice visualisation for the topics found"
   ]
  },
  {
   "cell_type": "code",
   "execution_count": 28,
   "metadata": {},
   "outputs": [
    {
     "name": "stderr",
     "output_type": "stream",
     "text": [
      "/Library/Frameworks/Python.framework/Versions/3.7/lib/python3.7/site-packages/funcy/colls.py:6: DeprecationWarning: Using or importing the ABCs from 'collections' instead of from 'collections.abc' is deprecated, and in 3.8 it will stop working\n",
      "  from collections import Mapping, Set, Iterable, Iterator, defaultdict\n",
      "/Library/Frameworks/Python.framework/Versions/3.7/lib/python3.7/site-packages/funcy/seqs.py:3: DeprecationWarning: Using or importing the ABCs from 'collections' instead of from 'collections.abc' is deprecated, and in 3.8 it will stop working\n",
      "  from collections import defaultdict, deque, Sequence\n",
      "/Library/Frameworks/Python.framework/Versions/3.7/lib/python3.7/site-packages/funcy/flow.py:2: DeprecationWarning: Using or importing the ABCs from 'collections' instead of from 'collections.abc' is deprecated, and in 3.8 it will stop working\n",
      "  from collections import Hashable\n"
     ]
    }
   ],
   "source": [
    "import pyLDAvis\n",
    "import pyLDAvis.sklearn\n",
    "pyLDAvis.enable_notebook()"
   ]
  },
  {
   "cell_type": "code",
   "execution_count": 29,
   "metadata": {},
   "outputs": [
    {
     "name": "stdout",
     "output_type": "stream",
     "text": [
      "(102, 425)\n"
     ]
    }
   ],
   "source": [
    "tf_vectorizer = CountVectorizer(strip_accents = 'unicode',\n",
    "                                ngram_range=(1,2), stop_words = stop_words,\n",
    "                                lowercase = True,\n",
    "                                token_pattern = r'\\b[a-zA-Z]{3,}\\b',\n",
    "                                max_df = 0.9, \n",
    "                                min_df = 10)\n",
    "dtm_tf = tf_vectorizer.fit_transform(documents)\n",
    "print(dtm_tf.shape)"
   ]
  },
  {
   "cell_type": "code",
   "execution_count": 30,
   "metadata": {},
   "outputs": [
    {
     "name": "stdout",
     "output_type": "stream",
     "text": [
      "(102, 425)\n"
     ]
    }
   ],
   "source": [
    "tfidf_vectorizer = TfidfVectorizer(**tf_vectorizer.get_params())\n",
    "dtm_tfidf = tfidf_vectorizer.fit_transform(documents)\n",
    "print(dtm_tfidf.shape)"
   ]
  },
  {
   "cell_type": "code",
   "execution_count": 34,
   "metadata": {},
   "outputs": [
    {
     "data": {
      "text/plain": [
       "LatentDirichletAllocation(batch_size=128, doc_topic_prior=None,\n",
       "             evaluate_every=-1, learning_decay=0.7,\n",
       "             learning_method='batch', learning_offset=10.0,\n",
       "             max_doc_update_iter=100, max_iter=10, mean_change_tol=0.001,\n",
       "             n_components=8, n_jobs=1, n_topics=None, perp_tol=0.1,\n",
       "             random_state=0, topic_word_prior=None,\n",
       "             total_samples=1000000.0, verbose=0)"
      ]
     },
     "execution_count": 34,
     "metadata": {},
     "output_type": "execute_result"
    }
   ],
   "source": [
    "# for TF DTM\n",
    "lda_tf = LatentDirichletAllocation(n_components=8, random_state=0, learning_method='batch')\n",
    "lda_tf.fit(dtm_tf)\n",
    "# for TFIDF DTM\n",
    "lda_tfidf = LatentDirichletAllocation(n_components=8, random_state=0, learning_method='batch')\n",
    "lda_tfidf.fit(dtm_tfidf)"
   ]
  },
  {
   "cell_type": "code",
   "execution_count": 35,
   "metadata": {},
   "outputs": [
    {
     "name": "stderr",
     "output_type": "stream",
     "text": [
      "/Library/Frameworks/Python.framework/Versions/3.7/lib/python3.7/site-packages/pyLDAvis/_prepare.py:257: FutureWarning: Sorting because non-concatenation axis is not aligned. A future version\n",
      "of pandas will change to not sort by default.\n",
      "\n",
      "To accept the future behavior, pass 'sort=False'.\n",
      "\n",
      "To retain the current behavior and silence the warning, pass 'sort=True'.\n",
      "\n",
      "  return pd.concat([default_term_info] + list(topic_dfs))\n"
     ]
    },
    {
     "data": {
      "text/html": [
       "\n",
       "<link rel=\"stylesheet\" type=\"text/css\" href=\"https://cdn.rawgit.com/bmabey/pyLDAvis/files/ldavis.v1.0.0.css\">\n",
       "\n",
       "\n",
       "<div id=\"ldavis_el1164848187461286156149033\"></div>\n",
       "<script type=\"text/javascript\">\n",
       "\n",
       "var ldavis_el1164848187461286156149033_data = {\"mdsDat\": {\"x\": [-22.261945724487305, -17.557342529296875, 14.792760848999023, -53.83259582519531, 19.425308227539062, 46.35529327392578, 10.075462341308594, -26.897743225097656], \"y\": [-55.80360412597656, -19.05980682373047, 37.39292907714844, -11.555466651916504, -41.668434143066406, -6.844518184661865, 0.6495657563209534, 23.263593673706055], \"topics\": [1, 2, 3, 4, 5, 6, 7, 8], \"cluster\": [1, 1, 1, 1, 1, 1, 1, 1], \"Freq\": [17.15081394293519, 15.70900887042821, 14.885635682285603, 14.56671948324396, 12.345547428585242, 11.865428983471729, 9.298995201232527, 4.177850407817538]}, \"tinfo\": {\"Category\": [\"Default\", \"Default\", \"Default\", \"Default\", \"Default\", \"Default\", \"Default\", \"Default\", \"Default\", \"Default\", \"Default\", \"Default\", \"Default\", \"Default\", \"Default\", \"Default\", \"Default\", \"Default\", \"Default\", \"Default\", \"Default\", \"Default\", \"Default\", \"Default\", \"Default\", \"Default\", \"Default\", \"Default\", \"Default\", \"Default\", \"Topic1\", \"Topic1\", \"Topic1\", \"Topic1\", \"Topic1\", \"Topic1\", \"Topic1\", \"Topic1\", \"Topic1\", \"Topic1\", \"Topic1\", \"Topic1\", \"Topic1\", \"Topic1\", \"Topic1\", \"Topic1\", \"Topic1\", \"Topic1\", \"Topic1\", \"Topic1\", \"Topic1\", \"Topic1\", \"Topic1\", \"Topic1\", \"Topic1\", \"Topic1\", \"Topic1\", \"Topic1\", \"Topic1\", \"Topic1\", \"Topic1\", \"Topic1\", \"Topic1\", \"Topic1\", \"Topic1\", \"Topic1\", \"Topic1\", \"Topic1\", \"Topic1\", \"Topic1\", \"Topic1\", \"Topic1\", \"Topic1\", \"Topic1\", \"Topic1\", \"Topic1\", \"Topic1\", \"Topic1\", \"Topic1\", \"Topic1\", \"Topic1\", \"Topic1\", \"Topic1\", \"Topic1\", \"Topic1\", \"Topic2\", \"Topic2\", \"Topic2\", \"Topic2\", \"Topic2\", \"Topic2\", \"Topic2\", \"Topic2\", \"Topic2\", \"Topic2\", \"Topic2\", \"Topic2\", \"Topic2\", \"Topic2\", \"Topic2\", \"Topic2\", \"Topic2\", \"Topic2\", \"Topic2\", \"Topic2\", \"Topic2\", \"Topic2\", \"Topic2\", \"Topic2\", \"Topic2\", \"Topic2\", \"Topic2\", \"Topic2\", \"Topic2\", \"Topic2\", \"Topic2\", \"Topic2\", \"Topic2\", \"Topic2\", \"Topic2\", \"Topic2\", \"Topic2\", \"Topic2\", \"Topic2\", \"Topic2\", \"Topic2\", \"Topic2\", \"Topic2\", \"Topic2\", \"Topic2\", \"Topic2\", \"Topic2\", \"Topic2\", \"Topic3\", \"Topic3\", \"Topic3\", \"Topic3\", \"Topic3\", \"Topic3\", \"Topic3\", \"Topic3\", \"Topic3\", \"Topic3\", \"Topic3\", \"Topic3\", \"Topic3\", \"Topic3\", \"Topic3\", \"Topic3\", \"Topic3\", \"Topic3\", \"Topic3\", \"Topic3\", \"Topic3\", \"Topic3\", \"Topic3\", \"Topic3\", \"Topic3\", \"Topic3\", \"Topic3\", \"Topic3\", \"Topic3\", \"Topic3\", \"Topic3\", \"Topic3\", \"Topic3\", \"Topic3\", \"Topic3\", \"Topic3\", \"Topic3\", \"Topic3\", \"Topic3\", \"Topic3\", \"Topic3\", \"Topic3\", \"Topic3\", \"Topic3\", \"Topic3\", \"Topic3\", \"Topic3\", \"Topic3\", \"Topic3\", \"Topic3\", \"Topic4\", \"Topic4\", \"Topic4\", \"Topic4\", \"Topic4\", \"Topic4\", \"Topic4\", \"Topic4\", \"Topic4\", \"Topic4\", \"Topic4\", \"Topic4\", \"Topic4\", \"Topic4\", \"Topic4\", \"Topic4\", \"Topic4\", \"Topic4\", \"Topic4\", \"Topic4\", \"Topic4\", \"Topic4\", \"Topic4\", \"Topic4\", \"Topic4\", \"Topic4\", \"Topic4\", \"Topic4\", \"Topic4\", \"Topic4\", \"Topic4\", \"Topic4\", \"Topic4\", \"Topic4\", \"Topic4\", \"Topic4\", \"Topic4\", \"Topic4\", \"Topic4\", \"Topic4\", \"Topic4\", \"Topic4\", \"Topic4\", \"Topic4\", \"Topic4\", \"Topic4\", \"Topic4\", \"Topic4\", \"Topic4\", \"Topic4\", \"Topic4\", \"Topic4\", \"Topic5\", \"Topic5\", \"Topic5\", \"Topic5\", \"Topic5\", \"Topic5\", \"Topic5\", \"Topic5\", \"Topic5\", \"Topic5\", \"Topic5\", \"Topic5\", \"Topic5\", \"Topic5\", \"Topic5\", \"Topic5\", \"Topic5\", \"Topic5\", \"Topic5\", \"Topic5\", \"Topic5\", \"Topic5\", \"Topic5\", \"Topic5\", \"Topic5\", \"Topic5\", \"Topic5\", \"Topic5\", \"Topic5\", \"Topic5\", \"Topic5\", \"Topic5\", \"Topic5\", \"Topic5\", \"Topic5\", \"Topic5\", \"Topic5\", \"Topic5\", \"Topic5\", \"Topic5\", \"Topic5\", \"Topic5\", \"Topic5\", \"Topic5\", \"Topic5\", \"Topic5\", \"Topic5\", \"Topic5\", \"Topic5\", \"Topic5\", \"Topic5\", \"Topic5\", \"Topic6\", \"Topic6\", \"Topic6\", \"Topic6\", \"Topic6\", \"Topic6\", \"Topic6\", \"Topic6\", \"Topic6\", \"Topic6\", \"Topic6\", \"Topic6\", \"Topic6\", \"Topic6\", \"Topic6\", \"Topic6\", \"Topic6\", \"Topic6\", \"Topic6\", \"Topic6\", \"Topic6\", \"Topic6\", \"Topic6\", \"Topic6\", \"Topic6\", \"Topic6\", \"Topic6\", \"Topic6\", \"Topic6\", \"Topic6\", \"Topic6\", \"Topic6\", \"Topic6\", \"Topic6\", \"Topic6\", \"Topic6\", \"Topic6\", \"Topic6\", \"Topic6\", \"Topic6\", \"Topic6\", \"Topic6\", \"Topic6\", \"Topic6\", \"Topic6\", \"Topic6\", \"Topic7\", \"Topic7\", \"Topic7\", \"Topic7\", \"Topic7\", \"Topic7\", \"Topic7\", \"Topic7\", \"Topic7\", \"Topic7\", \"Topic7\", \"Topic7\", \"Topic7\", \"Topic7\", \"Topic7\", \"Topic7\", \"Topic7\", \"Topic7\", \"Topic7\", \"Topic7\", \"Topic7\", \"Topic7\", \"Topic7\", \"Topic7\", \"Topic7\", \"Topic7\", \"Topic7\", \"Topic7\", \"Topic7\", \"Topic7\", \"Topic7\", \"Topic7\", \"Topic7\", \"Topic7\", \"Topic7\", \"Topic7\", \"Topic7\", \"Topic7\", \"Topic7\", \"Topic7\", \"Topic7\", \"Topic7\", \"Topic7\", \"Topic7\", \"Topic7\", \"Topic7\", \"Topic7\", \"Topic7\", \"Topic7\", \"Topic7\", \"Topic7\", \"Topic7\", \"Topic8\", \"Topic8\", \"Topic8\", \"Topic8\", \"Topic8\", \"Topic8\", \"Topic8\", \"Topic8\", \"Topic8\", \"Topic8\", \"Topic8\", \"Topic8\", \"Topic8\", \"Topic8\", \"Topic8\", \"Topic8\", \"Topic8\", \"Topic8\", \"Topic8\", \"Topic8\", \"Topic8\", \"Topic8\", \"Topic8\", \"Topic8\", \"Topic8\", \"Topic8\", \"Topic8\", \"Topic8\", \"Topic8\", \"Topic8\", \"Topic8\", \"Topic8\", \"Topic8\", \"Topic8\", \"Topic8\", \"Topic8\", \"Topic8\", \"Topic8\", \"Topic8\", \"Topic8\", \"Topic8\", \"Topic8\", \"Topic8\", \"Topic8\", \"Topic8\", \"Topic8\", \"Topic8\"], \"Freq\": [371.0, 164.0, 49.0, 70.0, 68.0, 327.0, 34.0, 37.0, 94.0, 49.0, 33.0, 87.0, 102.0, 39.0, 37.0, 98.0, 29.0, 50.0, 22.0, 34.0, 50.0, 28.0, 29.0, 29.0, 48.0, 56.0, 66.0, 46.0, 30.0, 45.0, 13.637231519087512, 9.62831404132819, 7.462266076144861, 9.850438700832893, 10.404104694013927, 13.181015852194259, 13.605226371066939, 46.13873561038943, 27.92777743842807, 7.530018181860328, 5.808778050882832, 13.379794066756535, 14.27626424845903, 8.640231845735741, 6.340180018701956, 8.219320031242694, 10.480844104202578, 15.153870342241827, 8.557438958754565, 7.437925169398699, 9.22873250794869, 9.681775040493543, 17.571548231609615, 5.343437185058775, 13.045054356490523, 7.623083273542949, 18.881872427476033, 7.873261456737945, 6.923566069329233, 29.583179009255446, 25.62803125495984, 41.3158850826726, 33.07933902420732, 11.522351308477221, 68.24834014062647, 36.85583772353212, 22.499902402556483, 17.03531364677086, 21.100082142285512, 16.88993287390439, 15.48008663882575, 14.18949290459981, 23.984450978165302, 43.554061259475574, 24.367747418152234, 22.228965608587114, 20.39456185566591, 17.526201537809317, 16.083625964498513, 16.416229792165282, 14.813419796267999, 16.010480582500097, 14.788177777116301, 14.822260622326834, 14.361928393249949, 11.740395768292272, 45.365208342832325, 30.861011984442094, 60.37049205262645, 11.687770670829838, 277.34633215237363, 29.630071662743536, 22.971477459252046, 31.868487334763635, 23.49411771528412, 9.406062356537886, 10.362666427003983, 5.304105833868592, 11.204193564474057, 8.57953601986873, 18.27855409960453, 8.586454053411586, 12.174285391877557, 6.227736255090479, 19.4255325185627, 10.355537507534565, 8.221123047440848, 18.687231433442623, 13.846563175704492, 15.10611583790723, 7.275934862191994, 4.897998355971442, 9.998713633768636, 8.820390277465354, 4.312586204465911, 8.673004384373202, 24.610506605283252, 23.83652129605977, 35.17796686374909, 13.736013665747235, 10.39625944673379, 14.273087179816656, 15.820696236759629, 25.230004463764537, 18.48695937720933, 20.78430582905535, 37.1688600234936, 30.06330944587372, 14.678902828846772, 15.99353595011164, 13.184969418387901, 13.092864027283682, 11.798303310245693, 10.328558611478005, 19.641794533028083, 9.130917216264029, 13.784559606698624, 30.775854732342175, 13.931940939388193, 14.284396393434932, 10.13584736845878, 7.755220781350873, 6.303306619350038, 6.230499291934369, 12.573140966742056, 7.696899657785403, 6.949407939059488, 7.316043987505139, 9.227051267443922, 7.648910610385636, 6.676194663851229, 10.972269085547428, 12.06494786291655, 14.444451394327636, 12.794867270062062, 11.33501647358628, 16.00042391707111, 14.533834924798946, 4.873569709177881, 18.058128134639105, 20.010046407448662, 10.502249407787417, 6.953059248528123, 8.51181537913903, 14.991723898761029, 102.64759116470161, 17.252847730311206, 26.821188391449684, 26.48408366333164, 25.890975825248457, 27.57299236313373, 23.710610358203038, 11.843584647805521, 22.620726887965635, 22.209379158518352, 15.228715646613452, 17.00272064603898, 21.37537948507342, 15.455428994975758, 13.838789247457752, 13.517420979586989, 14.450130721182557, 13.89902183421993, 153.81850877430873, 22.536328663243726, 25.179940335765, 23.35745801743137, 16.698501891123353, 12.92232562214883, 8.01059402462234, 52.32077653601434, 12.909979179866223, 7.364251475992015, 11.05403283365079, 14.911506537416189, 8.184227372002752, 18.554308563948673, 7.405756992050389, 9.264939467118532, 9.286108500777695, 9.045805278390509, 5.330528126070763, 5.782236861232889, 15.62333326421226, 28.072941360337683, 9.735969777664184, 6.365266576934386, 6.296128993558484, 4.919650537822913, 5.583623749796659, 15.845278345178034, 9.488002701837358, 6.985654369269703, 13.596688361074406, 8.879419057226405, 9.0486488792209, 14.38569090532624, 17.80726093305777, 13.734522063023428, 11.214221611675717, 13.963536448313546, 19.38295186438818, 17.59469887722856, 15.197728800417119, 30.80422060148172, 21.222741891735467, 17.60115033539084, 16.46830713297856, 17.53855952492182, 11.868634077670874, 11.468646689800607, 14.530423331697646, 12.608559020212514, 15.373402861327593, 17.96067986455302, 12.079963534869258, 8.571679188097752, 40.754367832335376, 13.423265019552032, 11.20207668200353, 13.392260082416664, 15.72830000243101, 10.923285545944223, 6.9016793142355075, 21.15192458613301, 14.541188973881068, 7.4317262963886925, 8.052367809330093, 4.96512106984585, 4.522377480208799, 17.710103674417375, 8.788979308542478, 11.610935585593493, 4.757459793350446, 4.546610607866639, 23.928297714847922, 5.11211302230212, 4.093145084114026, 6.73451783614003, 6.7572988548625705, 7.476873898921083, 6.078147827515634, 5.338825757334771, 6.063780207683931, 4.69851483928398, 12.55642452815657, 31.06245375716317, 20.951346035733636, 18.220747968455317, 20.94483862760508, 10.723592236822217, 24.341457787248228, 65.65228191147673, 18.958404296850226, 20.083037194355224, 16.482746309749885, 15.611631963315318, 12.776120123912802, 27.41588500623827, 16.23801528950026, 16.978999117829485, 12.46211313590034, 15.516572013003495, 13.190215608449256, 15.336742586568826, 12.552153538850384, 11.857218005275845, 32.666341885057754, 19.300992161799588, 29.41112630273679, 18.49508277550679, 14.821774294763916, 7.619632528549014, 15.064769138679255, 7.171499983671291, 11.719642780952528, 11.673016976031422, 22.321465677643086, 9.345409487346712, 6.4817051046075775, 5.958763773465143, 7.591919602413637, 12.205725890521585, 8.157019830452924, 5.40177394895621, 8.601217765111477, 4.9056822316591315, 10.122172727895975, 15.511574503619164, 26.49519861462835, 11.668457059826958, 7.912755854888972, 13.764455544877197, 10.760505599087717, 6.430340227076236, 6.769079130194417, 11.009587539914058, 17.886386213531498, 33.5003194317302, 20.81211997910655, 16.018713397621863, 56.77005999412712, 22.93376021786338, 28.82387716287023, 10.134859340007838, 15.380024817592279, 11.368432654118495, 14.36764531765754, 11.01675424373978, 12.452618491777795, 12.898447114111045, 10.70027637339118, 11.343402514331904, 21.57988494655711, 20.22177516473776, 18.78745298476228, 6.736655907956406, 8.462565690401197, 5.221840498736876, 7.029501063511374, 9.079260507302898, 11.985873077549922, 4.627114997950211, 9.075399635597085, 9.050504501513377, 12.21173313452997, 8.517537173787805, 4.2573333359572745, 6.32464052258209, 7.6195577492135085, 5.400832192066286, 30.39896102477844, 12.349161317216579, 4.204578075054686, 7.188690855423152, 6.438775842255984, 6.127536889442785, 6.392972358129745, 6.054372324761037, 4.640732737393993, 5.824433372900373, 6.0552308085823014, 5.578891295626893, 8.079860977722246, 14.283776624578785, 9.640182381401713, 12.373140984910243, 19.03330157679621, 10.01755159871225, 8.688997840486662, 10.689746337023603, 13.079740360137377, 38.01878189881068, 17.385146051059248, 13.077568242632116, 9.44481531596155, 10.03762859568334, 11.156330739742435, 19.222989076385186, 11.010413677864216, 12.970372704491906, 11.457249818666114, 11.637071206489296, 9.508437172247884, 8.830946484888406, 33.994515240046454, 19.58756910051572, 6.550324738741379, 7.875662962097261, 9.984009114246005, 6.42342197660864, 6.382896692270668, 7.556664719255614, 8.962476314029509, 11.423415732767934, 5.860966680477654, 3.378218356133301, 3.8105041717199737, 5.202774883278969, 4.175294953962988, 3.3630266984137838, 6.889664424562688, 2.8845139143842324, 2.850776827440577, 6.582772258441046, 3.237284027344702, 3.245552021556764, 3.204013490497401, 2.402153631185122, 3.5500428937647346, 14.527403015990831, 3.3082332307241322, 4.301925159318762, 3.2190476153029475, 2.789722141286635, 4.015150319008894, 5.368398164033001, 8.545712089752875, 5.7838972720587405, 8.786978144017185, 4.494149450995145, 5.783224090980294, 16.200829408768765, 6.06344167746489, 8.541580841603428, 4.361814083282577, 4.731655321218373, 4.6344512435156435, 4.424673215293381, 4.344236263934153, 4.451211602566298, 4.427442797183864], \"Term\": [\"data\", \"music\", \"performance\", \"heritage\", \"big\", \"digital\", \"library\", \"musical\", \"design\", \"big data\", \"artist\", \"researchers\", \"community\", \"literary\", \"text\", \"media\", \"texts\", \"artists\", \"popular\", \"datasets\", \"film\", \"scholars\", \"literature\", \"software\", \"technology\", \"study\", \"technologies\", \"objects\", \"workshops\", \"art\", \"produced\", \"want\", \"involve\", \"designers\", \"diverse\", \"processes\", \"needs\", \"people\", \"artists\", \"concerns\", \"growing\", \"related\", \"stories\", \"interact\", \"demonstrate\", \"interaction\", \"platform\", \"issues\", \"changes\", \"members\", \"increasingly\", \"traditional\", \"academic\", \"longer\", \"space\", \"devices\", \"future\", \"language\", \"reach\", \"archive\", \"knowledge\", \"community\", \"communities\", \"audience\", \"new\", \"cultural\", \"potential\", \"art\", \"technologies\", \"working\", \"practices\", \"support\", \"based\", \"digital\", \"use\", \"work\", \"design\", \"different\", \"access\", \"arts\", \"process\", \"develop\", \"history\", \"tools\", \"produce\", \"large scale\", \"big data\", \"datasets\", \"big\", \"just\", \"data\", \"large\", \"scale\", \"quot\", \"historical\", \"effective\", \"general\", \"framework\", \"main\", \"institutions\", \"possible\", \"records\", \"need\", \"examine\", \"analysis\", \"source\", \"visualisation\", \"questions\", \"material\", \"human\", \"search\", \"second\", \"visual\", \"dataset\", \"require\", \"enabling\", \"open\", \"information\", \"cultural\", \"generated\", \"british\", \"way\", \"available\", \"use\", \"public\", \"social\", \"digital\", \"new\", \"provide\", \"based\", \"history\", \"make\", \"tools\", \"leading\", \"participants\", \"addition\", \"global\", \"film\", \"practitioners\", \"workshop\", \"critical\", \"digitally\", \"present\", \"essential\", \"images\", \"identified\", \"publications\", \"associated\", \"multi\", \"museum\", \"assets\", \"ethical\", \"video\", \"london\", \"expertise\", \"environment\", \"collaborative\", \"archives\", \"educational\", \"international\", \"network\", \"group\", \"long\", \"academics\", \"important\", \"digital\", \"university\", \"online\", \"creative\", \"communities\", \"media\", \"public\", \"team\", \"community\", \"work\", \"range\", \"explore\", \"new\", \"researchers\", \"arts\", \"open\", \"cultural\", \"use\", \"music\", \"audio\", \"musical\", \"sound\", \"industry\", \"play\", \"skills\", \"design\", \"interactive\", \"level\", \"self\", \"user\", \"real\", \"resources\", \"professional\", \"concept\", \"particularly\", \"hand\", \"offers\", \"test\", \"models\", \"users\", \"education\", \"led\", \"partner\", \"educational\", \"representation\", \"partners\", \"funded\", \"ideas\", \"experience\", \"commercial\", \"popular\", \"approach\", \"development\", \"opportunities\", \"build\", \"developed\", \"world\", \"using\", \"ways\", \"new\", \"work\", \"creative\", \"develop\", \"based\", \"computer\", \"aim\", \"explore\", \"technology\", \"use\", \"digital\", \"places\", \"capture\", \"heritage\", \"crowd\", \"generate\", \"social media\", \"place\", \"offer\", \"seek\", \"objects\", \"tool\", \"exchange\", \"lives\", \"outcomes\", \"low\", \"analysis\", \"arts humanities\", \"culture\", \"age\", \"period\", \"arts\", \"link\", \"highly\", \"document\", \"mobile\", \"management\", \"policy\", \"disciplines\", \"novel\", \"addition\", \"generated\", \"social\", \"archive\", \"knowledge\", \"online\", \"enable\", \"community\", \"data\", \"develop\", \"researchers\", \"information\", \"tools\", \"study\", \"new\", \"communities\", \"media\", \"development\", \"use\", \"public\", \"digital\", \"work\", \"provide\", \"artist\", \"works\", \"literary\", \"city\", \"books\", \"modern\", \"contemporary\", \"draw\", \"artistic\", \"digital technologies\", \"art\", \"mobile\", \"original\", \"stage\", \"bringing\", \"physical\", \"output\", \"transformative\", \"visualisation\", \"enhance\", \"book\", \"text\", \"technologies\", \"literature\", \"engaging\", \"value\", \"nature\", \"high\", \"wide\", \"workshops\", \"artists\", \"media\", \"practice\", \"forms\", \"digital\", \"social\", \"new\", \"making\", \"based\", \"engagement\", \"creative\", \"aims\", \"users\", \"community\", \"order\", \"use\", \"texts\", \"software\", \"text\", \"domain\", \"cross\", \"problem\", \"sources\", \"management\", \"literature\", \"present\", \"book\", \"materials\", \"set\", \"images\", \"view\", \"changes\", \"technical\", \"major\", \"researchers\", \"web\", \"professionals\", \"relationship\", \"multiple\", \"identify\", \"teaching\", \"exploring\", \"larger\", \"novel\", \"emerging\", \"prototype\", \"expertise\", \"history\", \"archives\", \"humanities\", \"tools\", \"studies\", \"culture\", \"methods\", \"access\", \"digital\", \"work\", \"world\", \"approaches\", \"film\", \"different\", \"data\", \"information\", \"use\", \"design\", \"new\", \"using\", \"provide\", \"performance\", \"library\", \"conference\", \"students\", \"popular\", \"events\", \"database\", \"non\", \"scholars\", \"musical\", \"areas\", \"fields\", \"digitally\", \"contribute\", \"members\", \"specialists\", \"british\", \"transformative\", \"published\", \"workshops\", \"methodology\", \"school\", \"held\", \"term\", \"analyse\", \"heritage\", \"centre\", \"national\", \"long\", \"museum\", \"results\", \"literature\", \"technology\", \"tool\", \"study\", \"include\", \"collaboration\", \"digital\", \"practice\", \"music\", \"culture\", \"objects\", \"design\", \"using\", \"potential\", \"data\", \"new\"], \"Total\": [371.0, 164.0, 49.0, 70.0, 68.0, 327.0, 34.0, 37.0, 94.0, 49.0, 33.0, 87.0, 102.0, 39.0, 37.0, 98.0, 29.0, 50.0, 22.0, 34.0, 50.0, 28.0, 29.0, 29.0, 48.0, 56.0, 66.0, 46.0, 30.0, 45.0, 19.710984023172372, 14.678602626378963, 11.820539204146819, 15.657419058791085, 17.597760289644594, 22.529249511226983, 23.69135737048792, 83.4589559354582, 50.80162238724425, 13.782952026400606, 10.767618306984328, 25.52504990975818, 27.32748843855484, 16.634390574907773, 12.746246333391191, 16.601123157322807, 21.608201693685288, 31.338515035160235, 17.725422411527564, 15.460038509367559, 19.522299689011124, 20.48786889879717, 38.07719604470374, 11.762699124937507, 30.257500983998845, 17.772492113172376, 44.59131315314359, 18.655331942836252, 16.51181497943094, 70.91107049442681, 62.79315778778466, 102.9045709644552, 88.01318929432756, 28.188277535225698, 222.795525845837, 110.44186361401974, 62.246557511632375, 45.642699293525716, 66.31990003929948, 49.81979407197406, 44.0224953765372, 39.080255288582364, 95.99350828296139, 327.6576062004992, 121.4908974747969, 108.77723207805933, 94.0614707389879, 67.31034004754213, 59.681624613632835, 67.61938682591611, 47.86001950949502, 75.92711390243826, 49.873658293506146, 77.23855771722903, 47.53468469243962, 12.58539816305219, 49.45504143667794, 34.82599665689919, 68.9243109898117, 15.49190255154865, 371.60464265991146, 40.68264998253509, 32.927135085617756, 55.2227715635949, 42.64287719451194, 18.27321858107578, 20.383400439128472, 10.753106652195267, 23.08456627830434, 18.427195308238304, 39.77764106819028, 19.38641326695203, 28.172125521386278, 14.47507871023296, 46.91670684402566, 25.273025506566047, 20.250373038031732, 46.56429967326855, 35.01341487771772, 38.4984757006014, 18.589029929675593, 12.571274230384264, 26.18579015422621, 23.347006158746098, 11.697646559373103, 23.539410877967455, 71.77966637208297, 69.46519787655608, 110.44186361401974, 39.14726616940588, 28.793806082929102, 44.54004101303851, 54.27307789949438, 121.4908974747969, 81.14174735214388, 102.30586240379671, 327.6576062004992, 222.795525845837, 60.310861818369354, 95.99350828296139, 49.873658293506146, 49.21214695050358, 77.23855771722903, 15.342646511414943, 29.875413095796972, 14.55224949764243, 22.151766130954744, 50.380494389951394, 23.177179252712275, 24.047213752006396, 17.377034731237888, 13.330112193623771, 11.654253176753253, 11.533754614105426, 23.33584471884729, 14.542977993802246, 13.525070282843716, 14.506480178304063, 18.346809483180284, 15.32246711992804, 13.51056378410101, 22.3323038497963, 25.368340687121112, 30.492396327920467, 27.15669337374484, 25.216910335544206, 36.4549242593416, 33.16687878899978, 11.404251219966946, 42.257872218091734, 48.363323907203615, 26.08811894286229, 17.321162111477463, 21.213523792060677, 38.807991509906785, 327.6576062004992, 47.344283787820885, 81.62363728318331, 85.61584479074754, 88.01318929432756, 98.86451415412385, 81.14174735214388, 30.826611634719015, 102.9045709644552, 108.77723207805933, 51.244963338135555, 71.49657270280103, 222.795525845837, 87.01006514227856, 67.61938682591611, 71.77966637208297, 110.44186361401974, 121.4908974747969, 164.94562487591506, 27.55616416114192, 37.511350744760975, 35.26591366501649, 28.796757270558555, 22.897009896530093, 14.328100778010647, 94.0614707389879, 24.877549284392707, 14.411240266850399, 22.088482322531387, 29.81401162858972, 16.387396897734007, 37.47534349866467, 15.267884121403897, 19.22305290733998, 19.301145727541083, 19.08500531090278, 11.506211502509217, 12.498253427689383, 34.678476048305576, 62.31373106612549, 21.942968523906845, 14.409201836212917, 14.42912779618087, 11.404251219966946, 13.381318431704543, 38.56406722465337, 23.120881762153505, 17.097965058970352, 33.58024841515014, 22.017805955636423, 22.515456351674807, 39.636908622858186, 57.05519639753956, 40.57850303898814, 31.028800764076394, 42.197774559099756, 68.62572224755586, 63.73610826665151, 52.19711678568108, 222.795525845837, 108.77723207805933, 85.61584479074754, 75.92711390243826, 95.99350828296139, 37.71971096994632, 35.42483279943256, 71.49657270280103, 48.555944948790035, 121.4908974747969, 327.6576062004992, 19.524659166853834, 14.575245586906112, 70.79268407228099, 24.439739243503034, 20.467019727796803, 25.437001693473302, 30.309547892591535, 21.71045435212134, 13.785571214367275, 46.07959643294889, 32.98122671092337, 17.502567309325674, 20.417654570948965, 12.805722610651959, 11.752227508723195, 46.91670684402566, 23.610260405002514, 31.27287666505443, 12.82732484259587, 12.640536674496333, 67.61938682591611, 14.51668657860414, 11.72036461049792, 19.342571106578625, 19.419180561542806, 21.62322066394679, 17.594607936727407, 15.623697372620981, 18.617557735389585, 14.55224949764243, 39.14726616940588, 102.30586240379671, 70.91107049442681, 62.79315778778466, 81.62363728318331, 36.32057789978999, 102.9045709644552, 371.60464265991146, 75.92711390243826, 87.01006514227856, 69.46519787655608, 77.23855771722903, 56.14163714631487, 222.795525845837, 88.01318929432756, 98.86451415412385, 57.05519639753956, 121.4908974747969, 81.14174735214388, 327.6576062004992, 108.77723207805933, 60.310861818369354, 33.51281131824911, 25.07079884125708, 39.347238936901164, 31.994110836534436, 26.145049188904782, 13.473507238037561, 27.05714649350349, 13.356414870009838, 22.221132287410562, 22.372733377804337, 45.642699293525716, 19.419180561542806, 13.518544167564722, 12.52949513232833, 16.378275866157352, 27.041701783171813, 18.219867784685782, 12.472967219801184, 20.250373038031732, 11.571821572361184, 24.33994632129653, 37.922264232575564, 66.31990003929948, 29.863549394375255, 20.319848288821248, 35.70291460378268, 28.917506462748797, 17.312716727796712, 18.353995965739514, 30.504325702626144, 50.80162238724425, 98.86451415412385, 61.754283648911965, 46.65193172688409, 327.6576062004992, 102.30586240379671, 222.795525845837, 31.830142452727326, 95.99350828296139, 44.26087943453713, 85.61584479074754, 41.685613871895555, 62.31373106612549, 102.9045709644552, 38.67776434298589, 121.4908974747969, 29.412406797029075, 29.574476731233872, 37.922264232575564, 14.669365360184772, 18.522003042861353, 11.705183107575278, 16.45077108809094, 21.62322066394679, 29.863549394375255, 11.654253176753253, 24.33994632129653, 24.384316599805622, 32.934252518644, 23.33584471884729, 11.759984280759303, 17.725422411527564, 21.540197436709995, 15.454661916029712, 87.01006514227856, 36.91552703543145, 12.605593268418618, 21.590500447293774, 19.42217762302144, 18.554387792939895, 19.475699627772446, 18.518884412051122, 14.521302654501659, 18.617557735389585, 19.48890118646903, 18.460033602592432, 27.15669337374484, 49.873658293506146, 33.16687878899978, 45.85118664072893, 77.23855771722903, 35.92533935833862, 31.27287666505443, 43.67161305546719, 59.681624613632835, 327.6576062004992, 108.77723207805933, 68.62572224755586, 41.840256873818916, 50.380494389951394, 67.31034004754213, 371.60464265991146, 69.46519787655608, 121.4908974747969, 94.0614707389879, 222.795525845837, 63.73610826665151, 60.310861818369354, 49.3948997097942, 34.762438672005985, 12.347622173587052, 16.923336699601325, 22.515456351674807, 16.148530770782113, 18.10144560669484, 21.929352120904095, 28.58520835902298, 37.511350744760975, 19.29423616424085, 11.503950003447173, 13.330112193623771, 19.125746439385928, 15.460038509367559, 13.388395028226995, 28.793806082929102, 12.472967219801184, 12.38381442114002, 30.504325702626144, 15.260832077740515, 15.330043203051531, 15.321778769676518, 11.58950266398872, 17.221589654068104, 70.79268407228099, 17.108276861418197, 22.875481167876224, 17.321162111477463, 15.32246711992804, 22.074194374382145, 29.863549394375255, 48.555944948790035, 32.98122671092337, 56.14163714631487, 26.91102003361864, 44.25496333142284, 327.6576062004992, 61.754283648911965, 164.94562487591506, 31.27287666505443, 46.07959643294889, 94.0614707389879, 63.73610826665151, 62.246557511632375, 371.60464265991146, 222.795525845837], \"loglift\": [30.0, 29.0, 28.0, 27.0, 26.0, 25.0, 24.0, 23.0, 22.0, 21.0, 20.0, 19.0, 18.0, 17.0, 16.0, 15.0, 14.0, 13.0, 12.0, 11.0, 10.0, 9.0, 8.0, 7.0, 6.0, 5.0, 4.0, 3.0, 2.0, 1.0, 1.3948, 1.3414, 1.3031, 1.2997, 1.2376, 1.2271, 1.2085, 1.1704, 1.1648, 1.1586, 1.146, 1.1172, 1.1138, 1.1081, 1.0648, 1.0601, 1.0396, 1.0365, 1.0349, 1.0315, 1.0139, 1.0135, 0.9898, 0.9741, 0.9218, 0.9167, 0.9038, 0.9005, 0.894, 0.8889, 0.867, 0.8506, 0.7845, 0.8685, 0.58, 0.6656, 0.7455, 0.7776, 0.6179, 0.6814, 0.718, 0.75, 0.3762, -0.2548, 0.1565, 0.1752, 0.2344, 0.4175, 0.4519, 0.3475, 0.5904, 0.2066, 0.5475, 0.1124, 0.5662, 1.7814, 1.7646, 1.7301, 1.7184, 1.5692, 1.5584, 1.5339, 1.4909, 1.3012, 1.2548, 1.1869, 1.1744, 1.1442, 1.1281, 1.0865, 1.0734, 1.0365, 1.0119, 1.0075, 0.9692, 0.9587, 0.9495, 0.9379, 0.9232, 0.9154, 0.9129, 0.9083, 0.8882, 0.8775, 0.8531, 0.8525, 0.7805, 0.7813, 0.7069, 0.8036, 0.8322, 0.7129, 0.6182, 0.2791, 0.3718, 0.2572, -0.3256, -0.152, 0.4378, 0.0588, 0.5205, 0.5269, -0.028, 1.509, 1.4854, 1.4387, 1.4304, 1.4119, 1.3958, 1.3839, 1.3657, 1.3631, 1.2902, 1.289, 1.2863, 1.2685, 1.2389, 1.2202, 1.2175, 1.21, 1.1998, 1.1941, 1.1616, 1.1576, 1.1522, 1.1052, 1.0813, 1.0797, 1.0546, 1.0546, 1.0223, 0.9949, 0.992, 0.9916, 0.9536, 0.7441, 0.8953, 0.7918, 0.7314, 0.6812, 0.6279, 0.6745, 0.9482, 0.3898, 0.316, 0.6913, 0.4685, -0.4392, 0.1767, 0.3184, 0.2352, -0.129, -0.2632, 1.8566, 1.7253, 1.5278, 1.5144, 1.3815, 1.3544, 1.345, 1.3399, 1.2705, 1.2551, 1.2342, 1.2336, 1.2321, 1.2234, 1.2029, 1.1966, 1.1948, 1.1798, 1.157, 1.1556, 1.1291, 1.1291, 1.1138, 1.1094, 1.0971, 1.0857, 1.0524, 1.037, 1.0357, 1.0313, 1.0223, 1.0183, 1.0148, 0.9129, 0.762, 0.8431, 0.9087, 0.8205, 0.6622, 0.6393, 0.6925, -0.0522, 0.2922, 0.3445, 0.3981, 0.2266, 0.7701, 0.7986, 0.333, 0.5781, -0.1408, -0.9774, 1.6117, 1.561, 1.5397, 1.4927, 1.4892, 1.4503, 1.4359, 1.405, 1.4, 1.3132, 1.2729, 1.2353, 1.1614, 1.1444, 1.1369, 1.1176, 1.1037, 1.1011, 1.1, 1.0693, 1.053, 1.0482, 1.0399, 1.0368, 1.0362, 1.0299, 1.029, 1.0181, 0.9701, 0.9614, 0.9548, 0.8999, 0.8727, 0.8546, 0.7316, 0.8719, 0.6503, 0.3584, 0.7043, 0.6257, 0.6534, 0.493, 0.6116, -0.0033, 0.4017, 0.3301, 0.5705, 0.0339, 0.2752, -0.9698, -0.0675, 0.4653, 2.106, 1.87, 1.8405, 1.5835, 1.564, 1.5615, 1.5459, 1.5097, 1.4918, 1.481, 1.4162, 1.4002, 1.3965, 1.3883, 1.3627, 1.3361, 1.3279, 1.2947, 1.2753, 1.2734, 1.2542, 1.2376, 1.214, 1.1918, 1.1884, 1.1784, 1.143, 1.1411, 1.1341, 1.1124, 1.0877, 1.0493, 1.0439, 1.0626, 0.3786, 0.6362, 0.0865, 0.9871, 0.3003, 0.7723, 0.3466, 0.8008, 0.5213, 0.0548, 0.8465, -0.2397, 2.0656, 1.9951, 1.6729, 1.5971, 1.592, 1.5681, 1.525, 1.5075, 1.4624, 1.4515, 1.3887, 1.3841, 1.3831, 1.3674, 1.3592, 1.3447, 1.3361, 1.3239, 1.3236, 1.2802, 1.2773, 1.2755, 1.2712, 1.2674, 1.2613, 1.2573, 1.2345, 1.2132, 1.2063, 1.1786, 1.163, 1.1249, 1.1397, 1.0654, 0.9746, 1.0982, 1.0946, 0.9679, 0.8573, 0.2214, 0.5416, 0.7175, 0.8869, 0.762, 0.578, -0.5865, 0.5333, 0.1381, 0.2699, -0.5768, 0.4727, 0.454, 2.8017, 2.6017, 2.5414, 2.4105, 2.3622, 2.2535, 2.133, 2.11, 2.0155, 1.9864, 1.9839, 1.95, 1.9231, 1.8735, 1.8663, 1.7938, 1.7452, 1.7112, 1.7066, 1.642, 1.6248, 1.6228, 1.6105, 1.6016, 1.5962, 1.5917, 1.5322, 1.5044, 1.4925, 1.472, 1.471, 1.4593, 1.4381, 1.4345, 1.3208, 1.3856, 1.1404, 0.1685, 0.8545, 0.2147, 1.2055, 0.8993, 0.1649, 0.5078, 0.5131, -1.2493, -0.7431], \"logprob\": [30.0, 29.0, 28.0, 27.0, 26.0, 25.0, 24.0, 23.0, 22.0, 21.0, 20.0, 19.0, 18.0, 17.0, 16.0, 15.0, 14.0, 13.0, 12.0, 11.0, 10.0, 9.0, 8.0, 7.0, 6.0, 5.0, 4.0, 3.0, 2.0, 1.0, -5.1143, -5.4624, -5.7173, -5.4396, -5.3849, -5.1483, -5.1167, -3.8955, -4.3975, -5.7082, -5.9677, -5.1334, -5.0685, -5.5707, -5.8802, -5.6206, -5.3776, -5.0089, -5.5803, -5.7205, -5.5048, -5.4569, -4.8608, -6.0512, -5.1587, -5.6959, -4.7889, -5.6636, -5.7922, -4.3399, -4.4834, -4.0059, -4.2282, -5.2828, -3.504, -4.1201, -4.6136, -4.8918, -4.6778, -4.9004, -4.9876, -5.0746, -4.5497, -3.9531, -4.5339, -4.6257, -4.7118, -4.8634, -4.9493, -4.9288, -5.0316, -4.9539, -5.0333, -5.031, -5.0625, -5.1763, -3.8246, -4.2098, -3.5388, -5.1808, -2.014, -4.2505, -4.5051, -4.1777, -4.4826, -5.398, -5.3011, -5.9708, -5.223, -5.4899, -4.7336, -5.4891, -5.14, -5.8103, -4.6727, -5.3018, -5.5326, -4.7115, -5.0113, -4.9242, -5.6547, -6.0505, -5.3368, -5.4622, -6.1778, -5.4791, -4.4361, -4.4681, -4.0789, -5.0193, -5.2979, -4.9809, -4.878, -4.4113, -4.7222, -4.6051, -4.0238, -4.236, -4.9529, -4.8671, -5.0602, -5.0672, -5.1714, -5.2506, -4.6078, -5.3738, -4.9619, -4.1587, -4.9513, -4.9263, -5.2694, -5.5371, -5.7444, -5.756, -5.0539, -5.5447, -5.6468, -5.5954, -5.3633, -5.5509, -5.6869, -5.1901, -5.0952, -4.9152, -5.0364, -5.1576, -4.8129, -4.909, -6.0016, -4.6919, -4.5892, -5.2339, -5.6463, -5.444, -4.878, -2.9542, -4.7375, -4.2963, -4.3089, -4.3316, -4.2686, -4.4195, -5.1137, -4.4666, -4.485, -4.8623, -4.7521, -4.5232, -4.8475, -4.958, -4.9815, -4.9148, -4.9537, -2.528, -4.4487, -4.3378, -4.4129, -4.7485, -5.0049, -5.483, -3.6064, -5.0058, -5.5672, -5.161, -4.8617, -5.4616, -4.6431, -5.5616, -5.3376, -5.3353, -5.3615, -5.8904, -5.809, -4.815, -4.229, -5.288, -5.713, -5.7239, -5.9706, -5.844, -4.8009, -5.3138, -5.62, -4.954, -5.3801, -5.3612, -4.8976, -4.6842, -4.9439, -5.1466, -4.9274, -4.5994, -4.6962, -4.8427, -4.1362, -4.5087, -4.6958, -4.7624, -4.6994, -5.0899, -5.1242, -4.8876, -5.0294, -4.8312, -4.6756, -4.9068, -5.2499, -3.6908, -4.8014, -4.9823, -4.8037, -4.6429, -5.0075, -5.4666, -4.3466, -4.7214, -5.3926, -5.3124, -5.7959, -5.8893, -4.5242, -5.2249, -4.9464, -5.8387, -5.884, -4.2233, -5.7668, -5.9891, -5.4911, -5.4877, -5.3866, -5.5937, -5.7234, -5.596, -5.8511, -4.8681, -3.9624, -4.3562, -4.4958, -4.3565, -5.0259, -4.2062, -3.214, -4.4561, -4.3985, -4.5961, -4.6504, -4.8508, -4.0872, -4.611, -4.5664, -4.8757, -4.6565, -4.8189, -4.6681, -4.8685, -4.9254, -3.8724, -4.3985, -3.9773, -4.4412, -4.6626, -5.328, -4.6463, -5.3886, -4.8974, -4.9014, -4.2532, -5.1238, -5.4897, -5.5738, -5.3316, -4.8568, -5.2598, -5.672, -5.2068, -5.7683, -5.044, -4.6171, -4.0817, -4.9018, -5.2902, -4.7366, -4.9828, -5.4977, -5.4463, -4.9599, -4.4747, -3.8471, -4.3232, -4.5849, -3.3197, -4.2261, -3.9975, -5.0427, -4.6256, -4.9279, -4.6937, -4.9593, -4.8368, -4.8016, -4.9884, -4.9301, -4.0432, -4.1082, -4.1818, -5.2074, -4.9793, -5.4621, -5.1649, -4.909, -4.6312, -5.583, -4.9094, -4.9122, -4.6126, -4.9729, -5.6663, -5.2705, -5.0843, -5.4284, -3.7006, -4.6014, -5.6788, -5.1425, -5.2526, -5.3022, -5.2598, -5.3142, -5.5801, -5.3529, -5.3141, -5.396, -5.0256, -4.4559, -4.849, -4.5995, -4.1688, -4.8106, -4.9529, -4.7457, -4.5439, -3.4769, -4.2594, -4.5441, -4.8695, -4.8086, -4.703, -4.1589, -4.7161, -4.5523, -4.6764, -4.6608, -4.8628, -4.9367, -2.7887, -3.34, -4.4354, -4.2511, -4.0139, -4.4549, -4.4612, -4.2924, -4.1218, -3.8792, -4.5466, -5.0975, -4.9771, -4.6657, -4.8857, -5.102, -4.3848, -5.2555, -5.2673, -4.4304, -5.1401, -5.1376, -5.1505, -5.4385, -5.0479, -3.6388, -5.1185, -4.8558, -5.1458, -5.2889, -4.9248, -4.6343, -4.1694, -4.5598, -4.1416, -4.8121, -4.5599, -3.5298, -4.5126, -4.1699, -4.842, -4.7606, -4.7814, -4.8277, -4.846, -4.8217, -4.827]}, \"token.table\": {\"Topic\": [1, 2, 3, 5, 6, 1, 3, 4, 8, 1, 2, 3, 4, 5, 6, 7, 3, 5, 1, 5, 6, 7, 2, 3, 4, 5, 6, 7, 8, 1, 2, 3, 4, 5, 6, 7, 8, 1, 2, 4, 5, 8, 2, 3, 5, 7, 8, 1, 2, 3, 4, 5, 7, 1, 2, 3, 4, 5, 7, 1, 2, 3, 4, 5, 7, 1, 2, 3, 7, 1, 3, 4, 5, 7, 8, 1, 3, 4, 6, 7, 6, 1, 4, 6, 1, 3, 6, 1, 2, 3, 4, 5, 7, 1, 2, 4, 5, 7, 3, 4, 5, 6, 7, 3, 4, 5, 7, 1, 3, 4, 5, 6, 7, 2, 4, 5, 1, 2, 3, 4, 5, 6, 1, 2, 3, 4, 5, 6, 2, 5, 7, 2, 5, 7, 1, 3, 6, 7, 1, 2, 3, 6, 7, 2, 5, 6, 7, 8, 1, 2, 3, 6, 7, 8, 1, 3, 4, 5, 7, 3, 4, 5, 8, 1, 2, 3, 4, 6, 8, 1, 4, 6, 7, 1, 4, 6, 1, 2, 3, 4, 5, 6, 7, 8, 1, 2, 3, 4, 5, 6, 8, 3, 4, 6, 7, 1, 2, 3, 4, 5, 6, 7, 1, 3, 4, 5, 6, 1, 2, 4, 5, 6, 7, 8, 2, 3, 4, 7, 1, 5, 6, 1, 6, 8, 1, 2, 3, 5, 6, 1, 3, 4, 5, 8, 1, 2, 3, 4, 5, 6, 7, 8, 2, 3, 6, 7, 1, 3, 4, 5, 7, 8, 2, 3, 5, 6, 1, 2, 3, 5, 6, 7, 1, 2, 5, 7, 8, 2, 3, 4, 5, 7, 8, 2, 3, 5, 8, 2, 5, 6, 2, 3, 6, 1, 2, 7, 8, 1, 4, 5, 6, 7, 8, 1, 4, 5, 1, 2, 3, 4, 5, 6, 7, 1, 2, 3, 4, 5, 6, 7, 8, 1, 2, 3, 4, 5, 6, 7, 8, 1, 2, 5, 7, 1, 2, 3, 4, 5, 6, 7, 1, 2, 3, 4, 5, 6, 7, 8, 1, 6, 7, 3, 5, 8, 1, 3, 5, 7, 8, 1, 2, 4, 6, 2, 3, 4, 5, 6, 8, 1, 2, 6, 7, 2, 3, 4, 6, 8, 3, 4, 6, 7, 8, 3, 4, 8, 2, 3, 4, 7, 1, 2, 3, 7, 8, 1, 2, 4, 5, 6, 7, 1, 2, 5, 6, 7, 1, 2, 3, 4, 6, 1, 2, 3, 5, 6, 7, 1, 2, 6, 8, 1, 2, 3, 4, 5, 6, 2, 3, 4, 5, 2, 3, 5, 1, 2, 4, 5, 6, 8, 2, 3, 5, 6, 3, 4, 5, 7, 8, 1, 2, 3, 4, 6, 3, 5, 6, 7, 1, 2, 3, 4, 5, 6, 7, 8, 1, 2, 4, 6, 7, 2, 3, 5, 7, 8, 3, 5, 6, 7, 1, 2, 3, 5, 6, 1, 2, 5, 1, 2, 4, 5, 6, 7, 1, 3, 4, 7, 8, 1, 2, 5, 6, 2, 4, 5, 6, 8, 1, 2, 4, 5, 7, 1, 3, 4, 1, 2, 3, 4, 6, 7, 1, 2, 3, 6, 2, 4, 5, 8, 2, 4, 5, 6, 7, 8, 1, 3, 4, 5, 6, 8, 4, 5, 6, 7, 2, 4, 5, 7, 1, 2, 3, 6, 7, 1, 2, 3, 5, 7, 8, 1, 2, 3, 4, 6, 7, 8, 1, 2, 3, 4, 5, 7, 2, 3, 4, 6, 8, 3, 5, 6, 7, 1, 2, 3, 4, 5, 7, 1, 3, 7, 1, 2, 3, 5, 6, 8, 1, 3, 6, 7, 8, 1, 2, 4, 6, 1, 3, 4, 5, 7, 1, 2, 3, 4, 5, 6, 7, 2, 3, 5, 7, 1, 2, 3, 1, 4, 5, 7, 8, 1, 2, 3, 4, 5, 6, 7, 1, 2, 3, 4, 5, 6, 8, 1, 4, 5, 1, 3, 4, 6, 7, 2, 5, 6, 1, 3, 4, 5, 7, 8, 1, 2, 7, 1, 2, 3, 7, 2, 2, 3, 4, 7, 2, 3, 4, 2, 3, 4, 5, 2, 4, 5, 7, 2, 3, 4, 6, 8, 2, 4, 5, 7, 8, 1, 3, 6, 7, 8, 6, 7, 8, 2, 3, 4, 5, 1, 3, 4, 6, 8, 1, 2, 3, 5, 8, 1, 4, 5, 7, 3, 5, 6, 7, 2, 3, 4, 6, 7, 8, 3, 4, 5, 7, 8, 1, 2, 3, 4, 6, 7, 8, 1, 2, 3, 4, 5, 6, 3, 5, 7, 1, 2, 3, 4, 6, 7, 1, 2, 3, 4, 5, 7, 8, 1, 2, 3, 5, 6, 7, 1, 3, 5, 8, 2, 3, 6, 8, 1, 2, 3, 4, 5, 6, 7, 8, 2, 5, 6, 1, 3, 4, 5, 6, 8, 2, 3, 5, 6, 2, 3, 5, 6, 7, 8, 2, 3, 6, 7, 1, 3, 6, 8, 3, 4, 6, 8, 4, 8, 1, 2, 3, 4, 6, 8, 2, 3, 5, 6, 7, 8, 1, 2, 3, 4, 7, 1, 2, 3, 7, 1, 3, 4, 5, 6, 1, 2, 3, 4, 5, 6, 7, 8, 1, 2, 4, 6, 7, 8, 1, 4, 5, 7, 1, 5, 6, 7, 8, 1, 2, 4, 5, 1, 2, 3, 4, 1, 2, 3, 4, 5, 6, 7, 1, 2, 3, 4, 5, 6, 1, 2, 3, 4, 5, 6, 7, 1, 2, 4, 5, 6, 7, 2, 3, 5, 6, 7, 1, 3, 5, 2, 3, 4, 6, 1, 3, 4, 5, 8, 1, 3, 4, 7, 4, 5, 6, 1, 3, 4, 5, 7, 1, 2, 3, 4, 5, 6, 1, 2, 4, 8, 2, 3, 5, 6, 1, 3, 5, 6, 8, 1, 3, 5, 6, 7, 8, 4, 5, 6, 8, 1, 4, 5, 1, 2, 3, 4, 6, 7, 1, 2, 3, 5, 6, 2, 4, 8, 2, 3, 4, 5, 7, 1, 2, 3, 4, 5, 6, 7, 8, 1, 3, 4, 5, 6, 7, 8, 1, 2, 3, 4, 5, 6, 7, 3, 5, 6, 7, 3, 7, 1, 3, 4, 5, 7, 1, 2, 3, 5, 6, 1, 2, 4, 7, 1, 2, 3, 4, 5, 6, 8, 1, 2, 3, 6, 7, 3, 4, 6, 7, 4, 5, 6, 7, 3, 4, 5, 6, 7, 1, 2, 3, 4, 5, 6, 7, 8, 1, 2, 3, 4, 5, 6, 8, 1, 2, 3, 5, 6, 3, 4, 5, 7, 8, 1, 2, 3, 6, 8, 1, 2, 4, 5, 7, 8, 1, 2, 3, 4, 5, 6, 8, 1, 3, 4, 6, 1, 2, 4, 5, 2, 3, 5, 6, 1, 4, 5, 6, 7, 1, 2, 5, 6, 7, 2, 4, 6, 1, 2, 3, 5, 6, 1, 2, 3, 4, 5, 6, 7, 8, 1, 2, 3, 4, 5, 6, 7, 2, 4, 5, 7, 8, 2, 4, 5, 6, 8, 3, 5, 6, 8, 1, 3, 6, 8, 1, 2, 6, 7, 1, 2, 5, 6, 8, 2, 5, 7, 1, 3, 4, 5, 3, 4, 5, 6, 7, 3, 4, 5, 6, 1, 2, 3, 4, 5, 6, 1, 3, 5, 6, 1, 3, 5, 7, 1, 3, 4, 5, 8, 2, 3, 5, 7, 8, 2, 3, 4, 7, 1, 2, 3, 4, 5, 6, 1, 2, 6, 8, 1, 3, 4, 6, 7, 1, 2, 3, 5, 8, 3, 4, 7, 8, 1, 2, 3, 4, 7, 8, 1, 2, 3, 5, 6, 7, 8, 1, 2, 3, 4, 5, 6, 7, 1, 4, 7, 3, 4, 5, 6, 7, 2, 3, 5, 7, 1, 2, 4, 5, 6, 7, 8, 2, 3, 4, 5, 6, 7, 8, 1, 3, 4, 5, 8, 1, 4, 5, 8, 5, 6, 7, 8, 3, 6, 7, 3, 4, 5, 7, 8, 1, 2, 3, 4, 5, 7, 8, 1, 4, 5, 6, 7, 8, 5, 6, 8, 1, 2, 3, 5, 6, 7, 8, 1, 2, 3, 4, 5, 6, 7, 8, 1, 2, 3, 4, 6, 7, 1, 2, 3, 4, 5, 6, 7, 1, 2, 3, 4, 5, 6, 7, 8, 1, 2, 3, 6, 1, 3, 5, 7, 1, 4, 5, 7, 8, 1, 2, 3, 4, 6, 1, 2, 4, 5, 6, 1, 2, 4, 1, 2, 4, 5, 6, 7, 8, 1, 2, 3, 4, 5, 6, 7, 2, 3, 4, 5, 6, 7, 2, 3, 4, 5, 6, 7, 8, 1, 2, 3, 4, 5, 6, 7, 1, 2, 3, 4, 5, 7, 1, 6, 7, 1, 3, 4, 5, 6, 1, 3, 5, 6, 8, 1, 2, 3, 4, 5, 6, 7], \"Freq\": [0.47272388384027736, 0.07878731397337957, 0.23636194192013868, 0.02626243799112652, 0.18383706593788565, 0.3299781813062007, 0.4242576616794009, 0.047139740186600096, 0.1414192205598003, 0.2680892167996577, 0.11728903234985025, 0.10053345629987163, 0.08377788024989304, 0.13404460839982885, 0.08377788024989304, 0.21782248864972187, 0.6184610840721269, 0.34358949115118154, 0.2338757330006846, 0.3897928883344743, 0.07795857766689486, 0.2338757330006846, 0.16937271190440478, 0.1129151412696032, 0.31051663849140876, 0.0564575706348016, 0.1129151412696032, 0.1129151412696032, 0.08468635595220239, 0.1679236395921088, 0.23989091370301258, 0.04797818274060251, 0.09595636548120502, 0.14393454822180754, 0.26388000507331383, 0.023989091370301256, 0.023989091370301256, 0.11613329780666082, 0.17419994670999123, 0.34839989341998245, 0.17419994670999123, 0.23226659561332164, 0.40497301021500504, 0.04262873791736895, 0.38365864125632054, 0.10657184479342237, 0.04262873791736895, 0.2270610981707538, 0.2270610981707538, 0.050458021815723064, 0.35320615271006145, 0.025229010907861532, 0.12614505453930766, 0.21510384190857232, 0.23900426878730258, 0.047800853757460515, 0.21510384190857232, 0.047800853757460515, 0.21510384190857232, 0.42306511227126126, 0.05640868163616817, 0.12691953368137837, 0.028204340818084084, 0.2961455785898829, 0.07051085204521021, 0.21105392655523678, 0.030150560936462394, 0.45225841404693595, 0.30150560936462395, 0.4146315994010104, 0.0518289499251263, 0.0518289499251263, 0.0518289499251263, 0.1036578998502526, 0.3109736995507578, 0.3724582521001645, 0.0219093089470685, 0.0657279268412055, 0.48200479683550695, 0.043818617894137, 0.9846980513398509, 0.31501545058376107, 0.13500662167875477, 0.5400264867150191, 0.5511634999875615, 0.07873764285536593, 0.35431939284914665, 0.23661853132728747, 0.0887319492477328, 0.20704121491137653, 0.05915463283182187, 0.3549277969909312, 0.0443659746238664, 0.21177233601966566, 0.16941786881573254, 0.042354467203933134, 0.3811902048353982, 0.16941786881573254, 0.5181130937139333, 0.14803231248969523, 0.14803231248969523, 0.07401615624484761, 0.07401615624484761, 0.482542967967462, 0.13786941941927486, 0.13786941941927486, 0.13786941941927486, 0.4257088779193446, 0.10642721947983615, 0.17737869913306023, 0.03547573982661205, 0.2128544389596723, 0.03547573982661205, 0.03628952107239008, 0.8346589846649719, 0.10886856321717024, 0.1289773912023739, 0.29480546560542603, 0.22110409920406954, 0.16582807440305217, 0.1842534160033913, 0.018425341600339127, 0.2500169066563842, 0.1666779377709228, 0.11459108221750942, 0.18751267999228816, 0.11459108221750942, 0.15626056666024013, 0.8705201276349229, 0.0725433439695769, 0.04352600638174614, 0.9099173449812562, 0.04044077088805583, 0.020220385444027916, 0.12325417486131075, 0.04108472495377025, 0.4108472495377025, 0.3697625245839323, 0.11474447717899552, 0.03824815905966517, 0.07649631811933034, 0.5737223858949776, 0.19124079529832586, 0.12211297552586878, 0.18316946328880315, 0.4884519021034751, 0.06105648776293439, 0.12211297552586878, 0.06945938283531519, 0.347296914176576, 0.13891876567063038, 0.034729691417657596, 0.13891876567063038, 0.2431078399236032, 0.25782498204900023, 0.09668436826837508, 0.3545093503173753, 0.06445624551225006, 0.16114061378062514, 0.06860947858733611, 0.20582843576200832, 0.617485307286025, 0.13721895717467222, 0.058451240186272305, 0.058451240186272305, 0.29225620093136156, 0.35070744111763386, 0.058451240186272305, 0.17535372055881693, 0.5077453045151089, 0.056416144946123216, 0.056416144946123216, 0.3384968696767393, 0.3750690263377179, 0.031255752194809826, 0.5626035395065768, 0.20336701970803872, 0.04519267104623083, 0.22596335523115413, 0.13557801313869247, 0.04519267104623083, 0.15817434866180788, 0.06778900656934624, 0.13557801313869247, 0.05486227281044202, 0.10972454562088405, 0.4388981824835362, 0.13715568202610506, 0.02743113640522101, 0.16458681843132605, 0.05486227281044202, 0.27250671624999206, 0.4087600743749881, 0.13625335812499603, 0.18167114416666139, 0.3749438040433202, 0.022723866911716375, 0.2954102698523129, 0.022723866911716375, 0.181790935293731, 0.07953353419100731, 0.011361933455858187, 0.3984273936107466, 0.22350805007432126, 0.009717741307579186, 0.23322579138190044, 0.12633063699852942, 0.2386020403807142, 0.026511337820079355, 0.3181360538409523, 0.21209070256063484, 0.07953401346023807, 0.026511337820079355, 0.07953401346023807, 0.1040417466278905, 0.1040417466278905, 0.46818785982550726, 0.31212523988367147, 0.5804271816862143, 0.21766019313233037, 0.21766019313233037, 0.3239490117017387, 0.08098725292543467, 0.5669107704780427, 0.147835249402978, 0.147835249402978, 0.073917624701489, 0.073917624701489, 0.5543821852611674, 0.15685662306084203, 0.3659987871419647, 0.10457108204056136, 0.10457108204056136, 0.2614277051014034, 0.10512072878562105, 0.035040242928540355, 0.3036821053806831, 0.2102414575712421, 0.058400404880900585, 0.16352113366652166, 0.07008048585708071, 0.035040242928540355, 0.23018887064830376, 0.5754721766207593, 0.05754721766207594, 0.11509443532415188, 0.10797968207714062, 0.05398984103857031, 0.16196952311571092, 0.10797968207714062, 0.4319187283085625, 0.05398984103857031, 0.04091696683162592, 0.2864187678213814, 0.5319205688111369, 0.08183393366325184, 0.33501788895296347, 0.3169088138744249, 0.12676352554976997, 0.10865445047123139, 0.08149083785342355, 0.027163612617807847, 0.0639531828626076, 0.1279063657252152, 0.3837190971756456, 0.2877893228817342, 0.1279063657252152, 0.7454158753702854, 0.010764128164191847, 0.002691032041047962, 0.17760811470916546, 0.051129608779911274, 0.010764128164191847, 0.1657326196583132, 0.27622103276385535, 0.1657326196583132, 0.3314652393166264, 0.38548839790443457, 0.2998243094812269, 0.25699226526962304, 0.8901396363586556, 0.05742836363604229, 0.028714181818021146, 0.47072681972902647, 0.1569089399096755, 0.23536340986451323, 0.07845446995483775, 0.21262691134713593, 0.5528299695025535, 0.03189403670207039, 0.021262691134713595, 0.11694480124092477, 0.05315672783678398, 0.6386748647686833, 0.2554699459074733, 0.06386748647686832, 0.21072841015080632, 0.09219367944097777, 0.07902315380655238, 0.21072841015080632, 0.2502399870540825, 0.09219367944097777, 0.06585262817212698, 0.14218759312998244, 0.09479172875332162, 0.11848966094165203, 0.3317710506366257, 0.07109379656499122, 0.18958345750664324, 0.023697932188330405, 0.07109379656499122, 0.12268821145100584, 0.03505377470028738, 0.12268821145100584, 0.31548397230258646, 0.21032264820172428, 0.08763443675071846, 0.08763443675071846, 0.03505377470028738, 0.4501338331764214, 0.11253345829410535, 0.2250669165882107, 0.16880018744115804, 0.26741805177757794, 0.10399590902461366, 0.17827870118505199, 0.11885246745670132, 0.11885246745670132, 0.05942623372835066, 0.16342214275296432, 0.13428652095161697, 0.11292275625476883, 0.3143525376821943, 0.054935394934752406, 0.04577949577896034, 0.17396208396004928, 0.11597472264003285, 0.048831462164224355, 0.40227538799209794, 0.5363671839894639, 0.08939453066491065, 0.6001449863135182, 0.07501812328918978, 0.3000724931567591, 0.12801067201319494, 0.06400533600659747, 0.32002668003298734, 0.2560213440263899, 0.12801067201319494, 0.5682541320831892, 0.17047623962495675, 0.17047623962495675, 0.056825413208318916, 0.1033988702422181, 0.3101966107266543, 0.15509830536332714, 0.3618960458477633, 0.05169943512110905, 0.05169943512110905, 0.13633854982086344, 0.27267709964172687, 0.13633854982086344, 0.47718492437302207, 0.07487039072478763, 0.07487039072478763, 0.14974078144957526, 0.5240927350735134, 0.07487039072478763, 0.3190087973909959, 0.45572685341570845, 0.0911453706831417, 0.0911453706831417, 0.04557268534157085, 0.4384329934126523, 0.4384329934126523, 0.08768659868253045, 0.49252407068126647, 0.10944979348472589, 0.2736244837118147, 0.054724896742362944, 0.3591787927407646, 0.05131125610582351, 0.10262251221164702, 0.30786753663494104, 0.15393376831747052, 0.3028586172375744, 0.08259780470115666, 0.055065203134104436, 0.3028586172375744, 0.1376630078352611, 0.1376630078352611, 0.3823375209625092, 0.3823375209625092, 0.12744584032083642, 0.04248194677361214, 0.04248194677361214, 0.20333983678094805, 0.04518663039576623, 0.22593315197883115, 0.24852646717671428, 0.24852646717671428, 0.09842593170837201, 0.09842593170837201, 0.19685186341674402, 0.049212965854186004, 0.39370372683348803, 0.09842593170837201, 0.1728336362165242, 0.25925045432478633, 0.43208409054131053, 0.0864168181082621, 0.19827964383694965, 0.03965592876738993, 0.43621521644128924, 0.07931185753477986, 0.15862371506955972, 0.07931185753477986, 0.08670203532655626, 0.5202122119593376, 0.2601061059796688, 0.17340407065311253, 0.17911273404228223, 0.4925600186162761, 0.3134472845739939, 0.12385027643620951, 0.061925138218104754, 0.18577541465431424, 0.061925138218104754, 0.12385027643620951, 0.3715508293086285, 0.4145055180776586, 0.2072527590388293, 0.0690842530129431, 0.2763370120517724, 0.34280685192983634, 0.057134475321639386, 0.39994132725147574, 0.11426895064327877, 0.057134475321639386, 0.20845587303165586, 0.029779410433093696, 0.17867646259856218, 0.4169117460633117, 0.17867646259856218, 0.4787033465778434, 0.0736466687042836, 0.1472933374085672, 0.2945866748171344, 0.13986684426914114, 0.11189347541531292, 0.23777363525753994, 0.20980026640371172, 0.0979067909883988, 0.05594673770765646, 0.0979067909883988, 0.04196005328074234, 0.21599573230215796, 0.05399893307553949, 0.10799786615107898, 0.21599573230215796, 0.32399359845323694, 0.08692666429359905, 0.2607799928807971, 0.08692666429359905, 0.1738533285871981, 0.2607799928807971, 0.6153175028425899, 0.11909371022759804, 0.05954685511379902, 0.19848951704599674, 0.3000947545315091, 0.17148271687514804, 0.12861203765636103, 0.04287067921878701, 0.3429654337502961, 0.18599276141204238, 0.46498190353010593, 0.18599276141204238, 0.12975283688837033, 0.08650189125891355, 0.38925851066511097, 0.04325094562945678, 0.1730037825178271, 0.1730037825178271, 0.4260919595425851, 0.26911071129005376, 0.24668481868254927, 0.022425892607504477, 0.022425892607504477, 0.0490595277753743, 0.490595277753743, 0.1471785833261229, 0.2452976388768715, 0.1954363680300505, 0.14657727602253787, 0.5374500120826389, 0.04885909200751262, 0.04885909200751262, 0.10217827172631672, 0.35762395104210853, 0.07663370379473754, 0.3320793831105293, 0.1277228396578959, 0.18057250949442014, 0.6320037832304705, 0.18057250949442014, 0.15332650118472416, 0.07666325059236208, 0.42164787825799144, 0.15332650118472416, 0.03833162529618104, 0.11499487588854312, 0.5572262898758352, 0.18574209662527844, 0.09287104831263922, 0.09287104831263922, 0.366780091803332, 0.4715744037471411, 0.05239715597190457, 0.05239715597190457, 0.3263328674276089, 0.13053314697104357, 0.06526657348552178, 0.13053314697104357, 0.06526657348552178, 0.19579972045656535, 0.014125753432077481, 0.04237726029623244, 0.028251506864154962, 0.5791558907151767, 0.12713178088869734, 0.21188630148116222, 0.34656605859937645, 0.17328302929968822, 0.34656605859937645, 0.11552201953312548, 0.3412863108727184, 0.0853215777181796, 0.3412863108727184, 0.1706431554363592, 0.11725287618827679, 0.5393632304660732, 0.14070345142593213, 0.14070345142593213, 0.04690115047531071, 0.30075997055850806, 0.26065864115070697, 0.020050664703900538, 0.040101329407801076, 0.2807093058546075, 0.08020265881560215, 0.10390021753348315, 0.38962581575056177, 0.07792516315011236, 0.1818253806835955, 0.1818253806835955, 0.025975054383370787, 0.025975054383370787, 0.1090484318143813, 0.15266780454013382, 0.2180968636287626, 0.1090484318143813, 0.1744774909030101, 0.26171623635451513, 0.05848649219664626, 0.23394596878658505, 0.40940544537652385, 0.11697298439329253, 0.11697298439329253, 0.550093660556273, 0.2750468302781365, 0.13752341513906824, 0.06876170756953412, 0.2155824295923164, 0.1077912147961582, 0.1077912147961582, 0.1616868221942373, 0.0538956073980791, 0.3233736443884746, 0.08570506120932025, 0.5570828978605817, 0.3856727754419412, 0.23191099693223, 0.07730366564407666, 0.38651832822038334, 0.12883944274012776, 0.12883944274012776, 0.025767888548025555, 0.07431899636288392, 0.29727598545153566, 0.26011648727009373, 0.22295698908865175, 0.14863799272576783, 0.4610112611408171, 0.30734084076054474, 0.10244694692018158, 0.05122347346009079, 0.20835679321901723, 0.06945226440633907, 0.5903442474538821, 0.03472613220316954, 0.10417839660950862, 0.1295612806861006, 0.3454967484962682, 0.05758279141604471, 0.04318709356203353, 0.23033116566417883, 0.014395697854011177, 0.15835267639412293, 0.4884085640518686, 0.3256057093679124, 0.1085352364559708, 0.1085352364559708, 0.5410477744568589, 0.1803492581522863, 0.24046567753638173, 0.4818951057821154, 0.18071066466829327, 0.12047377644552885, 0.06023688822276443, 0.06023688822276443, 0.08039377099153128, 0.04019688549576564, 0.12059065648729692, 0.5225595114449533, 0.04019688549576564, 0.12059065648729692, 0.04019688549576564, 0.047328459646005225, 0.047328459646005225, 0.42595613681404704, 0.23664229823002614, 0.1419853789380157, 0.047328459646005225, 0.047328459646005225, 0.5921895675913242, 0.08459850965590346, 0.16919701931180692, 0.4786442491984944, 0.28718654951909667, 0.03190961661323296, 0.06381923322646592, 0.1595480830661648, 0.7745982109086026, 0.06454985090905022, 0.12909970181810043, 0.4140578514600178, 0.19110362375077744, 0.07962650989615727, 0.2866554356261662, 0.015925301979231456, 0.015925301979231456, 0.4288318226935674, 0.3752278448568715, 0.16081193351008777, 0.07374150900415506, 0.7374150900415506, 0.17206352100969513, 0.02458050300138502, 0.9534859242855913, 0.20659303585756397, 0.3443217264292733, 0.1377286905717093, 0.3443217264292733, 0.13035560706635574, 0.6517780353317787, 0.13035560706635574, 0.06940009664427214, 0.20820028993281642, 0.41640057986563284, 0.20820028993281642, 0.20817084056955046, 0.485731961328951, 0.06939028018985015, 0.20817084056955046, 0.20136677020985483, 0.08630004437565207, 0.05753336291710138, 0.08630004437565207, 0.5753336291710138, 0.1377724861090382, 0.20665872916355726, 0.34443121527259546, 0.1377724861090382, 0.1377724861090382, 0.02541474388085123, 0.05082948776170246, 0.7370275725446855, 0.12707371940425613, 0.05082948776170246, 0.401827654225863, 0.401827654225863, 0.16742818926077624, 0.24488610984310583, 0.19590888787448466, 0.14693166590586348, 0.3918177757489693, 0.0655901221567389, 0.4591308550971723, 0.29515554970532504, 0.0655901221567389, 0.09838518323510835, 0.05773284688198683, 0.11546569376397366, 0.4041299281739078, 0.2309313875279473, 0.1731985406459605, 0.42507250647938033, 0.17002900259175213, 0.17002900259175213, 0.08501450129587607, 0.0850902519762948, 0.42545125988147403, 0.1701805039525896, 0.25527075592888443, 0.47650884436751034, 0.0866379717031837, 0.1732759434063674, 0.0866379717031837, 0.0866379717031837, 0.04331898585159185, 0.2588215789988369, 0.19411618424912766, 0.06470539474970922, 0.3235269737485461, 0.06470539474970922, 0.18288167775025113, 0.26416242341702945, 0.16256149133355657, 0.16256149133355657, 0.10160093208347286, 0.060960559250083715, 0.060960559250083715, 0.12566704676049179, 0.12566704676049179, 0.12566704676049179, 0.1885005701407377, 0.09425028507036885, 0.3141676169012295, 0.1849863192058781, 0.3237260586102867, 0.4162192182132257, 0.22848385477222163, 0.39984674585138785, 0.05712096369305541, 0.08568144553958311, 0.11424192738611082, 0.11424192738611082, 0.16403986487084432, 0.04100996621771108, 0.16403986487084432, 0.12302989865313323, 0.12302989865313323, 0.36908969595939967, 0.04100996621771108, 0.060689116325867536, 0.060689116325867536, 0.2832158761873818, 0.17195249625662468, 0.34390499251324935, 0.08091882176782338, 0.45278024344884743, 0.19404867576379176, 0.06468289192126392, 0.2587315676850557, 0.19658167947315316, 0.39316335894630633, 0.19658167947315316, 0.19658167947315316, 0.06869450863172168, 0.2518798649829795, 0.11449084771953613, 0.16028718680735057, 0.0915926781756289, 0.022898169543907224, 0.2518798649829795, 0.022898169543907224, 0.15448643625782618, 0.3604683512682611, 0.4634593087734786, 0.20185431419331434, 0.028836330599044908, 0.4613812895847185, 0.17301798359426945, 0.08650899179713473, 0.028836330599044908, 0.14843944970421105, 0.14843944970421105, 0.07421972485210553, 0.5937577988168442, 0.05450538966553096, 0.49054850698977864, 0.10901077933106192, 0.05450538966553096, 0.16351616899659288, 0.05450538966553096, 0.3089251945100171, 0.10297506483667236, 0.2574376620916809, 0.3089251945100171, 0.13052728286809942, 0.5221091314723977, 0.13052728286809942, 0.19579092430214914, 0.00606260396874593, 0.9336410111868731, 0.00606260396874593, 0.05456343571871337, 0.6664649367096338, 0.2932445721522389, 0.13114478239753338, 0.08742985493168892, 0.2185746373292223, 0.26228956479506677, 0.13114478239753338, 0.17485970986337784, 0.06916225652361753, 0.3112301543562789, 0.10374338478542629, 0.3803924108798964, 0.10374338478542629, 0.034581128261808765, 0.1774803962237196, 0.4259529509369271, 0.14198431697897568, 0.10648823773423177, 0.14198431697897568, 0.5909327938060508, 0.08441897054372154, 0.04220948527186077, 0.2532569116311646, 0.20676825313304242, 0.41353650626608485, 0.16541460250643394, 0.10338412656652121, 0.08270730125321697, 0.30521259231683356, 0.13465261425742656, 0.09425682998019859, 0.1391410347326741, 0.1211873528316839, 0.130164193782179, 0.05386104570297062, 0.01795368190099021, 0.18240392958016352, 0.09120196479008176, 0.09120196479008176, 0.2280049119752044, 0.09120196479008176, 0.36480785916032704, 0.10742547590967085, 0.2148509518193417, 0.32227642772901255, 0.32227642772901255, 0.2387173684562595, 0.4557331579619499, 0.10850789475284521, 0.06510473685170713, 0.10850789475284521, 0.32242531116425144, 0.09212151747550042, 0.04606075873775021, 0.5066683461152522, 0.1738191584227224, 0.1738191584227224, 0.1738191584227224, 0.43454789605680594, 0.07350811847778514, 0.09801082463704687, 0.33078653315003315, 0.06125676539815429, 0.257278414672248, 0.12251353079630858, 0.06125676539815429, 0.13931521983068546, 0.34828804957671367, 0.19504130776295964, 0.11145217586454836, 0.153246741813754, 0.05572608793227418, 0.1725051314306579, 0.0739307706131391, 0.1232179510218985, 0.3450102628613158, 0.0739307706131391, 0.0739307706131391, 0.1232179510218985, 0.05170929690414474, 0.2585464845207237, 0.1809825391645066, 0.0775639453562171, 0.28440113297279607, 0.1551278907124342, 0.07397246238979767, 0.221917387169393, 0.07397246238979767, 0.443834774338786, 0.14794492477959534, 0.3904504378254249, 0.15618017513016993, 0.3904504378254249, 0.21954056128563634, 0.16465542096422725, 0.10977028064281817, 0.4390811225712727, 0.16736170254674826, 0.669446810186993, 0.0669446810186993, 0.03347234050934965, 0.0669446810186993, 0.31086237494381036, 0.051810395823968396, 0.46629356241571557, 0.15543118747190518, 0.4158255498705952, 0.2772170332470635, 0.2079127749352976, 0.1296543741320828, 0.20744699861133248, 0.41489399722266496, 0.1296543741320828, 0.1296543741320828, 0.5511691283985561, 0.11981937573881654, 0.08387356301717158, 0.047927750295526615, 0.11981937573881654, 0.07189162544328992, 0.04049001034014515, 0.020245005170072574, 0.2429400620408709, 0.6883301757824676, 0.23733169542182717, 0.15822113028121812, 0.3955528257030453, 0.31644226056243624, 0.2218795269657855, 0.0739598423219285, 0.11093976348289275, 0.443759053931571, 0.11093976348289275, 0.06598580774241286, 0.16496451935603215, 0.5278864619393029, 0.16496451935603215, 0.06598580774241286, 0.03299290387120643, 0.05121728330590562, 0.6146073996708674, 0.2560864165295281, 0.05121728330590562, 0.46278723892707685, 0.18511489557083075, 0.27767234335624613, 0.04367382485830799, 0.04367382485830799, 0.08734764971661597, 0.5677597231580038, 0.17469529943323195, 0.08734764971661597, 0.11367118876375483, 0.2841779719093871, 0.17050678314563225, 0.3410135662912645, 0.056835594381877415, 0.13324180301488073, 0.3997254090446422, 0.4441393433829358, 0.4525155217008178, 0.12569875602800495, 0.10055900482240396, 0.10055900482240396, 0.17597825843920695, 0.3534331998342034, 0.16065145447009246, 0.03213029089401849, 0.11245601812906472, 0.016065145447009245, 0.11245601812906472, 0.1445863090230832, 0.06426058178803698, 0.2267049210641546, 0.14573887782695652, 0.06477283458975845, 0.04857962594231884, 0.3400573815962319, 0.06477283458975845, 0.09715925188463768, 0.3407348872820734, 0.22715659152138226, 0.022715659152138225, 0.0908626366085529, 0.13629395491282936, 0.06814697745641468, 0.06814697745641468, 0.6040424439639984, 0.12943766656371394, 0.17258355541828524, 0.08629177770914262, 0.5148335040436743, 0.4290279200363953, 0.08543223893292426, 0.25629671679877275, 0.08543223893292426, 0.08543223893292426, 0.42716119466462127, 0.3134139967708147, 0.2298369309652641, 0.14625986515971354, 0.16715413161110118, 0.14625986515971354, 0.5770276543620204, 0.08877348528646467, 0.17754697057292934, 0.08877348528646467, 0.2945217811074846, 0.18933543071195438, 0.10518635039553022, 0.06311181023731813, 0.08414908031642417, 0.18933543071195438, 0.06311181023731813, 0.7102638804608385, 0.10146626863726264, 0.05073313431863132, 0.05073313431863132, 0.10146626863726264, 0.26198784115687906, 0.4584787220245383, 0.13099392057843953, 0.06549696028921977, 0.23798959208973053, 0.15865972805982037, 0.23798959208973053, 0.31731945611964074, 0.2708554116227516, 0.054171082324550326, 0.162513246973651, 0.2708554116227516, 0.325026493947302, 0.11606532868127503, 0.24871141860273221, 0.08290380620091074, 0.0994845674410929, 0.1989691348821858, 0.06632304496072859, 0.14922685116163933, 0.033161522480364296, 0.07394467331299677, 0.22183401993899032, 0.2957786932519871, 0.11091700996949516, 0.16021345884482632, 0.11091700996949516, 0.02464822443766559, 0.07393676920618152, 0.14787353841236303, 0.5175573844432706, 0.07393676920618152, 0.14787353841236303, 0.24225169224748672, 0.3230022563299823, 0.08075056408249558, 0.08075056408249558, 0.24225169224748672, 0.25770816020430587, 0.40803792032348435, 0.21475680017025492, 0.08590272006810197, 0.042951360034050985, 0.19919318948583248, 0.5794710966860581, 0.14486777417151453, 0.03621694354287863, 0.018108471771439316, 0.03621694354287863, 0.21465524187064844, 0.13659879028132174, 0.29271169345997516, 0.11708467738399006, 0.05854233869199503, 0.15611290317865342, 0.019514112897331678, 0.4239388588547064, 0.12112538824420181, 0.12112538824420181, 0.3633761647326055, 0.2440900177717125, 0.06102250444292812, 0.488180035543425, 0.12204500888585625, 0.4642426567549902, 0.2579125870861057, 0.20633006966888456, 0.10316503483444228, 0.5093036074742453, 0.07835440114988389, 0.039177200574941944, 0.15670880229976777, 0.15670880229976777, 0.2315833304654463, 0.09263333218617852, 0.13894999827926777, 0.18526666437235703, 0.3242166626516248, 0.37365525867417004, 0.448386310409004, 0.224193155204502, 0.08548728113166651, 0.34194912452666604, 0.17097456226333302, 0.25646184339499956, 0.08548728113166651, 0.045971692969764055, 0.12642215566685117, 0.17239384863661522, 0.011492923242441014, 0.22985846484882028, 0.011492923242441014, 0.34478769727323044, 0.045971692969764055, 0.026684211714714027, 0.10673684685885611, 0.053368423429428054, 0.5070000225795666, 0.16010527028828417, 0.053368423429428054, 0.08005263514414208, 0.1359052996054797, 0.2718105992109594, 0.1359052996054797, 0.2265088326757995, 0.1812070661406396, 0.6985120308886567, 0.06074017659901362, 0.15185044149753404, 0.06074017659901362, 0.03037008829950681, 0.3148481510773781, 0.1749156394874323, 0.20989876738491875, 0.3148481510773781, 0.19569416473678516, 0.26092555298238024, 0.26092555298238024, 0.19569416473678516, 0.2689758432212744, 0.3765661805097842, 0.05379516864425488, 0.21518067457701953, 0.23863929344164023, 0.397732155736067, 0.07954643114721341, 0.07954643114721341, 0.15909286229442682, 0.14507922587318012, 0.5077772905561304, 0.29015845174636024, 0.09054492612015708, 0.18108985224031415, 0.4979970936608639, 0.18108985224031415, 0.24290820007137612, 0.12145410003568806, 0.030363525008922015, 0.2125446750624541, 0.36436230010706416, 0.06979292060359467, 0.5583433648287573, 0.13958584120718934, 0.13958584120718934, 0.1368445529029668, 0.20526682935445018, 0.08797149829476436, 0.03909844368656194, 0.30301293857085504, 0.22481605119773115, 0.0786256188563751, 0.0786256188563751, 0.5110665225664381, 0.3145024754255004, 0.06762587951007708, 0.10143881926511561, 0.10143881926511561, 0.6762587951007708, 0.14177996485484398, 0.11342397188387518, 0.6521878383322823, 0.028355992970968795, 0.028355992970968795, 0.39567878398262823, 0.19783939199131412, 0.27697514878783974, 0.03956787839826282, 0.03956787839826282, 0.12157484833327006, 0.12157484833327006, 0.30393712083317515, 0.42551196916644524, 0.42964552845507054, 0.033049656035005426, 0.16524828017502713, 0.16524828017502713, 0.1321986241400217, 0.033049656035005426, 0.14938310348502296, 0.2987662069700459, 0.2987662069700459, 0.22407465522753442, 0.15962335105104464, 0.15962335105104464, 0.07981167552552232, 0.4788700531531339, 0.07981167552552232, 0.5123046719598342, 0.07318638170854774, 0.2561523359799171, 0.07318638170854774, 0.07318638170854774, 0.17727000610173246, 0.29545001016955413, 0.05909000203391082, 0.47272001627128657, 0.1670130361234108, 0.1670130361234108, 0.25051955418511623, 0.02783550602056847, 0.2783550602056847, 0.0835065180617054, 0.10687255137150625, 0.17812091895251042, 0.19593301084776146, 0.23155719463826355, 0.053436275685753126, 0.08906045947625521, 0.16030882705725938, 0.35823716852971077, 0.15353021508416176, 0.17911858426485538, 0.10235347672277449, 0.10235347672277449, 0.025588369180693623, 0.07676510754208088, 0.3080762239444261, 0.3080762239444261, 0.3080762239444261, 0.3892740513357228, 0.2595160342238152, 0.2270765299458383, 0.0973185128339307, 0.0324395042779769, 0.09284965961321642, 0.23212414903304107, 0.2785489788396493, 0.3713986384528657, 0.31664703938871946, 0.030156860894163758, 0.015078430447081879, 0.10554901312957315, 0.39203919162412887, 0.12062744357665503, 0.015078430447081879, 0.06178440154267365, 0.2471376061706946, 0.26773240668491916, 0.08237920205689821, 0.14416360359957187, 0.020594800514224552, 0.18535320462802096, 0.17256995903840336, 0.17256995903840336, 0.08628497951920168, 0.25885493855760505, 0.17256995903840336, 0.24003353887460943, 0.48006707774921886, 0.16002235924973962, 0.08001117962486981, 0.026369733459664865, 0.42191573535463783, 0.5010249357336324, 0.05273946691932973, 0.06799851551767666, 0.16999628879419165, 0.7479836706944433, 0.2425622330581901, 0.030320279132273763, 0.45480418698410646, 0.12128111652909505, 0.18192167479364257, 0.1942035227394473, 0.15536281819155784, 0.05178760606385261, 0.12946901515963152, 0.20715042425541044, 0.2459911288032999, 0.025893803031926305, 0.48809371288914744, 0.09761874257782949, 0.09761874257782949, 0.19523748515565897, 0.09761874257782949, 0.048809371288914744, 0.3206935390361556, 0.40086692379519445, 0.24052015427711668, 0.12673124440723876, 0.10560937033936563, 0.35907185915384315, 0.12673124440723876, 0.168974992542985, 0.021121874067873126, 0.0844874962714925, 0.1975456639043988, 0.20577673323374876, 0.1152349706108993, 0.12346603994024925, 0.1316971092695992, 0.09054176262284945, 0.10700390128154935, 0.02469320798804985, 0.2347889337135513, 0.10062382873437913, 0.03354127624479304, 0.5031191436718957, 0.03354127624479304, 0.10062382873437913, 0.04814348216152373, 0.09628696432304747, 0.04814348216152373, 0.4493391668408882, 0.04814348216152373, 0.19257392864609493, 0.11233479171022205, 0.0784484672186384, 0.14120724099354914, 0.09413816066236609, 0.2824144819870983, 0.1568969344372768, 0.03137938688745537, 0.1568969344372768, 0.06275877377491074, 0.11203567115991715, 0.2240713423198343, 0.2520802601098136, 0.39212484905971, 0.39419212014433236, 0.47303054417319884, 0.039419212014433234, 0.07883842402886647, 0.3401365090720796, 0.0850341272680199, 0.0850341272680199, 0.3401365090720796, 0.0850341272680199, 0.2291319056886141, 0.3818865094810235, 0.03818865094810235, 0.03818865094810235, 0.26732055663671644, 0.0493818063559582, 0.3950544508476656, 0.0493818063559582, 0.0493818063559582, 0.44443625720362384, 0.6812637588559669, 0.0681263758855967, 0.20437912765679006, 0.13471024865566647, 0.3143239135298884, 0.1571619567649442, 0.13471024865566647, 0.1571619567649442, 0.06735512432783324, 0.022451708109277744, 0.09579073151740863, 0.19158146303481727, 0.11494887782089036, 0.2873721945522259, 0.1341070241243721, 0.05747443891044518, 0.09579073151740863, 0.08126661708284988, 0.054177744721899915, 0.27088872360949956, 0.1896221065266497, 0.054177744721899915, 0.3250664683313995, 0.054484048153146045, 0.10896809630629209, 0.054484048153146045, 0.10896809630629209, 0.38138833707202235, 0.21793619261258418, 0.10896809630629209, 0.2022482056191009, 0.018386200510827354, 0.2022482056191009, 0.19305510536368722, 0.11951030332037779, 0.10112410280955045, 0.1562827043420325, 0.34122983277370245, 0.12043405862601263, 0.18065108793901893, 0.12043405862601263, 0.10036171552167719, 0.14050640173034806, 0.1595481669861077, 0.7578537931840116, 0.03988704174652692, 0.041584859281943394, 0.5821880299472075, 0.08316971856388679, 0.08316971856388679, 0.16633943712777358, 0.032782235862171806, 0.3278223586217181, 0.032782235862171806, 0.3606045944838899, 0.22947565103520265, 0.11657436509216373, 0.11657436509216373, 0.16028975200172516, 0.27686411709388886, 0.0437153869095614, 0.07285897818260234, 0.18943334327476608], \"Term\": [\"academic\", \"academic\", \"academic\", \"academic\", \"academic\", \"academics\", \"academics\", \"academics\", \"academics\", \"access\", \"access\", \"access\", \"access\", \"access\", \"access\", \"access\", \"addition\", \"addition\", \"age\", \"age\", \"age\", \"age\", \"aim\", \"aim\", \"aim\", \"aim\", \"aim\", \"aim\", \"aim\", \"aims\", \"aims\", \"aims\", \"aims\", \"aims\", \"aims\", \"aims\", \"aims\", \"analyse\", \"analyse\", \"analyse\", \"analyse\", \"analyse\", \"analysis\", \"analysis\", \"analysis\", \"analysis\", \"analysis\", \"approach\", \"approach\", \"approach\", \"approach\", \"approach\", \"approach\", \"approaches\", \"approaches\", \"approaches\", \"approaches\", \"approaches\", \"approaches\", \"archive\", \"archive\", \"archive\", \"archive\", \"archive\", \"archive\", \"archives\", \"archives\", \"archives\", \"archives\", \"areas\", \"areas\", \"areas\", \"areas\", \"areas\", \"areas\", \"art\", \"art\", \"art\", \"art\", \"art\", \"artist\", \"artistic\", \"artistic\", \"artistic\", \"artists\", \"artists\", \"artists\", \"arts\", \"arts\", \"arts\", \"arts\", \"arts\", \"arts\", \"arts humanities\", \"arts humanities\", \"arts humanities\", \"arts humanities\", \"arts humanities\", \"assets\", \"assets\", \"assets\", \"assets\", \"assets\", \"associated\", \"associated\", \"associated\", \"associated\", \"audience\", \"audience\", \"audience\", \"audience\", \"audience\", \"audience\", \"audio\", \"audio\", \"audio\", \"available\", \"available\", \"available\", \"available\", \"available\", \"available\", \"based\", \"based\", \"based\", \"based\", \"based\", \"based\", \"big\", \"big\", \"big\", \"big data\", \"big data\", \"big data\", \"book\", \"book\", \"book\", \"book\", \"books\", \"books\", \"books\", \"books\", \"books\", \"bringing\", \"bringing\", \"bringing\", \"bringing\", \"bringing\", \"british\", \"british\", \"british\", \"british\", \"british\", \"british\", \"build\", \"build\", \"build\", \"build\", \"build\", \"capture\", \"capture\", \"capture\", \"capture\", \"centre\", \"centre\", \"centre\", \"centre\", \"centre\", \"centre\", \"changes\", \"changes\", \"changes\", \"changes\", \"city\", \"city\", \"city\", \"collaboration\", \"collaboration\", \"collaboration\", \"collaboration\", \"collaboration\", \"collaboration\", \"collaboration\", \"collaboration\", \"collaborative\", \"collaborative\", \"collaborative\", \"collaborative\", \"collaborative\", \"collaborative\", \"collaborative\", \"commercial\", \"commercial\", \"commercial\", \"commercial\", \"communities\", \"communities\", \"communities\", \"communities\", \"communities\", \"communities\", \"communities\", \"community\", \"community\", \"community\", \"community\", \"community\", \"computer\", \"computer\", \"computer\", \"computer\", \"computer\", \"computer\", \"computer\", \"concept\", \"concept\", \"concept\", \"concept\", \"concerns\", \"concerns\", \"concerns\", \"conference\", \"conference\", \"conference\", \"contemporary\", \"contemporary\", \"contemporary\", \"contemporary\", \"contemporary\", \"contribute\", \"contribute\", \"contribute\", \"contribute\", \"contribute\", \"creative\", \"creative\", \"creative\", \"creative\", \"creative\", \"creative\", \"creative\", \"creative\", \"critical\", \"critical\", \"critical\", \"critical\", \"cross\", \"cross\", \"cross\", \"cross\", \"cross\", \"cross\", \"crowd\", \"crowd\", \"crowd\", \"crowd\", \"cultural\", \"cultural\", \"cultural\", \"cultural\", \"cultural\", \"cultural\", \"culture\", \"culture\", \"culture\", \"culture\", \"culture\", \"data\", \"data\", \"data\", \"data\", \"data\", \"data\", \"database\", \"database\", \"database\", \"database\", \"dataset\", \"dataset\", \"dataset\", \"datasets\", \"datasets\", \"datasets\", \"demonstrate\", \"demonstrate\", \"demonstrate\", \"demonstrate\", \"design\", \"design\", \"design\", \"design\", \"design\", \"design\", \"designers\", \"designers\", \"designers\", \"develop\", \"develop\", \"develop\", \"develop\", \"develop\", \"develop\", \"develop\", \"developed\", \"developed\", \"developed\", \"developed\", \"developed\", \"developed\", \"developed\", \"developed\", \"development\", \"development\", \"development\", \"development\", \"development\", \"development\", \"development\", \"development\", \"devices\", \"devices\", \"devices\", \"devices\", \"different\", \"different\", \"different\", \"different\", \"different\", \"different\", \"different\", \"digital\", \"digital\", \"digital\", \"digital\", \"digital\", \"digital\", \"digital\", \"digital\", \"digital technologies\", \"digital technologies\", \"digital technologies\", \"digitally\", \"digitally\", \"digitally\", \"disciplines\", \"disciplines\", \"disciplines\", \"disciplines\", \"disciplines\", \"diverse\", \"diverse\", \"diverse\", \"diverse\", \"document\", \"document\", \"document\", \"document\", \"document\", \"document\", \"domain\", \"domain\", \"domain\", \"domain\", \"draw\", \"draw\", \"draw\", \"draw\", \"draw\", \"education\", \"education\", \"education\", \"education\", \"education\", \"educational\", \"educational\", \"educational\", \"effective\", \"effective\", \"effective\", \"effective\", \"emerging\", \"emerging\", \"emerging\", \"emerging\", \"emerging\", \"enable\", \"enable\", \"enable\", \"enable\", \"enable\", \"enable\", \"enabling\", \"enabling\", \"enabling\", \"enabling\", \"enabling\", \"engagement\", \"engagement\", \"engagement\", \"engagement\", \"engagement\", \"engaging\", \"engaging\", \"engaging\", \"engaging\", \"engaging\", \"engaging\", \"enhance\", \"enhance\", \"enhance\", \"enhance\", \"environment\", \"environment\", \"environment\", \"environment\", \"environment\", \"environment\", \"essential\", \"essential\", \"essential\", \"essential\", \"ethical\", \"ethical\", \"ethical\", \"events\", \"events\", \"events\", \"events\", \"events\", \"events\", \"examine\", \"examine\", \"examine\", \"examine\", \"exchange\", \"exchange\", \"exchange\", \"exchange\", \"exchange\", \"experience\", \"experience\", \"experience\", \"experience\", \"experience\", \"expertise\", \"expertise\", \"expertise\", \"expertise\", \"explore\", \"explore\", \"explore\", \"explore\", \"explore\", \"explore\", \"explore\", \"explore\", \"exploring\", \"exploring\", \"exploring\", \"exploring\", \"exploring\", \"fields\", \"fields\", \"fields\", \"fields\", \"fields\", \"film\", \"film\", \"film\", \"film\", \"forms\", \"forms\", \"forms\", \"forms\", \"forms\", \"framework\", \"framework\", \"framework\", \"funded\", \"funded\", \"funded\", \"funded\", \"funded\", \"funded\", \"future\", \"future\", \"future\", \"future\", \"future\", \"general\", \"general\", \"general\", \"general\", \"generate\", \"generate\", \"generate\", \"generate\", \"generate\", \"generated\", \"generated\", \"generated\", \"generated\", \"generated\", \"global\", \"global\", \"global\", \"group\", \"group\", \"group\", \"group\", \"group\", \"group\", \"growing\", \"growing\", \"growing\", \"growing\", \"hand\", \"hand\", \"hand\", \"hand\", \"held\", \"held\", \"held\", \"held\", \"held\", \"held\", \"heritage\", \"heritage\", \"heritage\", \"heritage\", \"heritage\", \"heritage\", \"high\", \"high\", \"high\", \"high\", \"highly\", \"highly\", \"highly\", \"highly\", \"historical\", \"historical\", \"historical\", \"historical\", \"historical\", \"history\", \"history\", \"history\", \"history\", \"history\", \"history\", \"human\", \"human\", \"human\", \"human\", \"human\", \"human\", \"human\", \"humanities\", \"humanities\", \"humanities\", \"humanities\", \"humanities\", \"humanities\", \"ideas\", \"ideas\", \"ideas\", \"ideas\", \"ideas\", \"identified\", \"identified\", \"identified\", \"identified\", \"identify\", \"identify\", \"identify\", \"identify\", \"identify\", \"identify\", \"images\", \"images\", \"images\", \"important\", \"important\", \"important\", \"important\", \"important\", \"important\", \"include\", \"include\", \"include\", \"include\", \"include\", \"increasingly\", \"increasingly\", \"increasingly\", \"increasingly\", \"industry\", \"industry\", \"industry\", \"industry\", \"industry\", \"information\", \"information\", \"information\", \"information\", \"information\", \"information\", \"information\", \"institutions\", \"institutions\", \"institutions\", \"institutions\", \"interact\", \"interact\", \"interact\", \"interaction\", \"interaction\", \"interaction\", \"interaction\", \"interaction\", \"interactive\", \"interactive\", \"interactive\", \"interactive\", \"interactive\", \"interactive\", \"interactive\", \"international\", \"international\", \"international\", \"international\", \"international\", \"international\", \"international\", \"involve\", \"involve\", \"involve\", \"issues\", \"issues\", \"issues\", \"issues\", \"issues\", \"just\", \"just\", \"just\", \"knowledge\", \"knowledge\", \"knowledge\", \"knowledge\", \"knowledge\", \"knowledge\", \"language\", \"language\", \"language\", \"large\", \"large\", \"large\", \"large\", \"large scale\", \"larger\", \"larger\", \"larger\", \"larger\", \"leading\", \"leading\", \"leading\", \"led\", \"led\", \"led\", \"led\", \"level\", \"level\", \"level\", \"level\", \"library\", \"library\", \"library\", \"library\", \"library\", \"link\", \"link\", \"link\", \"link\", \"link\", \"literary\", \"literary\", \"literary\", \"literary\", \"literary\", \"literature\", \"literature\", \"literature\", \"lives\", \"lives\", \"lives\", \"lives\", \"london\", \"london\", \"london\", \"london\", \"london\", \"long\", \"long\", \"long\", \"long\", \"long\", \"longer\", \"longer\", \"longer\", \"longer\", \"low\", \"low\", \"low\", \"low\", \"main\", \"main\", \"main\", \"main\", \"main\", \"main\", \"major\", \"major\", \"major\", \"major\", \"major\", \"make\", \"make\", \"make\", \"make\", \"make\", \"make\", \"make\", \"making\", \"making\", \"making\", \"making\", \"making\", \"making\", \"management\", \"management\", \"management\", \"material\", \"material\", \"material\", \"material\", \"material\", \"material\", \"materials\", \"materials\", \"materials\", \"materials\", \"materials\", \"materials\", \"materials\", \"media\", \"media\", \"media\", \"media\", \"media\", \"media\", \"members\", \"members\", \"members\", \"members\", \"methodology\", \"methodology\", \"methodology\", \"methodology\", \"methods\", \"methods\", \"methods\", \"methods\", \"methods\", \"methods\", \"methods\", \"methods\", \"mobile\", \"mobile\", \"mobile\", \"models\", \"models\", \"models\", \"models\", \"models\", \"models\", \"modern\", \"modern\", \"modern\", \"modern\", \"multi\", \"multi\", \"multi\", \"multi\", \"multi\", \"multi\", \"multiple\", \"multiple\", \"multiple\", \"multiple\", \"museum\", \"museum\", \"museum\", \"museum\", \"music\", \"music\", \"music\", \"music\", \"musical\", \"musical\", \"national\", \"national\", \"national\", \"national\", \"national\", \"national\", \"nature\", \"nature\", \"nature\", \"nature\", \"nature\", \"nature\", \"need\", \"need\", \"need\", \"need\", \"need\", \"needs\", \"needs\", \"needs\", \"needs\", \"network\", \"network\", \"network\", \"network\", \"network\", \"new\", \"new\", \"new\", \"new\", \"new\", \"new\", \"new\", \"new\", \"non\", \"non\", \"non\", \"non\", \"non\", \"non\", \"novel\", \"novel\", \"novel\", \"novel\", \"objects\", \"objects\", \"objects\", \"objects\", \"objects\", \"offer\", \"offer\", \"offer\", \"offer\", \"offers\", \"offers\", \"offers\", \"offers\", \"online\", \"online\", \"online\", \"online\", \"online\", \"online\", \"online\", \"open\", \"open\", \"open\", \"open\", \"open\", \"open\", \"opportunities\", \"opportunities\", \"opportunities\", \"opportunities\", \"opportunities\", \"opportunities\", \"opportunities\", \"order\", \"order\", \"order\", \"order\", \"order\", \"order\", \"original\", \"original\", \"original\", \"original\", \"original\", \"outcomes\", \"outcomes\", \"outcomes\", \"output\", \"output\", \"output\", \"output\", \"participants\", \"participants\", \"participants\", \"participants\", \"participants\", \"particularly\", \"particularly\", \"particularly\", \"particularly\", \"partner\", \"partner\", \"partner\", \"partners\", \"partners\", \"partners\", \"partners\", \"partners\", \"people\", \"people\", \"people\", \"people\", \"people\", \"people\", \"performance\", \"performance\", \"performance\", \"performance\", \"period\", \"period\", \"period\", \"period\", \"physical\", \"physical\", \"physical\", \"physical\", \"physical\", \"place\", \"place\", \"place\", \"place\", \"place\", \"place\", \"places\", \"places\", \"places\", \"places\", \"platform\", \"platform\", \"platform\", \"play\", \"play\", \"play\", \"play\", \"play\", \"play\", \"policy\", \"policy\", \"policy\", \"policy\", \"policy\", \"popular\", \"popular\", \"popular\", \"possible\", \"possible\", \"possible\", \"possible\", \"possible\", \"potential\", \"potential\", \"potential\", \"potential\", \"potential\", \"potential\", \"potential\", \"potential\", \"practice\", \"practice\", \"practice\", \"practice\", \"practice\", \"practice\", \"practice\", \"practices\", \"practices\", \"practices\", \"practices\", \"practices\", \"practices\", \"practices\", \"practitioners\", \"practitioners\", \"practitioners\", \"practitioners\", \"present\", \"present\", \"problem\", \"problem\", \"problem\", \"problem\", \"problem\", \"process\", \"process\", \"process\", \"process\", \"process\", \"processes\", \"processes\", \"processes\", \"processes\", \"produce\", \"produce\", \"produce\", \"produce\", \"produce\", \"produce\", \"produce\", \"produced\", \"produced\", \"produced\", \"produced\", \"produced\", \"professional\", \"professional\", \"professional\", \"professional\", \"professionals\", \"professionals\", \"professionals\", \"professionals\", \"prototype\", \"prototype\", \"prototype\", \"prototype\", \"prototype\", \"provide\", \"provide\", \"provide\", \"provide\", \"provide\", \"provide\", \"provide\", \"provide\", \"public\", \"public\", \"public\", \"public\", \"public\", \"public\", \"public\", \"publications\", \"publications\", \"publications\", \"publications\", \"publications\", \"published\", \"published\", \"published\", \"published\", \"published\", \"questions\", \"questions\", \"questions\", \"questions\", \"questions\", \"quot\", \"quot\", \"quot\", \"quot\", \"quot\", \"quot\", \"range\", \"range\", \"range\", \"range\", \"range\", \"range\", \"range\", \"reach\", \"reach\", \"reach\", \"reach\", \"real\", \"real\", \"real\", \"real\", \"records\", \"records\", \"records\", \"records\", \"related\", \"related\", \"related\", \"related\", \"related\", \"relationship\", \"relationship\", \"relationship\", \"relationship\", \"relationship\", \"representation\", \"representation\", \"representation\", \"require\", \"require\", \"require\", \"require\", \"require\", \"researchers\", \"researchers\", \"researchers\", \"researchers\", \"researchers\", \"researchers\", \"researchers\", \"researchers\", \"resources\", \"resources\", \"resources\", \"resources\", \"resources\", \"resources\", \"resources\", \"results\", \"results\", \"results\", \"results\", \"results\", \"scale\", \"scale\", \"scale\", \"scale\", \"scale\", \"scholars\", \"scholars\", \"scholars\", \"scholars\", \"school\", \"school\", \"school\", \"school\", \"search\", \"search\", \"search\", \"search\", \"second\", \"second\", \"second\", \"second\", \"second\", \"seek\", \"seek\", \"seek\", \"self\", \"self\", \"self\", \"self\", \"set\", \"set\", \"set\", \"set\", \"set\", \"skills\", \"skills\", \"skills\", \"skills\", \"social\", \"social\", \"social\", \"social\", \"social\", \"social\", \"social media\", \"social media\", \"social media\", \"social media\", \"software\", \"software\", \"software\", \"software\", \"sound\", \"sound\", \"sound\", \"sound\", \"sound\", \"source\", \"source\", \"source\", \"source\", \"source\", \"sources\", \"sources\", \"sources\", \"sources\", \"space\", \"space\", \"space\", \"space\", \"space\", \"space\", \"specialists\", \"specialists\", \"specialists\", \"specialists\", \"stage\", \"stage\", \"stage\", \"stage\", \"stage\", \"stories\", \"stories\", \"stories\", \"stories\", \"stories\", \"students\", \"students\", \"students\", \"students\", \"studies\", \"studies\", \"studies\", \"studies\", \"studies\", \"studies\", \"study\", \"study\", \"study\", \"study\", \"study\", \"study\", \"study\", \"support\", \"support\", \"support\", \"support\", \"support\", \"support\", \"support\", \"teaching\", \"teaching\", \"teaching\", \"team\", \"team\", \"team\", \"team\", \"team\", \"technical\", \"technical\", \"technical\", \"technical\", \"technologies\", \"technologies\", \"technologies\", \"technologies\", \"technologies\", \"technologies\", \"technologies\", \"technology\", \"technology\", \"technology\", \"technology\", \"technology\", \"technology\", \"technology\", \"term\", \"term\", \"term\", \"term\", \"term\", \"test\", \"test\", \"test\", \"test\", \"text\", \"text\", \"text\", \"text\", \"texts\", \"texts\", \"texts\", \"tool\", \"tool\", \"tool\", \"tool\", \"tool\", \"tools\", \"tools\", \"tools\", \"tools\", \"tools\", \"tools\", \"tools\", \"traditional\", \"traditional\", \"traditional\", \"traditional\", \"traditional\", \"traditional\", \"transformative\", \"transformative\", \"transformative\", \"university\", \"university\", \"university\", \"university\", \"university\", \"university\", \"university\", \"use\", \"use\", \"use\", \"use\", \"use\", \"use\", \"use\", \"use\", \"user\", \"user\", \"user\", \"user\", \"user\", \"user\", \"users\", \"users\", \"users\", \"users\", \"users\", \"users\", \"users\", \"using\", \"using\", \"using\", \"using\", \"using\", \"using\", \"using\", \"using\", \"value\", \"value\", \"value\", \"value\", \"video\", \"video\", \"video\", \"video\", \"view\", \"view\", \"view\", \"view\", \"view\", \"visual\", \"visual\", \"visual\", \"visual\", \"visual\", \"visualisation\", \"visualisation\", \"visualisation\", \"visualisation\", \"visualisation\", \"want\", \"want\", \"want\", \"way\", \"way\", \"way\", \"way\", \"way\", \"way\", \"way\", \"ways\", \"ways\", \"ways\", \"ways\", \"ways\", \"ways\", \"ways\", \"web\", \"web\", \"web\", \"web\", \"web\", \"web\", \"wide\", \"wide\", \"wide\", \"wide\", \"wide\", \"wide\", \"wide\", \"work\", \"work\", \"work\", \"work\", \"work\", \"work\", \"work\", \"working\", \"working\", \"working\", \"working\", \"working\", \"working\", \"works\", \"works\", \"works\", \"workshop\", \"workshop\", \"workshop\", \"workshop\", \"workshop\", \"workshops\", \"workshops\", \"workshops\", \"workshops\", \"workshops\", \"world\", \"world\", \"world\", \"world\", \"world\", \"world\", \"world\"]}, \"R\": 30, \"lambda.step\": 0.01, \"plot.opts\": {\"xlab\": \"PC1\", \"ylab\": \"PC2\"}, \"topic.order\": [4, 8, 5, 6, 3, 2, 7, 1]};\n",
       "\n",
       "function LDAvis_load_lib(url, callback){\n",
       "  var s = document.createElement('script');\n",
       "  s.src = url;\n",
       "  s.async = true;\n",
       "  s.onreadystatechange = s.onload = callback;\n",
       "  s.onerror = function(){console.warn(\"failed to load library \" + url);};\n",
       "  document.getElementsByTagName(\"head\")[0].appendChild(s);\n",
       "}\n",
       "\n",
       "if(typeof(LDAvis) !== \"undefined\"){\n",
       "   // already loaded: just create the visualization\n",
       "   !function(LDAvis){\n",
       "       new LDAvis(\"#\" + \"ldavis_el1164848187461286156149033\", ldavis_el1164848187461286156149033_data);\n",
       "   }(LDAvis);\n",
       "}else if(typeof define === \"function\" && define.amd){\n",
       "   // require.js is available: use it to load d3/LDAvis\n",
       "   require.config({paths: {d3: \"https://cdnjs.cloudflare.com/ajax/libs/d3/3.5.5/d3.min\"}});\n",
       "   require([\"d3\"], function(d3){\n",
       "      window.d3 = d3;\n",
       "      LDAvis_load_lib(\"https://cdn.rawgit.com/bmabey/pyLDAvis/files/ldavis.v1.0.0.js\", function(){\n",
       "        new LDAvis(\"#\" + \"ldavis_el1164848187461286156149033\", ldavis_el1164848187461286156149033_data);\n",
       "      });\n",
       "    });\n",
       "}else{\n",
       "    // require.js not available: dynamically load d3 & LDAvis\n",
       "    LDAvis_load_lib(\"https://cdnjs.cloudflare.com/ajax/libs/d3/3.5.5/d3.min.js\", function(){\n",
       "         LDAvis_load_lib(\"https://cdn.rawgit.com/bmabey/pyLDAvis/files/ldavis.v1.0.0.js\", function(){\n",
       "                 new LDAvis(\"#\" + \"ldavis_el1164848187461286156149033\", ldavis_el1164848187461286156149033_data);\n",
       "            })\n",
       "         });\n",
       "}\n",
       "</script>"
      ],
      "text/plain": [
       "PreparedData(topic_coordinates=               x          y  topics  cluster       Freq\n",
       "topic                                                  \n",
       "3     -22.261946 -55.803604       1        1  17.150814\n",
       "7     -17.557343 -19.059807       2        1  15.709009\n",
       "4      14.792761  37.392929       3        1  14.885636\n",
       "5     -53.832596 -11.555467       4        1  14.566719\n",
       "2      19.425308 -41.668434       5        1  12.345547\n",
       "1      46.355293  -6.844518       6        1  11.865429\n",
       "6      10.075462   0.649566       7        1   9.298995\n",
       "0     -26.897743  23.263594       8        1   4.177850, topic_info=     Category        Freq            Term       Total  loglift  logprob\n",
       "term                                                                   \n",
       "86    Default  371.000000            data  371.000000  30.0000  30.0000\n",
       "247   Default  164.000000           music  164.000000  29.0000  29.0000\n",
       "279   Default   49.000000     performance   49.000000  28.0000  28.0000\n",
       "166   Default   70.000000        heritage   70.000000  27.0000  27.0000\n",
       "39    Default   68.000000             big   68.000000  26.0000  26.0000\n",
       "100   Default  327.000000         digital  327.000000  25.0000  25.0000\n",
       "214   Default   34.000000         library   34.000000  24.0000  24.0000\n",
       "248   Default   37.000000         musical   37.000000  23.0000  23.0000\n",
       "91    Default   94.000000          design   94.000000  22.0000  22.0000\n",
       "40    Default   49.000000        big data   49.000000  21.0000  21.0000\n",
       "24    Default   33.000000          artist   33.000000  20.0000  20.0000\n",
       "331   Default   87.000000     researchers   87.000000  19.0000  19.0000\n",
       "63    Default  102.000000       community  102.000000  18.0000  18.0000\n",
       "219   Default   39.000000        literary   39.000000  17.0000  17.0000\n",
       "385   Default   37.000000            text   37.000000  16.0000  16.0000\n",
       "235   Default   98.000000           media   98.000000  15.0000  15.0000\n",
       "386   Default   29.000000           texts   29.000000  14.0000  14.0000\n",
       "26    Default   50.000000         artists   50.000000  13.0000  13.0000\n",
       "288   Default   22.000000         popular   22.000000  12.0000  12.0000\n",
       "89    Default   34.000000        datasets   34.000000  11.0000  11.0000\n",
       "144   Default   50.000000            film   50.000000  10.0000  10.0000\n",
       "339   Default   28.000000        scholars   28.000000   9.0000   9.0000\n",
       "220   Default   29.000000      literature   29.000000   8.0000   8.0000\n",
       "358   Default   29.000000        software   29.000000   7.0000   7.0000\n",
       "381   Default   48.000000      technology   48.000000   6.0000   6.0000\n",
       "372   Default   56.000000           study   56.000000   5.0000   5.0000\n",
       "380   Default   66.000000    technologies   66.000000   4.0000   4.0000\n",
       "261   Default   46.000000         objects   46.000000   3.0000   3.0000\n",
       "422   Default   30.000000       workshops   30.000000   2.0000   2.0000\n",
       "23    Default   45.000000             art   45.000000   1.0000   1.0000\n",
       "...       ...         ...             ...         ...      ...      ...\n",
       "393    Topic8    2.884514  transformative   12.472967   1.7112  -5.2555\n",
       "315    Topic8    2.850777       published   12.383814   1.7066  -5.2673\n",
       "422    Topic8    6.582772       workshops   30.504326   1.6420  -4.4304\n",
       "237    Topic8    3.237284     methodology   15.260832   1.6248  -5.1401\n",
       "340    Topic8    3.245552          school   15.330043   1.6228  -5.1376\n",
       "164    Topic8    3.204013            held   15.321779   1.6105  -5.1505\n",
       "382    Topic8    2.402154            term   11.589503   1.6016  -5.4385\n",
       "14     Topic8    3.550043         analyse   17.221590   1.5962  -5.0479\n",
       "166    Topic8   14.527403        heritage   70.792684   1.5917  -3.6388\n",
       "50     Topic8    3.308233          centre   17.108277   1.5322  -5.1185\n",
       "249    Topic8    4.301925        national   22.875481   1.5044  -4.8558\n",
       "223    Topic8    3.219048            long   17.321162   1.4925  -5.1458\n",
       "246    Topic8    2.789722          museum   15.322467   1.4720  -5.2889\n",
       "335    Topic8    4.015150         results   22.074194   1.4710  -4.9248\n",
       "220    Topic8    5.368398      literature   29.863549   1.4593  -4.6343\n",
       "381    Topic8    8.545712      technology   48.555945   1.4381  -4.1694\n",
       "388    Topic8    5.783897            tool   32.981227   1.4345  -4.5598\n",
       "372    Topic8    8.786978           study   56.141637   1.3208  -4.1416\n",
       "180    Topic8    4.494149         include   26.911020   1.3856  -4.8121\n",
       "57     Topic8    5.783224   collaboration   44.254963   1.1404  -4.5599\n",
       "100    Topic8   16.200829         digital  327.657606   0.1685  -3.5298\n",
       "292    Topic8    6.063442        practice   61.754284   0.8545  -4.5126\n",
       "247    Topic8    8.541581           music  164.945625   0.2147  -4.1699\n",
       "83     Topic8    4.361814         culture   31.272877   1.2055  -4.8420\n",
       "261    Topic8    4.731655         objects   46.079596   0.8993  -4.7606\n",
       "91     Topic8    4.634451          design   94.061471   0.1649  -4.7814\n",
       "403    Topic8    4.424673           using   63.736108   0.5078  -4.8277\n",
       "290    Topic8    4.344236       potential   62.246558   0.5131  -4.8460\n",
       "86     Topic8    4.451212            data  371.604643  -1.2493  -4.8217\n",
       "254    Topic8    4.427443             new  222.795526  -0.7431  -4.8270\n",
       "\n",
       "[432 rows x 6 columns], token_table=      Topic      Freq       Term\n",
       "term                            \n",
       "1         1  0.472724   academic\n",
       "1         2  0.078787   academic\n",
       "1         3  0.236362   academic\n",
       "1         5  0.026262   academic\n",
       "1         6  0.183837   academic\n",
       "2         1  0.329978  academics\n",
       "2         3  0.424258  academics\n",
       "2         4  0.047140  academics\n",
       "2         8  0.141419  academics\n",
       "3         1  0.268089     access\n",
       "3         2  0.117289     access\n",
       "3         3  0.100533     access\n",
       "3         4  0.083778     access\n",
       "3         5  0.134045     access\n",
       "3         6  0.083778     access\n",
       "3         7  0.217822     access\n",
       "7         3  0.618461   addition\n",
       "7         5  0.343589   addition\n",
       "9         1  0.233876        age\n",
       "9         5  0.389793        age\n",
       "9         6  0.077959        age\n",
       "9         7  0.233876        age\n",
       "11        2  0.169373        aim\n",
       "11        3  0.112915        aim\n",
       "11        4  0.310517        aim\n",
       "11        5  0.056458        aim\n",
       "11        6  0.112915        aim\n",
       "11        7  0.112915        aim\n",
       "11        8  0.084686        aim\n",
       "12        1  0.167924       aims\n",
       "...     ...       ...        ...\n",
       "418       4  0.193055       work\n",
       "418       5  0.119510       work\n",
       "418       6  0.101124       work\n",
       "418       7  0.156283       work\n",
       "419       1  0.341230    working\n",
       "419       2  0.120434    working\n",
       "419       3  0.180651    working\n",
       "419       4  0.120434    working\n",
       "419       5  0.100362    working\n",
       "419       7  0.140506    working\n",
       "420       1  0.159548      works\n",
       "420       6  0.757854      works\n",
       "420       7  0.039887      works\n",
       "421       1  0.041585   workshop\n",
       "421       3  0.582188   workshop\n",
       "421       4  0.083170   workshop\n",
       "421       5  0.083170   workshop\n",
       "421       6  0.166339   workshop\n",
       "422       1  0.032782  workshops\n",
       "422       3  0.327822  workshops\n",
       "422       5  0.032782  workshops\n",
       "422       6  0.360605  workshops\n",
       "422       8  0.229476  workshops\n",
       "423       1  0.116574      world\n",
       "423       2  0.116574      world\n",
       "423       3  0.160290      world\n",
       "423       4  0.276864      world\n",
       "423       5  0.043715      world\n",
       "423       6  0.072859      world\n",
       "423       7  0.189433      world\n",
       "\n",
       "[1428 rows x 3 columns], R=30, lambda_step=0.01, plot_opts={'xlab': 'PC1', 'ylab': 'PC2'}, topic_order=[4, 8, 5, 6, 3, 2, 7, 1])"
      ]
     },
     "execution_count": 35,
     "metadata": {},
     "output_type": "execute_result"
    }
   ],
   "source": [
    "#pyLDAvis.sklearn.prepare(lda_tfidf, dtm_tfidf, tfidf_vectorizer)\n",
    "pyLDAvis.sklearn.prepare(lda_tf, dtm_tf, tf_vectorizer, mds='tsne')\n",
    "\n",
    "# λ controls the weight of the frequency of that word compared to that specific topic/overall text.\n",
    "# λ = 0 -> Maximum weight on the estimated term frequency within the selected topic\n",
    "# λ = 1 -> Maximum weight to the overall term frequency"
   ]
  },
  {
   "cell_type": "code",
   "execution_count": null,
   "metadata": {},
   "outputs": [],
   "source": []
  }
 ],
 "metadata": {
  "kernelspec": {
   "display_name": "Python 3",
   "language": "python",
   "name": "python3"
  },
  "language_info": {
   "codemirror_mode": {
    "name": "ipython",
    "version": 3
   },
   "file_extension": ".py",
   "mimetype": "text/x-python",
   "name": "python",
   "nbconvert_exporter": "python",
   "pygments_lexer": "ipython3",
   "version": "3.7.0"
  }
 },
 "nbformat": 4,
 "nbformat_minor": 2
}
